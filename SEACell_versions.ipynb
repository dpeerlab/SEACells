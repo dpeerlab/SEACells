{
 "cells": [
  {
   "cell_type": "markdown",
   "metadata": {},
   "source": [
    "# SEACells Versions"
   ]
  },
  {
   "cell_type": "markdown",
   "metadata": {},
   "source": [
    "### Imports"
   ]
  },
  {
   "cell_type": "code",
   "execution_count": 1,
   "metadata": {},
   "outputs": [],
   "source": [
    "import tracemalloc\n",
    "import time\n",
    "import scanpy as sc\n",
    "import pandas as pd"
   ]
  },
  {
   "cell_type": "code",
   "execution_count": 2,
   "metadata": {},
   "outputs": [],
   "source": [
    "import cupy as cp\n",
    "import cupyx\n",
    "import numpy as np\n",
    "from tqdm import tqdm\n",
    "\n",
    "from icecream import ic"
   ]
  },
  {
   "cell_type": "code",
   "execution_count": 3,
   "metadata": {},
   "outputs": [
    {
     "name": "stderr",
     "output_type": "stream",
     "text": [
      "findfont: Font family ['Raleway'] not found. Falling back to DejaVu Sans.\n",
      "findfont: Font family ['Lato'] not found. Falling back to DejaVu Sans.\n"
     ]
    }
   ],
   "source": [
    "# from importlib import reload\n",
    "from SEACells.core import SEACells\n",
    "# reload(SEACells)"
   ]
  },
  {
   "cell_type": "markdown",
   "metadata": {},
   "source": [
    "### Initialization"
   ]
  },
  {
   "cell_type": "code",
   "execution_count": 4,
   "metadata": {},
   "outputs": [],
   "source": [
    "num_cells = 1000"
   ]
  },
  {
   "cell_type": "code",
   "execution_count": 5,
   "metadata": {},
   "outputs": [],
   "source": [
    "ad = sc.read(\"/home/aparna/DATA/aparnakumar/50000_cells/mouse_marioni_50k.h5ad\") \n",
    "num_cells = 1000\n",
    "ad = ad[:num_cells]"
   ]
  },
  {
   "cell_type": "code",
   "execution_count": 6,
   "metadata": {},
   "outputs": [],
   "source": [
    "def get_data(ad, num_cells, use_gpu, use_sparse): \n",
    "  ## User defined parameters\n",
    "\n",
    "  ## Core parameters \n",
    "  # number of SEACells\n",
    "  n_SEACells = num_cells // 75\n",
    "  build_kernel_on = 'X_pca' # key in ad.obsm to use for computing metacells\n",
    "                            # This would be replaced by 'X_svd' for ATAC data\n",
    "\n",
    "  ## Additional parameters\n",
    "  n_waypoint_eigs = 10 # Number of eigenvalues to consider when initializing metacells\n",
    "\n",
    "  model = SEACells(ad, \n",
    "                                 use_gpu=use_gpu, \n",
    "                                 use_sparse=use_sparse, \n",
    "                                 build_kernel_on=build_kernel_on, \n",
    "                                 n_SEACells=n_SEACells, \n",
    "                                 n_waypoint_eigs=n_waypoint_eigs,\n",
    "                                 convergence_epsilon = 1e-5)\n",
    "  model.construct_kernel_matrix()\n",
    "  model.initialize_archetypes()\n",
    "\n",
    "  start = time.time()\n",
    "  tracemalloc.start()\n",
    "\n",
    "  model.fit(min_iter=10, max_iter=150)\n",
    "\n",
    "  end = time.time()\n",
    "  tot_time = end - start\n",
    "\n",
    "  mem = tracemalloc.get_traced_memory()\n",
    "  tracemalloc.stop()\n",
    "\n",
    "  assignments = model.get_hard_assignments()\n",
    "  \n",
    "  return assignments, tot_time, mem"
   ]
  },
  {
   "cell_type": "code",
   "execution_count": 7,
   "metadata": {},
   "outputs": [],
   "source": [
    "def all_versions(ad):\n",
    "    assignments1, time1, mem1 = get_data(ad, num_cells = num_cells, use_gpu = False, use_sparse=False)\n",
    "    assignments2, time2, mem2 = get_data(ad, num_cells = num_cells, use_gpu = False, use_sparse= True)\n",
    "    assignments3, time3, mem3 = get_data(ad, num_cells = num_cells, use_gpu = True, use_sparse=False)\n",
    "    assignments4, time4, mem4 = get_data(ad, num_cells = num_cells, use_gpu = True, use_sparse= True)\n",
    "\n",
    "    # Write the assignments\n",
    "    assignments = [assignments1, assignments2, assignments3, assignments4] \n",
    "    \n",
    "    # Write the time and memory data\n",
    "    comparisons = pd.DataFrame({'version': ['v1: no GPU, no sparse', 'v2:  no GPU, yes sparse', 'v3: yes GPU, no sparse', 'v4: yes GPU, yes sparse'], \n",
    "                           'time (s)': [time1, time2, time3, time4],\n",
    "                           'peak memory': [mem1[1], mem2[1], mem3[1], mem4[1]]})\n",
    "    \n",
    "    return assignments, comparisons"
   ]
  },
  {
   "cell_type": "code",
   "execution_count": 8,
   "metadata": {},
   "outputs": [],
   "source": [
    "B3 = cp.random.random((13, 1000))\n",
    "B3 = cp.sparse.csr_matrix(B3)\n",
    "B3 =B3.argmin(axis=0)"
   ]
  },
  {
   "cell_type": "code",
   "execution_count": 9,
   "metadata": {},
   "outputs": [
    {
     "name": "stderr",
     "output_type": "stream",
     "text": [
      "  0%|          | 0/13 [00:00<?, ?it/s]"
     ]
    },
    {
     "name": "stderr",
     "output_type": "stream",
     "text": [
      "ic| omega[:, p].shape: (13, 1)\n",
      "ic| type(omega[:, p].reshape(-1, 1).multiply(omega)): <class 'cupyx.scipy.sparse._csr.csr_matrix'>\n",
      "  8%|▊         | 1/13 [00:00<00:02,  5.73it/s]ic| omega[:, p].shape: (13, 1)\n",
      "ic| type(omega[:, p].reshape(-1, 1).multiply(omega)): <class 'cupyx.scipy.sparse._csr.csr_matrix'>\n",
      "ic| omega[:, p].shape: (13, 1)\n",
      "ic| type(omega[:, p].reshape(-1, 1).multiply(omega)): <class 'cupyx.scipy.sparse._csr.csr_matrix'>\n",
      "ic| omega[:, p].shape: (13, 1)\n",
      "ic| type(omega[:, p].reshape(-1, 1).multiply(omega)): <class 'cupyx.scipy.sparse._csr.csr_matrix'>\n",
      " 31%|███       | 4/13 [00:00<00:01,  7.48it/s]ic| omega[:, p].shape: (13, 1)\n",
      "ic| type(omega[:, p].reshape(-1, 1).multiply(omega)): <class 'cupyx.scipy.sparse._csr.csr_matrix'>\n",
      "ic| omega[:, p].shape: (13, 1)\n",
      "ic| type(omega[:, p].reshape(-1, 1).multiply(omega)): <class 'cupyx.scipy.sparse._csr.csr_matrix'>\n",
      "ic| omega[:, p].shape: (13, 1)\n",
      "ic| type(omega[:, p].reshape(-1, 1).multiply(omega)): <class 'cupyx.scipy.sparse._csr.csr_matrix'>\n",
      " 54%|█████▍    | 7/13 [00:00<00:00,  9.50it/s]ic| omega[:, p].shape: (13, 1)\n",
      "ic| type(omega[:, p].reshape(-1, 1).multiply(omega)): <class 'cupyx.scipy.sparse._csr.csr_matrix'>\n",
      "ic| omega[:, p].shape: (13, 1)\n",
      "ic| type(omega[:, p].reshape(-1, 1).multiply(omega)): <class 'cupyx.scipy.sparse._csr.csr_matrix'>\n",
      "ic| omega[:, p].shape: (13, 1)\n",
      "ic| type(omega[:, p].reshape(-1, 1).multiply(omega)): <class 'cupyx.scipy.sparse._csr.csr_matrix'>\n",
      " 77%|███████▋  | 10/13 [00:00<00:00, 11.72it/s]ic| omega[:, p].shape: (13, 1)\n",
      "ic| type(omega[:, p].reshape(-1, 1).multiply(omega)): <class 'cupyx.scipy.sparse._csr.csr_matrix'>\n",
      "ic| omega[:, p].shape: (13, 1)\n",
      "ic| type(omega[:, p].reshape(-1, 1).multiply(omega)): <class 'cupyx.scipy.sparse._csr.csr_matrix'>\n",
      "ic| omega[:, p].shape: (13, 1)\n",
      "ic| type(omega[:, p].reshape(-1, 1).multiply(omega)): <class 'cupyx.scipy.sparse._csr.csr_matrix'>\n",
      "100%|██████████| 13/13 [00:00<00:00, 20.18it/s]\n"
     ]
    }
   ],
   "source": [
    "import scipy.sparse\n",
    "\n",
    "ATA = cp.random.random((1000, 1000))\n",
    "ATA = cp.sparse.csr_matrix(ATA)\n",
    "\n",
    "\n",
    "f = ((ATA.multiply(ATA)).sum(axis=0)).ravel()\n",
    "g = ATA.diagonal().ravel()\n",
    "\n",
    "k =  13\n",
    "n = 1000\n",
    "d = cp.sparse.csr_matrix((k, n), dtype=cp.float64)\n",
    "omega = cp.sparse.csr_matrix((k, n), dtype=cp.float64)\n",
    "\n",
    "# keep track of selected indices\n",
    "centers = cp.sparse.csr_matrix((k, n), dtype=cp.float64)\n",
    "\n",
    "# sampling\n",
    "for j in tqdm(range(k)):\n",
    "        score = f / g\n",
    "        p = score.argmax()\n",
    "        \n",
    "        delta_term1 = ATA[:, p].toarray().squeeze()\n",
    "        #     # print(delta_term1)\n",
    "        ic(omega[:, p].shape)\n",
    "        ic(type(omega[:, p].reshape(-1, 1).multiply(omega)))\n",
    "        delta_term2 = omega[:, p].reshape(-1, 1).multiply(omega).sum(axis=0).squeeze()\n",
    "        delta = delta_term1 - delta_term2\n",
    "\n",
    "        #     # some weird rounding errors\n",
    "        # BOOKMARK\n",
    "        #delta[p] = [0, delta[p]].max()\n",
    "\n",
    "        #     o = delta / np.max([np.sqrt(delta[p]), 1e-6])\n",
    "        #     omega_square_norm = np.linalg.norm(o) ** 2\n",
    "        #     omega_hadamard = np.multiply(o, o)\n",
    "        #     term1 = omega_square_norm * omega_hadamard\n",
    "\n",
    "        #     # update f (term2)\n",
    "        #     pl = np.zeros(n)\n",
    "        #     for r in range(j):\n",
    "        #         omega_r = omega[r, :]\n",
    "        #         pl += np.dot(omega_r, o) * omega_r\n",
    "\n",
    "        #     ATAo = (ATA @ o.reshape(-1, 1)).ravel()\n",
    "        #     term2 = np.multiply(o, ATAo - pl)\n",
    "\n",
    "        #     # update f\n",
    "        #     f += -2.0 * term2 + term1\n",
    "\n",
    "        #     # update g\n",
    "        #     g += omega_hadamard\n",
    "\n",
    "        #     # store omega and delta\n",
    "        #     d[j, :] = delta\n",
    "        #     omega[j, :] = o\n",
    "\n",
    "        #     # add index\n",
    "        #     centers[j] = int(p)\n",
    "\n",
    "        # return centers"
   ]
  },
  {
   "cell_type": "code",
   "execution_count": 10,
   "metadata": {},
   "outputs": [
    {
     "data": {
      "text/plain": [
       "(1000,)"
      ]
     },
     "execution_count": 10,
     "metadata": {},
     "output_type": "execute_result"
    }
   ],
   "source": [
    "delta_term1.shape"
   ]
  },
  {
   "cell_type": "code",
   "execution_count": 11,
   "metadata": {},
   "outputs": [
    {
     "name": "stderr",
     "output_type": "stream",
     "text": [
      "ic| thing.shape: (1000,)\n",
      "ic| type(thing): <class 'cupy.ndarray'>\n"
     ]
    },
    {
     "data": {
      "text/plain": [
       "cupy.ndarray"
      ]
     },
     "execution_count": 11,
     "metadata": {},
     "output_type": "execute_result"
    }
   ],
   "source": [
    "p = cp.array([121])\n",
    "omega = cp.sparse.csr_matrix((14, 1000), dtype=cp.float64)\n",
    "thing = omega[:, p].reshape(-1, 1).multiply(omega).sum(axis=0).squeeze()\n",
    "ic(thing.shape)\n",
    "ic(type(thing))\n",
    "\n",
    "\n",
    "type(thing.sum(axis=0))\n",
    "\n"
   ]
  },
  {
   "cell_type": "code",
   "execution_count": 12,
   "metadata": {},
   "outputs": [
    {
     "name": "stderr",
     "output_type": "stream",
     "text": [
      "  0%|          | 0/14 [00:00<?, ?it/s]/home/aparna/miniconda/envs/env_SEACells/lib/python3.8/site-packages/cupyx/scipy/sparse/_compressed.py:545: SparseEfficiencyWarning: Changing the sparsity structure of a csr_matrix is expensive.\n",
      "  warnings.warn('Changing the sparsity structure of a '\n",
      "100%|██████████| 14/14 [00:00<00:00, 71.63it/s]\n"
     ]
    },
    {
     "data": {
      "text/plain": [
       "<cupyx.scipy.sparse._csr.csr_matrix at 0x7fdf5d010130>"
      ]
     },
     "execution_count": 12,
     "metadata": {},
     "output_type": "execute_result"
    }
   ],
   "source": [
    "n = 1000\n",
    "k = 14\n",
    "\n",
    "# precompute M.T * M\n",
    "# ATA = M.T @ M\n",
    "ATA = cupyx.scipy.sparse.csr_matrix((n, n))\n",
    "\n",
    "\n",
    "f = cp.array((ATA.multiply(ATA)).sum(axis=0)).ravel()\n",
    "g = cp.array(ATA.diagonal()).ravel()\n",
    "\n",
    "d = cp.sparse.csr_matrix((k, n))\n",
    "omega = cp.sparse.csr_matrix((k, n))\n",
    "\n",
    "# keep track of selected indices\n",
    "centers = cp.sparse.csr_matrix((k, n))\n",
    "\n",
    "# sampling\n",
    "for j in tqdm(range(k)):\n",
    "    # Compute score, dividing the sparse f by the sparse g\n",
    "    score = f / g\n",
    "            \n",
    "    # Compute p, which is the largest score\n",
    "    p = cp.argmax(score)\n",
    "\n",
    "    # Compute delta_term1 to be the column of ATA at index p\n",
    "    delta_term1 = ATA[:, p].toarray().squeeze()\n",
    "\n",
    "    # Compute delta_term2 to be the sum of the outer product of omega and itself\n",
    "    delta_term2 = (omega[:, p].reshape(-1, 1).multiply(omega).sum(axis=0).squeeze())\n",
    "    delta = delta_term1 - delta_term2\n",
    "\n",
    "    # some weird rounding errors\n",
    "    delta[p] = max([0, delta[p]])\n",
    "\n",
    "    o = delta / max([cp.sqrt(delta[p]), 1e-6])\n",
    "    omega_square_norm = cp.linalg.norm(o) ** 2\n",
    "    omega_hadamard = cp.multiply(o, o)\n",
    "    term1 = omega_square_norm * omega_hadamard\n",
    "\n",
    "    # update f (term2)\n",
    "    pl = cp.zeros(n)\n",
    "    for r in range(j):\n",
    "        omega_r = omega[r, :]\n",
    "        pl += omega_r.dot(o) * omega_r\n",
    "\n",
    "    ATAo = (ATA @ o.reshape(-1, 1)).ravel()\n",
    "    term2 = o *  (ATAo - pl)\n",
    "\n",
    "    # update f\n",
    "    f += -2.0 * term2 + term1\n",
    "\n",
    "    # update g\n",
    "    g += omega_hadamard\n",
    "\n",
    "    # store omega and delta\n",
    "    d[j, :] = delta\n",
    "    omega[j, :] = o\n",
    "\n",
    "    # add index\n",
    "    centers[j] = int(p)\n",
    "\n",
    "centers"
   ]
  },
  {
   "cell_type": "code",
   "execution_count": 13,
   "metadata": {},
   "outputs": [
    {
     "name": "stderr",
     "output_type": "stream",
     "text": [
      "ic| type(kernel_matrix): <class 'cupyx.scipy.sparse._csr.csr_matrix'>\n",
      "ic| type(reconstruction): <class 'cupyx.scipy.sparse._csr.csr_matrix'>\n"
     ]
    },
    {
     "data": {
      "text/plain": [
       "array(nan)"
      ]
     },
     "execution_count": 13,
     "metadata": {},
     "output_type": "execute_result"
    }
   ],
   "source": [
    "import cupy\n",
    "\n",
    "kernel_matrix =  cupyx.scipy.sparse.rand(1000, 1000, density=0.01, format='csr', dtype=np.float64)\n",
    "# Make a sparse csr matrix of random data \n",
    "reconstruction = cupyx.scipy.sparse.rand(1000, 1000, density=0.01, format='csr', dtype=np.float64)\n",
    "\n",
    "ic(type(kernel_matrix))\n",
    "ic(type(reconstruction))\n",
    "\n",
    "\n",
    "\n",
    "cp.linalg.norm(kernel_matrix - reconstruction)"
   ]
  },
  {
   "cell_type": "code",
   "execution_count": 14,
   "metadata": {},
   "outputs": [
    {
     "name": "stdout",
     "output_type": "stream",
     "text": [
      "SPARSE AND GPU\n",
      "TRYING SEACellsGPU\n",
      "Welcome to SEACells GPU!\n",
      "build_graph.SEACellGraph completed\n",
      "Computing kNN graph using scanpy NN ...\n",
      "Computing radius for adaptive bandwidth kernel...\n"
     ]
    },
    {
     "data": {
      "application/vnd.jupyter.widget-view+json": {
       "model_id": "27d3d915ca5f4e17acc5977a257924a7",
       "version_major": 2,
       "version_minor": 0
      },
      "text/plain": [
       "HBox(children=(FloatProgress(value=0.0, max=1000.0), HTML(value='')))"
      ]
     },
     "metadata": {},
     "output_type": "display_data"
    },
    {
     "name": "stdout",
     "output_type": "stream",
     "text": [
      "\n",
      "Making graph symmetric...\n",
      "Parameter graph_construction = union being used to build KNN graph...\n",
      "Computing RBF kernel...\n"
     ]
    },
    {
     "data": {
      "application/vnd.jupyter.widget-view+json": {
       "model_id": "e218e13e389d4638b0adb42f7c1ccecf",
       "version_major": 2,
       "version_minor": 0
      },
      "text/plain": [
       "HBox(children=(FloatProgress(value=0.0, max=1000.0), HTML(value='')))"
      ]
     },
     "metadata": {},
     "output_type": "display_data"
    },
    {
     "name": "stdout",
     "output_type": "stream",
     "text": [
      "\n",
      "Building similarity LIL matrix...\n"
     ]
    },
    {
     "data": {
      "application/vnd.jupyter.widget-view+json": {
       "model_id": "3decbd0d821c4338a7f48ed4214daf7a",
       "version_major": 2,
       "version_minor": 0
      },
      "text/plain": [
       "HBox(children=(FloatProgress(value=0.0, max=1000.0), HTML(value='')))"
      ]
     },
     "metadata": {},
     "output_type": "display_data"
    },
    {
     "name": "stderr",
     "output_type": "stream",
     "text": [
      "  0%|          | 0/14 [00:00<?, ?it/s]"
     ]
    },
    {
     "name": "stdout",
     "output_type": "stream",
     "text": [
      "\n",
      "Constructing CSR matrix...\n",
      "Building kernel on X_pca\n",
      "Computing diffusion components from X_pca for waypoint initialization ... \n",
      "Determing nearest neighbor graph...\n",
      "Done.\n",
      "Sampling waypoints ...\n",
      "Done.\n",
      "Selecting 9 cells from waypoint initialization.\n",
      "Initializing residual matrix using greedy column selection\n",
      "Initializing f and g...\n"
     ]
    },
    {
     "name": "stderr",
     "output_type": "stream",
     "text": [
      "/home/aparna/miniconda/envs/env_SEACells/lib/python3.8/site-packages/cupyx/scipy/sparse/_compressed.py:545: SparseEfficiencyWarning: Changing the sparsity structure of a csr_matrix is expensive.\n",
      "  warnings.warn('Changing the sparsity structure of a '\n",
      "100%|██████████| 14/14 [00:00<00:00, 75.36it/s]\n"
     ]
    },
    {
     "name": "stdout",
     "output_type": "stream",
     "text": [
      "Selecting 4 cells from greedy initialization.\n",
      "Randomly initialized A matrix.\n",
      "Convergence threshold set to 0.000771444373885075 based on epsilon = 1e-05\n",
      "Starting iteration 1.\n",
      "Completed iteration 1.\n"
     ]
    },
    {
     "name": "stderr",
     "output_type": "stream",
     "text": [
      "/home/aparna/miniconda/envs/env_SEACells/lib/python3.8/site-packages/cupyx/scipy/sparse/_compressed.py:545: SparseEfficiencyWarning: Changing the sparsity structure of a csr_matrix is expensive.\n",
      "  warnings.warn('Changing the sparsity structure of a '\n"
     ]
    },
    {
     "name": "stdout",
     "output_type": "stream",
     "text": [
      "Starting iteration 10.\n",
      "Completed iteration 10.\n",
      "Starting iteration 20.\n",
      "Completed iteration 20.\n",
      "Starting iteration 30.\n",
      "Completed iteration 30.\n",
      "Starting iteration 40.\n",
      "Completed iteration 40.\n",
      "Starting iteration 50.\n",
      "Completed iteration 50.\n",
      "Starting iteration 60.\n",
      "Completed iteration 60.\n",
      "Starting iteration 70.\n",
      "Completed iteration 70.\n",
      "Starting iteration 80.\n",
      "Completed iteration 80.\n",
      "Starting iteration 90.\n",
      "Completed iteration 90.\n",
      "Starting iteration 100.\n",
      "Completed iteration 100.\n",
      "Starting iteration 110.\n",
      "Completed iteration 110.\n",
      "Starting iteration 120.\n",
      "Completed iteration 120.\n",
      "Starting iteration 130.\n",
      "Completed iteration 130.\n",
      "Starting iteration 140.\n",
      "Completed iteration 140.\n",
      "Starting iteration 150.\n",
      "Completed iteration 150.\n"
     ]
    },
    {
     "ename": "RuntimeWarning",
     "evalue": "Warning: Algorithm has not converged - you may need to increase the maximum number of iterations",
     "output_type": "error",
     "traceback": [
      "\u001b[0;31m---------------------------------------------------------------------------\u001b[0m",
      "\u001b[0;31mRuntimeWarning\u001b[0m                            Traceback (most recent call last)",
      "\u001b[1;32m/home/aparna/DATA/aparnakumar/github clone/SEACells/SEACell_versions.ipynb Cell 17\u001b[0m line \u001b[0;36m1\n\u001b[0;32m----> <a href='vscode-notebook-cell://ssh-remote%2Baeolus/home/aparna/DATA/aparnakumar/github%20clone/SEACells/SEACell_versions.ipynb#X22sdnNjb2RlLXJlbW90ZQ%3D%3D?line=0'>1</a>\u001b[0m assignments4, time4, mem4 \u001b[39m=\u001b[39m get_data(ad, num_cells \u001b[39m=\u001b[39;49m num_cells, use_gpu \u001b[39m=\u001b[39;49m \u001b[39mTrue\u001b[39;49;00m, use_sparse\u001b[39m=\u001b[39;49m \u001b[39mTrue\u001b[39;49;00m)\n",
      "\u001b[1;32m/home/aparna/DATA/aparnakumar/github clone/SEACells/SEACell_versions.ipynb Cell 17\u001b[0m line \u001b[0;36m2\n\u001b[1;32m     <a href='vscode-notebook-cell://ssh-remote%2Baeolus/home/aparna/DATA/aparnakumar/github%20clone/SEACells/SEACell_versions.ipynb#X22sdnNjb2RlLXJlbW90ZQ%3D%3D?line=22'>23</a>\u001b[0m start \u001b[39m=\u001b[39m time\u001b[39m.\u001b[39mtime()\n\u001b[1;32m     <a href='vscode-notebook-cell://ssh-remote%2Baeolus/home/aparna/DATA/aparnakumar/github%20clone/SEACells/SEACell_versions.ipynb#X22sdnNjb2RlLXJlbW90ZQ%3D%3D?line=23'>24</a>\u001b[0m tracemalloc\u001b[39m.\u001b[39mstart()\n\u001b[0;32m---> <a href='vscode-notebook-cell://ssh-remote%2Baeolus/home/aparna/DATA/aparnakumar/github%20clone/SEACells/SEACell_versions.ipynb#X22sdnNjb2RlLXJlbW90ZQ%3D%3D?line=25'>26</a>\u001b[0m model\u001b[39m.\u001b[39;49mfit(min_iter\u001b[39m=\u001b[39;49m\u001b[39m10\u001b[39;49m, max_iter\u001b[39m=\u001b[39;49m\u001b[39m150\u001b[39;49m)\n\u001b[1;32m     <a href='vscode-notebook-cell://ssh-remote%2Baeolus/home/aparna/DATA/aparnakumar/github%20clone/SEACells/SEACell_versions.ipynb#X22sdnNjb2RlLXJlbW90ZQ%3D%3D?line=27'>28</a>\u001b[0m end \u001b[39m=\u001b[39m time\u001b[39m.\u001b[39mtime()\n\u001b[1;32m     <a href='vscode-notebook-cell://ssh-remote%2Baeolus/home/aparna/DATA/aparnakumar/github%20clone/SEACells/SEACell_versions.ipynb#X22sdnNjb2RlLXJlbW90ZQ%3D%3D?line=28'>29</a>\u001b[0m tot_time \u001b[39m=\u001b[39m end \u001b[39m-\u001b[39m start\n",
      "File \u001b[0;32m/data/aparna/aparnakumar/github clone/SEACells/SEACells/gpu.py:804\u001b[0m, in \u001b[0;36mSEACellsGPU.fit\u001b[0;34m(self, max_iter, min_iter, initial_archetypes, initial_assignments)\u001b[0m\n\u001b[1;32m    800\u001b[0m \u001b[39mif\u001b[39;00m max_iter \u001b[39m<\u001b[39m min_iter:\n\u001b[1;32m    801\u001b[0m     \u001b[39mraise\u001b[39;00m \u001b[39mValueError\u001b[39;00m(\n\u001b[1;32m    802\u001b[0m         \u001b[39m\"\u001b[39m\u001b[39mThe maximum number of iterations specified is lower than the minimum number of iterations specified.\u001b[39m\u001b[39m\"\u001b[39m\n\u001b[1;32m    803\u001b[0m     )\n\u001b[0;32m--> 804\u001b[0m \u001b[39mself\u001b[39;49m\u001b[39m.\u001b[39;49m_fit(\n\u001b[1;32m    805\u001b[0m     max_iter\u001b[39m=\u001b[39;49mmax_iter,\n\u001b[1;32m    806\u001b[0m     min_iter\u001b[39m=\u001b[39;49mmin_iter,\n\u001b[1;32m    807\u001b[0m     initial_archetypes\u001b[39m=\u001b[39;49minitial_archetypes,\n\u001b[1;32m    808\u001b[0m     initial_assignments\u001b[39m=\u001b[39;49minitial_assignments,\n\u001b[1;32m    809\u001b[0m )\n",
      "File \u001b[0;32m/data/aparna/aparnakumar/github clone/SEACells/SEACells/gpu.py:779\u001b[0m, in \u001b[0;36mSEACellsGPU._fit\u001b[0;34m(self, max_iter, min_iter, initial_archetypes, initial_assignments)\u001b[0m\n\u001b[1;32m    776\u001b[0m \u001b[39mself\u001b[39m\u001b[39m.\u001b[39mad\u001b[39m.\u001b[39mobs[\u001b[39m\"\u001b[39m\u001b[39mSEACell\u001b[39m\u001b[39m\"\u001b[39m] \u001b[39m=\u001b[39m labels[\u001b[39m\"\u001b[39m\u001b[39mSEACell\u001b[39m\u001b[39m\"\u001b[39m]\n\u001b[1;32m    778\u001b[0m \u001b[39mif\u001b[39;00m \u001b[39mnot\u001b[39;00m converged:\n\u001b[0;32m--> 779\u001b[0m     \u001b[39mraise\u001b[39;00m \u001b[39mRuntimeWarning\u001b[39;00m(\n\u001b[1;32m    780\u001b[0m         \u001b[39m\"\u001b[39m\u001b[39mWarning: Algorithm has not converged - you may need to increase the maximum number of iterations\u001b[39m\u001b[39m\"\u001b[39m\n\u001b[1;32m    781\u001b[0m     )\n\u001b[1;32m    782\u001b[0m \u001b[39mreturn\u001b[39;00m\n",
      "\u001b[0;31mRuntimeWarning\u001b[0m: Warning: Algorithm has not converged - you may need to increase the maximum number of iterations"
     ]
    }
   ],
   "source": [
    "assignments4, time4, mem4 = get_data(ad, num_cells = num_cells, use_gpu = True, use_sparse= True)"
   ]
  },
  {
   "cell_type": "code",
   "execution_count": null,
   "metadata": {},
   "outputs": [
    {
     "name": "stdout",
     "output_type": "stream",
     "text": [
      "NOT SPARSE AND NOT GPUT\n",
      "TRYING SEACellsCPUDense\n",
      "Welcome to SEACells!\n",
      "Computing kNN graph using scanpy NN ...\n",
      "Computing radius for adaptive bandwidth kernel...\n"
     ]
    },
    {
     "data": {
      "application/vnd.jupyter.widget-view+json": {
       "model_id": "9d2e4b5e70d34d8e97cad94896e3e6cc",
       "version_major": 2,
       "version_minor": 0
      },
      "text/plain": [
       "HBox(children=(FloatProgress(value=0.0, max=1000.0), HTML(value='')))"
      ]
     },
     "metadata": {},
     "output_type": "display_data"
    },
    {
     "name": "stdout",
     "output_type": "stream",
     "text": [
      "\n",
      "Making graph symmetric...\n",
      "Parameter graph_construction = union being used to build KNN graph...\n",
      "Computing RBF kernel...\n"
     ]
    },
    {
     "data": {
      "application/vnd.jupyter.widget-view+json": {
       "model_id": "ae6f8fd2def94827b936c410e33ae12b",
       "version_major": 2,
       "version_minor": 0
      },
      "text/plain": [
       "HBox(children=(FloatProgress(value=0.0, max=1000.0), HTML(value='')))"
      ]
     },
     "metadata": {},
     "output_type": "display_data"
    },
    {
     "name": "stdout",
     "output_type": "stream",
     "text": [
      "\n",
      "Building similarity LIL matrix...\n"
     ]
    },
    {
     "data": {
      "application/vnd.jupyter.widget-view+json": {
       "model_id": "1be79f0ba64d43979ccad961e5929b1e",
       "version_major": 2,
       "version_minor": 0
      },
      "text/plain": [
       "HBox(children=(FloatProgress(value=0.0, max=1000.0), HTML(value='')))"
      ]
     },
     "metadata": {},
     "output_type": "display_data"
    },
    {
     "name": "stderr",
     "output_type": "stream",
     "text": [
      "100%|██████████| 14/14 [00:00<00:00, 1212.73it/s]"
     ]
    },
    {
     "name": "stdout",
     "output_type": "stream",
     "text": [
      "\n",
      "Constructing CSR matrix...\n",
      "Building kernel on X_pca\n",
      "Computing diffusion components from X_pca for waypoint initialization ... \n",
      "Determing nearest neighbor graph...\n",
      "Done.\n",
      "Sampling waypoints ...\n",
      "Done.\n",
      "Selecting 9 cells from waypoint initialization.\n",
      "Initializing residual matrix using greedy column selection\n",
      "Initializing f and g...\n",
      "Selecting 4 cells from greedy initialization.\n",
      "Randomly initialized A matrix.\n",
      "Setting convergence threshold at 0.00056\n",
      "Starting iteration 1.\n"
     ]
    },
    {
     "name": "stderr",
     "output_type": "stream",
     "text": [
      "\n"
     ]
    },
    {
     "name": "stdout",
     "output_type": "stream",
     "text": [
      "Completed iteration 1.\n",
      "Starting iteration 10.\n",
      "Completed iteration 10.\n",
      "Starting iteration 20.\n",
      "Completed iteration 20.\n",
      "Starting iteration 30.\n",
      "Completed iteration 30.\n",
      "Starting iteration 40.\n",
      "Completed iteration 40.\n",
      "Converged after 44 iterations.\n",
      "SPARSE AND NOT GPU\n",
      "TRYING SEACellsCPU\n",
      "Welcome to SEACells!\n",
      "Computing kNN graph using scanpy NN ...\n",
      "Computing radius for adaptive bandwidth kernel...\n"
     ]
    },
    {
     "data": {
      "application/vnd.jupyter.widget-view+json": {
       "model_id": "240e1e53e1aa46a8bdc5b89626eb76f4",
       "version_major": 2,
       "version_minor": 0
      },
      "text/plain": [
       "HBox(children=(FloatProgress(value=0.0, max=1000.0), HTML(value='')))"
      ]
     },
     "metadata": {},
     "output_type": "display_data"
    },
    {
     "name": "stdout",
     "output_type": "stream",
     "text": [
      "\n",
      "Making graph symmetric...\n",
      "Parameter graph_construction = union being used to build KNN graph...\n",
      "Computing RBF kernel...\n"
     ]
    },
    {
     "data": {
      "application/vnd.jupyter.widget-view+json": {
       "model_id": "70c1129aa3d244dbb69a2420e651aada",
       "version_major": 2,
       "version_minor": 0
      },
      "text/plain": [
       "HBox(children=(FloatProgress(value=0.0, max=1000.0), HTML(value='')))"
      ]
     },
     "metadata": {},
     "output_type": "display_data"
    },
    {
     "name": "stdout",
     "output_type": "stream",
     "text": [
      "\n",
      "Building similarity LIL matrix...\n"
     ]
    },
    {
     "data": {
      "application/vnd.jupyter.widget-view+json": {
       "model_id": "d4456b953ccf44aaa3ad00ef084bee8b",
       "version_major": 2,
       "version_minor": 0
      },
      "text/plain": [
       "HBox(children=(FloatProgress(value=0.0, max=1000.0), HTML(value='')))"
      ]
     },
     "metadata": {},
     "output_type": "display_data"
    },
    {
     "name": "stderr",
     "output_type": "stream",
     "text": [
      "100%|██████████| 14/14 [00:00<00:00, 1225.05it/s]"
     ]
    },
    {
     "name": "stdout",
     "output_type": "stream",
     "text": [
      "\n",
      "Constructing CSR matrix...\n",
      "Building kernel on X_pca\n",
      "Computing diffusion components from X_pca for waypoint initialization ... \n",
      "Determing nearest neighbor graph...\n",
      "Done.\n",
      "Sampling waypoints ...\n",
      "Done.\n",
      "Selecting 9 cells from waypoint initialization.\n",
      "Initializing residual matrix using greedy column selection\n",
      "Initializing f and g...\n",
      "Selecting 4 cells from greedy initialization.\n",
      "Randomly initialized A matrix.\n"
     ]
    },
    {
     "name": "stderr",
     "output_type": "stream",
     "text": [
      "\n"
     ]
    },
    {
     "name": "stdout",
     "output_type": "stream",
     "text": [
      "Setting convergence threshold at 0.00056\n",
      "Starting iteration 1.\n",
      "Completed iteration 1.\n",
      "Starting iteration 10.\n",
      "Completed iteration 10.\n",
      "Starting iteration 20.\n",
      "Completed iteration 20.\n",
      "Starting iteration 30.\n",
      "Completed iteration 30.\n",
      "Converged after 32 iterations.\n",
      "NOT SPARSE AND GPU\n",
      "TRYING SEACellsGPUDense\n",
      "Welcome to SEACells GPU!\n",
      "Computing kNN graph using scanpy NN ...\n",
      "Computing radius for adaptive bandwidth kernel...\n"
     ]
    },
    {
     "data": {
      "application/vnd.jupyter.widget-view+json": {
       "model_id": "0e70d84c0c144f149cb3f6406e40d22a",
       "version_major": 2,
       "version_minor": 0
      },
      "text/plain": [
       "HBox(children=(FloatProgress(value=0.0, max=1000.0), HTML(value='')))"
      ]
     },
     "metadata": {},
     "output_type": "display_data"
    },
    {
     "name": "stdout",
     "output_type": "stream",
     "text": [
      "\n",
      "Making graph symmetric...\n",
      "Parameter graph_construction = union being used to build KNN graph...\n",
      "Computing RBF kernel...\n"
     ]
    },
    {
     "data": {
      "application/vnd.jupyter.widget-view+json": {
       "model_id": "7c1f44af135843b29e2d56e3b082c790",
       "version_major": 2,
       "version_minor": 0
      },
      "text/plain": [
       "HBox(children=(FloatProgress(value=0.0, max=1000.0), HTML(value='')))"
      ]
     },
     "metadata": {},
     "output_type": "display_data"
    },
    {
     "name": "stdout",
     "output_type": "stream",
     "text": [
      "\n",
      "Building similarity LIL matrix...\n"
     ]
    },
    {
     "data": {
      "application/vnd.jupyter.widget-view+json": {
       "model_id": "a7c2f31a4bf34d04909163b6fc8d26a5",
       "version_major": 2,
       "version_minor": 0
      },
      "text/plain": [
       "HBox(children=(FloatProgress(value=0.0, max=1000.0), HTML(value='')))"
      ]
     },
     "metadata": {},
     "output_type": "display_data"
    },
    {
     "name": "stderr",
     "output_type": "stream",
     "text": [
      "100%|██████████| 14/14 [00:00<00:00, 675.49it/s]"
     ]
    },
    {
     "name": "stdout",
     "output_type": "stream",
     "text": [
      "\n",
      "Constructing CSR matrix...\n",
      "Building kernel on X_pca\n",
      "Computing diffusion components from X_pca for waypoint initialization ... \n",
      "Determing nearest neighbor graph...\n",
      "Done.\n",
      "Sampling waypoints ...\n",
      "Done.\n",
      "Selecting 9 cells from waypoint initialization.\n",
      "Initializing residual matrix using greedy column selection\n",
      "Initializing f and g...\n",
      "Selecting 4 cells from greedy initialization.\n",
      "Randomly initialized A matrix.\n",
      "Setting convergence threshold at 0.00055\n",
      "Starting iteration 1.\n"
     ]
    },
    {
     "name": "stderr",
     "output_type": "stream",
     "text": [
      "\n"
     ]
    },
    {
     "name": "stdout",
     "output_type": "stream",
     "text": [
      "Completed iteration 1.\n",
      "Starting iteration 10.\n",
      "Completed iteration 10.\n",
      "Starting iteration 20.\n",
      "Completed iteration 20.\n",
      "Starting iteration 30.\n",
      "Completed iteration 30.\n",
      "Converged after 30 iterations.\n",
      "SPARSE AND GPU\n",
      "TRYING SEACellsGPU\n",
      "Welcome to SEACells GPU!\n",
      "build_graph.SEACellGraph completed\n",
      "Computing kNN graph using scanpy NN ...\n",
      "Computing radius for adaptive bandwidth kernel...\n"
     ]
    },
    {
     "data": {
      "application/vnd.jupyter.widget-view+json": {
       "model_id": "2b7fe89db7c1479dbe6297f7b2bf4776",
       "version_major": 2,
       "version_minor": 0
      },
      "text/plain": [
       "HBox(children=(FloatProgress(value=0.0, max=1000.0), HTML(value='')))"
      ]
     },
     "metadata": {},
     "output_type": "display_data"
    },
    {
     "name": "stdout",
     "output_type": "stream",
     "text": [
      "\n",
      "Making graph symmetric...\n",
      "Parameter graph_construction = union being used to build KNN graph...\n",
      "Computing RBF kernel...\n"
     ]
    },
    {
     "data": {
      "application/vnd.jupyter.widget-view+json": {
       "model_id": "50ada39c6ae84f3f899048de331e53af",
       "version_major": 2,
       "version_minor": 0
      },
      "text/plain": [
       "HBox(children=(FloatProgress(value=0.0, max=1000.0), HTML(value='')))"
      ]
     },
     "metadata": {},
     "output_type": "display_data"
    },
    {
     "name": "stdout",
     "output_type": "stream",
     "text": [
      "\n",
      "Building similarity LIL matrix...\n"
     ]
    },
    {
     "data": {
      "application/vnd.jupyter.widget-view+json": {
       "model_id": "94931fc9b7444573a3f3c14da4e58d54",
       "version_major": 2,
       "version_minor": 0
      },
      "text/plain": [
       "HBox(children=(FloatProgress(value=0.0, max=1000.0), HTML(value='')))"
      ]
     },
     "metadata": {},
     "output_type": "display_data"
    },
    {
     "name": "stderr",
     "output_type": "stream",
     "text": [
      "  0%|          | 0/14 [00:00<?, ?it/s]"
     ]
    },
    {
     "name": "stdout",
     "output_type": "stream",
     "text": [
      "\n",
      "Constructing CSR matrix...\n",
      "Building kernel on X_pca\n",
      "Computing diffusion components from X_pca for waypoint initialization ... \n",
      "Determing nearest neighbor graph...\n",
      "Done.\n",
      "Sampling waypoints ...\n",
      "Done.\n",
      "Selecting 9 cells from waypoint initialization.\n",
      "Initializing residual matrix using greedy column selection\n",
      "Initializing f and g...\n"
     ]
    },
    {
     "name": "stderr",
     "output_type": "stream",
     "text": [
      "/home/aparna/miniconda/envs/env_SEACells/lib/python3.8/site-packages/cupyx/scipy/sparse/_compressed.py:545: SparseEfficiencyWarning: Changing the sparsity structure of a csr_matrix is expensive.\n",
      "  warnings.warn('Changing the sparsity structure of a '\n",
      "100%|██████████| 14/14 [00:00<00:00, 76.05it/s]\n",
      "ic| c(\"_get_greedy_centers complete: '_get_greedy_centers completed'\n"
     ]
    },
    {
     "name": "stdout",
     "output_type": "stream",
     "text": [
      "Selecting 4 cells from greedy initialization.\n",
      "SELF.WAYPOINT_PROPORTION > 0\n",
      "RUNNING SELF.INITIALIZE\n",
      "Randomly initialized A matrix.\n",
      "UPDATE A BEGINNING\n"
     ]
    },
    {
     "name": "stderr",
     "output_type": "stream",
     "text": [
      "ic| # ic(type(dif: <class 'cupyx.scipy.sparse._csr.csr_matrix'>\n",
      "ic| #ic(scipy.sparse.linalg.norm: 2196365312\n",
      "ic| def plot_convergence(self,: array(66.13703115)\n"
     ]
    },
    {
     "name": "stdout",
     "output_type": "stream",
     "text": [
      "UPDATE A COMPLETED\n",
      "RSS START\n",
      "COMPUTE RECONSTRUCTION\n",
      "FINISHED COMPUTE RECONSTRUCTION\n"
     ]
    },
    {
     "name": "stderr",
     "output_type": "stream",
     "text": [
      "/home/aparna/.local/lib/python3.8/site-packages/scipy/sparse/data.py:133: RuntimeWarning: invalid value encountered in sqrt\n",
      "  result = op(self._deduped_data())\n",
      "ic| \"\"\"Plot behaviour of sq: <1000x1000 sparse matrix of type '<class 'numpy.float64'>'\n",
      "                             \twith 709200 stored elements in Compressed Sparse Row format>\n"
     ]
    },
    {
     "name": "stdout",
     "output_type": "stream",
     "text": [
      "RSS FIN\n",
      "Convergence threshold set to 0.0006613703114501846 based on epsilon = 1e-05\n",
      "SELF.INITIALIZE COMPLETE\n",
      "Starting iteration 1.\n"
     ]
    },
    {
     "name": "stderr",
     "output_type": "stream",
     "text": [
      "ic| f.A_ = A: [array(66.13703115)]\n",
      "ic| # ic(type(dif: <class 'cupyx.scipy.sparse._csr.csr_matrix'>\n",
      "ic| #ic(scipy.sparse.linalg.norm: 2196619264\n"
     ]
    },
    {
     "name": "stdout",
     "output_type": "stream",
     "text": [
      "COMPUTE RECONSTRUCTION\n",
      "FINISHED COMPUTE RECONSTRUCTION\n"
     ]
    },
    {
     "name": "stderr",
     "output_type": "stream",
     "text": [
      "ic| def plot_convergence(self,: array(74.74279219)\n",
      "ic| \"\"\"Plot behaviour of sq: <1000x1000 sparse matrix of type '<class 'numpy.float64'>'\n",
      "                             \twith 1000000 stored elements in Compressed Sparse Row format>\n",
      "ic| del A, B, RSS: [array(66.13703115), array(74.74279219)]\n",
      "ic| = pd.DataFra: (13, 1000)\n",
      "ic| df = pd.DataFrame({\"SEACel: (1, 1000)\n",
      "ic| df.index = self.ad.obs_names: (1000,)\n",
      "ic| turn df\n",
      "    \n",
      "    def get_ha: (1000,)\n"
     ]
    },
    {
     "name": "stdout",
     "output_type": "stream",
     "text": [
      "Completed iteration 1.\n"
     ]
    },
    {
     "name": "stderr",
     "output_type": "stream",
     "text": [
      "ic| f.A_ = A: [array(66.13703115), array(74.74279219)]\n",
      "ic| # ic(type(dif: <class 'cupyx.scipy.sparse._csr.csr_matrix'>\n",
      "ic| #ic(scipy.sparse.linalg.norm: 2196697088\n"
     ]
    },
    {
     "name": "stdout",
     "output_type": "stream",
     "text": [
      "COMPUTE RECONSTRUCTION\n",
      "FINISHED COMPUTE RECONSTRUCTION\n"
     ]
    },
    {
     "name": "stderr",
     "output_type": "stream",
     "text": [
      "ic| def plot_convergence(self,: array(60.26921085)\n",
      "ic| \"\"\"Plot behaviour of sq: <1000x1000 sparse matrix of type '<class 'numpy.float64'>'\n",
      "                             \twith 1000000 stored elements in Compressed Sparse Row format>\n",
      "ic| del A, B, RSS: [array(66.13703115), array(74.74279219), array(60.26921085)]\n",
      "ic| = pd.DataFra: (13, 1000)\n",
      "ic| df = pd.DataFrame({\"SEACel: (1, 1000)\n",
      "ic| df.index = self.ad.obs_names: (1000,)\n",
      "ic| turn df\n",
      "    \n",
      "    def get_ha: (1000,)\n",
      "ic| f.A_ = A: [array(66.13703115), array(74.74279219), array(60.26921085)]\n",
      "ic| # ic(type(dif: <class 'cupyx.scipy.sparse._csr.csr_matrix'>\n",
      "ic| #ic(scipy.sparse.linalg.norm: 2196697088\n"
     ]
    },
    {
     "name": "stdout",
     "output_type": "stream",
     "text": [
      "COMPUTE RECONSTRUCTION\n",
      "FINISHED COMPUTE RECONSTRUCTION\n"
     ]
    }
   ],
   "source": [
    "assignments, comparisons = all_versions(ad)"
   ]
  }
 ],
 "metadata": {
  "kernelspec": {
   "display_name": "Python 3",
   "language": "python",
   "name": "python3"
  },
  "language_info": {
   "codemirror_mode": {
    "name": "ipython",
    "version": 3
   },
   "file_extension": ".py",
   "mimetype": "text/x-python",
   "name": "python",
   "nbconvert_exporter": "python",
   "pygments_lexer": "ipython3",
   "version": "3.8.13"
  },
  "orig_nbformat": 4
 },
 "nbformat": 4,
 "nbformat_minor": 2
}
