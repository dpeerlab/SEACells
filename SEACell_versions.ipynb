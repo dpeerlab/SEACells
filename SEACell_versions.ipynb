{
 "cells": [
  {
   "cell_type": "markdown",
   "metadata": {},
   "source": [
    "# SEACells Versions"
   ]
  },
  {
   "cell_type": "markdown",
   "metadata": {},
   "source": [
    "### Imports"
   ]
  },
  {
   "cell_type": "code",
   "execution_count": 1,
   "metadata": {},
   "outputs": [],
   "source": [
    "import tracemalloc\n",
    "import time\n",
    "import scanpy as sc\n",
    "import pandas as pd"
   ]
  },
  {
   "cell_type": "code",
   "execution_count": 2,
   "metadata": {},
   "outputs": [],
   "source": [
    "import cupy as cp\n",
    "import cupyx\n",
    "import numpy as np\n",
    "from tqdm import tqdm\n",
    "\n",
    "from icecream import ic"
   ]
  },
  {
   "cell_type": "code",
   "execution_count": 3,
   "metadata": {},
   "outputs": [],
   "source": [
    "# # from importlib import reload\n",
    "# from SEACells.core import SEACells\n",
    "# # reload(SEACells)"
   ]
  },
  {
   "cell_type": "markdown",
   "metadata": {},
   "source": [
    "### Initialization"
   ]
  },
  {
   "cell_type": "code",
   "execution_count": 4,
   "metadata": {},
   "outputs": [],
   "source": [
    "num_cells = 1000"
   ]
  },
  {
   "cell_type": "code",
   "execution_count": 5,
   "metadata": {},
   "outputs": [],
   "source": [
    "# ad = sc.read(\"/home/aparna/DATA/aparnakumar/50000_cells/mouse_marioni_50k.h5ad\") \n",
    "# num_cells = 1000\n",
    "# ad = ad[:num_cells]"
   ]
  },
  {
   "cell_type": "code",
   "execution_count": 6,
   "metadata": {},
   "outputs": [],
   "source": [
    "# def get_data(ad, num_cells, use_gpu, use_sparse): \n",
    "#   ## User defined parameters\n",
    "\n",
    "#   ## Core parameters \n",
    "#   # number of SEACells\n",
    "#   n_SEACells = num_cells // 75\n",
    "#   build_kernel_on = 'X_pca' # key in ad.obsm to use for computing metacells\n",
    "#                             # This would be replaced by 'X_svd' for ATAC data\n",
    "\n",
    "#   ## Additional parameters\n",
    "#   n_waypoint_eigs = 10 # Number of eigenvalues to consider when initializing metacells\n",
    "\n",
    "#   model = SEACells(ad, \n",
    "#                                  use_gpu=use_gpu, \n",
    "#                                  use_sparse=use_sparse, \n",
    "#                                  build_kernel_on=build_kernel_on, \n",
    "#                                  n_SEACells=n_SEACells, \n",
    "#                                  n_waypoint_eigs=n_waypoint_eigs,\n",
    "#                                  convergence_epsilon = 1e-5)\n",
    "#   model.construct_kernel_matrix()\n",
    "#   model.initialize_archetypes()\n",
    "\n",
    "#   start = time.time()\n",
    "#   tracemalloc.start()\n",
    "\n",
    "#   model.fit(min_iter=10, max_iter=150)\n",
    "\n",
    "#   end = time.time()\n",
    "#   tot_time = end - start\n",
    "\n",
    "#   mem = tracemalloc.get_traced_memory()\n",
    "#   tracemalloc.stop()\n",
    "\n",
    "#   assignments = model.get_hard_assignments()\n",
    "  \n",
    "#   return assignments, tot_time, mem"
   ]
  },
  {
   "cell_type": "code",
   "execution_count": 7,
   "metadata": {},
   "outputs": [],
   "source": [
    "# def all_versions(ad):\n",
    "#     assignments1, time1, mem1 = get_data(ad, num_cells = num_cells, use_gpu = False, use_sparse=False)\n",
    "#     assignments2, time2, mem2 = get_data(ad, num_cells = num_cells, use_gpu = False, use_sparse= True)\n",
    "#     assignments3, time3, mem3 = get_data(ad, num_cells = num_cells, use_gpu = True, use_sparse=False)\n",
    "#     assignments4, time4, mem4 = get_data(ad, num_cells = num_cells, use_gpu = True, use_sparse= True)\n",
    "\n",
    "#     # Write the assignments\n",
    "#     assignments = [assignments1, assignments2, assignments3, assignments4] \n",
    "    \n",
    "#     # Write the time and memory data\n",
    "#     comparisons = pd.DataFrame({'version': ['v1: no GPU, no sparse', 'v2:  no GPU, yes sparse', 'v3: yes GPU, no sparse', 'v4: yes GPU, yes sparse'], \n",
    "#                            'time (s)': [time1, time2, time3, time4],\n",
    "#                            'peak memory': [mem1[1], mem2[1], mem3[1], mem4[1]]})\n",
    "    \n",
    "#     return assignments, comparisons"
   ]
  },
  {
   "cell_type": "code",
   "execution_count": 8,
   "metadata": {},
   "outputs": [
    {
     "ename": "OutOfMemoryError",
     "evalue": "Out of memory allocating 104,448 bytes (allocated so far: 0 bytes).",
     "output_type": "error",
     "traceback": [
      "\u001b[0;31m---------------------------------------------------------------------------\u001b[0m",
      "\u001b[0;31mOutOfMemoryError\u001b[0m                          Traceback (most recent call last)",
      "\u001b[1;32m/home/aparna/DATA/aparnakumar/github clone/SEACells/SEACell_versions.ipynb Cell 11\u001b[0m line \u001b[0;36m1\n\u001b[0;32m----> <a href='vscode-notebook-cell://ssh-remote%2Baeolus/home/aparna/DATA/aparnakumar/github%20clone/SEACells/SEACell_versions.ipynb#X13sdnNjb2RlLXJlbW90ZQ%3D%3D?line=0'>1</a>\u001b[0m B3 \u001b[39m=\u001b[39m cp\u001b[39m.\u001b[39;49mrandom\u001b[39m.\u001b[39;49mrandom((\u001b[39m13\u001b[39;49m, \u001b[39m1000\u001b[39;49m))\n\u001b[1;32m      <a href='vscode-notebook-cell://ssh-remote%2Baeolus/home/aparna/DATA/aparnakumar/github%20clone/SEACells/SEACell_versions.ipynb#X13sdnNjb2RlLXJlbW90ZQ%3D%3D?line=1'>2</a>\u001b[0m B3 \u001b[39m=\u001b[39m cp\u001b[39m.\u001b[39msparse\u001b[39m.\u001b[39mcsr_matrix(B3)\n\u001b[1;32m      <a href='vscode-notebook-cell://ssh-remote%2Baeolus/home/aparna/DATA/aparnakumar/github%20clone/SEACells/SEACell_versions.ipynb#X13sdnNjb2RlLXJlbW90ZQ%3D%3D?line=2'>3</a>\u001b[0m B3 \u001b[39m=\u001b[39mB3\u001b[39m.\u001b[39margmin(axis\u001b[39m=\u001b[39m\u001b[39m0\u001b[39m)\n",
      "File \u001b[0;32m~/miniconda3/lib/python3.9/site-packages/cupy/random/_sample.py:156\u001b[0m, in \u001b[0;36mrandom_sample\u001b[0;34m(size, dtype)\u001b[0m\n\u001b[1;32m    140\u001b[0m \u001b[39m\u001b[39m\u001b[39m\"\"\"Returns an array of random values over the interval ``[0, 1)``.\u001b[39;00m\n\u001b[1;32m    141\u001b[0m \n\u001b[1;32m    142\u001b[0m \u001b[39mThis is a variant of :func:`cupy.random.rand`.\u001b[39;00m\n\u001b[0;32m   (...)\u001b[0m\n\u001b[1;32m    153\u001b[0m \n\u001b[1;32m    154\u001b[0m \u001b[39m\"\"\"\u001b[39;00m\n\u001b[1;32m    155\u001b[0m rs \u001b[39m=\u001b[39m _generator\u001b[39m.\u001b[39mget_random_state()\n\u001b[0;32m--> 156\u001b[0m \u001b[39mreturn\u001b[39;00m rs\u001b[39m.\u001b[39;49mrandom_sample(size\u001b[39m=\u001b[39;49msize, dtype\u001b[39m=\u001b[39;49mdtype)\n",
      "File \u001b[0;32m~/miniconda3/lib/python3.9/site-packages/cupy/random/_generator.py:618\u001b[0m, in \u001b[0;36mRandomState.random_sample\u001b[0;34m(self, size, dtype)\u001b[0m\n\u001b[1;32m    616\u001b[0m \u001b[39mif\u001b[39;00m size \u001b[39mis\u001b[39;00m \u001b[39mNone\u001b[39;00m:\n\u001b[1;32m    617\u001b[0m     size \u001b[39m=\u001b[39m ()\n\u001b[0;32m--> 618\u001b[0m out \u001b[39m=\u001b[39m \u001b[39mself\u001b[39;49m\u001b[39m.\u001b[39;49m_random_sample_raw(size, dtype)\n\u001b[1;32m    619\u001b[0m RandomState\u001b[39m.\u001b[39m_mod1_kernel(out)\n\u001b[1;32m    620\u001b[0m \u001b[39mreturn\u001b[39;00m out\n",
      "File \u001b[0;32m~/miniconda3/lib/python3.9/site-packages/cupy/random/_generator.py:600\u001b[0m, in \u001b[0;36mRandomState._random_sample_raw\u001b[0;34m(self, size, dtype)\u001b[0m\n\u001b[1;32m    598\u001b[0m \u001b[39mdef\u001b[39;00m \u001b[39m_random_sample_raw\u001b[39m(\u001b[39mself\u001b[39m, size, dtype):\n\u001b[1;32m    599\u001b[0m     dtype \u001b[39m=\u001b[39m _check_and_get_dtype(dtype)\n\u001b[0;32m--> 600\u001b[0m     out \u001b[39m=\u001b[39m cupy\u001b[39m.\u001b[39;49mempty(size, dtype\u001b[39m=\u001b[39;49mdtype)\n\u001b[1;32m    601\u001b[0m     \u001b[39mif\u001b[39;00m dtype\u001b[39m.\u001b[39mchar \u001b[39m==\u001b[39m \u001b[39m'\u001b[39m\u001b[39mf\u001b[39m\u001b[39m'\u001b[39m:\n\u001b[1;32m    602\u001b[0m         func \u001b[39m=\u001b[39m curand\u001b[39m.\u001b[39mgenerateUniform\n",
      "File \u001b[0;32m~/miniconda3/lib/python3.9/site-packages/cupy/_creation/basic.py:22\u001b[0m, in \u001b[0;36mempty\u001b[0;34m(shape, dtype, order)\u001b[0m\n\u001b[1;32m      7\u001b[0m \u001b[39mdef\u001b[39;00m \u001b[39mempty\u001b[39m(shape, dtype\u001b[39m=\u001b[39m\u001b[39mfloat\u001b[39m, order\u001b[39m=\u001b[39m\u001b[39m'\u001b[39m\u001b[39mC\u001b[39m\u001b[39m'\u001b[39m):\n\u001b[1;32m      8\u001b[0m \u001b[39m    \u001b[39m\u001b[39m\"\"\"Returns an array without initializing the elements.\u001b[39;00m\n\u001b[1;32m      9\u001b[0m \n\u001b[1;32m     10\u001b[0m \u001b[39m    Args:\u001b[39;00m\n\u001b[0;32m   (...)\u001b[0m\n\u001b[1;32m     20\u001b[0m \n\u001b[1;32m     21\u001b[0m \u001b[39m    \"\"\"\u001b[39;00m\n\u001b[0;32m---> 22\u001b[0m     \u001b[39mreturn\u001b[39;00m cupy\u001b[39m.\u001b[39;49mndarray(shape, dtype, order\u001b[39m=\u001b[39;49morder)\n",
      "File \u001b[0;32mcupy/_core/core.pyx:136\u001b[0m, in \u001b[0;36mcupy._core.core.ndarray.__new__\u001b[0;34m()\u001b[0m\n",
      "File \u001b[0;32mcupy/_core/core.pyx:224\u001b[0m, in \u001b[0;36mcupy._core.core._ndarray_base._init\u001b[0;34m()\u001b[0m\n",
      "File \u001b[0;32mcupy/cuda/memory.pyx:742\u001b[0m, in \u001b[0;36mcupy.cuda.memory.alloc\u001b[0;34m()\u001b[0m\n",
      "File \u001b[0;32mcupy/cuda/memory.pyx:1419\u001b[0m, in \u001b[0;36mcupy.cuda.memory.MemoryPool.malloc\u001b[0;34m()\u001b[0m\n",
      "File \u001b[0;32mcupy/cuda/memory.pyx:1440\u001b[0m, in \u001b[0;36mcupy.cuda.memory.MemoryPool.malloc\u001b[0;34m()\u001b[0m\n",
      "File \u001b[0;32mcupy/cuda/memory.pyx:1120\u001b[0m, in \u001b[0;36mcupy.cuda.memory.SingleDeviceMemoryPool.malloc\u001b[0;34m()\u001b[0m\n",
      "File \u001b[0;32mcupy/cuda/memory.pyx:1141\u001b[0m, in \u001b[0;36mcupy.cuda.memory.SingleDeviceMemoryPool._malloc\u001b[0;34m()\u001b[0m\n",
      "File \u001b[0;32mcupy/cuda/memory.pyx:1379\u001b[0m, in \u001b[0;36mcupy.cuda.memory.SingleDeviceMemoryPool._try_malloc\u001b[0;34m()\u001b[0m\n",
      "\u001b[0;31mOutOfMemoryError\u001b[0m: Out of memory allocating 104,448 bytes (allocated so far: 0 bytes)."
     ]
    }
   ],
   "source": [
    "B3 = cp.random.random((13, 1000))\n",
    "B3 = cp.sparse.csr_matrix(B3)\n",
    "B3 =B3.argmin(axis=0)"
   ]
  },
  {
   "cell_type": "code",
   "execution_count": null,
   "metadata": {},
   "outputs": [
    {
     "ename": "",
     "evalue": "",
     "output_type": "error",
     "traceback": [
      "\u001b[1;31mFailed to start the Kernel 'env_SEACells (Python 3.8.13)'. \n",
      "\u001b[1;31mView Jupyter <a href='command:jupyter.viewOutput'>log</a> for further details. ENOSPC: no space left on device, write"
     ]
    }
   ],
   "source": [
    "import scipy.sparse\n",
    "\n",
    "ATA = cp.random.random((1000, 1000))\n",
    "ATA = cp.sparse.csr_matrix(ATA)\n",
    "\n",
    "\n",
    "f = ((ATA.multiply(ATA)).sum(axis=0)).ravel()\n",
    "g = ATA.diagonal().ravel()\n",
    "\n",
    "k =  13\n",
    "n = 1000\n",
    "d = cp.sparse.csr_matrix((k, n), dtype=cp.float64)\n",
    "omega = cp.sparse.csr_matrix((k, n), dtype=cp.float64)\n",
    "\n",
    "# keep track of selected indices\n",
    "centers = cp.sparse.csr_matrix((k, n), dtype=cp.float64)\n",
    "\n",
    "# sampling\n",
    "for j in tqdm(range(k)):\n",
    "        score = f / g\n",
    "        p = score.argmax()\n",
    "        \n",
    "        delta_term1 = ATA[:, p].toarray().squeeze()\n",
    "        #     # print(delta_term1)\n",
    "        ic(omega[:, p].shape)\n",
    "        ic(type(omega[:, p].reshape(-1, 1).multiply(omega)))\n",
    "        delta_term2 = omega[:, p].reshape(-1, 1).multiply(omega).sum(axis=0).squeeze()\n",
    "        delta = delta_term1 - delta_term2\n",
    "\n",
    "        #     # some weird rounding errors\n",
    "        # BOOKMARK\n",
    "        #delta[p] = [0, delta[p]].max()\n",
    "\n",
    "        #     o = delta / np.max([np.sqrt(delta[p]), 1e-6])\n",
    "        #     omega_square_norm = np.linalg.norm(o) ** 2\n",
    "        #     omega_hadamard = np.multiply(o, o)\n",
    "        #     term1 = omega_square_norm * omega_hadamard\n",
    "\n",
    "        #     # update f (term2)\n",
    "        #     pl = np.zeros(n)\n",
    "        #     for r in range(j):\n",
    "        #         omega_r = omega[r, :]\n",
    "        #         pl += np.dot(omega_r, o) * omega_r\n",
    "\n",
    "        #     ATAo = (ATA @ o.reshape(-1, 1)).ravel()\n",
    "        #     term2 = np.multiply(o, ATAo - pl)\n",
    "\n",
    "        #     # update f\n",
    "        #     f += -2.0 * term2 + term1\n",
    "\n",
    "        #     # update g\n",
    "        #     g += omega_hadamard\n",
    "\n",
    "        #     # store omega and delta\n",
    "        #     d[j, :] = delta\n",
    "        #     omega[j, :] = o\n",
    "\n",
    "        #     # add index\n",
    "        #     centers[j] = int(p)\n",
    "\n",
    "        # return centers"
   ]
  },
  {
   "cell_type": "code",
   "execution_count": null,
   "metadata": {},
   "outputs": [
    {
     "ename": "",
     "evalue": "",
     "output_type": "error",
     "traceback": [
      "\u001b[1;31mFailed to start the Kernel 'env_SEACells (Python 3.8.13)'. \n",
      "\u001b[1;31mView Jupyter <a href='command:jupyter.viewOutput'>log</a> for further details. ENOSPC: no space left on device, write"
     ]
    }
   ],
   "source": [
    "delta_term1.shape"
   ]
  },
  {
   "cell_type": "code",
   "execution_count": null,
   "metadata": {},
   "outputs": [
    {
     "ename": "",
     "evalue": "",
     "output_type": "error",
     "traceback": [
      "\u001b[1;31mFailed to start the Kernel 'env_SEACells (Python 3.8.13)'. \n",
      "\u001b[1;31mView Jupyter <a href='command:jupyter.viewOutput'>log</a> for further details. ENOSPC: no space left on device, write"
     ]
    }
   ],
   "source": [
    "p = cp.array([121])\n",
    "omega = cp.sparse.csr_matrix((14, 1000), dtype=cp.float64)\n",
    "thing = omega[:, p].reshape(-1, 1).multiply(omega).sum(axis=0).squeeze()\n",
    "ic(thing.shape)\n",
    "ic(type(thing))\n",
    "\n",
    "\n",
    "type(thing.sum(axis=0))\n",
    "\n"
   ]
  },
  {
   "cell_type": "code",
   "execution_count": null,
   "metadata": {},
   "outputs": [
    {
     "ename": "",
     "evalue": "",
     "output_type": "error",
     "traceback": [
      "\u001b[1;31mFailed to start the Kernel 'env_SEACells (Python 3.8.13)'. \n",
      "\u001b[1;31mView Jupyter <a href='command:jupyter.viewOutput'>log</a> for further details. ENOSPC: no space left on device, write"
     ]
    }
   ],
   "source": [
    "n = 1000\n",
    "k = 14\n",
    "\n",
    "# precompute M.T * M\n",
    "# ATA = M.T @ M\n",
    "ATA = cupyx.scipy.sparse.csr_matrix((n, n))\n",
    "\n",
    "\n",
    "f = cp.array((ATA.multiply(ATA)).sum(axis=0)).ravel()\n",
    "g = cp.array(ATA.diagonal()).ravel()\n",
    "\n",
    "d = cp.sparse.csr_matrix((k, n))\n",
    "omega = cp.sparse.csr_matrix((k, n))\n",
    "\n",
    "# keep track of selected indices\n",
    "centers = cp.sparse.csr_matrix((k, n))\n",
    "\n",
    "# sampling\n",
    "for j in tqdm(range(k)):\n",
    "    # Compute score, dividing the sparse f by the sparse g\n",
    "    score = f / g\n",
    "            \n",
    "    # Compute p, which is the largest score\n",
    "    p = cp.argmax(score)\n",
    "\n",
    "    # Compute delta_term1 to be the column of ATA at index p\n",
    "    delta_term1 = ATA[:, p].toarray().squeeze()\n",
    "\n",
    "    # Compute delta_term2 to be the sum of the outer product of omega and itself\n",
    "    delta_term2 = (omega[:, p].reshape(-1, 1).multiply(omega).sum(axis=0).squeeze())\n",
    "    delta = delta_term1 - delta_term2\n",
    "\n",
    "    # some weird rounding errors\n",
    "    delta[p] = max([0, delta[p]])\n",
    "\n",
    "    o = delta / max([cp.sqrt(delta[p]), 1e-6])\n",
    "    omega_square_norm = cp.linalg.norm(o) ** 2\n",
    "    omega_hadamard = cp.multiply(o, o)\n",
    "    term1 = omega_square_norm * omega_hadamard\n",
    "\n",
    "    # update f (term2)\n",
    "    pl = cp.zeros(n)\n",
    "    for r in range(j):\n",
    "        omega_r = omega[r, :]\n",
    "        pl += omega_r.dot(o) * omega_r\n",
    "\n",
    "    ATAo = (ATA @ o.reshape(-1, 1)).ravel()\n",
    "    term2 = o *  (ATAo - pl)\n",
    "\n",
    "    # update f\n",
    "    f += -2.0 * term2 + term1\n",
    "\n",
    "    # update g\n",
    "    g += omega_hadamard\n",
    "\n",
    "    # store omega and delta\n",
    "    d[j, :] = delta\n",
    "    omega[j, :] = o\n",
    "\n",
    "    # add index\n",
    "    centers[j] = int(p)\n",
    "\n",
    "centers"
   ]
  },
  {
   "cell_type": "code",
   "execution_count": null,
   "metadata": {},
   "outputs": [
    {
     "ename": "",
     "evalue": "",
     "output_type": "error",
     "traceback": [
      "\u001b[1;31mFailed to start the Kernel 'env_SEACells (Python 3.8.13)'. \n",
      "\u001b[1;31mView Jupyter <a href='command:jupyter.viewOutput'>log</a> for further details. ENOSPC: no space left on device, write"
     ]
    }
   ],
   "source": [
    "import cupy\n",
    "\n",
    "kernel_matrix =  cupyx.scipy.sparse.rand(1000, 1000, density=0.01, format='csr', dtype=np.float64)\n",
    "# Make a sparse csr matrix of random data \n",
    "reconstruction = cupyx.scipy.sparse.rand(1000, 1000, density=0.01, format='csr', dtype=np.float64)\n",
    "\n",
    "ic(type(kernel_matrix))\n",
    "ic(type(reconstruction))\n",
    "\n",
    "\n",
    "\n",
    "cp.linalg.norm(kernel_matrix - reconstruction)"
   ]
  },
  {
   "cell_type": "code",
   "execution_count": null,
   "metadata": {},
   "outputs": [
    {
     "name": "stdout",
     "output_type": "stream",
     "text": [
      "SPARSE AND GPU\n",
      "TRYING SEACellsGPU\n",
      "Welcome to SEACells GPU!\n",
      "build_graph.SEACellGraph completed\n",
      "Computing kNN graph using scanpy NN ...\n",
      "Computing radius for adaptive bandwidth kernel...\n"
     ]
    },
    {
     "data": {
      "application/json": {
       "ascii": false,
       "bar_format": null,
       "colour": null,
       "elapsed": 0.005659580230712891,
       "initial": 0,
       "n": 0,
       "ncols": null,
       "nrows": null,
       "postfix": null,
       "prefix": "",
       "rate": null,
       "total": 1000,
       "unit": "it",
       "unit_divisor": 1000,
       "unit_scale": false
      },
      "application/vnd.jupyter.widget-view+json": {
       "model_id": "e3db092ea4c64ba1a61600ec107ebf28",
       "version_major": 2,
       "version_minor": 0
      },
      "text/plain": [
       "  0%|          | 0/1000 [00:00<?, ?it/s]"
      ]
     },
     "metadata": {},
     "output_type": "display_data"
    },
    {
     "name": "stdout",
     "output_type": "stream",
     "text": [
      "Making graph symmetric...\n",
      "Parameter graph_construction = union being used to build KNN graph...\n",
      "Computing RBF kernel...\n"
     ]
    },
    {
     "data": {
      "application/json": {
       "ascii": false,
       "bar_format": null,
       "colour": null,
       "elapsed": 0.0038034915924072266,
       "initial": 0,
       "n": 0,
       "ncols": null,
       "nrows": null,
       "postfix": null,
       "prefix": "",
       "rate": null,
       "total": 1000,
       "unit": "it",
       "unit_divisor": 1000,
       "unit_scale": false
      },
      "application/vnd.jupyter.widget-view+json": {
       "model_id": "7b443816247d44a78fed60b948583520",
       "version_major": 2,
       "version_minor": 0
      },
      "text/plain": [
       "  0%|          | 0/1000 [00:00<?, ?it/s]"
      ]
     },
     "metadata": {},
     "output_type": "display_data"
    },
    {
     "name": "stdout",
     "output_type": "stream",
     "text": [
      "Building similarity LIL matrix...\n"
     ]
    },
    {
     "data": {
      "application/json": {
       "ascii": false,
       "bar_format": null,
       "colour": null,
       "elapsed": 0.0037801265716552734,
       "initial": 0,
       "n": 0,
       "ncols": null,
       "nrows": null,
       "postfix": null,
       "prefix": "",
       "rate": null,
       "total": 1000,
       "unit": "it",
       "unit_divisor": 1000,
       "unit_scale": false
      },
      "application/vnd.jupyter.widget-view+json": {
       "model_id": "a47f3cff58d34d9abfec6627a6ed0b01",
       "version_major": 2,
       "version_minor": 0
      },
      "text/plain": [
       "  0%|          | 0/1000 [00:00<?, ?it/s]"
      ]
     },
     "metadata": {},
     "output_type": "display_data"
    },
    {
     "name": "stdout",
     "output_type": "stream",
     "text": [
      "Constructing CSR matrix...\n"
     ]
    },
    {
     "ename": "OutOfMemoryError",
     "evalue": "Out of memory allocating 165,376 bytes (allocated so far: 0 bytes).",
     "output_type": "error",
     "traceback": [
      "\u001b[0;31m---------------------------------------------------------------------------\u001b[0m",
      "\u001b[0;31mOutOfMemoryError\u001b[0m                          Traceback (most recent call last)",
      "\u001b[1;32m/home/aparna/DATA/aparnakumar/github clone/SEACells/SEACell_versions.ipynb Cell 17\u001b[0m line \u001b[0;36m1\n\u001b[0;32m----> <a href='vscode-notebook-cell://ssh-remote%2Baeolus/home/aparna/DATA/aparnakumar/github%20clone/SEACells/SEACell_versions.ipynb#X22sdnNjb2RlLXJlbW90ZQ%3D%3D?line=0'>1</a>\u001b[0m assignments4, time4, mem4 \u001b[39m=\u001b[39m get_data(ad, num_cells \u001b[39m=\u001b[39;49m num_cells, use_gpu \u001b[39m=\u001b[39;49m \u001b[39mTrue\u001b[39;49;00m, use_sparse\u001b[39m=\u001b[39;49m \u001b[39mTrue\u001b[39;49;00m)\n",
      "\u001b[1;32m/home/aparna/DATA/aparnakumar/github clone/SEACells/SEACell_versions.ipynb Cell 17\u001b[0m line \u001b[0;36m2\n\u001b[1;32m     <a href='vscode-notebook-cell://ssh-remote%2Baeolus/home/aparna/DATA/aparnakumar/github%20clone/SEACells/SEACell_versions.ipynb#X22sdnNjb2RlLXJlbW90ZQ%3D%3D?line=10'>11</a>\u001b[0m n_waypoint_eigs \u001b[39m=\u001b[39m \u001b[39m10\u001b[39m \u001b[39m# Number of eigenvalues to consider when initializing metacells\u001b[39;00m\n\u001b[1;32m     <a href='vscode-notebook-cell://ssh-remote%2Baeolus/home/aparna/DATA/aparnakumar/github%20clone/SEACells/SEACell_versions.ipynb#X22sdnNjb2RlLXJlbW90ZQ%3D%3D?line=12'>13</a>\u001b[0m model \u001b[39m=\u001b[39m SEACells(ad, \n\u001b[1;32m     <a href='vscode-notebook-cell://ssh-remote%2Baeolus/home/aparna/DATA/aparnakumar/github%20clone/SEACells/SEACell_versions.ipynb#X22sdnNjb2RlLXJlbW90ZQ%3D%3D?line=13'>14</a>\u001b[0m                                use_gpu\u001b[39m=\u001b[39muse_gpu, \n\u001b[1;32m     <a href='vscode-notebook-cell://ssh-remote%2Baeolus/home/aparna/DATA/aparnakumar/github%20clone/SEACells/SEACell_versions.ipynb#X22sdnNjb2RlLXJlbW90ZQ%3D%3D?line=14'>15</a>\u001b[0m                                use_sparse\u001b[39m=\u001b[39muse_sparse, \n\u001b[0;32m   (...)\u001b[0m\n\u001b[1;32m     <a href='vscode-notebook-cell://ssh-remote%2Baeolus/home/aparna/DATA/aparnakumar/github%20clone/SEACells/SEACell_versions.ipynb#X22sdnNjb2RlLXJlbW90ZQ%3D%3D?line=17'>18</a>\u001b[0m                                n_waypoint_eigs\u001b[39m=\u001b[39mn_waypoint_eigs,\n\u001b[1;32m     <a href='vscode-notebook-cell://ssh-remote%2Baeolus/home/aparna/DATA/aparnakumar/github%20clone/SEACells/SEACell_versions.ipynb#X22sdnNjb2RlLXJlbW90ZQ%3D%3D?line=18'>19</a>\u001b[0m                                convergence_epsilon \u001b[39m=\u001b[39m \u001b[39m1e-5\u001b[39m)\n\u001b[0;32m---> <a href='vscode-notebook-cell://ssh-remote%2Baeolus/home/aparna/DATA/aparnakumar/github%20clone/SEACells/SEACell_versions.ipynb#X22sdnNjb2RlLXJlbW90ZQ%3D%3D?line=19'>20</a>\u001b[0m model\u001b[39m.\u001b[39;49mconstruct_kernel_matrix()\n\u001b[1;32m     <a href='vscode-notebook-cell://ssh-remote%2Baeolus/home/aparna/DATA/aparnakumar/github%20clone/SEACells/SEACell_versions.ipynb#X22sdnNjb2RlLXJlbW90ZQ%3D%3D?line=20'>21</a>\u001b[0m model\u001b[39m.\u001b[39minitialize_archetypes()\n\u001b[1;32m     <a href='vscode-notebook-cell://ssh-remote%2Baeolus/home/aparna/DATA/aparnakumar/github%20clone/SEACells/SEACell_versions.ipynb#X22sdnNjb2RlLXJlbW90ZQ%3D%3D?line=22'>23</a>\u001b[0m start \u001b[39m=\u001b[39m time\u001b[39m.\u001b[39mtime()\n",
      "File \u001b[0;32m/data/aparna/aparnakumar/github clone/SEACells/SEACells/gpu.py:159\u001b[0m, in \u001b[0;36mSEACellsGPU.construct_kernel_matrix\u001b[0;34m(self, n_neighbors, graph_construction)\u001b[0m\n\u001b[1;32m    156\u001b[0m     n_neighbors \u001b[39m=\u001b[39m \u001b[39mself\u001b[39m\u001b[39m.\u001b[39mn_neighbors\n\u001b[1;32m    158\u001b[0m M \u001b[39m=\u001b[39m kernel_model\u001b[39m.\u001b[39mrbf(n_neighbors, graph_construction\u001b[39m=\u001b[39mgraph_construction)\n\u001b[0;32m--> 159\u001b[0m \u001b[39mself\u001b[39m\u001b[39m.\u001b[39mkernel_matrix \u001b[39m=\u001b[39m cupyx\u001b[39m.\u001b[39;49mscipy\u001b[39m.\u001b[39;49msparse\u001b[39m.\u001b[39;49mcsr_matrix(M)\n\u001b[1;32m    161\u001b[0m \u001b[39m# Pre-compute dot product\u001b[39;00m\n\u001b[1;32m    162\u001b[0m \u001b[39mself\u001b[39m\u001b[39m.\u001b[39mK \u001b[39m=\u001b[39m \u001b[39mself\u001b[39m\u001b[39m.\u001b[39mkernel_matrix\u001b[39m.\u001b[39mdot(\u001b[39mself\u001b[39m\u001b[39m.\u001b[39mkernel_matrix\u001b[39m.\u001b[39mtranspose())\n",
      "File \u001b[0;32m~/miniconda3/lib/python3.9/site-packages/cupyx/scipy/sparse/_compressed.py:227\u001b[0m, in \u001b[0;36m_compressed_sparse_matrix.__init__\u001b[0;34m(self, arg1, shape, dtype, copy)\u001b[0m\n\u001b[1;32m    224\u001b[0m \u001b[39melif\u001b[39;00m scipy_available \u001b[39mand\u001b[39;00m scipy\u001b[39m.\u001b[39msparse\u001b[39m.\u001b[39missparse(arg1):\n\u001b[1;32m    225\u001b[0m     \u001b[39m# Convert scipy.sparse to cupyx.scipy.sparse\u001b[39;00m\n\u001b[1;32m    226\u001b[0m     x \u001b[39m=\u001b[39m arg1\u001b[39m.\u001b[39masformat(\u001b[39mself\u001b[39m\u001b[39m.\u001b[39mformat)\n\u001b[0;32m--> 227\u001b[0m     data \u001b[39m=\u001b[39m cupy\u001b[39m.\u001b[39;49marray(x\u001b[39m.\u001b[39;49mdata)\n\u001b[1;32m    228\u001b[0m     indices \u001b[39m=\u001b[39m cupy\u001b[39m.\u001b[39marray(x\u001b[39m.\u001b[39mindices, dtype\u001b[39m=\u001b[39m\u001b[39m'\u001b[39m\u001b[39mi\u001b[39m\u001b[39m'\u001b[39m)\n\u001b[1;32m    229\u001b[0m     indptr \u001b[39m=\u001b[39m cupy\u001b[39m.\u001b[39marray(x\u001b[39m.\u001b[39mindptr, dtype\u001b[39m=\u001b[39m\u001b[39m'\u001b[39m\u001b[39mi\u001b[39m\u001b[39m'\u001b[39m)\n",
      "File \u001b[0;32m~/miniconda3/lib/python3.9/site-packages/cupy/_creation/from_data.py:46\u001b[0m, in \u001b[0;36marray\u001b[0;34m(obj, dtype, copy, order, subok, ndmin)\u001b[0m\n\u001b[1;32m      7\u001b[0m \u001b[39mdef\u001b[39;00m \u001b[39marray\u001b[39m(obj, dtype\u001b[39m=\u001b[39m\u001b[39mNone\u001b[39;00m, copy\u001b[39m=\u001b[39m\u001b[39mTrue\u001b[39;00m, order\u001b[39m=\u001b[39m\u001b[39m'\u001b[39m\u001b[39mK\u001b[39m\u001b[39m'\u001b[39m, subok\u001b[39m=\u001b[39m\u001b[39mFalse\u001b[39;00m, ndmin\u001b[39m=\u001b[39m\u001b[39m0\u001b[39m):\n\u001b[1;32m      8\u001b[0m \u001b[39m    \u001b[39m\u001b[39m\"\"\"Creates an array on the current device.\u001b[39;00m\n\u001b[1;32m      9\u001b[0m \n\u001b[1;32m     10\u001b[0m \u001b[39m    This function currently does not support the ``subok`` option.\u001b[39;00m\n\u001b[0;32m   (...)\u001b[0m\n\u001b[1;32m     44\u001b[0m \n\u001b[1;32m     45\u001b[0m \u001b[39m    \"\"\"\u001b[39;00m\n\u001b[0;32m---> 46\u001b[0m     \u001b[39mreturn\u001b[39;00m _core\u001b[39m.\u001b[39;49marray(obj, dtype, copy, order, subok, ndmin)\n",
      "File \u001b[0;32mcupy/_core/core.pyx:2360\u001b[0m, in \u001b[0;36mcupy._core.core.array\u001b[0;34m()\u001b[0m\n",
      "File \u001b[0;32mcupy/_core/core.pyx:2384\u001b[0m, in \u001b[0;36mcupy._core.core.array\u001b[0;34m()\u001b[0m\n",
      "File \u001b[0;32mcupy/_core/core.pyx:2516\u001b[0m, in \u001b[0;36mcupy._core.core._array_default\u001b[0;34m()\u001b[0m\n",
      "File \u001b[0;32mcupy/_core/core.pyx:136\u001b[0m, in \u001b[0;36mcupy._core.core.ndarray.__new__\u001b[0;34m()\u001b[0m\n",
      "File \u001b[0;32mcupy/_core/core.pyx:224\u001b[0m, in \u001b[0;36mcupy._core.core._ndarray_base._init\u001b[0;34m()\u001b[0m\n",
      "File \u001b[0;32mcupy/cuda/memory.pyx:742\u001b[0m, in \u001b[0;36mcupy.cuda.memory.alloc\u001b[0;34m()\u001b[0m\n",
      "File \u001b[0;32mcupy/cuda/memory.pyx:1419\u001b[0m, in \u001b[0;36mcupy.cuda.memory.MemoryPool.malloc\u001b[0;34m()\u001b[0m\n",
      "File \u001b[0;32mcupy/cuda/memory.pyx:1440\u001b[0m, in \u001b[0;36mcupy.cuda.memory.MemoryPool.malloc\u001b[0;34m()\u001b[0m\n",
      "File \u001b[0;32mcupy/cuda/memory.pyx:1120\u001b[0m, in \u001b[0;36mcupy.cuda.memory.SingleDeviceMemoryPool.malloc\u001b[0;34m()\u001b[0m\n",
      "File \u001b[0;32mcupy/cuda/memory.pyx:1141\u001b[0m, in \u001b[0;36mcupy.cuda.memory.SingleDeviceMemoryPool._malloc\u001b[0;34m()\u001b[0m\n",
      "File \u001b[0;32mcupy/cuda/memory.pyx:1379\u001b[0m, in \u001b[0;36mcupy.cuda.memory.SingleDeviceMemoryPool._try_malloc\u001b[0;34m()\u001b[0m\n",
      "\u001b[0;31mOutOfMemoryError\u001b[0m: Out of memory allocating 165,376 bytes (allocated so far: 0 bytes)."
     ]
    }
   ],
   "source": [
    "assignments4, time4, mem4 = get_data(ad, num_cells = num_cells, use_gpu = True, use_sparse= True)"
   ]
  },
  {
   "cell_type": "code",
   "execution_count": null,
   "metadata": {},
   "outputs": [
    {
     "ename": "",
     "evalue": "",
     "output_type": "error",
     "traceback": [
      "\u001b[1;31mFailed to start the Kernel 'env_SEACells (Python 3.8.13)'. \n",
      "\u001b[1;31mView Jupyter <a href='command:jupyter.viewOutput'>log</a> for further details. ENOSPC: no space left on device, write"
     ]
    }
   ],
   "source": [
    "assignments, comparisons = all_versions(ad)"
   ]
  },
  {
   "cell_type": "markdown",
   "metadata": {},
   "source": [
    "## Comparisons "
   ]
  },
  {
   "cell_type": "code",
   "execution_count": null,
   "metadata": {},
   "outputs": [
    {
     "ename": "",
     "evalue": "",
     "output_type": "error",
     "traceback": [
      "\u001b[1;31mFailed to start the Kernel 'env_SEACells (Python 3.8.13)'. \n",
      "\u001b[1;31mView Jupyter <a href='command:jupyter.viewOutput'>log</a> for further details. ENOSPC: no space left on device, write"
     ]
    }
   ],
   "source": [
    "## Core parameters \n",
    "# number of SEACells\n",
    "n_SEACells = num_cells // 75\n",
    "build_kernel_on = 'X_pca' # key in ad.obsm to use for computing metacells\n",
    "                            # This would be replaced by 'X_svd' for ATAC data\n",
    "\n",
    "## Additional parameters\n",
    "n_waypoint_eigs = 10\n",
    "  \n",
    "# Initialize\n",
    "model1 = SEACells(ad, use_gpu=False, use_sparse=False, build_kernel_on=build_kernel_on, n_SEACells=n_SEACells, n_waypoint_eigs=n_waypoint_eigs, convergence_epsilon = 1e-5)\n",
    "model4 = SEACells(ad, use_gpu=True, use_sparse=True, build_kernel_on=build_kernel_on, n_SEACells=n_SEACells, n_waypoint_eigs=n_waypoint_eigs, convergence_epsilon = 1e-5)\n",
    "model3 = SEACells(ad, use_gpu=True, use_sparse=False, build_kernel_on=build_kernel_on, n_SEACells=n_SEACells, n_waypoint_eigs=n_waypoint_eigs, convergence_epsilon = 1e-5)"
   ]
  },
  {
   "cell_type": "code",
   "execution_count": null,
   "metadata": {},
   "outputs": [
    {
     "ename": "",
     "evalue": "",
     "output_type": "error",
     "traceback": [
      "\u001b[1;31mFailed to start the Kernel 'env_SEACells (Python 3.8.13)'. \n",
      "\u001b[1;31mView Jupyter <a href='command:jupyter.viewOutput'>log</a> for further details. ENOSPC: no space left on device, write"
     ]
    }
   ],
   "source": [
    "model1.construct_kernel_matrix() "
   ]
  },
  {
   "cell_type": "code",
   "execution_count": null,
   "metadata": {},
   "outputs": [
    {
     "ename": "",
     "evalue": "",
     "output_type": "error",
     "traceback": [
      "\u001b[1;31mFailed to start the Kernel 'env_SEACells (Python 3.8.13)'. \n",
      "\u001b[1;31mView Jupyter <a href='command:jupyter.viewOutput'>log</a> for further details. ENOSPC: no space left on device, write"
     ]
    }
   ],
   "source": [
    "K= model1.K \n",
    "kernel_matrix = model1.kernel_matrix "
   ]
  },
  {
   "cell_type": "code",
   "execution_count": null,
   "metadata": {},
   "outputs": [
    {
     "ename": "",
     "evalue": "",
     "output_type": "error",
     "traceback": [
      "\u001b[1;31mFailed to start the Kernel 'env_SEACells (Python 3.8.13)'. \n",
      "\u001b[1;31mView Jupyter <a href='command:jupyter.viewOutput'>log</a> for further details. ENOSPC: no space left on device, write"
     ]
    }
   ],
   "source": [
    "import scipy.sparse\n",
    "model3.K = model1.K\n",
    "# convert model1.K to the right type (cupyx.scipy.sparse._csr.csr_matrix) \n",
    "model4.K = cupyx.scipy.sparse.csr_matrix(model1.K)\n",
    "\n",
    "ic(type(model1.K))\n",
    "ic(type(model3.K)) \n",
    "ic(type(model4.K)) \n",
    "\n",
    "ic(model1.K.shape)\n",
    "ic(model3.K.shape)\n",
    "ic(model4.K.shape)"
   ]
  },
  {
   "cell_type": "code",
   "execution_count": null,
   "metadata": {},
   "outputs": [
    {
     "ename": "",
     "evalue": "",
     "output_type": "error",
     "traceback": [
      "\u001b[1;31mFailed to start the Kernel 'env_SEACells (Python 3.8.13)'. \n",
      "\u001b[1;31mView Jupyter <a href='command:jupyter.viewOutput'>log</a> for further details. ENOSPC: no space left on device, write"
     ]
    }
   ],
   "source": [
    "import scipy\n",
    "\n",
    "model3.kernel_matrix = model1.kernel_matrix \n",
    "model4.kernel_matrix = cupyx.scipy.sparse.csr_matrix(model1.kernel_matrix)\n",
    "\n",
    "\n",
    "ic(type(model1.kernel_matrix))\n",
    "ic(type(model3.kernel_matrix)) \n",
    "ic(type(model4.kernel_matrix)) \n",
    "\n",
    "ic(model1.kernel_matrix.shape)\n",
    "ic(model3.kernel_matrix.shape)\n",
    "ic(model4.kernel_matrix.shape)"
   ]
  },
  {
   "cell_type": "code",
   "execution_count": null,
   "metadata": {},
   "outputs": [
    {
     "ename": "",
     "evalue": "",
     "output_type": "error",
     "traceback": [
      "\u001b[1;31mFailed to start the Kernel 'env_SEACells (Python 3.8.13)'. \n",
      "\u001b[1;31mView Jupyter <a href='command:jupyter.viewOutput'>log</a> for further details. ENOSPC: no space left on device, write"
     ]
    }
   ],
   "source": [
    "model1.initialize_archetypes()"
   ]
  },
  {
   "cell_type": "code",
   "execution_count": null,
   "metadata": {},
   "outputs": [
    {
     "ename": "",
     "evalue": "",
     "output_type": "error",
     "traceback": [
      "\u001b[1;31mFailed to start the Kernel 'env_SEACells (Python 3.8.13)'. \n",
      "\u001b[1;31mView Jupyter <a href='command:jupyter.viewOutput'>log</a> for further details. ENOSPC: no space left on device, write"
     ]
    }
   ],
   "source": [
    "model3.archetypes = model1.archetypes \n",
    "model4.archetypes = cp.array(model1.archetypes)\n",
    "\n",
    "ic(model1.archetypes.shape)\n",
    "ic(model3.archetypes.shape)\n",
    "ic(model4.archetypes.shape)\n",
    "\n",
    "ic(type(model1.archetypes))\n",
    "ic(type(model3.archetypes))\n",
    "ic(type(model4.archetypes))\n"
   ]
  },
  {
   "cell_type": "code",
   "execution_count": null,
   "metadata": {},
   "outputs": [
    {
     "ename": "",
     "evalue": "",
     "output_type": "error",
     "traceback": [
      "\u001b[1;31mFailed to start the Kernel 'env_SEACells (Python 3.8.13)'. \n",
      "\u001b[1;31mView Jupyter <a href='command:jupyter.viewOutput'>log</a> for further details. ENOSPC: no space left on device, write"
     ]
    }
   ],
   "source": [
    "model1.initialize()\n",
    "ic(model1.archetypes.shape) \n",
    "ic(type(model1.archetypes)) \n",
    "\n",
    "ic(model1.k)\n",
    "ic(type(model1.k))\n",
    "\n",
    "ic(model1.B0.shape)\n",
    "ic(type(model1.B0))\n",
    "\n",
    "ic(model1.A0.shape)\n",
    "ic(type(model1.A0))\n",
    "\n",
    "ic(model1.A_.shape)\n",
    "ic(type(model1.A_)) \n",
    "\n",
    "ic(model1.B_.shape)\n",
    "ic(type(model1.B_))\n",
    "\n",
    "ic(model1.convergence_threshold)\n",
    "ic(type(model1.convergence_threshold))"
   ]
  },
  {
   "cell_type": "code",
   "execution_count": null,
   "metadata": {},
   "outputs": [
    {
     "ename": "",
     "evalue": "",
     "output_type": "error",
     "traceback": [
      "\u001b[1;31mFailed to start the Kernel 'env_SEACells (Python 3.8.13)'. \n",
      "\u001b[1;31mView Jupyter <a href='command:jupyter.viewOutput'>log</a> for further details. ENOSPC: no space left on device, write"
     ]
    }
   ],
   "source": [
    "model3.initialize()\n",
    "ic(model3.archetypes.shape)\n",
    "ic(type(model3.archetypes))\n",
    "\n",
    "ic(model3.k)\n",
    "ic(type(model3.k))\n",
    "\n",
    "ic(model3.B0.shape)\n",
    "ic(type(model3.B0))\n",
    "\n",
    "ic(model3.A0.shape)\n",
    "ic(type(model3.A0))\n",
    "\n",
    "ic(model3.A_.shape)\n",
    "ic(type(model3.A_))\n",
    "\n",
    "ic(model3.B_.shape)\n",
    "ic(type(model3.B_))\n",
    "\n",
    "ic(model3.convergence_threshold)\n",
    "ic(type(model3.convergence_threshold))"
   ]
  },
  {
   "cell_type": "code",
   "execution_count": null,
   "metadata": {},
   "outputs": [
    {
     "ename": "",
     "evalue": "",
     "output_type": "error",
     "traceback": [
      "\u001b[1;31mFailed to start the Kernel 'env_SEACells (Python 3.8.13)'. \n",
      "\u001b[1;31mView Jupyter <a href='command:jupyter.viewOutput'>log</a> for further details. ENOSPC: no space left on device, write"
     ]
    }
   ],
   "source": [
    "model4.initialize() \n",
    "ic(model4.archetypes.shape)\n",
    "ic(type(model4.archetypes))\n",
    "\n",
    "ic(model4.k)\n",
    "ic(type(model4.k))\n",
    "\n",
    "ic(model4.B0.shape)\n",
    "ic(type(model4.B0))\n",
    "\n",
    "ic(model4.A0.shape)\n",
    "ic(type(model4.A0))\n",
    "\n",
    "ic(model4.A_.shape)\n",
    "ic(type(model4.A_))\n",
    "\n",
    "ic(model4.B_.shape)\n",
    "ic(type(model4.B_))\n",
    "\n",
    "ic(model4.convergence_threshold)\n",
    "ic(type(model4.convergence_threshold))"
   ]
  },
  {
   "cell_type": "code",
   "execution_count": null,
   "metadata": {},
   "outputs": [
    {
     "ename": "",
     "evalue": "",
     "output_type": "error",
     "traceback": [
      "\u001b[1;31mFailed to start the Kernel 'env_SEACells (Python 3.8.13)'. \n",
      "\u001b[1;31mView Jupyter <a href='command:jupyter.viewOutput'>log</a> for further details. ENOSPC: no space left on device, write"
     ]
    }
   ],
   "source": [
    "# Now we need to compare \n",
    "\n",
    "ic(np.allclose(model1.archetypes, model3.archetypes))\n",
    "ic(np.allclose(model1.archetypes, model4.archetypes))\n",
    "\n",
    "ic(np.allclose(model1.k, model3.k))\n",
    "ic(np.allclose(model1.k, model4.k))\n",
    "\n",
    "ic(np.allclose(model1.B0, model3.B0))\n",
    "ic(np.allclose(model1.B0, model4.B0.get().todense()))\n",
    "\n",
    "ic(np.allclose(model1.A0, model3.A0))\n",
    "ic(np.allclose(model1.A0, model4.A0.get().todense()))\n",
    "\n",
    "ic(np.allclose(model1.A_, model3.A_))\n",
    "ic(np.allclose(model1.A_, model4.A_.get().todense()))\n",
    "\n",
    "ic(np.allclose(model1.B_, model3.B_))\n",
    "ic(np.allclose(model1.B_, model4.B_.get().todense()))"
   ]
  },
  {
   "cell_type": "code",
   "execution_count": null,
   "metadata": {},
   "outputs": [
    {
     "ename": "",
     "evalue": "",
     "output_type": "error",
     "traceback": [
      "\u001b[1;31mFailed to start the Kernel 'env_SEACells (Python 3.8.13)'. \n",
      "\u001b[1;31mView Jupyter <a href='command:jupyter.viewOutput'>log</a> for further details. ENOSPC: no space left on device, write"
     ]
    }
   ],
   "source": [
    "# Compare the A's of model 3 and model 4 \n",
    "ic(np.allclose(model3.A0, model4.A0.get().todense()))\n",
    "ic(np.allclose(model3.A_, model4.A_.get().todense()))"
   ]
  },
  {
   "cell_type": "code",
   "execution_count": null,
   "metadata": {},
   "outputs": [
    {
     "ename": "",
     "evalue": "",
     "output_type": "error",
     "traceback": [
      "\u001b[1;31mFailed to start the Kernel 'env_SEACells (Python 3.8.13)'. \n",
      "\u001b[1;31mView Jupyter <a href='command:jupyter.viewOutput'>log</a> for further details. ENOSPC: no space left on device, write"
     ]
    }
   ],
   "source": [
    "# Set A0 of model 3 and model 4 to be the same as model 1 \n",
    "model3.A0 = model1.A0 \n",
    "model4.A0 = cupyx.scipy.sparse.csr_matrix(cp.array(model1.A0))\n",
    "\n",
    "# check is close \n",
    "ic(np.allclose(model1.A0, model3.A0)) \n",
    "ic(np.allclose(model1.A0, model4.A0.get().todense()))"
   ]
  },
  {
   "cell_type": "code",
   "execution_count": null,
   "metadata": {},
   "outputs": [
    {
     "ename": "",
     "evalue": "",
     "output_type": "error",
     "traceback": [
      "\u001b[1;31mFailed to start the Kernel 'env_SEACells (Python 3.8.13)'. \n",
      "\u001b[1;31mView Jupyter <a href='command:jupyter.viewOutput'>log</a> for further details. ENOSPC: no space left on device, write"
     ]
    }
   ],
   "source": [
    "model3.A_ = model3._updateA(model3.B0, model3.A0)\n",
    "model4.A_ = model4._updateA(model4.B0, model4.A0)\n",
    "\n",
    "# Check is close \n",
    "ic(np.allclose(model1.A_, model3.A_)) \n",
    "ic(np.allclose(model1.A_, model4.A_.get().todense()))"
   ]
  },
  {
   "cell_type": "code",
   "execution_count": null,
   "metadata": {},
   "outputs": [
    {
     "ename": "",
     "evalue": "",
     "output_type": "error",
     "traceback": [
      "\u001b[1;31mFailed to start the Kernel 'env_SEACells (Python 3.8.13)'. \n",
      "\u001b[1;31mView Jupyter <a href='command:jupyter.viewOutput'>log</a> for further details. ENOSPC: no space left on device, write"
     ]
    }
   ],
   "source": [
    "# Double check on B_ \n",
    "\n",
    "ic(np.allclose(model1.B_, model3.B_)) \n",
    "ic(np.allclose(model1.B_, model4.B_.get().todense()))"
   ]
  },
  {
   "cell_type": "code",
   "execution_count": null,
   "metadata": {},
   "outputs": [
    {
     "ename": "",
     "evalue": "",
     "output_type": "error",
     "traceback": [
      "\u001b[1;31mFailed to start the Kernel 'env_SEACells (Python 3.8.13)'. \n",
      "\u001b[1;31mView Jupyter <a href='command:jupyter.viewOutput'>log</a> for further details. ENOSPC: no space left on device, write"
     ]
    }
   ],
   "source": [
    "RSS3 = model3.compute_RSS(model3.A_, model3.B_)\n",
    "RSS4 = model4.compute_RSS(model4.A_, model4.B_)\n",
    "RSS1 = model1.compute_RSS(model1.A_, model1.B_)\n",
    "\n",
    "ic(type(RSS1)) \n",
    "ic(type(RSS3)) \n",
    "ic(type(RSS4)) \n",
    "\n",
    "ic(RSS1.shape) \n",
    "ic(RSS3.shape) \n",
    "ic(RSS4.shape)\n",
    "\n",
    "ic(np.allclose(RSS1, RSS3)) \n",
    "ic(np.allclose(RSS1, RSS4.get()))"
   ]
  },
  {
   "cell_type": "code",
   "execution_count": null,
   "metadata": {},
   "outputs": [
    {
     "ename": "",
     "evalue": "",
     "output_type": "error",
     "traceback": [
      "\u001b[1;31mFailed to start the Kernel 'env_SEACells (Python 3.8.13)'. \n",
      "\u001b[1;31mView Jupyter <a href='command:jupyter.viewOutput'>log</a> for further details. ENOSPC: no space left on device, write"
     ]
    }
   ],
   "source": [
    "import scipy.sparse\n",
    "\n",
    "reconstruction1 = model1.compute_reconstruction(model1.A_, model1.B_)\n",
    "reconstruction4 = model4.compute_reconstruction(cupyx.scipy.sparse.csr_matrix(cp.array(model1.A_)), cupyx.scipy.sparse.csr_matrix(cp.array(model1.B_)))\n",
    "reconstruction3 = model3.compute_reconstruction(model3.A_, model3.B_)\n",
    "\n",
    "ic(type(reconstruction1)) \n",
    "ic(type(reconstruction3))\n",
    "ic(type(reconstruction4)) \n",
    "\n",
    "ic(reconstruction1.shape) \n",
    "ic(reconstruction3.shape)\n",
    "ic(reconstruction4.shape)\n",
    "\n",
    "ic(np.allclose(reconstruction1, reconstruction3))\n",
    "ic(np.allclose(reconstruction1, reconstruction4.get().todense()))"
   ]
  },
  {
   "cell_type": "code",
   "execution_count": null,
   "metadata": {},
   "outputs": [
    {
     "ename": "",
     "evalue": "",
     "output_type": "error",
     "traceback": [
      "\u001b[1;31mFailed to start the Kernel 'env_SEACells (Python 3.8.13)'. \n",
      "\u001b[1;31mView Jupyter <a href='command:jupyter.viewOutput'>log</a> for further details. ENOSPC: no space left on device, write"
     ]
    }
   ],
   "source": [
    "import scipy.sparse\n",
    "\n",
    "diff1 = model1.kernel_matrix - reconstruction1 \n",
    "diff3 = model3.kernel_matrix - reconstruction3\n",
    "ic(type(model1.kernel_matrix) )\n",
    "\n",
    "\n",
    "diff4 = cupyx.scipy.sparse.csr_matrix(model1.kernel_matrix) - reconstruction4 \n",
    "\n",
    "ic(type(diff1)) \n",
    "ic(type(diff3))\n",
    "ic(type(diff4)) \n",
    "\n",
    "ic(diff1.shape) \n",
    "ic(diff3.shape )\n",
    "ic(diff4.shape) \n",
    "\n",
    "ic(np.allclose(diff1, diff3))\n",
    "ic(np.allclose(diff1, diff4.get().todense()))"
   ]
  },
  {
   "cell_type": "code",
   "execution_count": null,
   "metadata": {},
   "outputs": [
    {
     "ename": "",
     "evalue": "",
     "output_type": "error",
     "traceback": [
      "\u001b[1;31mFailed to start the Kernel 'env_SEACells (Python 3.8.13)'. \n",
      "\u001b[1;31mView Jupyter <a href='command:jupyter.viewOutput'>log</a> for further details. ENOSPC: no space left on device, write"
     ]
    }
   ],
   "source": [
    "# take the norm of the difference \n",
    "import scipy.sparse.linalg\n",
    "\n",
    "norm1 = np.linalg.norm(diff1) \n",
    "norm3 = np.linalg.norm(diff3)\n",
    "norm4 = np.linalg.norm(diff4.get().todense())\n",
    "norm4 = cp.linalg.norm(diff4)\n",
    "\n",
    "ic(type(norm1)) \n",
    "ic(type(norm3)) \n",
    "ic(type(norm4)) \n",
    "\n",
    "ic(norm1)\n",
    "ic(norm3)\n",
    "ic(norm4)"
   ]
  }
 ],
 "metadata": {
  "kernelspec": {
   "display_name": "Python 3",
   "language": "python",
   "name": "python3"
  },
  "language_info": {
   "codemirror_mode": {
    "name": "ipython",
    "version": 3
   },
   "file_extension": ".py",
   "mimetype": "text/x-python",
   "name": "python",
   "nbconvert_exporter": "python",
   "pygments_lexer": "ipython3",
   "version": "3.9.12"
  },
  "orig_nbformat": 4
 },
 "nbformat": 4,
 "nbformat_minor": 2
}
