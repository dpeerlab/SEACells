{
 "cells": [
  {
   "cell_type": "markdown",
   "metadata": {},
   "source": [
    "# SEACells Versions"
   ]
  },
  {
   "cell_type": "markdown",
   "metadata": {},
   "source": [
    "### Imports"
   ]
  },
  {
   "cell_type": "code",
   "execution_count": 21,
   "metadata": {},
   "outputs": [],
   "source": [
    "import tracemalloc\n",
    "import time\n",
    "import scanpy as sc\n",
    "import pandas as pd"
   ]
  },
  {
   "cell_type": "code",
   "execution_count": 22,
   "metadata": {},
   "outputs": [],
   "source": [
    "import cupy as cp\n",
    "import cupyx\n",
    "import numpy as np\n",
    "from tqdm import tqdm\n",
    "\n",
    "from icecream import ic"
   ]
  },
  {
   "cell_type": "code",
   "execution_count": 23,
   "metadata": {},
   "outputs": [],
   "source": [
    "# from importlib import reload\n",
    "from SEACells.core import SEACells\n",
    "# reload(SEACells)"
   ]
  },
  {
   "cell_type": "markdown",
   "metadata": {},
   "source": [
    "### Initialization"
   ]
  },
  {
   "cell_type": "code",
   "execution_count": 24,
   "metadata": {},
   "outputs": [
    {
     "name": "stderr",
     "output_type": "stream",
     "text": [
      "ic| cp.get_default_memory_pool(): <cupy.cuda.memory.MemoryPool object at 0x7f5864ed0c10>\n"
     ]
    },
    {
     "name": "stderr",
     "output_type": "stream",
     "text": [
      "ic| cp.get_default_memory_pool().get_limit(): 0\n",
      "ic| total_memory_bytes: 0\n",
      "ic| free_memory_bytes: 966144\n"
     ]
    },
    {
     "data": {
      "text/plain": [
       "966144"
      ]
     },
     "execution_count": 24,
     "metadata": {},
     "output_type": "execute_result"
    }
   ],
   "source": [
    "total_memory_bytes = cp.get_default_memory_pool().get_limit()\n",
    "free_memory_bytes = cp.get_default_memory_pool().free_bytes()\n",
    "\n",
    "ic(cp.get_default_memory_pool())\n",
    "ic(cp.get_default_memory_pool().get_limit())\n",
    "\n",
    "ic(total_memory_bytes)\n",
    "ic(free_memory_bytes)"
   ]
  },
  {
   "cell_type": "code",
   "execution_count": 25,
   "metadata": {},
   "outputs": [],
   "source": [
    "ad = sc.read(\"/home/aparna/DATA/aparnakumar/50000_cells/mouse_marioni_50k.h5ad\") \n",
    "num_cells = 5000\n",
    "ad = ad[:num_cells]    "
   ]
  },
  {
   "cell_type": "code",
   "execution_count": 26,
   "metadata": {},
   "outputs": [],
   "source": [
    "def get_data(ad, num_cells, use_gpu, use_sparse): \n",
    "  ## User defined parameters\n",
    "\n",
    "  ## Core parameters \n",
    "  # number of SEACells\n",
    "  n_SEACells = num_cells // 75\n",
    "  build_kernel_on = 'X_pca' # key in ad.obsm to use for computing metacells\n",
    "                            # This would be replaced by 'X_svd' for ATAC data\n",
    "\n",
    "  ## Additional parameters\n",
    "  n_waypoint_eigs = 10 # Number of eigenvalues to consider when initializing metacells\n",
    "\n",
    "  model = SEACells(ad, \n",
    "                                 use_gpu=use_gpu, \n",
    "                                 use_sparse=use_sparse, \n",
    "                                 build_kernel_on=build_kernel_on, \n",
    "                                 n_SEACells=n_SEACells, \n",
    "                                 n_waypoint_eigs=n_waypoint_eigs,\n",
    "                                 convergence_epsilon = 1e-5)\n",
    "  model.construct_kernel_matrix()\n",
    "  model.initialize_archetypes()\n",
    "\n",
    "  start = time.time()\n",
    "  tracemalloc.start()\n",
    "\n",
    "  model.fit(min_iter=10, max_iter=150)\n",
    "\n",
    "  end = time.time()\n",
    "  tot_time = end - start\n",
    "\n",
    "  mem = tracemalloc.get_traced_memory()\n",
    "  tracemalloc.stop()\n",
    "\n",
    "  assignments = model.get_hard_assignments()\n",
    "\n",
    "  # Get the final A and B matrices \n",
    "  A = model.A_\n",
    "  B = model.B_\n",
    "\n",
    "  # Get the sparsity dataframe\n",
    "  sparsity = model.sparsity_ratios\n",
    "  \n",
    "  return assignments, tot_time, mem, A, B, sparsity"
   ]
  },
  {
   "cell_type": "code",
   "execution_count": 27,
   "metadata": {},
   "outputs": [],
   "source": [
    "def all_versions(ad):\n",
    "    # assignments1, time1, mem1 = (0,0,[0, 0]) #get_data(ad, num_cells = num_cells, use_gpu = False, use_sparse=False)\n",
    "    # assignments2, time2, mem2 = (0, 0, [0, 0])#get_data(ad, num_cells = num_cells, use_gpu = False, use_sparse= True)\n",
    "    # assignments3, time3, mem3 = (0, 0, [0, 0])#get_data(ad, num_cells = num_cells, use_gpu = True, use_sparse=False)\n",
    "    # # assignments3, time3, mem3 = get_data(ad, num_cells = num_cells, use_gpu = True, use_sparse=False)\n",
    "    # assignments4, time4, mem4 = get_data(ad, num_cells = num_cells, use_gpu = True, use_sparse= True)\n",
    "\n",
    "    # # Write the assignments\n",
    "    # assignments = [assignments1, assignments2, assignments3, assignments4] \n",
    "    \n",
    "    # # Write the time and memory data\n",
    "    # comparisons = pd.DataFrame({'version': ['v1: no GPU, no sparse', 'v2:  no GPU, yes sparse', 'v3: yes GPU, no sparse', 'v4: yes GPU, yes sparse'], \n",
    "    #                        'time (s)': [time1, time2, time3, time4],\n",
    "    #                        'peak memory': [mem1[1], mem2[1], mem3[1], mem4[1]]})\n",
    "    \n",
    "    # return assignments, comparisons\n",
    "\n",
    "    assignments4, time4, mem4, A, B, sparsity = get_data(ad, num_cells = num_cells, use_gpu=True, use_sparse=True)\n",
    "    # If successful, write the time and memory a file \"{num_cells}_cells/v4_{timestamp}.txt\"\n",
    "    # Get the timestamp as a number \n",
    "    timestamp = time.time()\n",
    "\n",
    "    # Write the time and memory data \n",
    "    with open(f\"results2/{num_cells}_cells/v4_{timestamp}.txt\", \"w\") as f: \n",
    "        f.write(f\"Time: {time4}\\n\")\n",
    "        f.write(f\"Memory: {mem4}\\n\")\n",
    "\n",
    "    # Write the A and B matrices \n",
    "    np.save(f\"results2/{num_cells}_cells/A_v4_{timestamp}.npy\", A)\n",
    "    np.save(f\"results2/{num_cells}_cells/B_v4_{timestamp}.npy\", B)\n",
    "    \n",
    "    # Write the sparsity dataframe \n",
    "    sparsity.to_csv(f\"results2/{num_cells}_cells/sparsity_v4_{timestamp}.csv\")\n",
    "\n",
    "    # Clear the GPU memory\n",
    "    cp.get_default_memory_pool().free_all_blocks()\n",
    "\n",
    "    assignments2, time2, mem2, A, B, sparsity = get_data(ad, num_cells = num_cells, use_gpu=False, use_sparse=True)\n",
    "    # If successful, write the time and memory a file \"{num_cells}_cells/v4_{timestamp}.txt\"\n",
    "    # Get the timestamp as a number \n",
    "\n",
    "    timestamp = time.time()\n",
    "\n",
    "    # Write the time and memory data \n",
    "    with open(f\"results2/{num_cells}_cells/v2_{timestamp}.txt\", \"w\") as f: \n",
    "        f.write(f\"Time: {time2}\\n\")\n",
    "        f.write(f\"Memory: {mem2}\\n\")\n",
    "\n",
    "    # Write the A and B matrixes \n",
    "    np.save(f\"results2/{num_cells}_cells/A_v2_{timestamp}.npy\", A)\n",
    "    np.save(f\"results2/{num_cells}_cells/B_v2_{timestamp}.npy\", B)\n",
    "\n",
    "    # Write the sparsity dataframe \n",
    "    sparsity.to_csv(f\"results2/{num_cells}_cells/sparsity_v2_{timestamp}.csv\")"
   ]
  },
  {
   "cell_type": "code",
   "execution_count": 28,
   "metadata": {},
   "outputs": [
    {
     "name": "stdout",
     "output_type": "stream",
     "text": [
      "SPARSE AND GPU\n",
      "TRYING SEACellsGPU\n",
      "Welcome to SEACells GPU!\n",
      "build_graph.SEACellGraph completed\n",
      "Computing kNN graph using scanpy NN ...\n",
      "Computing radius for adaptive bandwidth kernel...\n"
     ]
    },
    {
     "data": {
      "application/vnd.jupyter.widget-view+json": {
       "model_id": "427d665e7aa74f0eae72ceba09f7218f",
       "version_major": 2,
       "version_minor": 0
      },
      "text/plain": [
       "HBox(children=(FloatProgress(value=0.0, max=5000.0), HTML(value='')))"
      ]
     },
     "metadata": {},
     "output_type": "display_data"
    },
    {
     "name": "stdout",
     "output_type": "stream",
     "text": [
      "\n",
      "Making graph symmetric...\n",
      "Parameter graph_construction = union being used to build KNN graph...\n",
      "Computing RBF kernel...\n"
     ]
    },
    {
     "data": {
      "application/vnd.jupyter.widget-view+json": {
       "model_id": "452df7b5f78d420e8710a7c5909f1995",
       "version_major": 2,
       "version_minor": 0
      },
      "text/plain": [
       "HBox(children=(FloatProgress(value=0.0, max=5000.0), HTML(value='')))"
      ]
     },
     "metadata": {},
     "output_type": "display_data"
    },
    {
     "name": "stdout",
     "output_type": "stream",
     "text": [
      "\n",
      "Building similarity LIL matrix...\n"
     ]
    },
    {
     "data": {
      "application/vnd.jupyter.widget-view+json": {
       "model_id": "c5a467c1be27457f880525ae19b70acc",
       "version_major": 2,
       "version_minor": 0
      },
      "text/plain": [
       "HBox(children=(FloatProgress(value=0.0, max=5000.0), HTML(value='')))"
      ]
     },
     "metadata": {},
     "output_type": "display_data"
    },
    {
     "name": "stdout",
     "output_type": "stream",
     "text": [
      "\n",
      "Constructing CSR matrix...\n",
      "Building kernel on X_pca\n",
      "Computing diffusion components from X_pca for waypoint initialization ... \n",
      "Determing nearest neighbor graph...\n"
     ]
    },
    {
     "name": "stderr",
     "output_type": "stream",
     "text": [
      "  0%|          | 0/18 [00:00<?, ?it/s]/home/aparna/miniconda/envs/env_SEACells/lib/python3.8/site-packages/cupyx/scipy/sparse/_compressed.py:545: SparseEfficiencyWarning: Changing the sparsity structure of a csr_matrix is expensive.\n",
      "  warnings.warn('Changing the sparsity structure of a '\n",
      " 17%|█▋        | 3/18 [00:00<00:00, 26.77it/s]"
     ]
    },
    {
     "name": "stdout",
     "output_type": "stream",
     "text": [
      "Done.\n",
      "Sampling waypoints ...\n",
      "Done.\n",
      "Selecting 58 cells from waypoint initialization.\n",
      "Initializing residual matrix using greedy column selection\n",
      "Initializing f and g...\n"
     ]
    },
    {
     "name": "stderr",
     "output_type": "stream",
     "text": [
      "100%|██████████| 18/18 [00:00<00:00, 32.51it/s]\n"
     ]
    },
    {
     "name": "stdout",
     "output_type": "stream",
     "text": [
      "Selecting 8 cells from greedy initialization.\n",
      "Randomly initialized A matrix.\n"
     ]
    },
    {
     "name": "stderr",
     "output_type": "stream",
     "text": [
      "/data/aparna/aparnakumar/github clone/SEACells/SEACells/gpu.py:650: FutureWarning: The frame.append method is deprecated and will be removed from pandas in a future version. Use pandas.concat instead.\n",
      "  self.sparsity_ratios = self.sparsity_ratios.append({\"A\": A.nnz / (A.shape[0]*A.shape[1]),\n"
     ]
    },
    {
     "name": "stdout",
     "output_type": "stream",
     "text": [
      "Convergence threshold set to 0.0012460911409002762 based on epsilon = 1e-05\n",
      "Starting iteration 1.\n",
      "Completed iteration 1.\n"
     ]
    },
    {
     "name": "stderr",
     "output_type": "stream",
     "text": [
      "/data/aparna/aparnakumar/github clone/SEACells/SEACells/gpu.py:650: FutureWarning: The frame.append method is deprecated and will be removed from pandas in a future version. Use pandas.concat instead.\n",
      "  self.sparsity_ratios = self.sparsity_ratios.append({\"A\": A.nnz / (A.shape[0]*A.shape[1]),\n",
      "/data/aparna/aparnakumar/github clone/SEACells/SEACells/gpu.py:650: FutureWarning: The frame.append method is deprecated and will be removed from pandas in a future version. Use pandas.concat instead.\n",
      "  self.sparsity_ratios = self.sparsity_ratios.append({\"A\": A.nnz / (A.shape[0]*A.shape[1]),\n",
      "/data/aparna/aparnakumar/github clone/SEACells/SEACells/gpu.py:650: FutureWarning: The frame.append method is deprecated and will be removed from pandas in a future version. Use pandas.concat instead.\n",
      "  self.sparsity_ratios = self.sparsity_ratios.append({\"A\": A.nnz / (A.shape[0]*A.shape[1]),\n"
     ]
    },
    {
     "name": "stdout",
     "output_type": "stream",
     "text": [
      "Starting iteration 10.\n",
      "Completed iteration 10.\n"
     ]
    },
    {
     "name": "stderr",
     "output_type": "stream",
     "text": [
      "/data/aparna/aparnakumar/github clone/SEACells/SEACells/gpu.py:650: FutureWarning: The frame.append method is deprecated and will be removed from pandas in a future version. Use pandas.concat instead.\n",
      "  self.sparsity_ratios = self.sparsity_ratios.append({\"A\": A.nnz / (A.shape[0]*A.shape[1]),\n",
      "/data/aparna/aparnakumar/github clone/SEACells/SEACells/gpu.py:650: FutureWarning: The frame.append method is deprecated and will be removed from pandas in a future version. Use pandas.concat instead.\n",
      "  self.sparsity_ratios = self.sparsity_ratios.append({\"A\": A.nnz / (A.shape[0]*A.shape[1]),\n",
      "/data/aparna/aparnakumar/github clone/SEACells/SEACells/gpu.py:650: FutureWarning: The frame.append method is deprecated and will be removed from pandas in a future version. Use pandas.concat instead.\n",
      "  self.sparsity_ratios = self.sparsity_ratios.append({\"A\": A.nnz / (A.shape[0]*A.shape[1]),\n"
     ]
    },
    {
     "name": "stdout",
     "output_type": "stream",
     "text": [
      "Starting iteration 20.\n",
      "Completed iteration 20.\n"
     ]
    },
    {
     "name": "stderr",
     "output_type": "stream",
     "text": [
      "/data/aparna/aparnakumar/github clone/SEACells/SEACells/gpu.py:650: FutureWarning: The frame.append method is deprecated and will be removed from pandas in a future version. Use pandas.concat instead.\n",
      "  self.sparsity_ratios = self.sparsity_ratios.append({\"A\": A.nnz / (A.shape[0]*A.shape[1]),\n",
      "/data/aparna/aparnakumar/github clone/SEACells/SEACells/gpu.py:650: FutureWarning: The frame.append method is deprecated and will be removed from pandas in a future version. Use pandas.concat instead.\n",
      "  self.sparsity_ratios = self.sparsity_ratios.append({\"A\": A.nnz / (A.shape[0]*A.shape[1]),\n",
      "/data/aparna/aparnakumar/github clone/SEACells/SEACells/gpu.py:650: FutureWarning: The frame.append method is deprecated and will be removed from pandas in a future version. Use pandas.concat instead.\n",
      "  self.sparsity_ratios = self.sparsity_ratios.append({\"A\": A.nnz / (A.shape[0]*A.shape[1]),\n"
     ]
    },
    {
     "name": "stdout",
     "output_type": "stream",
     "text": [
      "Starting iteration 30.\n"
     ]
    },
    {
     "name": "stderr",
     "output_type": "stream",
     "text": [
      "/data/aparna/aparnakumar/github clone/SEACells/SEACells/gpu.py:650: FutureWarning: The frame.append method is deprecated and will be removed from pandas in a future version. Use pandas.concat instead.\n",
      "  self.sparsity_ratios = self.sparsity_ratios.append({\"A\": A.nnz / (A.shape[0]*A.shape[1]),\n"
     ]
    },
    {
     "name": "stdout",
     "output_type": "stream",
     "text": [
      "Completed iteration 30.\n"
     ]
    },
    {
     "name": "stderr",
     "output_type": "stream",
     "text": [
      "/data/aparna/aparnakumar/github clone/SEACells/SEACells/gpu.py:650: FutureWarning: The frame.append method is deprecated and will be removed from pandas in a future version. Use pandas.concat instead.\n",
      "  self.sparsity_ratios = self.sparsity_ratios.append({\"A\": A.nnz / (A.shape[0]*A.shape[1]),\n",
      "/data/aparna/aparnakumar/github clone/SEACells/SEACells/gpu.py:650: FutureWarning: The frame.append method is deprecated and will be removed from pandas in a future version. Use pandas.concat instead.\n",
      "  self.sparsity_ratios = self.sparsity_ratios.append({\"A\": A.nnz / (A.shape[0]*A.shape[1]),\n",
      "/data/aparna/aparnakumar/github clone/SEACells/SEACells/gpu.py:650: FutureWarning: The frame.append method is deprecated and will be removed from pandas in a future version. Use pandas.concat instead.\n",
      "  self.sparsity_ratios = self.sparsity_ratios.append({\"A\": A.nnz / (A.shape[0]*A.shape[1]),\n"
     ]
    },
    {
     "name": "stdout",
     "output_type": "stream",
     "text": [
      "Starting iteration 40.\n",
      "Completed iteration 40.\n"
     ]
    },
    {
     "name": "stderr",
     "output_type": "stream",
     "text": [
      "/data/aparna/aparnakumar/github clone/SEACells/SEACells/gpu.py:650: FutureWarning: The frame.append method is deprecated and will be removed from pandas in a future version. Use pandas.concat instead.\n",
      "  self.sparsity_ratios = self.sparsity_ratios.append({\"A\": A.nnz / (A.shape[0]*A.shape[1]),\n",
      "/data/aparna/aparnakumar/github clone/SEACells/SEACells/gpu.py:650: FutureWarning: The frame.append method is deprecated and will be removed from pandas in a future version. Use pandas.concat instead.\n",
      "  self.sparsity_ratios = self.sparsity_ratios.append({\"A\": A.nnz / (A.shape[0]*A.shape[1]),\n",
      "/data/aparna/aparnakumar/github clone/SEACells/SEACells/gpu.py:650: FutureWarning: The frame.append method is deprecated and will be removed from pandas in a future version. Use pandas.concat instead.\n",
      "  self.sparsity_ratios = self.sparsity_ratios.append({\"A\": A.nnz / (A.shape[0]*A.shape[1]),\n"
     ]
    },
    {
     "name": "stdout",
     "output_type": "stream",
     "text": [
      "Starting iteration 50.\n",
      "Completed iteration 50.\n"
     ]
    },
    {
     "name": "stderr",
     "output_type": "stream",
     "text": [
      "/data/aparna/aparnakumar/github clone/SEACells/SEACells/gpu.py:650: FutureWarning: The frame.append method is deprecated and will be removed from pandas in a future version. Use pandas.concat instead.\n",
      "  self.sparsity_ratios = self.sparsity_ratios.append({\"A\": A.nnz / (A.shape[0]*A.shape[1]),\n",
      "/data/aparna/aparnakumar/github clone/SEACells/SEACells/gpu.py:650: FutureWarning: The frame.append method is deprecated and will be removed from pandas in a future version. Use pandas.concat instead.\n",
      "  self.sparsity_ratios = self.sparsity_ratios.append({\"A\": A.nnz / (A.shape[0]*A.shape[1]),\n",
      "/data/aparna/aparnakumar/github clone/SEACells/SEACells/gpu.py:650: FutureWarning: The frame.append method is deprecated and will be removed from pandas in a future version. Use pandas.concat instead.\n",
      "  self.sparsity_ratios = self.sparsity_ratios.append({\"A\": A.nnz / (A.shape[0]*A.shape[1]),\n"
     ]
    },
    {
     "name": "stdout",
     "output_type": "stream",
     "text": [
      "Starting iteration 60.\n"
     ]
    },
    {
     "name": "stderr",
     "output_type": "stream",
     "text": [
      "/data/aparna/aparnakumar/github clone/SEACells/SEACells/gpu.py:650: FutureWarning: The frame.append method is deprecated and will be removed from pandas in a future version. Use pandas.concat instead.\n",
      "  self.sparsity_ratios = self.sparsity_ratios.append({\"A\": A.nnz / (A.shape[0]*A.shape[1]),\n"
     ]
    },
    {
     "name": "stdout",
     "output_type": "stream",
     "text": [
      "Completed iteration 60.\n"
     ]
    },
    {
     "name": "stderr",
     "output_type": "stream",
     "text": [
      "/data/aparna/aparnakumar/github clone/SEACells/SEACells/gpu.py:650: FutureWarning: The frame.append method is deprecated and will be removed from pandas in a future version. Use pandas.concat instead.\n",
      "  self.sparsity_ratios = self.sparsity_ratios.append({\"A\": A.nnz / (A.shape[0]*A.shape[1]),\n",
      "/data/aparna/aparnakumar/github clone/SEACells/SEACells/gpu.py:650: FutureWarning: The frame.append method is deprecated and will be removed from pandas in a future version. Use pandas.concat instead.\n",
      "  self.sparsity_ratios = self.sparsity_ratios.append({\"A\": A.nnz / (A.shape[0]*A.shape[1]),\n",
      "/data/aparna/aparnakumar/github clone/SEACells/SEACells/gpu.py:650: FutureWarning: The frame.append method is deprecated and will be removed from pandas in a future version. Use pandas.concat instead.\n",
      "  self.sparsity_ratios = self.sparsity_ratios.append({\"A\": A.nnz / (A.shape[0]*A.shape[1]),\n"
     ]
    },
    {
     "name": "stdout",
     "output_type": "stream",
     "text": [
      "Starting iteration 70.\n",
      "Completed iteration 70.\n"
     ]
    },
    {
     "name": "stderr",
     "output_type": "stream",
     "text": [
      "/data/aparna/aparnakumar/github clone/SEACells/SEACells/gpu.py:650: FutureWarning: The frame.append method is deprecated and will be removed from pandas in a future version. Use pandas.concat instead.\n",
      "  self.sparsity_ratios = self.sparsity_ratios.append({\"A\": A.nnz / (A.shape[0]*A.shape[1]),\n",
      "/data/aparna/aparnakumar/github clone/SEACells/SEACells/gpu.py:650: FutureWarning: The frame.append method is deprecated and will be removed from pandas in a future version. Use pandas.concat instead.\n",
      "  self.sparsity_ratios = self.sparsity_ratios.append({\"A\": A.nnz / (A.shape[0]*A.shape[1]),\n",
      "/data/aparna/aparnakumar/github clone/SEACells/SEACells/gpu.py:650: FutureWarning: The frame.append method is deprecated and will be removed from pandas in a future version. Use pandas.concat instead.\n",
      "  self.sparsity_ratios = self.sparsity_ratios.append({\"A\": A.nnz / (A.shape[0]*A.shape[1]),\n"
     ]
    },
    {
     "name": "stdout",
     "output_type": "stream",
     "text": [
      "Converged after 78 iterations.\n",
      "SPARSE AND NOT GPU\n",
      "TRYING SEACellsCPU\n",
      "Welcome to SEACells!\n",
      "Computing kNN graph using scanpy NN ...\n",
      "Computing radius for adaptive bandwidth kernel...\n"
     ]
    },
    {
     "data": {
      "application/vnd.jupyter.widget-view+json": {
       "model_id": "7a252aac457e45f59721970d179c37c5",
       "version_major": 2,
       "version_minor": 0
      },
      "text/plain": [
       "HBox(children=(FloatProgress(value=0.0, max=5000.0), HTML(value='')))"
      ]
     },
     "metadata": {},
     "output_type": "display_data"
    },
    {
     "name": "stdout",
     "output_type": "stream",
     "text": [
      "\n",
      "Making graph symmetric...\n",
      "Parameter graph_construction = union being used to build KNN graph...\n",
      "Computing RBF kernel...\n"
     ]
    },
    {
     "data": {
      "application/vnd.jupyter.widget-view+json": {
       "model_id": "9c64655445504467a16e798798816955",
       "version_major": 2,
       "version_minor": 0
      },
      "text/plain": [
       "HBox(children=(FloatProgress(value=0.0, max=5000.0), HTML(value='')))"
      ]
     },
     "metadata": {},
     "output_type": "display_data"
    },
    {
     "name": "stdout",
     "output_type": "stream",
     "text": [
      "\n",
      "Building similarity LIL matrix...\n"
     ]
    },
    {
     "data": {
      "application/vnd.jupyter.widget-view+json": {
       "model_id": "227c3a5dab884892813c8f8fb7573474",
       "version_major": 2,
       "version_minor": 0
      },
      "text/plain": [
       "HBox(children=(FloatProgress(value=0.0, max=5000.0), HTML(value='')))"
      ]
     },
     "metadata": {},
     "output_type": "display_data"
    },
    {
     "name": "stdout",
     "output_type": "stream",
     "text": [
      "\n",
      "Constructing CSR matrix...\n",
      "Building kernel on X_pca\n",
      "Computing diffusion components from X_pca for waypoint initialization ... \n",
      "Determing nearest neighbor graph...\n"
     ]
    },
    {
     "name": "stderr",
     "output_type": "stream",
     "text": [
      " 48%|████▊     | 10/21 [00:00<00:00, 97.05it/s]"
     ]
    },
    {
     "name": "stdout",
     "output_type": "stream",
     "text": [
      "Done.\n",
      "Sampling waypoints ...\n",
      "Done.\n",
      "Selecting 55 cells from waypoint initialization.\n",
      "Initializing residual matrix using greedy column selection\n",
      "Initializing f and g...\n"
     ]
    },
    {
     "name": "stderr",
     "output_type": "stream",
     "text": [
      "100%|██████████| 21/21 [00:00<00:00, 102.50it/s]\n"
     ]
    },
    {
     "name": "stdout",
     "output_type": "stream",
     "text": [
      "Selecting 11 cells from greedy initialization.\n",
      "Randomly initialized A matrix.\n"
     ]
    },
    {
     "name": "stderr",
     "output_type": "stream",
     "text": [
      "/data/aparna/aparnakumar/github clone/SEACells/SEACells/cpu.py:524: FutureWarning: The frame.append method is deprecated and will be removed from pandas in a future version. Use pandas.concat instead.\n",
      "  self.sparsity_ratios = self.sparsity_ratios.append({\"A\": A.nnz / (A.shape[0]*A.shape[1]),\n"
     ]
    },
    {
     "name": "stdout",
     "output_type": "stream",
     "text": [
      "Setting convergence threshold at 0.00124\n",
      "Starting iteration 1.\n"
     ]
    },
    {
     "name": "stderr",
     "output_type": "stream",
     "text": [
      "/data/aparna/aparnakumar/github clone/SEACells/SEACells/cpu.py:524: FutureWarning: The frame.append method is deprecated and will be removed from pandas in a future version. Use pandas.concat instead.\n",
      "  self.sparsity_ratios = self.sparsity_ratios.append({\"A\": A.nnz / (A.shape[0]*A.shape[1]),\n"
     ]
    },
    {
     "name": "stdout",
     "output_type": "stream",
     "text": [
      "Completed iteration 1.\n"
     ]
    },
    {
     "name": "stderr",
     "output_type": "stream",
     "text": [
      "/data/aparna/aparnakumar/github clone/SEACells/SEACells/cpu.py:524: FutureWarning: The frame.append method is deprecated and will be removed from pandas in a future version. Use pandas.concat instead.\n",
      "  self.sparsity_ratios = self.sparsity_ratios.append({\"A\": A.nnz / (A.shape[0]*A.shape[1]),\n",
      "/data/aparna/aparnakumar/github clone/SEACells/SEACells/cpu.py:524: FutureWarning: The frame.append method is deprecated and will be removed from pandas in a future version. Use pandas.concat instead.\n",
      "  self.sparsity_ratios = self.sparsity_ratios.append({\"A\": A.nnz / (A.shape[0]*A.shape[1]),\n",
      "/data/aparna/aparnakumar/github clone/SEACells/SEACells/cpu.py:524: FutureWarning: The frame.append method is deprecated and will be removed from pandas in a future version. Use pandas.concat instead.\n",
      "  self.sparsity_ratios = self.sparsity_ratios.append({\"A\": A.nnz / (A.shape[0]*A.shape[1]),\n",
      "/data/aparna/aparnakumar/github clone/SEACells/SEACells/cpu.py:524: FutureWarning: The frame.append method is deprecated and will be removed from pandas in a future version. Use pandas.concat instead.\n",
      "  self.sparsity_ratios = self.sparsity_ratios.append({\"A\": A.nnz / (A.shape[0]*A.shape[1]),\n",
      "/data/aparna/aparnakumar/github clone/SEACells/SEACells/cpu.py:524: FutureWarning: The frame.append method is deprecated and will be removed from pandas in a future version. Use pandas.concat instead.\n",
      "  self.sparsity_ratios = self.sparsity_ratios.append({\"A\": A.nnz / (A.shape[0]*A.shape[1]),\n",
      "/data/aparna/aparnakumar/github clone/SEACells/SEACells/cpu.py:524: FutureWarning: The frame.append method is deprecated and will be removed from pandas in a future version. Use pandas.concat instead.\n",
      "  self.sparsity_ratios = self.sparsity_ratios.append({\"A\": A.nnz / (A.shape[0]*A.shape[1]),\n",
      "/data/aparna/aparnakumar/github clone/SEACells/SEACells/cpu.py:524: FutureWarning: The frame.append method is deprecated and will be removed from pandas in a future version. Use pandas.concat instead.\n",
      "  self.sparsity_ratios = self.sparsity_ratios.append({\"A\": A.nnz / (A.shape[0]*A.shape[1]),\n",
      "/data/aparna/aparnakumar/github clone/SEACells/SEACells/cpu.py:524: FutureWarning: The frame.append method is deprecated and will be removed from pandas in a future version. Use pandas.concat instead.\n",
      "  self.sparsity_ratios = self.sparsity_ratios.append({\"A\": A.nnz / (A.shape[0]*A.shape[1]),\n"
     ]
    },
    {
     "name": "stdout",
     "output_type": "stream",
     "text": [
      "Starting iteration 10.\n"
     ]
    },
    {
     "name": "stderr",
     "output_type": "stream",
     "text": [
      "/data/aparna/aparnakumar/github clone/SEACells/SEACells/cpu.py:524: FutureWarning: The frame.append method is deprecated and will be removed from pandas in a future version. Use pandas.concat instead.\n",
      "  self.sparsity_ratios = self.sparsity_ratios.append({\"A\": A.nnz / (A.shape[0]*A.shape[1]),\n"
     ]
    },
    {
     "name": "stdout",
     "output_type": "stream",
     "text": [
      "Completed iteration 10.\n"
     ]
    },
    {
     "name": "stderr",
     "output_type": "stream",
     "text": [
      "/data/aparna/aparnakumar/github clone/SEACells/SEACells/cpu.py:524: FutureWarning: The frame.append method is deprecated and will be removed from pandas in a future version. Use pandas.concat instead.\n",
      "  self.sparsity_ratios = self.sparsity_ratios.append({\"A\": A.nnz / (A.shape[0]*A.shape[1]),\n",
      "/data/aparna/aparnakumar/github clone/SEACells/SEACells/cpu.py:524: FutureWarning: The frame.append method is deprecated and will be removed from pandas in a future version. Use pandas.concat instead.\n",
      "  self.sparsity_ratios = self.sparsity_ratios.append({\"A\": A.nnz / (A.shape[0]*A.shape[1]),\n",
      "/data/aparna/aparnakumar/github clone/SEACells/SEACells/cpu.py:524: FutureWarning: The frame.append method is deprecated and will be removed from pandas in a future version. Use pandas.concat instead.\n",
      "  self.sparsity_ratios = self.sparsity_ratios.append({\"A\": A.nnz / (A.shape[0]*A.shape[1]),\n",
      "/data/aparna/aparnakumar/github clone/SEACells/SEACells/cpu.py:524: FutureWarning: The frame.append method is deprecated and will be removed from pandas in a future version. Use pandas.concat instead.\n",
      "  self.sparsity_ratios = self.sparsity_ratios.append({\"A\": A.nnz / (A.shape[0]*A.shape[1]),\n",
      "/data/aparna/aparnakumar/github clone/SEACells/SEACells/cpu.py:524: FutureWarning: The frame.append method is deprecated and will be removed from pandas in a future version. Use pandas.concat instead.\n",
      "  self.sparsity_ratios = self.sparsity_ratios.append({\"A\": A.nnz / (A.shape[0]*A.shape[1]),\n",
      "/data/aparna/aparnakumar/github clone/SEACells/SEACells/cpu.py:524: FutureWarning: The frame.append method is deprecated and will be removed from pandas in a future version. Use pandas.concat instead.\n",
      "  self.sparsity_ratios = self.sparsity_ratios.append({\"A\": A.nnz / (A.shape[0]*A.shape[1]),\n",
      "/data/aparna/aparnakumar/github clone/SEACells/SEACells/cpu.py:524: FutureWarning: The frame.append method is deprecated and will be removed from pandas in a future version. Use pandas.concat instead.\n",
      "  self.sparsity_ratios = self.sparsity_ratios.append({\"A\": A.nnz / (A.shape[0]*A.shape[1]),\n",
      "/data/aparna/aparnakumar/github clone/SEACells/SEACells/cpu.py:524: FutureWarning: The frame.append method is deprecated and will be removed from pandas in a future version. Use pandas.concat instead.\n",
      "  self.sparsity_ratios = self.sparsity_ratios.append({\"A\": A.nnz / (A.shape[0]*A.shape[1]),\n",
      "/data/aparna/aparnakumar/github clone/SEACells/SEACells/cpu.py:524: FutureWarning: The frame.append method is deprecated and will be removed from pandas in a future version. Use pandas.concat instead.\n",
      "  self.sparsity_ratios = self.sparsity_ratios.append({\"A\": A.nnz / (A.shape[0]*A.shape[1]),\n"
     ]
    },
    {
     "name": "stdout",
     "output_type": "stream",
     "text": [
      "Starting iteration 20.\n"
     ]
    },
    {
     "name": "stderr",
     "output_type": "stream",
     "text": [
      "/data/aparna/aparnakumar/github clone/SEACells/SEACells/cpu.py:524: FutureWarning: The frame.append method is deprecated and will be removed from pandas in a future version. Use pandas.concat instead.\n",
      "  self.sparsity_ratios = self.sparsity_ratios.append({\"A\": A.nnz / (A.shape[0]*A.shape[1]),\n"
     ]
    },
    {
     "name": "stdout",
     "output_type": "stream",
     "text": [
      "Completed iteration 20.\n"
     ]
    },
    {
     "name": "stderr",
     "output_type": "stream",
     "text": [
      "/data/aparna/aparnakumar/github clone/SEACells/SEACells/cpu.py:524: FutureWarning: The frame.append method is deprecated and will be removed from pandas in a future version. Use pandas.concat instead.\n",
      "  self.sparsity_ratios = self.sparsity_ratios.append({\"A\": A.nnz / (A.shape[0]*A.shape[1]),\n",
      "/data/aparna/aparnakumar/github clone/SEACells/SEACells/cpu.py:524: FutureWarning: The frame.append method is deprecated and will be removed from pandas in a future version. Use pandas.concat instead.\n",
      "  self.sparsity_ratios = self.sparsity_ratios.append({\"A\": A.nnz / (A.shape[0]*A.shape[1]),\n",
      "/data/aparna/aparnakumar/github clone/SEACells/SEACells/cpu.py:524: FutureWarning: The frame.append method is deprecated and will be removed from pandas in a future version. Use pandas.concat instead.\n",
      "  self.sparsity_ratios = self.sparsity_ratios.append({\"A\": A.nnz / (A.shape[0]*A.shape[1]),\n",
      "/data/aparna/aparnakumar/github clone/SEACells/SEACells/cpu.py:524: FutureWarning: The frame.append method is deprecated and will be removed from pandas in a future version. Use pandas.concat instead.\n",
      "  self.sparsity_ratios = self.sparsity_ratios.append({\"A\": A.nnz / (A.shape[0]*A.shape[1]),\n",
      "/data/aparna/aparnakumar/github clone/SEACells/SEACells/cpu.py:524: FutureWarning: The frame.append method is deprecated and will be removed from pandas in a future version. Use pandas.concat instead.\n",
      "  self.sparsity_ratios = self.sparsity_ratios.append({\"A\": A.nnz / (A.shape[0]*A.shape[1]),\n",
      "/data/aparna/aparnakumar/github clone/SEACells/SEACells/cpu.py:524: FutureWarning: The frame.append method is deprecated and will be removed from pandas in a future version. Use pandas.concat instead.\n",
      "  self.sparsity_ratios = self.sparsity_ratios.append({\"A\": A.nnz / (A.shape[0]*A.shape[1]),\n",
      "/data/aparna/aparnakumar/github clone/SEACells/SEACells/cpu.py:524: FutureWarning: The frame.append method is deprecated and will be removed from pandas in a future version. Use pandas.concat instead.\n",
      "  self.sparsity_ratios = self.sparsity_ratios.append({\"A\": A.nnz / (A.shape[0]*A.shape[1]),\n",
      "/data/aparna/aparnakumar/github clone/SEACells/SEACells/cpu.py:524: FutureWarning: The frame.append method is deprecated and will be removed from pandas in a future version. Use pandas.concat instead.\n",
      "  self.sparsity_ratios = self.sparsity_ratios.append({\"A\": A.nnz / (A.shape[0]*A.shape[1]),\n",
      "/data/aparna/aparnakumar/github clone/SEACells/SEACells/cpu.py:524: FutureWarning: The frame.append method is deprecated and will be removed from pandas in a future version. Use pandas.concat instead.\n",
      "  self.sparsity_ratios = self.sparsity_ratios.append({\"A\": A.nnz / (A.shape[0]*A.shape[1]),\n"
     ]
    },
    {
     "name": "stdout",
     "output_type": "stream",
     "text": [
      "Starting iteration 30.\n"
     ]
    },
    {
     "name": "stderr",
     "output_type": "stream",
     "text": [
      "/data/aparna/aparnakumar/github clone/SEACells/SEACells/cpu.py:524: FutureWarning: The frame.append method is deprecated and will be removed from pandas in a future version. Use pandas.concat instead.\n",
      "  self.sparsity_ratios = self.sparsity_ratios.append({\"A\": A.nnz / (A.shape[0]*A.shape[1]),\n"
     ]
    },
    {
     "name": "stdout",
     "output_type": "stream",
     "text": [
      "Completed iteration 30.\n"
     ]
    },
    {
     "name": "stderr",
     "output_type": "stream",
     "text": [
      "/data/aparna/aparnakumar/github clone/SEACells/SEACells/cpu.py:524: FutureWarning: The frame.append method is deprecated and will be removed from pandas in a future version. Use pandas.concat instead.\n",
      "  self.sparsity_ratios = self.sparsity_ratios.append({\"A\": A.nnz / (A.shape[0]*A.shape[1]),\n",
      "/data/aparna/aparnakumar/github clone/SEACells/SEACells/cpu.py:524: FutureWarning: The frame.append method is deprecated and will be removed from pandas in a future version. Use pandas.concat instead.\n",
      "  self.sparsity_ratios = self.sparsity_ratios.append({\"A\": A.nnz / (A.shape[0]*A.shape[1]),\n",
      "/data/aparna/aparnakumar/github clone/SEACells/SEACells/cpu.py:524: FutureWarning: The frame.append method is deprecated and will be removed from pandas in a future version. Use pandas.concat instead.\n",
      "  self.sparsity_ratios = self.sparsity_ratios.append({\"A\": A.nnz / (A.shape[0]*A.shape[1]),\n",
      "/data/aparna/aparnakumar/github clone/SEACells/SEACells/cpu.py:524: FutureWarning: The frame.append method is deprecated and will be removed from pandas in a future version. Use pandas.concat instead.\n",
      "  self.sparsity_ratios = self.sparsity_ratios.append({\"A\": A.nnz / (A.shape[0]*A.shape[1]),\n",
      "/data/aparna/aparnakumar/github clone/SEACells/SEACells/cpu.py:524: FutureWarning: The frame.append method is deprecated and will be removed from pandas in a future version. Use pandas.concat instead.\n",
      "  self.sparsity_ratios = self.sparsity_ratios.append({\"A\": A.nnz / (A.shape[0]*A.shape[1]),\n",
      "/data/aparna/aparnakumar/github clone/SEACells/SEACells/cpu.py:524: FutureWarning: The frame.append method is deprecated and will be removed from pandas in a future version. Use pandas.concat instead.\n",
      "  self.sparsity_ratios = self.sparsity_ratios.append({\"A\": A.nnz / (A.shape[0]*A.shape[1]),\n",
      "/data/aparna/aparnakumar/github clone/SEACells/SEACells/cpu.py:524: FutureWarning: The frame.append method is deprecated and will be removed from pandas in a future version. Use pandas.concat instead.\n",
      "  self.sparsity_ratios = self.sparsity_ratios.append({\"A\": A.nnz / (A.shape[0]*A.shape[1]),\n",
      "/data/aparna/aparnakumar/github clone/SEACells/SEACells/cpu.py:524: FutureWarning: The frame.append method is deprecated and will be removed from pandas in a future version. Use pandas.concat instead.\n",
      "  self.sparsity_ratios = self.sparsity_ratios.append({\"A\": A.nnz / (A.shape[0]*A.shape[1]),\n",
      "/data/aparna/aparnakumar/github clone/SEACells/SEACells/cpu.py:524: FutureWarning: The frame.append method is deprecated and will be removed from pandas in a future version. Use pandas.concat instead.\n",
      "  self.sparsity_ratios = self.sparsity_ratios.append({\"A\": A.nnz / (A.shape[0]*A.shape[1]),\n"
     ]
    },
    {
     "name": "stdout",
     "output_type": "stream",
     "text": [
      "Starting iteration 40.\n"
     ]
    },
    {
     "name": "stderr",
     "output_type": "stream",
     "text": [
      "/data/aparna/aparnakumar/github clone/SEACells/SEACells/cpu.py:524: FutureWarning: The frame.append method is deprecated and will be removed from pandas in a future version. Use pandas.concat instead.\n",
      "  self.sparsity_ratios = self.sparsity_ratios.append({\"A\": A.nnz / (A.shape[0]*A.shape[1]),\n"
     ]
    },
    {
     "name": "stdout",
     "output_type": "stream",
     "text": [
      "Completed iteration 40.\n"
     ]
    },
    {
     "name": "stderr",
     "output_type": "stream",
     "text": [
      "/data/aparna/aparnakumar/github clone/SEACells/SEACells/cpu.py:524: FutureWarning: The frame.append method is deprecated and will be removed from pandas in a future version. Use pandas.concat instead.\n",
      "  self.sparsity_ratios = self.sparsity_ratios.append({\"A\": A.nnz / (A.shape[0]*A.shape[1]),\n",
      "/data/aparna/aparnakumar/github clone/SEACells/SEACells/cpu.py:524: FutureWarning: The frame.append method is deprecated and will be removed from pandas in a future version. Use pandas.concat instead.\n",
      "  self.sparsity_ratios = self.sparsity_ratios.append({\"A\": A.nnz / (A.shape[0]*A.shape[1]),\n",
      "/data/aparna/aparnakumar/github clone/SEACells/SEACells/cpu.py:524: FutureWarning: The frame.append method is deprecated and will be removed from pandas in a future version. Use pandas.concat instead.\n",
      "  self.sparsity_ratios = self.sparsity_ratios.append({\"A\": A.nnz / (A.shape[0]*A.shape[1]),\n",
      "/data/aparna/aparnakumar/github clone/SEACells/SEACells/cpu.py:524: FutureWarning: The frame.append method is deprecated and will be removed from pandas in a future version. Use pandas.concat instead.\n",
      "  self.sparsity_ratios = self.sparsity_ratios.append({\"A\": A.nnz / (A.shape[0]*A.shape[1]),\n",
      "/data/aparna/aparnakumar/github clone/SEACells/SEACells/cpu.py:524: FutureWarning: The frame.append method is deprecated and will be removed from pandas in a future version. Use pandas.concat instead.\n",
      "  self.sparsity_ratios = self.sparsity_ratios.append({\"A\": A.nnz / (A.shape[0]*A.shape[1]),\n",
      "/data/aparna/aparnakumar/github clone/SEACells/SEACells/cpu.py:524: FutureWarning: The frame.append method is deprecated and will be removed from pandas in a future version. Use pandas.concat instead.\n",
      "  self.sparsity_ratios = self.sparsity_ratios.append({\"A\": A.nnz / (A.shape[0]*A.shape[1]),\n"
     ]
    },
    {
     "name": "stdout",
     "output_type": "stream",
     "text": [
      "Converged after 46 iterations.\n"
     ]
    }
   ],
   "source": [
    "all_versions(ad)"
   ]
  },
  {
   "cell_type": "code",
   "execution_count": 29,
   "metadata": {},
   "outputs": [],
   "source": [
    "# mempool = cp.get_default_memory_pool()\n",
    "# pinned_mempool = cp.get_default_pinned_memory_pool()\n",
    "\n",
    "# print(mempool.used_bytes())              \n",
    "# print(mempool.total_bytes())             \n",
    "# print(pinned_mempool.n_free_blocks())    "
   ]
  },
  {
   "cell_type": "code",
   "execution_count": 30,
   "metadata": {},
   "outputs": [],
   "source": [
    "# a_cpu = np.ndarray(100, dtype=np.float32)\n",
    "# a = cp.array(a_cpu)\n",
    "# print(a.nbytes)                          # 400\n",
    "# print(mempool.used_bytes())              # 512\n",
    "# print(mempool.total_bytes())             # 512\n",
    "# print(pinned_mempool.n_free_blocks())    # 1"
   ]
  },
  {
   "cell_type": "code",
   "execution_count": 31,
   "metadata": {},
   "outputs": [],
   "source": [
    "# B3 = cp.random.random((13, 1000))\n",
    "# print(B3.nbytes)                          \n",
    "# print(mempool.used_bytes())              \n",
    "# print(mempool.total_bytes())             \n",
    "# print(pinned_mempool.n_free_blocks())    \n"
   ]
  },
  {
   "cell_type": "code",
   "execution_count": 32,
   "metadata": {},
   "outputs": [],
   "source": [
    "# B3 = cp.sparse.csr_matrix(B3)                        \n",
    "# print(mempool.used_bytes())              \n",
    "# print(mempool.total_bytes())             \n",
    "# print(pinned_mempool.n_free_blocks())    \n",
    "\n",
    "# B3 =B3.argmin(axis=0)\n",
    "# print(B3.nbytes)                          \n",
    "# print(mempool.used_bytes())              \n",
    "# print(mempool.total_bytes())             \n",
    "# print(pinned_mempool.n_free_blocks())    "
   ]
  },
  {
   "cell_type": "code",
   "execution_count": 33,
   "metadata": {},
   "outputs": [],
   "source": [
    "# import scipy.sparse\n",
    "\n",
    "# ATA = cp.random.random((1000, 1000))\n",
    "# ATA = cp.sparse.csr_matrix(ATA)\n",
    "\n",
    "\n",
    "# f = ((ATA.multiply(ATA)).sum(axis=0)).ravel()\n",
    "# g = ATA.diagonal().ravel()\n",
    "\n",
    "# k =  13\n",
    "# n = 1000\n",
    "# d = cp.sparse.csr_matrix((k, n), dtype=cp.float64)\n",
    "# omega = cp.sparse.csr_matrix((k, n), dtype=cp.float64)\n",
    "\n",
    "# # keep track of selected indices\n",
    "# centers = cp.sparse.csr_matrix((k, n), dtype=cp.float64)\n",
    "\n",
    "# # sampling\n",
    "# for j in tqdm(range(k)):\n",
    "#         score = f / g\n",
    "#         p = score.argmax()\n",
    "        \n",
    "#         delta_term1 = ATA[:, p].toarray().squeeze()\n",
    "#         #     # print(delta_term1)\n",
    "#         ic(omega[:, p].shape)\n",
    "#         ic(type(omega[:, p].reshape(-1, 1).multiply(omega)))\n",
    "#         delta_term2 = omega[:, p].reshape(-1, 1).multiply(omega).sum(axis=0).squeeze()\n",
    "#         delta = delta_term1 - delta_term2\n",
    "\n",
    "#         #     # some weird rounding errors\n",
    "#         # BOOKMARK\n",
    "#         #delta[p] = [0, delta[p]].max()\n",
    "\n",
    "#         #     o = delta / np.max([np.sqrt(delta[p]), 1e-6])\n",
    "#         #     omega_square_norm = np.linalg.norm(o) ** 2\n",
    "#         #     omega_hadamard = np.multiply(o, o)\n",
    "#         #     term1 = omega_square_norm * omega_hadamard\n",
    "\n",
    "#         #     # update f (term2)\n",
    "#         #     pl = np.zeros(n)\n",
    "#         #     for r in range(j):\n",
    "#         #         omega_r = omega[r, :]\n",
    "#         #         pl += np.dot(omega_r, o) * omega_r\n",
    "\n",
    "#         #     ATAo = (ATA @ o.reshape(-1, 1)).ravel()\n",
    "#         #     term2 = np.multiply(o, ATAo - pl)\n",
    "\n",
    "#         #     # update f\n",
    "#         #     f += -2.0 * term2 + term1\n",
    "\n",
    "#         #     # update g\n",
    "#         #     g += omega_hadamard\n",
    "\n",
    "#         #     # store omega and delta\n",
    "#         #     d[j, :] = delta\n",
    "#         #     omega[j, :] = o\n",
    "\n",
    "#         #     # add index\n",
    "#         #     centers[j] = int(p)\n",
    "\n",
    "#         # return centers"
   ]
  },
  {
   "cell_type": "code",
   "execution_count": 34,
   "metadata": {},
   "outputs": [],
   "source": [
    "# delta_term1.shape"
   ]
  },
  {
   "cell_type": "code",
   "execution_count": 35,
   "metadata": {},
   "outputs": [],
   "source": [
    "# p = cp.array([121])\n",
    "# omega = cp.sparse.csr_matrix((14, 1000), dtype=cp.float64)\n",
    "# thing = omega[:, p].reshape(-1, 1).multiply(omega).sum(axis=0).squeeze()\n",
    "# ic(thing.shape)\n",
    "# ic(type(thing))\n",
    "\n",
    "\n",
    "# type(thing.sum(axis=0))\n",
    "\n"
   ]
  },
  {
   "cell_type": "code",
   "execution_count": 36,
   "metadata": {},
   "outputs": [],
   "source": [
    "# n = 1000\n",
    "# k = 14\n",
    "\n",
    "# # precompute M.T * M\n",
    "# # ATA = M.T @ M\n",
    "# ATA = cupyx.scipy.sparse.csr_matrix((n, n))\n",
    "\n",
    "\n",
    "# f = cp.array((ATA.multiply(ATA)).sum(axis=0)).ravel()\n",
    "# g = cp.array(ATA.diagonal()).ravel()\n",
    "\n",
    "# d = cp.sparse.csr_matrix((k, n))\n",
    "# omega = cp.sparse.csr_matrix((k, n))\n",
    "\n",
    "# # keep track of selected indices\n",
    "# centers = cp.sparse.csr_matrix((k, n))\n",
    "\n",
    "# # sampling\n",
    "# for j in tqdm(range(k)):\n",
    "#     # Compute score, dividing the sparse f by the sparse g\n",
    "#     score = f / g\n",
    "            \n",
    "#     # Compute p, which is the largest score\n",
    "#     p = cp.argmax(score)\n",
    "\n",
    "#     # Compute delta_term1 to be the column of ATA at index p\n",
    "#     delta_term1 = ATA[:, p].toarray().squeeze()\n",
    "\n",
    "#     # Compute delta_term2 to be the sum of the outer product of omega and itself\n",
    "#     delta_term2 = (omega[:, p].reshape(-1, 1).multiply(omega).sum(axis=0).squeeze())\n",
    "#     delta = delta_term1 - delta_term2\n",
    "\n",
    "#     # some weird rounding errors\n",
    "#     delta[p] = max([0, delta[p]])\n",
    "\n",
    "#     o = delta / max([cp.sqrt(delta[p]), 1e-6])\n",
    "#     omega_square_norm = cp.linalg.norm(o) ** 2\n",
    "#     omega_hadamard = cp.multiply(o, o)\n",
    "#     term1 = omega_square_norm * omega_hadamard\n",
    "\n",
    "#     # update f (term2)\n",
    "#     pl = cp.zeros(n)\n",
    "#     for r in range(j):\n",
    "#         omega_r = omega[r, :]\n",
    "#         pl += omega_r.dot(o) * omega_r\n",
    "\n",
    "#     ATAo = (ATA @ o.reshape(-1, 1)).ravel()\n",
    "#     term2 = o *  (ATAo - pl)\n",
    "\n",
    "#     # update f\n",
    "#     f += -2.0 * term2 + term1\n",
    "\n",
    "#     # update g\n",
    "#     g += omega_hadamard\n",
    "\n",
    "#     # store omega and delta\n",
    "#     d[j, :] = delta\n",
    "#     omega[j, :] = o\n",
    "\n",
    "#     # add index\n",
    "#     centers[j] = int(p)\n",
    "\n",
    "# centers"
   ]
  },
  {
   "cell_type": "code",
   "execution_count": 37,
   "metadata": {},
   "outputs": [],
   "source": [
    "# import cupy\n",
    "\n",
    "# kernel_matrix =  cupyx.scipy.sparse.rand(1000, 1000, density=0.01, format='csr', dtype=np.float64)\n",
    "# # Make a sparse csr matrix of random data \n",
    "# reconstruction = cupyx.scipy.sparse.rand(1000, 1000, density=0.01, format='csr', dtype=np.float64)\n",
    "\n",
    "# ic(type(kernel_matrix))\n",
    "# ic(type(reconstruction))\n",
    "\n",
    "\n",
    "\n",
    "# cp.linalg.norm(kernel_matrix - reconstruction)"
   ]
  },
  {
   "cell_type": "code",
   "execution_count": 38,
   "metadata": {},
   "outputs": [],
   "source": [
    "# assignments4, time4, mem4 = get_data(ad, num_cells = num_cells, use_gpu = True, use_sparse= True)"
   ]
  },
  {
   "cell_type": "code",
   "execution_count": 39,
   "metadata": {},
   "outputs": [],
   "source": [
    "# assignments, comparisons = all_versions(ad)"
   ]
  },
  {
   "cell_type": "code",
   "execution_count": 40,
   "metadata": {},
   "outputs": [
    {
     "ename": "NameError",
     "evalue": "name 'comparisons' is not defined",
     "output_type": "error",
     "traceback": [
      "\u001b[0;31m---------------------------------------------------------------------------\u001b[0m",
      "\u001b[0;31mNameError\u001b[0m                                 Traceback (most recent call last)",
      "\u001b[1;32m/home/aparna/DATA/aparnakumar/github clone/SEACells/SEACell_versions.ipynb Cell 23\u001b[0m line \u001b[0;36m2\n\u001b[1;32m      <a href='vscode-notebook-cell://ssh-remote%2Baeolus/home/aparna/DATA/aparnakumar/github%20clone/SEACells/SEACell_versions.ipynb#X31sdnNjb2RlLXJlbW90ZQ%3D%3D?line=0'>1</a>\u001b[0m \u001b[39m# Display comparisons \u001b[39;00m\n\u001b[0;32m----> <a href='vscode-notebook-cell://ssh-remote%2Baeolus/home/aparna/DATA/aparnakumar/github%20clone/SEACells/SEACell_versions.ipynb#X31sdnNjb2RlLXJlbW90ZQ%3D%3D?line=1'>2</a>\u001b[0m comparisons\n",
      "\u001b[0;31mNameError\u001b[0m: name 'comparisons' is not defined"
     ]
    }
   ],
   "source": [
    "# Display comparisons \n",
    "comparisons"
   ]
  },
  {
   "cell_type": "markdown",
   "metadata": {},
   "source": [
    "## Comparisons "
   ]
  },
  {
   "cell_type": "code",
   "execution_count": null,
   "metadata": {},
   "outputs": [],
   "source": [
    "# ## Core parameters \n",
    "# # number of SEACells\n",
    "# n_SEACells = num_cells // 75\n",
    "# build_kernel_on = 'X_pca' # key in ad.obsm to use for computing metacells\n",
    "#                             # This would be replaced by 'X_svd' for ATAC data\n",
    "\n",
    "# ## Additional parameters\n",
    "# n_waypoint_eigs = 10\n",
    "  \n",
    "# # Initialize\n",
    "# model1 = SEACells(ad, use_gpu=False, use_sparse=False, build_kernel_on=build_kernel_on, n_SEACells=n_SEACells, n_waypoint_eigs=n_waypoint_eigs, convergence_epsilon = 1e-5)\n",
    "# model4 = SEACells(ad, use_gpu=True, use_sparse=True, build_kernel_on=build_kernel_on, n_SEACells=n_SEACells, n_waypoint_eigs=n_waypoint_eigs, convergence_epsilon = 1e-5)\n",
    "# model3 = SEACells(ad, use_gpu=True, use_sparse=False, build_kernel_on=build_kernel_on, n_SEACells=n_SEACells, n_waypoint_eigs=n_waypoint_eigs, convergence_epsilon = 1e-5)"
   ]
  },
  {
   "cell_type": "code",
   "execution_count": null,
   "metadata": {},
   "outputs": [],
   "source": [
    "# model1.construct_kernel_matrix() "
   ]
  },
  {
   "cell_type": "code",
   "execution_count": null,
   "metadata": {},
   "outputs": [],
   "source": [
    "# K= model1.K \n",
    "# kernel_matrix = model1.kernel_matrix "
   ]
  },
  {
   "cell_type": "code",
   "execution_count": null,
   "metadata": {},
   "outputs": [],
   "source": [
    "# import scipy.sparse\n",
    "# model3.K = model1.K\n",
    "# # convert model1.K to the right type (cupyx.scipy.sparse._csr.csr_matrix) \n",
    "# model4.K = cupyx.scipy.sparse.csr_matrix(model1.K)\n",
    "\n",
    "# ic(type(model1.K))\n",
    "# ic(type(model3.K)) \n",
    "# ic(type(model4.K)) \n",
    "\n",
    "# ic(model1.K.shape)\n",
    "# ic(model3.K.shape)\n",
    "# ic(model4.K.shape)"
   ]
  },
  {
   "cell_type": "code",
   "execution_count": null,
   "metadata": {},
   "outputs": [],
   "source": [
    "# import scipy\n",
    "\n",
    "# model3.kernel_matrix = model1.kernel_matrix \n",
    "# model4.kernel_matrix = cupyx.scipy.sparse.csr_matrix(model1.kernel_matrix)\n",
    "\n",
    "\n",
    "# ic(type(model1.kernel_matrix))\n",
    "# ic(type(model3.kernel_matrix)) \n",
    "# ic(type(model4.kernel_matrix)) \n",
    "\n",
    "# ic(model1.kernel_matrix.shape)\n",
    "# ic(model3.kernel_matrix.shape)\n",
    "# ic(model4.kernel_matrix.shape)"
   ]
  },
  {
   "cell_type": "code",
   "execution_count": null,
   "metadata": {},
   "outputs": [],
   "source": [
    "# model1.initialize_archetypes()"
   ]
  },
  {
   "cell_type": "code",
   "execution_count": null,
   "metadata": {},
   "outputs": [],
   "source": [
    "# model3.archetypes = model1.archetypes \n",
    "# model4.archetypes = cp.array(model1.archetypes)\n",
    "\n",
    "# ic(model1.archetypes.shape)\n",
    "# ic(model3.archetypes.shape)\n",
    "# ic(model4.archetypes.shape)\n",
    "\n",
    "# ic(type(model1.archetypes))\n",
    "# ic(type(model3.archetypes))\n",
    "# ic(type(model4.archetypes))\n"
   ]
  },
  {
   "cell_type": "code",
   "execution_count": null,
   "metadata": {},
   "outputs": [],
   "source": [
    "# model1.initialize()\n",
    "# ic(model1.archetypes.shape) \n",
    "# ic(type(model1.archetypes)) \n",
    "\n",
    "# ic(model1.k)\n",
    "# ic(type(model1.k))\n",
    "\n",
    "# ic(model1.B0.shape)\n",
    "# ic(type(model1.B0))\n",
    "\n",
    "# ic(model1.A0.shape)\n",
    "# ic(type(model1.A0))\n",
    "\n",
    "# ic(model1.A_.shape)\n",
    "# ic(type(model1.A_)) \n",
    "\n",
    "# ic(model1.B_.shape)\n",
    "# ic(type(model1.B_))\n",
    "\n",
    "# ic(model1.convergence_threshold)\n",
    "# ic(type(model1.convergence_threshold))"
   ]
  },
  {
   "cell_type": "code",
   "execution_count": null,
   "metadata": {},
   "outputs": [],
   "source": [
    "# model3.initialize()\n",
    "# ic(model3.archetypes.shape)\n",
    "# ic(type(model3.archetypes))\n",
    "\n",
    "# ic(model3.k)\n",
    "# ic(type(model3.k))\n",
    "\n",
    "# ic(model3.B0.shape)\n",
    "# ic(type(model3.B0))\n",
    "\n",
    "# ic(model3.A0.shape)\n",
    "# ic(type(model3.A0))\n",
    "\n",
    "# ic(model3.A_.shape)\n",
    "# ic(type(model3.A_))\n",
    "\n",
    "# ic(model3.B_.shape)\n",
    "# ic(type(model3.B_))\n",
    "\n",
    "# ic(model3.convergence_threshold)\n",
    "# ic(type(model3.convergence_threshold))"
   ]
  },
  {
   "cell_type": "code",
   "execution_count": null,
   "metadata": {},
   "outputs": [],
   "source": [
    "# k = len(model4.archetypes)\n",
    "# cols = cp.arange(k)\n",
    "# rows = model4.archetypes\n",
    "# shape = (n, k) \n",
    "# data = cp.ones(len(rows))\n",
    "# B0 = cupyx.scipy.sparse.csr_matrix((cp.ones(len(rows)), (rows, cols)), shape=shape)\n",
    "# B = B0.copy()\n",
    "\n"
   ]
  },
  {
   "cell_type": "code",
   "execution_count": null,
   "metadata": {},
   "outputs": [],
   "source": [
    "# model4.initialize() \n",
    "# ic(model4.archetypes.shape)\n",
    "# ic(type(model4.archetypes))\n",
    "\n",
    "# ic(model4.k)\n",
    "# ic(type(model4.k))\n",
    "\n",
    "# ic(model4.B0.shape)\n",
    "# ic(type(model4.B0))\n",
    "\n",
    "# ic(model4.A0.shape)\n",
    "# ic(type(model4.A0))\n",
    "\n",
    "# ic(model4.A_.shape)\n",
    "# ic(type(model4.A_))\n",
    "\n",
    "# ic(model4.B_.shape)\n",
    "# ic(type(model4.B_))\n",
    "\n",
    "# ic(model4.convergence_threshold)\n",
    "# ic(type(model4.convergence_threshold))"
   ]
  },
  {
   "cell_type": "code",
   "execution_count": null,
   "metadata": {},
   "outputs": [],
   "source": [
    "# k = model4.k\n",
    "# cols = cp.arange(k)\n",
    "# rows = model4.archetypes\n",
    "# shape = (n, k)\n",
    "# B0 = cupyx.scipy.sparse.csr_matrix((cp.ones(len(rows)), (rows, cols)), shape=shape)"
   ]
  },
  {
   "cell_type": "code",
   "execution_count": null,
   "metadata": {},
   "outputs": [],
   "source": [
    "# archetypes_per_cell = int(k * 0.25)\n",
    "# rows = np.random.randint(0, k, size=(n, archetypes_per_cell)).reshape(-1)\n",
    "# columns = np.repeat(np.arange(n), archetypes_per_cell)\n",
    "\n",
    "# ic(rows.shape)\n",
    "# ic(columns.shape)\n",
    "# ic(k, n)\n",
    "\n",
    "# A0 = scipy.sparse.csr_matrix((np.random.random(len(rows)), (rows, columns)), shape=(k, n))\n"
   ]
  },
  {
   "cell_type": "code",
   "execution_count": null,
   "metadata": {},
   "outputs": [],
   "source": [
    "# archetypes_per_cell = int(k * 0.25)\n",
    "# rows = np.random.randint(0, k, size=(n, archetypes_per_cell)).reshape(-1)\n",
    "# columns = np.repeat(np.arange(n), archetypes_per_cell)\n",
    "#             # print(type(rows))\n",
    "#             # print(type(columns))\n",
    "\n",
    "# A0 = scipy.sparse.csr_matrix((np.random.random(len(rows)), (rows, columns)), shape=(k, n))\n",
    "#             # print(type(A0))\n",
    "#             # print(\"STARTING NORMALIZE\")\n",
    "# A0 = cupyx.scipy.sparse.csr_matrix(normalize(A0, axis=0, norm=\"l1\"))\n"
   ]
  },
  {
   "cell_type": "code",
   "execution_count": null,
   "metadata": {},
   "outputs": [],
   "source": [
    "# # Now we need to compare \n",
    "\n",
    "# ic(np.allclose(model1.archetypes, model3.archetypes))\n",
    "# ic(np.allclose(model1.archetypes, model4.archetypes))\n",
    "\n",
    "# ic(np.allclose(model1.k, model3.k))\n",
    "# ic(np.allclose(model1.k, model4.k))\n",
    "\n",
    "# ic(np.allclose(model1.B0, model3.B0))\n",
    "# ic(np.allclose(model1.B0, model4.B0.get().todense()))\n",
    "\n",
    "# ic(np.allclose(model1.A0, model3.A0))\n",
    "# ic(np.allclose(model1.A0, model4.A0.get().todense()))\n",
    "\n",
    "# ic(np.allclose(model1.A_, model3.A_))\n",
    "# ic(np.allclose(model1.A_, model4.A_.get().todense()))\n",
    "\n",
    "# ic(np.allclose(model1.B_, model3.B_))\n",
    "# ic(np.allclose(model1.B_, model4.B_.get().todense()))"
   ]
  },
  {
   "cell_type": "code",
   "execution_count": null,
   "metadata": {},
   "outputs": [],
   "source": [
    "# # Compare the A's of model 3 and model 4 \n",
    "# ic(np.allclose(model3.A0, model4.A0.get().todense()))\n",
    "# ic(np.allclose(model3.A_, model4.A_.get().todense()))"
   ]
  },
  {
   "cell_type": "code",
   "execution_count": null,
   "metadata": {},
   "outputs": [],
   "source": [
    "# # Set A0 of model 3 and model 4 to be the same as model 1 \n",
    "# model3.A0 = model1.A0 \n",
    "# model4.A0 = cupyx.scipy.sparse.csr_matrix(cp.array(model1.A0))\n",
    "\n",
    "# # check is close \n",
    "# ic(np.allclose(model1.A0, model3.A0)) \n",
    "# ic(np.allclose(model1.A0, model4.A0.get().todense()))"
   ]
  },
  {
   "cell_type": "code",
   "execution_count": null,
   "metadata": {},
   "outputs": [],
   "source": [
    "# model3.A_ = model3._updateA(model3.B0, model3.A0)\n",
    "# model4.A_ = model4._updateA(model4.B0, model4.A0)\n",
    "\n",
    "# # Check is close \n",
    "# ic(np.allclose(model1.A_, model3.A_)) \n",
    "# ic(np.allclose(model1.A_, model4.A_.get().todense()))"
   ]
  },
  {
   "cell_type": "code",
   "execution_count": null,
   "metadata": {},
   "outputs": [],
   "source": [
    "# # Double check on B_ \n",
    "\n",
    "# ic(np.allclose(model1.B_, model3.B_)) \n",
    "# ic(np.allclose(model1.B_, model4.B_.get().todense()))"
   ]
  },
  {
   "cell_type": "code",
   "execution_count": null,
   "metadata": {},
   "outputs": [],
   "source": [
    "# RSS3 = model3.compute_RSS(model3.A_, model3.B_)\n",
    "# RSS4 = model4.compute_RSS(model4.A_, model4.B_)\n",
    "# RSS1 = model1.compute_RSS(model1.A_, model1.B_)\n",
    "\n",
    "# ic(type(RSS1)) \n",
    "# ic(type(RSS3)) \n",
    "# ic(type(RSS4)) \n",
    "\n",
    "# ic(RSS1.shape) \n",
    "# ic(RSS3.shape) \n",
    "# ic(RSS4.shape)\n",
    "\n",
    "# ic(np.allclose(RSS1, RSS3)) \n",
    "# ic(np.allclose(RSS1, RSS4))"
   ]
  },
  {
   "cell_type": "code",
   "execution_count": null,
   "metadata": {},
   "outputs": [],
   "source": [
    "# import scipy.sparse\n",
    "\n",
    "# reconstruction1 = model1.compute_reconstruction(model1.A_, model1.B_)\n",
    "# reconstruction4 = model4.compute_reconstruction(cupyx.scipy.sparse.csr_matrix(cp.array(model1.A_)), cupyx.scipy.sparse.csr_matrix(cp.array(model1.B_)))\n",
    "# reconstruction3 = model3.compute_reconstruction(model3.A_, model3.B_)\n",
    "\n",
    "# ic(type(reconstruction1)) \n",
    "# ic(type(reconstruction3))\n",
    "# ic(type(reconstruction4)) \n",
    "\n",
    "# ic(reconstruction1.shape) \n",
    "# ic(reconstruction3.shape)\n",
    "# ic(reconstruction4.shape)\n",
    "\n",
    "# ic(np.allclose(reconstruction1, reconstruction3))\n",
    "# ic(np.allclose(reconstruction1, reconstruction4.get().todense()))"
   ]
  },
  {
   "cell_type": "code",
   "execution_count": null,
   "metadata": {},
   "outputs": [],
   "source": [
    "# import scipy.sparse\n",
    "\n",
    "# diff1 = model1.kernel_matrix - reconstruction1 \n",
    "# diff3 = model3.kernel_matrix - reconstruction3\n",
    "# ic(type(model1.kernel_matrix) )\n",
    "\n",
    "\n",
    "# diff4 = cupyx.scipy.sparse.csr_matrix(model1.kernel_matrix) - reconstruction4 \n",
    "\n",
    "# ic(type(diff1)) \n",
    "# ic(type(diff3))\n",
    "# ic(type(diff4)) \n",
    "\n",
    "# ic(diff1.shape) \n",
    "# ic(diff3.shape )\n",
    "# ic(diff4.shape) \n",
    "\n",
    "# ic(np.allclose(diff1, diff3))\n",
    "# ic(np.allclose(diff1, diff4.get().todense()))"
   ]
  },
  {
   "cell_type": "code",
   "execution_count": null,
   "metadata": {},
   "outputs": [],
   "source": [
    "# # take the norm of the difference \n",
    "# import scipy.sparse.linalg\n",
    "# from scipy.sparse.linalg import norm\n",
    "\n",
    "\n",
    "# norm1 = np.linalg.norm(diff1) \n",
    "# norm3 = np.linalg.norm(diff3)\n",
    "# norm4 = np.linalg.norm(diff4.get().todense())\n",
    "# norm4 = norm(diff4.get())\n",
    "\n",
    "# ic(type(norm1)) \n",
    "# ic(type(norm3)) \n",
    "# ic(type(norm4)) \n",
    "\n",
    "# ic(norm1)\n",
    "# ic(norm3)\n",
    "# ic(norm4)"
   ]
  },
  {
   "cell_type": "code",
   "execution_count": null,
   "metadata": {},
   "outputs": [],
   "source": [
    "# # check A and B \n",
    "# ic(model1.A_.shape)\n",
    "# ic(model3.A_.shape)\n",
    "# ic(model4.A_.shape)\n",
    "\n",
    "# ic(model1.B_.shape)\n",
    "# ic(model3.B_.shape)\n",
    "# ic(model4.B_.shape)\n"
   ]
  },
  {
   "cell_type": "code",
   "execution_count": null,
   "metadata": {},
   "outputs": [],
   "source": [
    "# def _updateA(self, B, A_prev):\n",
    "#         \"\"\"Compute assignment matrix A using constrained gradient descent via Frank-Wolfe algorithm.\n",
    "\n",
    "#         Given archetype matrix B and using kernel matrix K, compute assignment matrix A using constrained gradient\n",
    "#         descent via Frank-Wolfe algorithm.\n",
    "\n",
    "#         :param B: (n x k csr_matrix) defining SEACells as weighted combinations of cells\n",
    "#         :param A_prev: (n x k csr_matrix) defining previous weights used for assigning cells to SEACells\n",
    "#         :return: (n x k csr_matrix) defining updated weights used for assigning cells to SEACells\n",
    "#         \"\"\"\n",
    "#         ic(\"updateA\")\n",
    "#         n, k = B.shape\n",
    "#         A = A_prev\n",
    "#         # ic(type(A))\n",
    "\n",
    "#         t = 0  # current iteration (determine multiplicative update)\n",
    "\n",
    "#         # print(\"bookmark\")\n",
    "#         Ag = A\n",
    "#         # ic(type(Ag))\n",
    "#         Bg = B\n",
    "#         # print(type(self.K))\n",
    "#         Kg = self.K\n",
    "#         # ic(type(Bg))\n",
    "#         # ic(type(Kg))\n",
    "#         # ic(\"computed Ag, Bg, Kg\")\n",
    "\n",
    "#         # precompute some gradient terms\n",
    "#         t2g = Kg.dot(Bg).T\n",
    "#         t1g = t2g.dot(Bg)\n",
    "#         # ic(\"computed t2g, t1g\")\n",
    "#         # ic(type(t2g), type(t1g))\n",
    "\n",
    "#         # update rows of A for given number of iterations\n",
    "#         while t < self.max_FW_iter:\n",
    "#             # compute gradient (must convert matrix to ndarray)\n",
    "#             # X = t1g.dot(Ag)\n",
    "#             # print(X.shape)\n",
    "#             # print(type(X))\n",
    "#             # print(t2g.shape)\n",
    "#             # print(type(t2g))\n",
    "#             # Y = X - t2g \n",
    "#             # print(Y.shape)\n",
    "#             # print(type(Y))\n",
    "#             # Z = 2.0 *Y \n",
    "#             # print(Z.shape)\n",
    "#             # print(type(Z))\n",
    "#             # print((cp.subtract(t1g.dot(Ag), t2g)).shape)\n",
    "#             # print((cp.multiply(2, cp.subtract(t1g.dot(Ag), t2g))).shape)\n",
    "#             Gg = 2.0*(t1g.dot(Ag) - t2g)\n",
    "#             # ic(Gg.shape)\n",
    "#             # ic(type(Gg))\n",
    "#             # get argmins\n",
    "#             amins = Gg.argmin(axis = 0)\n",
    "#             # ic(amins.shape)\n",
    "#             # ic(type(amins))\n",
    "#             # loop free implementaton\n",
    "#             eg = cupyx.scipy.sparse.csr_matrix((k, n), dtype=cp.float64)\n",
    "#             ic(type(eg))\n",
    "#             eg[amins, cp.arange(n)] = 1.0\n",
    "#             ic(type(eg))\n",
    "#             # print(\"eg\")\n",
    "\n",
    "#             f = 2.0 / (t + 2.0)\n",
    "#             ic(type(f))\n",
    "#             Ag = Ag + (f * (eg - Ag))\n",
    "#             # Ag = cp.add(Ag, cp.multiply(f, cp.subtract(eg, Ag)))\n",
    "#             t += 1\n",
    "#             # print(\"f, Ag, t\")\n",
    "\n",
    "\n",
    "#         # A = Ag.get()\n",
    "#         A = Ag\n",
    "\n",
    "\n",
    "#         del t1g, t2g, Ag, Kg, Gg, Bg, eg, amins\n",
    "#         cp._default_memory_pool.free_all_blocks()\n",
    "\n",
    "#         # ic(type(A))\n",
    "#         return A"
   ]
  },
  {
   "cell_type": "code",
   "execution_count": null,
   "metadata": {},
   "outputs": [],
   "source": [
    "# _updateA(model4, model4.B_, model4.A_)"
   ]
  },
  {
   "cell_type": "code",
   "execution_count": null,
   "metadata": {},
   "outputs": [],
   "source": [
    "# A1 = model1._updateA(model1.B_, model1.A_)\n",
    "# A3 = model3._updateA(model3.B_, model3.A_)\n",
    "# A4 = model4._updateA(model4.B_, model4.A_)"
   ]
  },
  {
   "cell_type": "code",
   "execution_count": null,
   "metadata": {},
   "outputs": [],
   "source": [
    "# model1._updateB(A1, model1.B_)\n",
    "# model3._updateB(A3, model3.B_)\n",
    "# model4._updateB(A4, model4.B_)"
   ]
  },
  {
   "cell_type": "code",
   "execution_count": null,
   "metadata": {},
   "outputs": [],
   "source": [
    "# model1.step()\n",
    "# model3.step()\n",
    "# model4.step()\n",
    "\n",
    "# model4._updateA(model4.B_, model4.A_) \n",
    "# # model4._updateB(model4.A_, model4.B_)\n"
   ]
  },
  {
   "cell_type": "code",
   "execution_count": null,
   "metadata": {},
   "outputs": [],
   "source": [
    "# B = model4.B_ \n",
    "# A_prev = model4.A_ \n",
    "\n",
    "# n, k = B.shape\n",
    "# # print(n, k)\n",
    "# A = A_prev\n",
    "# # ic(type(A))\n",
    "\n",
    "# t = 0  # current iteration (determine multiplicative update)\n",
    "\n",
    "# # print(\"bookmark\")\n",
    "# Ag = A\n",
    "# # ic(type(A))\n",
    "# Bg = B\n",
    "\n",
    "# ic(type(model4.K))\n",
    "# Kg = model4.K"
   ]
  }
 ],
 "metadata": {
  "kernelspec": {
   "display_name": "Python 3",
   "language": "python",
   "name": "python3"
  },
  "language_info": {
   "codemirror_mode": {
    "name": "ipython",
    "version": 3
   },
   "file_extension": ".py",
   "mimetype": "text/x-python",
   "name": "python",
   "nbconvert_exporter": "python",
   "pygments_lexer": "ipython3",
   "version": "3.8.13"
  },
  "orig_nbformat": 4
 },
 "nbformat": 4,
 "nbformat_minor": 2
}
