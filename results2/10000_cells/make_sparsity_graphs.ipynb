{
 "cells": [
  {
   "cell_type": "code",
   "execution_count": 34,
   "metadata": {},
   "outputs": [
    {
     "data": {
      "text/html": [
       "<div>\n",
       "<style scoped>\n",
       "    .dataframe tbody tr th:only-of-type {\n",
       "        vertical-align: middle;\n",
       "    }\n",
       "\n",
       "    .dataframe tbody tr th {\n",
       "        vertical-align: top;\n",
       "    }\n",
       "\n",
       "    .dataframe thead th {\n",
       "        text-align: right;\n",
       "    }\n",
       "</style>\n",
       "<table border=\"1\" class=\"dataframe\">\n",
       "  <thead>\n",
       "    <tr style=\"text-align: right;\">\n",
       "      <th></th>\n",
       "      <th>Iteration</th>\n",
       "      <th>A</th>\n",
       "    </tr>\n",
       "  </thead>\n",
       "  <tbody>\n",
       "    <tr>\n",
       "      <th>0</th>\n",
       "      <td>0</td>\n",
       "      <td>0.295116</td>\n",
       "    </tr>\n",
       "    <tr>\n",
       "      <th>1</th>\n",
       "      <td>1</td>\n",
       "      <td>0.296969</td>\n",
       "    </tr>\n",
       "    <tr>\n",
       "      <th>2</th>\n",
       "      <td>2</td>\n",
       "      <td>0.199874</td>\n",
       "    </tr>\n",
       "    <tr>\n",
       "      <th>3</th>\n",
       "      <td>3</td>\n",
       "      <td>0.164191</td>\n",
       "    </tr>\n",
       "    <tr>\n",
       "      <th>4</th>\n",
       "      <td>4</td>\n",
       "      <td>0.147599</td>\n",
       "    </tr>\n",
       "    <tr>\n",
       "      <th>...</th>\n",
       "      <td>...</td>\n",
       "      <td>...</td>\n",
       "    </tr>\n",
       "    <tr>\n",
       "      <th>835</th>\n",
       "      <td>37</td>\n",
       "      <td>0.132062</td>\n",
       "    </tr>\n",
       "    <tr>\n",
       "      <th>836</th>\n",
       "      <td>38</td>\n",
       "      <td>0.132263</td>\n",
       "    </tr>\n",
       "    <tr>\n",
       "      <th>837</th>\n",
       "      <td>39</td>\n",
       "      <td>0.131833</td>\n",
       "    </tr>\n",
       "    <tr>\n",
       "      <th>838</th>\n",
       "      <td>40</td>\n",
       "      <td>0.131851</td>\n",
       "    </tr>\n",
       "    <tr>\n",
       "      <th>839</th>\n",
       "      <td>41</td>\n",
       "      <td>0.132928</td>\n",
       "    </tr>\n",
       "  </tbody>\n",
       "</table>\n",
       "<p>840 rows × 2 columns</p>\n",
       "</div>"
      ],
      "text/plain": [
       "     Iteration         A\n",
       "0            0  0.295116\n",
       "1            1  0.296969\n",
       "2            2  0.199874\n",
       "3            3  0.164191\n",
       "4            4  0.147599\n",
       "..         ...       ...\n",
       "835         37  0.132062\n",
       "836         38  0.132263\n",
       "837         39  0.131833\n",
       "838         40  0.131851\n",
       "839         41  0.132928\n",
       "\n",
       "[840 rows x 2 columns]"
      ]
     },
     "execution_count": 34,
     "metadata": {},
     "output_type": "execute_result"
    }
   ],
   "source": [
    "# Make a dataframe that averages the data from the different iterations of version 2\n",
    "# All version 2 data is labelled as \"sparsity_v2_....\"\n",
    "\n",
    "\n",
    "# Read in all the csv files where the name starts with \"sparsity_v2_\"\n",
    "import pandas as pd\n",
    "import glob\n",
    "import os\n",
    "import numpy as np\n",
    "import matplotlib.pyplot as plt\n",
    "import seaborn as sns\n",
    "\n",
    "# Read in all the csv files where the name starts with \"sparsity_v2_\"\n",
    "path = os.getcwd()\n",
    "files = glob.glob(os.path.join(path, \"sparsity_v2_*.csv\"))\n",
    "# Average the data from the different iterations in files into one dataframe\n",
    "df = pd.concat((pd.read_csv(file) for file in files), axis = 0, ignore_index= True)\n",
    "\n",
    "# Rename the column form \"Unnamed: 0\" to \"Iteration\"\n",
    "df.rename(columns = {\"Unnamed: 0\": \"Iteration\"}, inplace = True)\n",
    "\n",
    "# Drop the columns B and K \n",
    "df.drop([\"B\", \"K\"], axis = 1, inplace = True)"
   ]
  },
  {
   "cell_type": "code",
   "execution_count": 49,
   "metadata": {},
   "outputs": [],
   "source": [
    "# Read in all the csv files where the name starts with \"sparsity_v3_\"\n",
    "path = os.getcwd()\n",
    "files = glob.glob(os.path.join(path, \"sparsity_v3_*.csv\"))\n",
    "\n",
    "# Average the data from the different iterations in files into one dataframe\n",
    "df2 = pd.concat((pd.read_csv(file) for file in files), axis = 0, ignore_index= True)\n",
    "\n",
    "# Rename the column form \"Unnamed: 0\" to \"Iteration\"\n",
    "df2.rename(columns = {\"Unnamed: 0\": \"Iteration\"}, inplace = True)\n",
    "\n",
    "# Drop the columns B and K\n",
    "df2.drop([\"B\", \"K\"], axis = 1, inplace = True)\n",
    "\n",
    "# Read in all the csv files where the name starts with \"sparsity_v4_\"\n",
    "path = os.getcwd()\n",
    "files = glob.glob(os.path.join(path, \"sparsity_v4_*.csv\"))\n",
    "\n",
    "# Average the data from the different iterations in files into one dataframe\n",
    "df3 = pd.concat((pd.read_csv(file) for file in files), axis = 0, ignore_index= True)\n",
    "\n",
    "# Rename the column form \"Unnamed: 0\" to \"Iteration\"\n",
    "df3.rename(columns = {\"Unnamed: 0\": \"Iteration\"}, inplace = True)\n",
    "\n",
    "# Drop the columns B and K\n",
    "df3.drop([\"B\", \"K\"], axis = 1, inplace = True)"
   ]
  },
  {
   "cell_type": "code",
   "execution_count": 57,
   "metadata": {},
   "outputs": [
    {
     "data": {
      "text/plain": [
       "Text(0, 0.5, 'Sparsity of A')"
      ]
     },
     "execution_count": 57,
     "metadata": {},
     "output_type": "execute_result"
    },
    {
     "data": {
      "image/png": "[encoded data removed]",
      "text/plain": [
       "<Figure size 640x480 with 1 Axes>"
      ]
     },
     "metadata": {},
     "output_type": "display_data"
    }
   ],
   "source": [
    "# Create a scatterplot of the data in df, grouped by iteration, for the column A \n",
    "\n",
    "# Create a figure\n",
    "plt.figure()\n",
    "# Create a scatter plot that plots the mean value in A for each iteration and depicts the error bars \n",
    "# as the standard deviation of the values in A for each iteration\n",
    "sns.scatterplot(x = \"Iteration\", y = \"A\", data = df)\n",
    "sns.lineplot(x = \"Iteration\", y = \"A\", data = df.groupby(\"Iteration\").mean(), errorbar= \"sd\", label = \"sparse, CPU\")\n",
    "\n",
    "sns.scatterplot(x = \"Iteration\", y = \"A\", data = df2)\n",
    "sns.lineplot(x = \"Iteration\", y = \"A\", data = df2.groupby(\"Iteration\").mean(), errorbar= \"sd\", label = \"dense, GPU\")\n",
    "\n",
    "sns.scatterplot(x = \"Iteration\", y = \"A\", data = df3)\n",
    "sns.lineplot(x = \"Iteration\", y = \"A\", data = df3.groupby(\"Iteration\").mean(), errorbar= \"sd\", label = \"sparse, GPU\")\n",
    "\n",
    "# Set the title of the plot\n",
    "plt.title(\"Average Sparsity value for each iteration\")\n",
    "\n",
    "# Set the x-axis label\n",
    "plt.xlabel(\"Iteration\")\n",
    "\n",
    "# Set the y-axis label\n",
    "plt.ylabel(\"Sparsity of A\")"
   ]
  },
  {
   "cell_type": "code",
   "execution_count": null,
   "metadata": {},
   "outputs": [],
   "source": []
  }
 ],
 "metadata": {
  "kernelspec": {
   "display_name": "Python 3",
   "language": "python",
   "name": "python3"
  },
  "language_info": {
   "codemirror_mode": {
    "name": "ipython",
    "version": 3
   },
   "file_extension": ".py",
   "mimetype": "text/x-python",
   "name": "python",
   "nbconvert_exporter": "python",
   "pygments_lexer": "ipython3",
   "version": "3.8.13"
  }
 },
 "nbformat": 4,
 "nbformat_minor": 2
}
