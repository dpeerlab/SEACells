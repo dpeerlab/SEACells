{
 "cells": [
  {
   "cell_type": "code",
   "execution_count": 29,
   "metadata": {},
   "outputs": [],
   "source": [
    "import tracemalloc\n",
    "import time\n",
    "import scanpy as sc\n",
    "import pandas as pd\n",
    "\n",
    "import cupy as cp\n",
    "import cupyx\n",
    "import numpy as np\n",
    "from tqdm import tqdm\n",
    "\n",
    "from icecream import ic\n",
    "\n",
    "from SEACells.core import SEACells\n"
   ]
  },
  {
   "cell_type": "code",
   "execution_count": 30,
   "metadata": {},
   "outputs": [],
   "source": [
    "from scipy.sparse import csr_matrix"
   ]
  },
  {
   "cell_type": "code",
   "execution_count": 31,
   "metadata": {},
   "outputs": [],
   "source": [
    "ad = sc.read(\"/home/aparna/DATA/aparnakumar/50000_cells/mouse_marioni_50k.h5ad\") \n",
    "num_cells = 1000\n",
    "ad = ad[:num_cells]  "
   ]
  },
  {
   "cell_type": "code",
   "execution_count": 32,
   "metadata": {},
   "outputs": [],
   "source": [
    "## Core parameters \n",
    "# number of SEACells\n",
    "n_SEACells = num_cells // 75\n",
    "build_kernel_on = 'X_pca' # key in ad.obsm to use for computing metacells\n",
    "                            # This would be replaced by 'X_svd' for ATAC data\n",
    "\n",
    "## Additional parameters\n",
    "n_waypoint_eigs = 10 # Number of eigenvalues to consider when initializing metacells"
   ]
  },
  {
   "cell_type": "code",
   "execution_count": 33,
   "metadata": {},
   "outputs": [
    {
     "name": "stdout",
     "output_type": "stream",
     "text": [
      "SPARSE AND NOT GPU\n",
      "TRYING SEACellsCPU\n",
      "Welcome to SEACells!\n",
      "Computing kNN graph using scanpy NN ...\n",
      "Computing radius for adaptive bandwidth kernel...\n"
     ]
    },
    {
     "data": {
      "application/vnd.jupyter.widget-view+json": {
       "model_id": "527c35066b5b415a9bec6752a3cb82e7",
       "version_major": 2,
       "version_minor": 0
      },
      "text/plain": [
       "HBox(children=(FloatProgress(value=0.0, max=1000.0), HTML(value='')))"
      ]
     },
     "metadata": {},
     "output_type": "display_data"
    },
    {
     "name": "stdout",
     "output_type": "stream",
     "text": [
      "\n",
      "Making graph symmetric...\n",
      "Parameter graph_construction = union being used to build KNN graph...\n",
      "Computing RBF kernel...\n"
     ]
    },
    {
     "data": {
      "application/vnd.jupyter.widget-view+json": {
       "model_id": "2970e9950fab40c780625fb0252bf573",
       "version_major": 2,
       "version_minor": 0
      },
      "text/plain": [
       "HBox(children=(FloatProgress(value=0.0, max=1000.0), HTML(value='')))"
      ]
     },
     "metadata": {},
     "output_type": "display_data"
    },
    {
     "name": "stdout",
     "output_type": "stream",
     "text": [
      "\n",
      "Building similarity LIL matrix...\n"
     ]
    },
    {
     "data": {
      "application/vnd.jupyter.widget-view+json": {
       "model_id": "15cd2e8c651c4abfb323e47626238e77",
       "version_major": 2,
       "version_minor": 0
      },
      "text/plain": [
       "HBox(children=(FloatProgress(value=0.0, max=1000.0), HTML(value='')))"
      ]
     },
     "metadata": {},
     "output_type": "display_data"
    },
    {
     "name": "stdout",
     "output_type": "stream",
     "text": [
      "\n",
      "Constructing CSR matrix...\n",
      "Building kernel on X_pca\n",
      "Computing diffusion components from X_pca for waypoint initialization ... \n",
      "Determing nearest neighbor graph...\n"
     ]
    },
    {
     "name": "stderr",
     "output_type": "stream",
     "text": [
      "100%|██████████| 14/14 [00:00<00:00, 713.80it/s]"
     ]
    },
    {
     "name": "stdout",
     "output_type": "stream",
     "text": [
      "Done.\n",
      "Sampling waypoints ...\n",
      "Done.\n",
      "Selecting 9 cells from waypoint initialization.\n",
      "Initializing residual matrix using greedy column selection\n",
      "Initializing f and g...\n",
      "Selecting 4 cells from greedy initialization.\n",
      "Randomly initialized A matrix.\n"
     ]
    },
    {
     "name": "stderr",
     "output_type": "stream",
     "text": [
      "\n"
     ]
    },
    {
     "name": "stdout",
     "output_type": "stream",
     "text": [
      "Setting convergence threshold at 0.00056\n"
     ]
    }
   ],
   "source": [
    "model2 = SEACells(ad, \n",
    "                 use_gpu=False, \n",
    "                 use_sparse=True, \n",
    "                 build_kernel_on=build_kernel_on, \n",
    "                 n_SEACells=n_SEACells, \n",
    "                 n_waypoint_eigs=n_waypoint_eigs,\n",
    "                 convergence_epsilon = 1e-5)\n",
    "\n",
    "model2.construct_kernel_matrix()\n",
    "model2.initialize_archetypes()\n",
    "model2.initialize()"
   ]
  },
  {
   "cell_type": "code",
   "execution_count": 34,
   "metadata": {},
   "outputs": [],
   "source": [
    "A = model2.A_\n",
    "\n",
    "B = model2.B_\n",
    "\n",
    "K = model2.K"
   ]
  },
  {
   "cell_type": "code",
   "execution_count": 35,
   "metadata": {},
   "outputs": [
    {
     "name": "stderr",
     "output_type": "stream",
     "text": [
      "ic| type(A): <class 'scipy.sparse.csc.csc_matrix'>\n",
      "ic| type(B): <class 'scipy.sparse.csr.csr_matrix'>\n",
      "ic| type(K): <class 'scipy.sparse.csr.csr_matrix'>\n"
     ]
    },
    {
     "data": {
      "text/plain": [
       "scipy.sparse.csr.csr_matrix"
      ]
     },
     "execution_count": 35,
     "metadata": {},
     "output_type": "execute_result"
    }
   ],
   "source": [
    "ic(type(A))\n",
    "ic(type(B))\n",
    "ic(type(K))"
   ]
  },
  {
   "cell_type": "code",
   "execution_count": 36,
   "metadata": {},
   "outputs": [],
   "source": [
    "dict_A = {'cpu': A, 'gpu_dense': cp.array(A.todense()), 'gpu_sparse': cp.sparse.csr_matrix(A)}\n",
    "dict_B = {'cpu': B, 'gpu_dense': cp.array(B.todense()), 'gpu_sparse': cp.sparse.csr_matrix(B)}\n",
    "dict_K = {'cpu': K, 'gpu_dense': cp.array(K.todense()), 'gpu_sparse': cp.sparse.csr_matrix(K)}\n"
   ]
  },
  {
   "cell_type": "code",
   "execution_count": 54,
   "metadata": {},
   "outputs": [
    {
     "name": "stderr",
     "output_type": "stream",
     "text": [
      "ic| key: 'cpu', type(value): <class 'scipy.sparse.csc.csc_matrix'>\n",
      "ic| key: 'gpu_dense', type(value): <class 'cupy.ndarray'>\n"
     ]
    },
    {
     "name": "stderr",
     "output_type": "stream",
     "text": [
      "ic| key: 'gpu_sparse'\n",
      "    type(value): <class 'cupyx.scipy.sparse._csr.csr_matrix'>\n",
      "ic| key: 'cpu', type(value): <class 'scipy.sparse.csr.csr_matrix'>\n",
      "ic| key: 'gpu_dense', type(value): <class 'cupy.ndarray'>\n",
      "ic| key: 'gpu_sparse'\n",
      "    type(value): <class 'cupyx.scipy.sparse._csr.csr_matrix'>\n",
      "ic| key: 'cpu', type(value): <class 'scipy.sparse.csr.csr_matrix'>\n",
      "ic| key: 'gpu_dense', type(value): <class 'cupy.ndarray'>\n",
      "ic| key: 'gpu_sparse'\n",
      "    type(value): <class 'cupyx.scipy.sparse._csr.csr_matrix'>\n"
     ]
    }
   ],
   "source": [
    "# Print types of everything in the dictionary\n",
    "for key, value in dict_A.items():\n",
    "    ic(key, type(value))\n",
    "\n",
    "for key, value in dict_B.items():\n",
    "    ic(key, type(value))\n",
    "\n",
    "for key, value in dict_K.items():\n",
    "    ic(key, type(value))\n",
    "    "
   ]
  },
  {
   "cell_type": "code",
   "execution_count": 90,
   "metadata": {},
   "outputs": [
    {
     "name": "stdout",
     "output_type": "stream",
     "text": [
      "Sparsity of CPU is 0.9603846153846154\n",
      "Sparsity of gpu_sparse is 0.9603846153846154\n",
      "Sparsity of gpu_dense is 0.9603846153846154\n",
      "Sparsity of CPU is 0.001\n",
      "Sparsity of gpu_sparse is 0.001\n",
      "Sparsity of gpu_dense is 0.001\n",
      "Sparsity of CPU is 0.095394\n",
      "Sparsity of gpu_sparse is 0.095394\n",
      "Sparsity of gpu_dense is 0.095394\n"
     ]
    }
   ],
   "source": [
    "def compute_sparsity(M):\n",
    "    \"\"\"\n",
    "    Compute the proportion of non-zero elements in a matrix\n",
    "    @param M: a dense numpy array\n",
    "    \"\"\"\n",
    "    return (M != 0).sum() / M.size\n",
    "\n",
    "def check_results(d):\n",
    "    \"\"\"\n",
    "    Check that all results in a dictionary are the same\n",
    "    \"\"\"\n",
    "    \n",
    "    v2 = d['cpu']\n",
    "    # Turn v2 into a numpy array\n",
    "    v2 = v2.toarray()\n",
    "    elt2 = np.where(v2.flatten() != 0)[0]\n",
    "    print('Sparsity of {} is {}'.format('CPU', compute_sparsity(v2)))\n",
    "    for key in ['gpu_sparse', 'gpu_dense']:\n",
    "        v1 = d[key]\n",
    "        # Convert to dense for comparison\n",
    "        if key == 'gpu_sparse':\n",
    "            v1 = cp.array(v1.todense())\n",
    "        # Turn into a numpy array\n",
    "        v1 = cp.asnumpy(v1)\n",
    "        print('Sparsity of {} is {}'.format(key, compute_sparsity(v1)))\n",
    "        # Grab the nonzero elements of v1\n",
    "        elt1 = np.where(v1.flatten() != 0)[0]\n",
    "        # Check that the nonzero elements are the same\n",
    "        try:\n",
    "            assert set(list(elt1)) == set(list(elt2))\n",
    "        except AssertionError:\n",
    "            print('Nonzero elements of {} are different from nonzero elements of {}'.format('CPU', key))\n",
    "            \n",
    "\n",
    "\n",
    "# Check that all the matrices are the same \n",
    "for d in [dict_A, dict_B, dict_K]:\n",
    "    check_results(d)"
   ]
  },
  {
   "cell_type": "code",
   "execution_count": 91,
   "metadata": {},
   "outputs": [
    {
     "name": "stdout",
     "output_type": "stream",
     "text": [
      "Sparsity of CPU is 0.1834319526627219\n",
      "Sparsity of gpu_sparse is 0.1834319526627219\n",
      "Sparsity of gpu_dense is 0.1834319526627219\n",
      "Sparsity of CPU is 0.09507692307692307\n",
      "Sparsity of gpu_sparse is 0.09507692307692307\n",
      "Sparsity of gpu_dense is 0.09507692307692307\n"
     ]
    }
   ],
   "source": [
    "t2 = {}\n",
    "t1 = {}\n",
    "\n",
    "for key in ['cpu', 'gpu_dense', 'gpu_sparse']: \n",
    "    A = dict_A[key] \n",
    "    B = dict_B[key] \n",
    "    K = dict_K[key] \n",
    "\n",
    "    t2[key] = (K @ B).T\n",
    "    t1[key] = t2[key] @ B\n",
    "\n",
    "check_results(t1)\n",
    "check_results(t2)"
   ]
  },
  {
   "cell_type": "code",
   "execution_count": 93,
   "metadata": {},
   "outputs": [
    {
     "name": "stdout",
     "output_type": "stream",
     "text": [
      "key:  cpu\n",
      "key:  gpu_dense\n",
      "key:  gpu_sparse\n",
      "Sparsity of CPU is 0.9856153846153846\n",
      "Sparsity of gpu_sparse is 0.9856153846153846\n",
      "Sparsity of gpu_dense is 0.9856153846153846\n"
     ]
    }
   ],
   "source": [
    "G ={}\n",
    "\n",
    "for key in ['cpu', 'gpu_dense', 'gpu_sparse']: \n",
    "    A = dict_A[key] \n",
    "    B = dict_B[key] \n",
    "    K = dict_K[key] \n",
    "\n",
    "    temp = 2.0 * (t1[key] @ A - t2[key])\n",
    "\n",
    "    # Make everything less than 1e-15 equal to 0 \n",
    "    print(\"key: \", key)\n",
    "    G[key] = temp\n",
    "    # # Type of temp can be numpy sparse matrix, cupy dense matrix, or cupy sparse matrix\n",
    "    # try:\n",
    "    #     temp[temp < 1e-15] = 0\n",
    "    #     G[key] = temp\n",
    "    # except Exception as e:\n",
    "    #     try: \n",
    "    #         temp.data[temp.data < 1e-15] = 0\n",
    "    #         G[key] = temp\n",
    "    #     except Exception as e:\n",
    "    #         print(e)\n",
    "\n",
    "check_results(G)"
   ]
  },
  {
   "cell_type": "code",
   "execution_count": 104,
   "metadata": {},
   "outputs": [
    {
     "name": "stdout",
     "output_type": "stream",
     "text": [
      "Sparsity of CPU is 0.07692307692307693\n",
      "Sparsity of gpu_sparse is 0.07692307692307693\n",
      "Sparsity of gpu_dense is 0.07692307692307693\n"
     ]
    }
   ],
   "source": [
    "# GPU Dense + Sparse\n",
    "\n",
    "egs = {} \n",
    "\n",
    "for key in ['cpu', 'gpu_dense', 'gpu_sparse']:\n",
    "    Gg = G[key]\n",
    "\n",
    "    Bg = dict_B[key]\n",
    "    n, k = Bg.shape\n",
    "\n",
    "    if key == 'cpu':\n",
    "        amins = np.argmin(Gg, axis=0)\n",
    "        amins = np.array(amins).reshape(-1)\n",
    "\n",
    "        # # loop free implementation\n",
    "        eg = csr_matrix((np.ones(len(amins)), (amins, np.arange(n))), shape=A.shape)\n",
    "\n",
    "    elif key == 'gpu_dense':\n",
    "        # get argmins\n",
    "        amins = cp.argmin(Gg, axis=0)\n",
    "\n",
    "        # loop free implementation\n",
    "        eg = cp.zeros((k, n))\n",
    "        eg[amins, cp.arange(n)] = 1.0\n",
    "\n",
    "    elif key == 'gpu_sparse':\n",
    "        row_indices = cp.array(amins)\n",
    "        col_indices = cp.arange(n)\n",
    "        data = cp.array([1.0] * len(row_indices))\n",
    "        eg = cupyx.scipy.sparse.coo_matrix((data, (row_indices, col_indices)), shape=(k, n))\n",
    "        eg = eg.tocsr()\n",
    "\n",
    "    egs[key] = eg\n",
    "\n",
    "\n",
    "check_results(egs)"
   ]
  },
  {
   "cell_type": "code",
   "execution_count": 102,
   "metadata": {},
   "outputs": [
    {
     "name": "stdout",
     "output_type": "stream",
     "text": [
      "1000\n"
     ]
    }
   ],
   "source": [
    "print(len(data))"
   ]
  },
  {
   "cell_type": "code",
   "execution_count": 106,
   "metadata": {},
   "outputs": [
    {
     "name": "stdout",
     "output_type": "stream",
     "text": [
      "Sparsity of CPU is 0.9607692307692308\n",
      "Sparsity of gpu_sparse is 0.9607692307692308\n",
      "Sparsity of gpu_dense is 0.9607692307692308\n"
     ]
    }
   ],
   "source": [
    "updatedA = {} \n",
    "\n",
    "for key in ['cpu', 'gpu_dense', 'gpu_sparse']: \n",
    "    t = 1\n",
    "    e = egs[key]\n",
    "    A = dict_A[key]\n",
    "    if key == 'cpu':\n",
    "        updated_A = A+  2.0 / (t + 2.0) * (e - A)\n",
    "    elif key == 'gpu_dense': \n",
    "        f = 2.0 / (t + 2.0)\n",
    "        updated_A = cp.add(A, cp.multiply(f, cp.subtract(e, A)))\n",
    "    elif key == 'gpu_sparse': \n",
    "        f = 2.0 / (t + 2.0)\n",
    "        updated_A = A + (f * (e - A))\n",
    "    \n",
    "    updatedA[key] = updated_A\n",
    "\n",
    "check_results(updatedA)"
   ]
  },
  {
   "cell_type": "code",
   "execution_count": null,
   "metadata": {},
   "outputs": [],
   "source": []
  }
 ],
 "metadata": {
  "kernelspec": {
   "display_name": "Python 3",
   "language": "python",
   "name": "python3"
  },
  "language_info": {
   "codemirror_mode": {
    "name": "ipython",
    "version": 3
   },
   "file_extension": ".py",
   "mimetype": "text/x-python",
   "name": "python",
   "nbconvert_exporter": "python",
   "pygments_lexer": "ipython3",
   "version": "3.8.13"
  }
 },
 "nbformat": 4,
 "nbformat_minor": 2
}
