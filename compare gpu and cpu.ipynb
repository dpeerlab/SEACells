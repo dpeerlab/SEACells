{
 "cells": [
  {
   "cell_type": "code",
   "execution_count": 1,
   "metadata": {},
   "outputs": [
    {
     "name": "stderr",
     "output_type": "stream",
     "text": [
      "findfont: Font family ['Raleway'] not found. Falling back to DejaVu Sans.\n",
      "findfont: Font family ['Lato'] not found. Falling back to DejaVu Sans.\n"
     ]
    }
   ],
   "source": [
    "import tracemalloc\n",
    "import time\n",
    "import scanpy as sc\n",
    "import pandas as pd\n",
    "import scipy\n",
    "\n",
    "import cupy as cp\n",
    "import cupyx\n",
    "import numpy as np\n",
    "from tqdm import tqdm\n",
    "\n",
    "import sys\n",
    "\n",
    "from icecream import ic\n",
    "\n",
    "from SEACells.core_copy import SEACells"
   ]
  },
  {
   "cell_type": "code",
   "execution_count": 2,
   "metadata": {},
   "outputs": [],
   "source": [
    "num_cells = 1000\n",
    "\n",
    "n_SEACells = num_cells // 75\n",
    "build_kernel_on = \"X_pca\"  # key in ad.obsm to use for computing metacells\n",
    "\n",
    "n_waypoint_eigs = (10)"
   ]
  },
  {
   "cell_type": "code",
   "execution_count": 3,
   "metadata": {},
   "outputs": [],
   "source": [
    "ad = sc.read(\"/home/aparna/DATA/aparnakumar/150000_cells/mouse_marioni_150k.h5ad\")\n",
    "ad = ad[:num_cells]"
   ]
  },
  {
   "cell_type": "code",
   "execution_count": 4,
   "metadata": {},
   "outputs": [
    {
     "name": "stdout",
     "output_type": "stream",
     "text": [
      "SPARSE AND NOT GPU\n",
      "TRYING SEACellsCPU\n",
      "Welcome to SEACells!\n"
     ]
    }
   ],
   "source": [
    "model2 = SEACells(\n",
    "    ad,\n",
    "    use_gpu=False,\n",
    "    use_sparse=True,\n",
    "    build_kernel_on=build_kernel_on,\n",
    "    n_SEACells=n_SEACells,\n",
    "    n_waypoint_eigs=n_waypoint_eigs,\n",
    "    convergence_epsilon=1e-5,\n",
    ")"
   ]
  },
  {
   "cell_type": "code",
   "execution_count": 5,
   "metadata": {},
   "outputs": [
    {
     "name": "stdout",
     "output_type": "stream",
     "text": [
      "SPARSE AND GPU\n",
      "TRYING SEACellsGPU\n",
      "Welcome to SEACells GPU!\n"
     ]
    }
   ],
   "source": [
    "model4 = SEACells( \n",
    "    ad,\n",
    "    use_gpu=True,\n",
    "    use_sparse=True,\n",
    "    build_kernel_on=build_kernel_on,\n",
    "    n_SEACells=n_SEACells,\n",
    "    n_waypoint_eigs=n_waypoint_eigs,\n",
    "    convergence_epsilon=1e-5,\n",
    ")"
   ]
  },
  {
   "cell_type": "code",
   "execution_count": 6,
   "metadata": {},
   "outputs": [
    {
     "name": "stdout",
     "output_type": "stream",
     "text": [
      "Computing kNN graph using scanpy NN ...\n",
      "Computing radius for adaptive bandwidth kernel...\n"
     ]
    },
    {
     "data": {
      "application/vnd.jupyter.widget-view+json": {
       "model_id": "4ccddd298c894acbb8fa43abd32d56a1",
       "version_major": 2,
       "version_minor": 0
      },
      "text/plain": [
       "HBox(children=(FloatProgress(value=0.0, max=1000.0), HTML(value='')))"
      ]
     },
     "metadata": {},
     "output_type": "display_data"
    },
    {
     "name": "stdout",
     "output_type": "stream",
     "text": [
      "\n",
      "Making graph symmetric...\n",
      "Parameter graph_construction = union being used to build KNN graph...\n",
      "Computing RBF kernel...\n"
     ]
    },
    {
     "data": {
      "application/vnd.jupyter.widget-view+json": {
       "model_id": "ccd9f8d7fd034cf98fc0d3481b78f021",
       "version_major": 2,
       "version_minor": 0
      },
      "text/plain": [
       "HBox(children=(FloatProgress(value=0.0, max=1000.0), HTML(value='')))"
      ]
     },
     "metadata": {},
     "output_type": "display_data"
    },
    {
     "name": "stdout",
     "output_type": "stream",
     "text": [
      "\n",
      "Building similarity LIL matrix...\n"
     ]
    },
    {
     "data": {
      "application/vnd.jupyter.widget-view+json": {
       "model_id": "c3bba6a627e9430f889056cbd87ba37f",
       "version_major": 2,
       "version_minor": 0
      },
      "text/plain": [
       "HBox(children=(FloatProgress(value=0.0, max=1000.0), HTML(value='')))"
      ]
     },
     "metadata": {},
     "output_type": "display_data"
    },
    {
     "name": "stdout",
     "output_type": "stream",
     "text": [
      "\n",
      "Constructing CSR matrix...\n"
     ]
    }
   ],
   "source": [
    "model2.construct_kernel_matrix()"
   ]
  },
  {
   "cell_type": "code",
   "execution_count": 7,
   "metadata": {},
   "outputs": [],
   "source": [
    "K2 = model2.K"
   ]
  },
  {
   "cell_type": "code",
   "execution_count": 8,
   "metadata": {},
   "outputs": [],
   "source": [
    "kernel_matrix = model2.kernel_matrix\n",
    "cupyx_kernel_matrix = cupyx.scipy.sparse.csr_matrix(kernel_matrix)\n",
    "\n",
    "kernel_matrix_T = kernel_matrix.T \n",
    "cupyx_kernel_matrix_T = cupyx_kernel_matrix.T\n"
   ]
  },
  {
   "cell_type": "code",
   "execution_count": 9,
   "metadata": {},
   "outputs": [
    {
     "name": "stdout",
     "output_type": "stream",
     "text": [
      "True\n"
     ]
    }
   ],
   "source": [
    "# Check if kernel_matrix and cupyx_kernel_matrix are equal \n",
    "print(np.allclose(kernel_matrix.todense(), cupyx_kernel_matrix.get().todense()))"
   ]
  },
  {
   "cell_type": "code",
   "execution_count": 10,
   "metadata": {},
   "outputs": [
    {
     "name": "stdout",
     "output_type": "stream",
     "text": [
      "True\n"
     ]
    }
   ],
   "source": [
    "# Check if kernel_matrix_T and cupyx_kernel_matrix_T are equal \n",
    "print(np.allclose(kernel_matrix_T.todense(), cupyx_kernel_matrix_T.get().todense()))"
   ]
  },
  {
   "cell_type": "code",
   "execution_count": 11,
   "metadata": {},
   "outputs": [],
   "source": [
    "K = kernel_matrix @ kernel_matrix_T \n",
    "K_cupy = cupyx_kernel_matrix @ cupyx_kernel_matrix_T"
   ]
  },
  {
   "cell_type": "code",
   "execution_count": 12,
   "metadata": {},
   "outputs": [
    {
     "name": "stdout",
     "output_type": "stream",
     "text": [
      "True\n"
     ]
    }
   ],
   "source": [
    "# Check if K and K_cupy are equal \n",
    "print(np.allclose(K.todense(), K_cupy.get().todense()))"
   ]
  },
  {
   "cell_type": "code",
   "execution_count": 13,
   "metadata": {},
   "outputs": [
    {
     "name": "stdout",
     "output_type": "stream",
     "text": [
      "{8.881784197001252e-16: 225, 0.0: 979791, 1.1102230246251565e-16: 2528, -4.440892098500626e-16: 1993, -5.551115123125783e-17: 1971, -2.220446049250313e-16: 2997, 5.551115123125783e-17: 2078, 4.440892098500626e-16: 1862, -1.1102230246251565e-16: 2511, 2.220446049250313e-16: 2953, -2.7755575615628914e-17: 340, -8.881784197001252e-16: 262, 2.7755575615628914e-17: 340, 6.661338147750939e-16: 15, 1.3877787807814457e-17: 25, -1.3322676295501878e-15: 13, -6.661338147750939e-16: 27, 6.938893903907228e-18: 11, -1.3877787807814457e-17: 14, -6.938893903907228e-18: 6, -3.469446951953614e-18: 3, 1.7763568394002505e-15: 7, 1.3322676295501878e-15: 19, -3.3306690738754696e-16: 1, 3.3306690738754696e-16: 1, -1.7763568394002505e-15: 7}\n"
     ]
    }
   ],
   "source": [
    "diff = (K_cupy.get().todense() - K.todense()).flatten().tolist()[0]\n",
    "\n",
    "# Get the frequency of the elements in diff  \n",
    "freq = {}\n",
    "for item in diff:\n",
    "    if (item in freq):\n",
    "        freq[item] += 1\n",
    "    else:\n",
    "        freq[item] = 1\n",
    "\n",
    "print(freq)"
   ]
  },
  {
   "cell_type": "code",
   "execution_count": 14,
   "metadata": {},
   "outputs": [],
   "source": [
    "model4.add_precomputed_kernel_matrix(cupyx_kernel_matrix)"
   ]
  },
  {
   "cell_type": "code",
   "execution_count": 15,
   "metadata": {},
   "outputs": [],
   "source": [
    "K4 = model4.K"
   ]
  },
  {
   "cell_type": "code",
   "execution_count": 16,
   "metadata": {},
   "outputs": [
    {
     "name": "stdout",
     "output_type": "stream",
     "text": [
      "True\n"
     ]
    }
   ],
   "source": [
    "# Check if K and K4 are equal \n",
    "print(np.allclose(K.todense(), K4.get().todense()))"
   ]
  },
  {
   "cell_type": "code",
   "execution_count": 17,
   "metadata": {},
   "outputs": [
    {
     "name": "stdout",
     "output_type": "stream",
     "text": [
      "Building kernel on X_pca\n",
      "Computing diffusion components from X_pca for waypoint initialization ... \n",
      "Determing nearest neighbor graph...\n"
     ]
    },
    {
     "name": "stderr",
     "output_type": "stream",
     "text": [
      "100%|██████████| 14/14 [00:00<00:00, 709.23it/s]"
     ]
    },
    {
     "name": "stdout",
     "output_type": "stream",
     "text": [
      "Done.\n",
      "Sampling waypoints ...\n",
      "Done.\n",
      "Selecting 9 cells from waypoint initialization.\n",
      "Initializing residual matrix using greedy column selection\n",
      "Initializing f and g...\n",
      "Selecting 4 cells from greedy initialization.\n",
      "Randomly initialized A matrix.\n"
     ]
    },
    {
     "name": "stderr",
     "output_type": "stream",
     "text": [
      "\n"
     ]
    },
    {
     "name": "stdout",
     "output_type": "stream",
     "text": [
      "Setting convergence threshold at 0.00055\n"
     ]
    }
   ],
   "source": [
    "model2.initialize()"
   ]
  },
  {
   "cell_type": "code",
   "execution_count": 18,
   "metadata": {},
   "outputs": [],
   "source": [
    "A0 = model2.A0\n",
    "B0 = model2.B0\n",
    "\n",
    "archetypes = model2.archetypes "
   ]
  },
  {
   "cell_type": "code",
   "execution_count": 19,
   "metadata": {},
   "outputs": [],
   "source": [
    "k = len(archetypes)\n",
    "n = K4.shape[0]\n",
    "cols = cp.arange(k)\n",
    "rows = cp.array(archetypes)\n",
    "shape = (n, k)"
   ]
  },
  {
   "cell_type": "code",
   "execution_count": 20,
   "metadata": {},
   "outputs": [],
   "source": [
    "B0_4 = cupyx.scipy.sparse.csr_matrix((cp.ones(len(rows)), (rows, cols)), shape=shape)"
   ]
  },
  {
   "cell_type": "code",
   "execution_count": 21,
   "metadata": {},
   "outputs": [
    {
     "name": "stdout",
     "output_type": "stream",
     "text": [
      "True\n"
     ]
    }
   ],
   "source": [
    "# Compare B0 and B0_4 \n",
    "print(np.allclose(B0.todense(), B0_4.get().todense()))"
   ]
  },
  {
   "cell_type": "code",
   "execution_count": 22,
   "metadata": {},
   "outputs": [
    {
     "name": "stdout",
     "output_type": "stream",
     "text": [
      "True\n",
      "True\n",
      "Sparsity of A0:  0.21346153846153845\n",
      "Sparsity of A0_4:  0.21346153846153845\n"
     ]
    }
   ],
   "source": [
    "A0_4 = cupyx.scipy.sparse.csr_matrix(A0)\n",
    "B0_4 = cupyx.scipy.sparse.csr_matrix(B0) \n",
    "\n",
    "# Compare A0 and A0_4\n",
    "print(np.allclose(A0.todense(), A0_4.get().todense()))\n",
    "\n",
    "# Compare B0 and B0_4\n",
    "print(np.allclose(B0.todense(), B0_4.get().todense()))\n",
    "\n",
    "\n",
    "# Compute the sparsity of A0 and A0_4 \n",
    "print(\"Sparsity of A0: \", A0.nnz / (A0.shape[0] * A0.shape[1]))\n",
    "print(\"Sparsity of A0_4: \", A0_4.nnz / (A0_4.shape[0] * A0_4.shape[1]))"
   ]
  },
  {
   "cell_type": "code",
   "execution_count": 23,
   "metadata": {},
   "outputs": [
    {
     "name": "stdout",
     "output_type": "stream",
     "text": [
      "  (0, 0)\t0.36862745098039224\n",
      "  (0, 1)\t0.03686274509803921\n",
      "  (0, 2)\t0.014901960784313736\n",
      "  (0, 3)\t0.03764705882352941\n",
      "  (0, 4)\t0.01647058823529412\n",
      "  (0, 5)\t0.014901960784313736\n",
      "  (0, 6)\t0.02901960784313725\n",
      "  (0, 7)\t0.025882352941176467\n",
      "  (0, 8)\t0.0015686274509803925\n",
      "  (0, 9)\t0.026666666666666672\n",
      "  (0, 10)\t0.014901960784313736\n",
      "  (0, 11)\t0.026666666666666672\n",
      "  (0, 12)\t0.02352941176470589\n",
      "  (0, 13)\t0.02117647058823529\n",
      "  (0, 14)\t0.02352941176470589\n",
      "  (0, 15)\t0.02901960784313725\n",
      "  (0, 16)\t0.025882352941176467\n",
      "  (0, 17)\t0.03215686274509803\n",
      "  (0, 18)\t0.3443137254901962\n",
      "  (0, 19)\t0.014901960784313736\n",
      "  (0, 20)\t0.027450980392156862\n",
      "  (0, 21)\t0.014901960784313736\n",
      "  (0, 22)\t0.03372549019607842\n",
      "  (0, 24)\t0.03215686274509803\n",
      "  (0, 25)\t0.020392156862745106\n",
      "  :\t:\n",
      "  (12, 975)\t0.06431372549019608\n",
      "  (12, 976)\t0.4635294117647058\n",
      "  (12, 977)\t0.06431372549019608\n",
      "  (12, 978)\t0.04549019607843137\n",
      "  (12, 979)\t0.06509803921568627\n",
      "  (12, 980)\t0.03529411764705882\n",
      "  (12, 981)\t0.03372549019607843\n",
      "  (12, 982)\t0.06980392156862744\n",
      "  (12, 983)\t0.06509803921568627\n",
      "  (12, 984)\t0.07058823529411765\n",
      "  (12, 985)\t0.04\n",
      "  (12, 986)\t0.07215686274509803\n",
      "  (12, 987)\t0.07529411764705882\n",
      "  (12, 988)\t0.03529411764705882\n",
      "  (12, 989)\t0.02117647058823529\n",
      "  (12, 990)\t0.046274509803921574\n",
      "  (12, 991)\t0.045490196078431376\n",
      "  (12, 992)\t0.017254901960784316\n",
      "  (12, 993)\t0.06823529411764706\n",
      "  (12, 994)\t0.06823529411764706\n",
      "  (12, 995)\t0.05176470588235295\n",
      "  (12, 996)\t0.06509803921568627\n",
      "  (12, 997)\t0.03215686274509804\n",
      "  (12, 998)\t0.045490196078431376\n",
      "  (12, 999)\t0.03450980392156863\n"
     ]
    }
   ],
   "source": [
    "new_A_4 = model4._updateA(B0_4, A0_4)\n",
    "\n",
    "print(new_A_4)"
   ]
  },
  {
   "cell_type": "code",
   "execution_count": 24,
   "metadata": {},
   "outputs": [
    {
     "name": "stdout",
     "output_type": "stream",
     "text": [
      "  (0, 0)\t0.36862745098039224\n",
      "  (1, 0)\t0.07843137254901959\n",
      "  (2, 0)\t0.08549019607843138\n",
      "  (4, 0)\t0.07921568627450981\n",
      "  (5, 0)\t0.05254901960784313\n",
      "  (6, 0)\t0.054901960784313725\n",
      "  (7, 0)\t0.0611764705882353\n",
      "  (8, 0)\t0.07372549019607842\n",
      "  (9, 0)\t0.029803921568627458\n",
      "  (10, 0)\t0.03607843137254901\n",
      "  (11, 0)\t0.035294117647058816\n",
      "  (12, 0)\t0.04470588235294117\n",
      "  (0, 1)\t0.03686274509803921\n",
      "  (1, 1)\t0.018823529411764704\n",
      "  (2, 1)\t0.06431372549019608\n",
      "  (3, 1)\t0.0203921568627451\n",
      "  (4, 1)\t0.04313725490196079\n",
      "  (5, 1)\t0.03058823529411765\n",
      "  (6, 1)\t0.03058823529411765\n",
      "  (7, 1)\t0.035294117647058816\n",
      "  (8, 1)\t0.05411764705882353\n",
      "  (9, 1)\t0.563921568627451\n",
      "  (10, 1)\t0.04156862745098039\n",
      "  (11, 1)\t0.045490196078431376\n",
      "  (12, 1)\t0.014901960784313736\n",
      "  :\t:\n",
      "  (1, 998)\t0.05019607843137255\n",
      "  (2, 998)\t0.043921568627450974\n",
      "  (3, 998)\t0.04313725490196079\n",
      "  (4, 998)\t0.07137254901960785\n",
      "  (5, 998)\t0.0596078431372549\n",
      "  (6, 998)\t0.05568627450980392\n",
      "  (7, 998)\t0.06431372549019608\n",
      "  (8, 998)\t0.04313725490196079\n",
      "  (9, 998)\t0.41411764705882353\n",
      "  (10, 998)\t0.03215686274509804\n",
      "  (11, 998)\t0.03529411764705882\n",
      "  (12, 998)\t0.045490196078431376\n",
      "  (0, 999)\t0.02901960784313725\n",
      "  (1, 999)\t0.07137254901960784\n",
      "  (2, 999)\t0.10588235294117646\n",
      "  (3, 999)\t0.0619607843137255\n",
      "  (4, 999)\t0.0862745098039216\n",
      "  (5, 999)\t0.07686274509803921\n",
      "  (6, 999)\t0.07529411764705882\n",
      "  (7, 999)\t0.18980392156862746\n",
      "  (8, 999)\t0.09803921568627452\n",
      "  (9, 999)\t0.05725490196078431\n",
      "  (10, 999)\t0.0580392156862745\n",
      "  (11, 999)\t0.05568627450980392\n",
      "  (12, 999)\t0.03450980392156863\n"
     ]
    }
   ],
   "source": [
    "new_A_2 = model2._updateA(B0, A0)\n",
    "\n",
    "print(new_A_2)"
   ]
  },
  {
   "cell_type": "code",
   "execution_count": 25,
   "metadata": {},
   "outputs": [],
   "source": [
    "# compare new_A_2 and new_A_4 \n",
    "\n",
    "# print(np.allclose(new_A_2.todense(), new_A_4.get().todense()))"
   ]
  },
  {
   "cell_type": "code",
   "execution_count": 26,
   "metadata": {},
   "outputs": [],
   "source": [
    "# diff = (new_A_2.todense() - new_A_4.get().todense()).flatten().tolist()[0] \n",
    "\n",
    "# # Get the frequency of the elements in diff\n",
    "# freq = {}\n",
    "# for item in diff:\n",
    "#     if (item in freq):\n",
    "#         freq[item] += 1\n",
    "#     else:\n",
    "#         freq[item] = 1\n",
    "\n",
    "# print(freq)"
   ]
  },
  {
   "cell_type": "code",
   "execution_count": 27,
   "metadata": {},
   "outputs": [
    {
     "name": "stdout",
     "output_type": "stream",
     "text": [
      "(13, 1000)\n",
      "(13, 1000)\n"
     ]
    }
   ],
   "source": [
    "# Set model2.A_ to new_A_2 \n",
    "model2.A_ = new_A_2\n",
    "\n",
    "# Set model4.A_ to new_A_4 \n",
    "model4.A_ = new_A_4\n",
    "\n",
    "# Compare model2.A_ and model4.A_ \n",
    "# print(np.allclose(model2.A_.todense(), model4.A_.get().todense()))\n",
    "\n",
    "# Check the shapes of model2.A_ and model4.A_\n",
    "print(model2.A_.shape)\n",
    "print(model4.A_.shape)\n"
   ]
  },
  {
   "cell_type": "code",
   "execution_count": 28,
   "metadata": {},
   "outputs": [
    {
     "name": "stdout",
     "output_type": "stream",
     "text": [
      "True\n",
      "(1000, 13)\n",
      "(1000, 13)\n"
     ]
    }
   ],
   "source": [
    "# Set model2.B_ to B0 \n",
    "model2.B_ = B0\n",
    "\n",
    "# Set model4.B_ to B0_4\n",
    "model4.B_ = B0_4\n",
    "\n",
    "# Compare model2.B_ and model4.B_\n",
    "print(np.allclose(model2.B_.todense(), model4.B_.get().todense()))\n",
    "\n",
    "# Check the shapes of model2.B_ and model4.B_ \n",
    "print(model2.B_.shape)\n",
    "print(model4.B_.get().shape)"
   ]
  },
  {
   "cell_type": "code",
   "execution_count": 29,
   "metadata": {},
   "outputs": [
    {
     "name": "stdout",
     "output_type": "stream",
     "text": [
      "True\n",
      "55.15852947820507\n",
      "55.15852947820507\n"
     ]
    }
   ],
   "source": [
    "RSS = model2.compute_RSS(model2.A_, model2.B_)\n",
    "RSS_4 = model4.compute_RSS(model4.A_, model4.B_) \n",
    "\n",
    "# Compare RSS and RSS_4\n",
    "print(np.allclose(RSS, RSS_4))\n",
    "\n",
    "print(RSS)\n",
    "print(RSS_4)\n",
    "\n",
    "# Append RSS_4 to model4.RSS_iters \n",
    "model4.RSS_iters.append(RSS_4)"
   ]
  },
  {
   "cell_type": "code",
   "execution_count": 30,
   "metadata": {},
   "outputs": [
    {
     "name": "stdout",
     "output_type": "stream",
     "text": [
      "True\n",
      "True\n",
      "[55.15852947820507, 53.34160510198556]\n",
      "[55.15852947820507, 53.34160510198556]\n",
      "True\n"
     ]
    }
   ],
   "source": [
    "model2.step() \n",
    "model4.step() \n",
    "\n",
    "# Compare model2.A_ and model4.A_\n",
    "print(np.allclose(model2.A_.todense(), model4.A_.get().todense()))\n",
    "\n",
    "# Compare model2.B_ and model4.B_\n",
    "print(np.allclose(model2.B_.todense(), model4.B_.get().todense()))\n",
    "\n",
    "# print out RSS_iters for model2 and model4 \n",
    "print(model2.RSS_iters)\n",
    "print(model4.RSS_iters)\n",
    "\n",
    "# Compare model2.RSS_iters and model4.RSS_iters\n",
    "print(np.allclose(model2.RSS_iters, model4.RSS_iters))"
   ]
  },
  {
   "cell_type": "code",
   "execution_count": 31,
   "metadata": {},
   "outputs": [
    {
     "name": "stdout",
     "output_type": "stream",
     "text": [
      "0.0005515852947820507\n",
      "None\n",
      "0.0005515852947820507\n",
      "0.0005515852947820507\n"
     ]
    }
   ],
   "source": [
    "# Check the convergence threshold for model2 and model4 \n",
    "print(model2.convergence_threshold)\n",
    "print(model4.convergence_threshold)\n",
    "\n",
    "# Set model4.convergence_threshold to model2.convergence_threshold \n",
    "model4.convergence_threshold = model2.convergence_threshold \n",
    "\n",
    "# Check the convergence threshold for model2 and model4\n",
    "print(model2.convergence_threshold)\n",
    "print(model4.convergence_threshold)"
   ]
  },
  {
   "cell_type": "code",
   "execution_count": 32,
   "metadata": {},
   "outputs": [
    {
     "name": "stdout",
     "output_type": "stream",
     "text": [
      "Randomly initialized A matrix.\n",
      "Starting iteration 1.\n",
      "Completed iteration 1.\n",
      "Starting iteration 10.\n",
      "Completed iteration 10.\n",
      "Starting iteration 20.\n",
      "Completed iteration 20.\n",
      "Starting iteration 30.\n",
      "Completed iteration 30.\n",
      "Starting iteration 40.\n",
      "Completed iteration 40.\n",
      "Converged after 47 iterations.\n",
      "Building kernel on X_pca\n",
      "Computing diffusion components from X_pca for waypoint initialization ... \n",
      "Determing nearest neighbor graph...\n",
      "Done.\n",
      "Sampling waypoints ...\n",
      "Done.\n",
      "Selecting 9 cells from waypoint initialization.\n",
      "Initializing residual matrix using greedy column selection\n",
      "Initializing f and g...\n"
     ]
    },
    {
     "name": "stderr",
     "output_type": "stream",
     "text": [
      "  0%|          | 0/14 [00:00<?, ?it/s]/home/aparna/miniconda/envs/env_SEACells/lib/python3.8/site-packages/cupyx/scipy/sparse/_compressed.py:545: SparseEfficiencyWarning: Changing the sparsity structure of a csr_matrix is expensive.\n",
      "  warnings.warn('Changing the sparsity structure of a '\n",
      "100%|██████████| 14/14 [00:00<00:00, 75.08it/s]\n"
     ]
    },
    {
     "name": "stdout",
     "output_type": "stream",
     "text": [
      "Selecting 4 cells from greedy initialization.\n",
      "Randomly initialized A matrix.\n",
      "Completed iteration 1.\n",
      "Completed iteration 10.\n",
      "Completed iteration 20.\n",
      "Converged after 23 iterations.\n"
     ]
    }
   ],
   "source": [
    "model2.fit() \n",
    "\n",
    "model4.fit()"
   ]
  },
  {
   "cell_type": "code",
   "execution_count": 33,
   "metadata": {},
   "outputs": [
    {
     "name": "stdout",
     "output_type": "stream",
     "text": [
      "False\n",
      "False\n",
      "[55.15852947820507, 53.34160510198556, 55.15880655288771, 53.33861168560896, 51.70316967646472, 51.423617424024755, 51.292417051740074, 51.17318367925014, 51.08942467739385, 51.02930614746798, 50.98444081506254, 50.953372467798765, 50.919866029247515, 50.888704437842364, 50.86447932257699, 50.8521844084894, 50.83332671073067, 50.81685259194617, 50.80799759612869, 50.805087205682064, 50.79621723634045, 50.78826895267555, 50.78532104341745, 50.78382911694094, 50.78218190404367, 50.7792477491674, 50.778371627869376, 50.772092340790074, 50.7700736912371, 50.76475818787328, 50.76326769691456, 50.75927542831291, 50.753273696088584, 50.75106849805012, 50.74626665923086, 50.74813163372398, 50.74018916744118, 50.734715383867226, 50.72694086648114, 50.72093869293146, 50.710355557288395, 50.70946326195266, 50.71230540185919, 50.71125874364981, 50.70809503188179, 50.71323575076684, 50.7045145806058, 50.70958250601241, 50.70789023773558, 50.70828821283085]\n",
      "[55.15852947820507, 53.34160510198556, 55.632328931556565, 53.55035541983243, 51.65504882968271, 51.31175362801286, 51.18809443261536, 51.116840575036264, 51.04961912626301, 50.987809175465756, 50.915162273103796, 50.84991382820789, 50.80315445911742, 50.77201757129264, 50.74839473370018, 50.733743916206095, 50.7227989860223, 50.71608886290299, 50.705911975960845, 50.70098922285142, 50.69366786303246, 50.692821031743975, 50.68573874645168, 50.681474776598094, 50.67816863279602, 50.677629539532155]\n"
     ]
    }
   ],
   "source": [
    "# Compare model2.A_ and model4.A_ \n",
    "print(np.allclose(model2.A_.todense(), model4.A_.get().todense()))\n",
    "\n",
    "# Compare model2.B_ and model4.B_\n",
    "print(np.allclose(model2.B_.todense(), model4.B_.get().todense()))\n",
    "\n",
    "# Print out model2.RSS_iters and model4.RSS_iters \n",
    "print(model2.RSS_iters)\n",
    "print(model4.RSS_iters)"
   ]
  },
  {
   "cell_type": "markdown",
   "metadata": {},
   "source": [
    "### Update A"
   ]
  },
  {
   "cell_type": "code",
   "execution_count": 34,
   "metadata": {},
   "outputs": [],
   "source": [
    "def updateA_compare(B, A_prev):\n",
    "    n, k = B.shape\n",
    "    A = A_prev\n",
    "\n",
    "    Ag = cupyx.scipy.sparse.csc_matrix(A) \n",
    "    Bg = cupyx.scipy.sparse.csr_matrix(B)\n",
    "\n",
    "    K = model2.K\n",
    "    Kg = model4.K\n",
    "\n",
    "    t = 0  # current iteration (determine multiplicative update)\n",
    "\n",
    "    # precompute some gradient terms\n",
    "    t2 = (K @ B).T\n",
    "    t1 = t2 @ B\n",
    "\n",
    "    # precompute the gradient terms for cupy \n",
    "    t2g = (Kg.dot(Bg)).T\n",
    "    t1g = t2g.dot(Bg)\n",
    "\n",
    "    # Check if t1 and t1g are equal \n",
    "    print(np.allclose(t1.todense(), t1g.get().todense())) \n",
    "\n",
    "    # Check if t2 and t2g are equal \n",
    "    print(np.allclose(t2.todense(), t2g.get().todense()))\n",
    "\n",
    "    # Create a dataframe that will store the iteration t, is_close_Gg, is_close_amins, is_close_eg, is_close_Ag\n",
    "    df = pd.DataFrame(columns=[\"t\", \"is_close_Gg\", \"is_close_amins\", \"is_close_eg\", \"is_close_Ag\", \"e\", \"eg\", \"G\", \"Gg\"])\n",
    "\n",
    "    # update rows of A for given number of iterations\n",
    "    while t < 50:\n",
    "        # compute gradient (must convert matrix to ndarray)\n",
    "        G = 2.0 * np.array(t1 @ A - t2)\n",
    "        # get argmins - shape 1 x n\n",
    "        amins = np.argmin(G, axis=0)\n",
    "        amins = np.array(amins).reshape(-1)\n",
    "        # # loop free implementation\n",
    "        e = scipy.sparse.csr_matrix((np.ones(len(amins)), (amins, np.arange(n))), shape=A.shape)\n",
    "        A += 2.0 / (t + 2.0) * (e - A)\n",
    "\n",
    "        # compute gradient\n",
    "        Gg = 2.0 * (t1g.dot(Ag) - t2g)\n",
    "\n",
    "        is_close_Gg = np.allclose(Gg.get().todense(), G.todense())\n",
    "\n",
    "        aminsG = cp.argmin(Gg.todense(), axis=0)\n",
    "\n",
    "        is_close_amins = np.allclose(amins, aminsG) \n",
    "\n",
    "        # loop free implementaton\n",
    "        eg = cupyx.scipy.sparse.csr_matrix((cp.ones(len(aminsG)), (aminsG, cp.arange(n))), shape=Ag.shape)\n",
    "        # eg = cp.zeros((k, n))\n",
    "        # eg[amins, cp.arange(n)] = 1.0\n",
    "        # eg = cupyx.scipy.sparse.csr_matrix(eg)\n",
    "\n",
    "        is_close_eg = np.allclose(eg.get().todense(), e.todense())\n",
    "\n",
    "        Ag += 2.0/(t+2.0) * (eg - Ag)\n",
    "\n",
    "        is_close_Ag = np.allclose(Ag.get().todense(), A.todense())\n",
    "\n",
    "        # Add the iteration t and the is_close_Gg, is_close_amins, is_close_eg, is_close_Ag to the dataframe using df.concat\n",
    "        df = pd.concat([df, pd.DataFrame([[t, is_close_Gg, is_close_amins, is_close_eg, is_close_Ag, e, eg, G, Gg]], columns=df.columns)], ignore_index=True)\n",
    "\n",
    "        # # print the iteration t and the is_close_Gg, is_close_amins, is_close_eg, is_close_Ag \n",
    "        # print(t, is_close_Gg, is_close_amins, is_close_eg, is_close_Ag)\n",
    "\n",
    "        t += 1\n",
    "\n",
    "    return df"
   ]
  },
  {
   "cell_type": "code",
   "execution_count": 35,
   "metadata": {},
   "outputs": [
    {
     "name": "stdout",
     "output_type": "stream",
     "text": [
      "True\n",
      "True\n"
     ]
    },
    {
     "name": "stderr",
     "output_type": "stream",
     "text": [
      "/tmp/ipykernel_1153298/2795910654.py:63: FutureWarning: In a future version, object-dtype columns with all-bool values will not be included in reductions with bool_only=True. Explicitly cast to bool dtype instead.\n",
      "  df = pd.concat([df, pd.DataFrame([[t, is_close_Gg, is_close_amins, is_close_eg, is_close_Ag, e, eg, G, Gg]], columns=df.columns)], ignore_index=True)\n"
     ]
    }
   ],
   "source": [
    "A = model2.A0 \n",
    "B = model2.B0 \n",
    "\n",
    "df = updateA_compare(B, A)"
   ]
  },
  {
   "cell_type": "code",
   "execution_count": 36,
   "metadata": {},
   "outputs": [
    {
     "data": {
      "text/html": [
       "<div>\n",
       "<style scoped>\n",
       "    .dataframe tbody tr th:only-of-type {\n",
       "        vertical-align: middle;\n",
       "    }\n",
       "\n",
       "    .dataframe tbody tr th {\n",
       "        vertical-align: top;\n",
       "    }\n",
       "\n",
       "    .dataframe thead th {\n",
       "        text-align: right;\n",
       "    }\n",
       "</style>\n",
       "<table border=\"1\" class=\"dataframe\">\n",
       "  <thead>\n",
       "    <tr style=\"text-align: right;\">\n",
       "      <th></th>\n",
       "      <th>t</th>\n",
       "      <th>is_close_Gg</th>\n",
       "      <th>is_close_amins</th>\n",
       "      <th>is_close_eg</th>\n",
       "      <th>is_close_Ag</th>\n",
       "      <th>e</th>\n",
       "      <th>eg</th>\n",
       "      <th>G</th>\n",
       "      <th>Gg</th>\n",
       "    </tr>\n",
       "  </thead>\n",
       "  <tbody>\n",
       "    <tr>\n",
       "      <th>0</th>\n",
       "      <td>0</td>\n",
       "      <td>True</td>\n",
       "      <td>True</td>\n",
       "      <td>True</td>\n",
       "      <td>True</td>\n",
       "      <td>(0, 0)\\t1.0\\n  (0, 2)\\t1.0\\n  (0, 18)\\t1.0\\n...</td>\n",
       "      <td>(0, 0)\\t1.0\\n  (0, 2)\\t1.0\\n  (0, 18)\\t1.0\\n...</td>\n",
       "      <td>(0, 0)\\t-5.664302954085622\\n  (1, 0)\\t1.5075...</td>\n",
       "      <td>(0, 0)\\t-5.664302954085623\\n  (0, 3)\\t7.0230...</td>\n",
       "    </tr>\n",
       "    <tr>\n",
       "      <th>1</th>\n",
       "      <td>1</td>\n",
       "      <td>True</td>\n",
       "      <td>True</td>\n",
       "      <td>True</td>\n",
       "      <td>True</td>\n",
       "      <td>(0, 1)\\t1.0\\n  (0, 3)\\t1.0\\n  (0, 5)\\t1.0\\n ...</td>\n",
       "      <td>(0, 1)\\t1.0\\n  (0, 3)\\t1.0\\n  (0, 5)\\t1.0\\n ...</td>\n",
       "      <td>(0, 0)\\t11.996006957347323\\n  (1, 0)\\t1.6710...</td>\n",
       "      <td>(0, 0)\\t11.996006957347323\\n  (0, 2)\\t18.881...</td>\n",
       "    </tr>\n",
       "    <tr>\n",
       "      <th>2</th>\n",
       "      <td>2</td>\n",
       "      <td>True</td>\n",
       "      <td>True</td>\n",
       "      <td>True</td>\n",
       "      <td>True</td>\n",
       "      <td>(0, 0)\\t1.0\\n  (0, 39)\\t1.0\\n  (0, 50)\\t1.0\\...</td>\n",
       "      <td>(0, 0)\\t1.0\\n  (0, 39)\\t1.0\\n  (0, 50)\\t1.0\\...</td>\n",
       "      <td>(0, 0)\\t-0.5917221360067799\\n  (1, 0)\\t-0.24...</td>\n",
       "      <td>(0, 0)\\t-0.5917221360067808\\n  (0, 1)\\t12.58...</td>\n",
       "    </tr>\n",
       "    <tr>\n",
       "      <th>3</th>\n",
       "      <td>3</td>\n",
       "      <td>True</td>\n",
       "      <td>True</td>\n",
       "      <td>True</td>\n",
       "      <td>True</td>\n",
       "      <td>(0, 18)\\t1.0\\n  (0, 27)\\t1.0\\n  (0, 29)\\t1.0...</td>\n",
       "      <td>(0, 18)\\t1.0\\n  (0, 27)\\t1.0\\n  (0, 29)\\t1.0...</td>\n",
       "      <td>(0, 0)\\t5.702142410670272\\n  (1, 0)\\t0.71075...</td>\n",
       "      <td>(0, 0)\\t5.702142410670271\\n  (0, 1)\\t6.29386...</td>\n",
       "    </tr>\n",
       "    <tr>\n",
       "      <th>4</th>\n",
       "      <td>4</td>\n",
       "      <td>True</td>\n",
       "      <td>True</td>\n",
       "      <td>True</td>\n",
       "      <td>True</td>\n",
       "      <td>(0, 39)\\t1.0\\n  (0, 92)\\t1.0\\n  (0, 106)\\t1....</td>\n",
       "      <td>(0, 39)\\t1.0\\n  (0, 92)\\t1.0\\n  (0, 106)\\t1....</td>\n",
       "      <td>(0, 0)\\t0.6670507733286302\\n  (1, 0)\\t-0.057...</td>\n",
       "      <td>(0, 0)\\t0.6670507733286293\\n  (0, 1)\\t3.7763...</td>\n",
       "    </tr>\n",
       "    <tr>\n",
       "      <th>5</th>\n",
       "      <td>5</td>\n",
       "      <td>True</td>\n",
       "      <td>True</td>\n",
       "      <td>True</td>\n",
       "      <td>True</td>\n",
       "      <td>(0, 0)\\t1.0\\n  (0, 56)\\t1.0\\n  (0, 63)\\t1.0\\...</td>\n",
       "      <td>(0, 0)\\t1.0\\n  (0, 56)\\t1.0\\n  (0, 63)\\t1.0\\...</td>\n",
       "      <td>(0, 0)\\t-0.8901920331362501\\n  (1, 0)\\t1.695...</td>\n",
       "      <td>(0, 0)\\t-0.890192033136251\\n  (0, 1)\\t2.5175...</td>\n",
       "    </tr>\n",
       "    <tr>\n",
       "      <th>6</th>\n",
       "      <td>6</td>\n",
       "      <td>True</td>\n",
       "      <td>True</td>\n",
       "      <td>True</td>\n",
       "      <td>True</td>\n",
       "      <td>(0, 18)\\t1.0\\n  (0, 27)\\t1.0\\n  (0, 53)\\t1.0...</td>\n",
       "      <td>(0, 18)\\t1.0\\n  (0, 27)\\t1.0\\n  (0, 53)\\t1.0...</td>\n",
       "      <td>(0, 0)\\t2.7915791070019127\\n  (1, 0)\\t1.6882...</td>\n",
       "      <td>(0, 0)\\t2.791579107001912\\n  (0, 1)\\t1.79824...</td>\n",
       "    </tr>\n",
       "    <tr>\n",
       "      <th>7</th>\n",
       "      <td>7</td>\n",
       "      <td>True</td>\n",
       "      <td>True</td>\n",
       "      <td>True</td>\n",
       "      <td>True</td>\n",
       "      <td>(0, 39)\\t1.0\\n  (0, 105)\\t1.0\\n  (0, 121)\\t1...</td>\n",
       "      <td>(0, 39)\\t1.0\\n  (0, 105)\\t1.0\\n  (0, 121)\\t1...</td>\n",
       "      <td>(0, 0)\\t0.3722876595804774\\n  (1, 0)\\t0.9636...</td>\n",
       "      <td>(0, 0)\\t0.3722876595804765\\n  (0, 1)\\t1.3486...</td>\n",
       "    </tr>\n",
       "    <tr>\n",
       "      <th>8</th>\n",
       "      <td>8</td>\n",
       "      <td>True</td>\n",
       "      <td>True</td>\n",
       "      <td>True</td>\n",
       "      <td>True</td>\n",
       "      <td>(0, 0)\\t1.0\\n  (0, 27)\\t1.0\\n  (0, 92)\\t1.0\\...</td>\n",
       "      <td>(0, 0)\\t1.0\\n  (0, 27)\\t1.0\\n  (0, 92)\\t1.0\\...</td>\n",
       "      <td>(0, 0)\\t-1.240573305367147\\n  (1, 0)\\t0.4806...</td>\n",
       "      <td>(0, 0)\\t-1.240573305367148\\n  (0, 1)\\t1.0489...</td>\n",
       "    </tr>\n",
       "    <tr>\n",
       "      <th>9</th>\n",
       "      <td>9</td>\n",
       "      <td>True</td>\n",
       "      <td>True</td>\n",
       "      <td>True</td>\n",
       "      <td>True</td>\n",
       "      <td>(0, 18)\\t1.0\\n  (0, 28)\\t1.0\\n  (0, 39)\\t1.0...</td>\n",
       "      <td>(0, 18)\\t1.0\\n  (0, 28)\\t1.0\\n  (0, 39)\\t1.0...</td>\n",
       "      <td>(0, 0)\\t1.4067427471757474\\n  (1, 0)\\t0.7187...</td>\n",
       "      <td>(0, 0)\\t1.4067427471757465\\n  (0, 1)\\t0.8391...</td>\n",
       "    </tr>\n",
       "    <tr>\n",
       "      <th>10</th>\n",
       "      <td>10</td>\n",
       "      <td>True</td>\n",
       "      <td>True</td>\n",
       "      <td>True</td>\n",
       "      <td>True</td>\n",
       "      <td>(0, 0)\\t1.0\\n  (0, 56)\\t1.0\\n  (0, 105)\\t1.0...</td>\n",
       "      <td>(0, 0)\\t1.0\\n  (0, 56)\\t1.0\\n  (0, 105)\\t1.0...</td>\n",
       "      <td>(0, 0)\\t-0.10095351279872133\\n  (1, 0)\\t0.36...</td>\n",
       "      <td>(0, 0)\\t-0.10095351279872222\\n  (0, 1)\\t0.68...</td>\n",
       "    </tr>\n",
       "    <tr>\n",
       "      <th>11</th>\n",
       "      <td>11</td>\n",
       "      <td>True</td>\n",
       "      <td>True</td>\n",
       "      <td>True</td>\n",
       "      <td>True</td>\n",
       "      <td>(0, 27)\\t1.0\\n  (0, 39)\\t1.0\\n  (0, 102)\\t1....</td>\n",
       "      <td>(0, 27)\\t1.0\\n  (0, 39)\\t1.0\\n  (0, 102)\\t1....</td>\n",
       "      <td>(0, 0)\\t1.915206565558953\\n  (1, 0)\\t0.58526...</td>\n",
       "      <td>(0, 0)\\t1.915206565558952\\n  (0, 1)\\t0.57216...</td>\n",
       "    </tr>\n",
       "    <tr>\n",
       "      <th>12</th>\n",
       "      <td>12</td>\n",
       "      <td>True</td>\n",
       "      <td>True</td>\n",
       "      <td>True</td>\n",
       "      <td>True</td>\n",
       "      <td>(0, 18)\\t1.0\\n  (0, 47)\\t1.0\\n  (0, 79)\\t1.0...</td>\n",
       "      <td>(0, 18)\\t1.0\\n  (0, 47)\\t1.0\\n  (0, 79)\\t1.0...</td>\n",
       "      <td>(0, 0)\\t0.5612383735216016\\n  (1, 0)\\t0.3090...</td>\n",
       "      <td>(0, 0)\\t0.5612383735216007\\n  (0, 1)\\t0.4841...</td>\n",
       "    </tr>\n",
       "    <tr>\n",
       "      <th>13</th>\n",
       "      <td>13</td>\n",
       "      <td>True</td>\n",
       "      <td>True</td>\n",
       "      <td>True</td>\n",
       "      <td>True</td>\n",
       "      <td>(0, 0)\\t1.0\\n  (0, 27)\\t1.0\\n  (0, 53)\\t1.0\\...</td>\n",
       "      <td>(0, 0)\\t1.0\\n  (0, 27)\\t1.0\\n  (0, 53)\\t1.0\\...</td>\n",
       "      <td>(0, 0)\\t-0.502593777364889\\n  (1, 0)\\t0.0920...</td>\n",
       "      <td>(0, 0)\\t-0.5025937773648899\\n  (0, 1)\\t0.414...</td>\n",
       "    </tr>\n",
       "    <tr>\n",
       "      <th>14</th>\n",
       "      <td>14</td>\n",
       "      <td>True</td>\n",
       "      <td>True</td>\n",
       "      <td>True</td>\n",
       "      <td>True</td>\n",
       "      <td>(0, 39)\\t1.0\\n  (0, 83)\\t1.0\\n  (0, 105)\\t1....</td>\n",
       "      <td>(0, 39)\\t1.0\\n  (0, 83)\\t1.0\\n  (0, 105)\\t1....</td>\n",
       "      <td>(0, 0)\\t1.163886320596741\\n  (1, 0)\\t0.30262...</td>\n",
       "      <td>(0, 0)\\t1.16388632059674\\n  (0, 1)\\t0.359649...</td>\n",
       "    </tr>\n",
       "    <tr>\n",
       "      <th>15</th>\n",
       "      <td>15</td>\n",
       "      <td>True</td>\n",
       "      <td>True</td>\n",
       "      <td>True</td>\n",
       "      <td>True</td>\n",
       "      <td>(0, 18)\\t1.0\\n  (0, 56)\\t1.0\\n  (0, 88)\\t1.0...</td>\n",
       "      <td>(0, 18)\\t1.0\\n  (0, 56)\\t1.0\\n  (0, 88)\\t1.0...</td>\n",
       "      <td>(0, 0)\\t0.15770219518666817\\n  (1, 0)\\t0.113...</td>\n",
       "      <td>(0, 0)\\t0.15770219518666728\\n  (0, 1)\\t0.314...</td>\n",
       "    </tr>\n",
       "    <tr>\n",
       "      <th>16</th>\n",
       "      <td>16</td>\n",
       "      <td>True</td>\n",
       "      <td>True</td>\n",
       "      <td>True</td>\n",
       "      <td>True</td>\n",
       "      <td>(0, 0)\\t1.0\\n  (0, 27)\\t1.0\\n  (0, 39)\\t1.0\\...</td>\n",
       "      <td>(0, 0)\\t1.0\\n  (0, 27)\\t1.0\\n  (0, 39)\\t1.0\\...</td>\n",
       "      <td>(0, 0)\\t-0.6709200257392736\\n  (1, 0)\\t-0.04...</td>\n",
       "      <td>(0, 0)\\t-0.6709200257392745\\n  (0, 1)\\t0.277...</td>\n",
       "    </tr>\n",
       "    <tr>\n",
       "      <th>17</th>\n",
       "      <td>17</td>\n",
       "      <td>True</td>\n",
       "      <td>True</td>\n",
       "      <td>True</td>\n",
       "      <td>True</td>\n",
       "      <td>(0, 86)\\t1.0\\n  (0, 92)\\t1.0\\n  (0, 121)\\t1....</td>\n",
       "      <td>(0, 86)\\t1.0\\n  (0, 92)\\t1.0\\n  (0, 121)\\t1....</td>\n",
       "      <td>(0, 0)\\t0.736516305714793\\n  (1, 0)\\t0.14822...</td>\n",
       "      <td>(0, 0)\\t0.7365163057147921\\n  (0, 1)\\t0.2582...</td>\n",
       "    </tr>\n",
       "    <tr>\n",
       "      <th>18</th>\n",
       "      <td>18</td>\n",
       "      <td>True</td>\n",
       "      <td>True</td>\n",
       "      <td>True</td>\n",
       "      <td>True</td>\n",
       "      <td>(0, 0)\\t1.0\\n  (0, 7)\\t1.0\\n  (0, 18)\\t1.0\\n...</td>\n",
       "      <td>(0, 0)\\t1.0\\n  (0, 7)\\t1.0\\n  (0, 18)\\t1.0\\n...</td>\n",
       "      <td>(0, 0)\\t-0.05494394641078326\\n  (1, 0)\\t0.00...</td>\n",
       "      <td>(0, 0)\\t-0.05494394641078415\\n  (0, 1)\\t0.23...</td>\n",
       "    </tr>\n",
       "    <tr>\n",
       "      <th>19</th>\n",
       "      <td>19</td>\n",
       "      <td>True</td>\n",
       "      <td>True</td>\n",
       "      <td>True</td>\n",
       "      <td>True</td>\n",
       "      <td>(0, 53)\\t1.0\\n  (0, 79)\\t1.0\\n  (0, 121)\\t1....</td>\n",
       "      <td>(0, 53)\\t1.0\\n  (0, 79)\\t1.0\\n  (0, 121)\\t1....</td>\n",
       "      <td>(0, 0)\\t1.1501511439650267\\n  (1, 0)\\t0.1718...</td>\n",
       "      <td>(0, 0)\\t1.1501511439650258\\n  (0, 1)\\t0.2079...</td>\n",
       "    </tr>\n",
       "    <tr>\n",
       "      <th>20</th>\n",
       "      <td>20</td>\n",
       "      <td>True</td>\n",
       "      <td>True</td>\n",
       "      <td>True</td>\n",
       "      <td>True</td>\n",
       "      <td>(0, 4)\\t1.0\\n  (0, 30)\\t1.0\\n  (0, 56)\\t1.0\\...</td>\n",
       "      <td>(0, 4)\\t1.0\\n  (0, 30)\\t1.0\\n  (0, 56)\\t1.0\\...</td>\n",
       "      <td>(0, 0)\\t0.38484277952227863\\n  (1, 0)\\t0.040...</td>\n",
       "      <td>(0, 0)\\t0.38484277952227774\\n  (0, 1)\\t0.188...</td>\n",
       "    </tr>\n",
       "    <tr>\n",
       "      <th>21</th>\n",
       "      <td>21</td>\n",
       "      <td>True</td>\n",
       "      <td>True</td>\n",
       "      <td>True</td>\n",
       "      <td>True</td>\n",
       "      <td>(0, 0)\\t1.0\\n  (0, 2)\\t1.0\\n  (0, 18)\\t1.0\\n...</td>\n",
       "      <td>(0, 0)\\t1.0\\n  (0, 2)\\t1.0\\n  (0, 18)\\t1.0\\n...</td>\n",
       "      <td>(0, 0)\\t-0.014204531894838723\\n  (1, 0)\\t0.5...</td>\n",
       "      <td>(0, 0)\\t-0.014204531894839612\\n  (0, 1)\\t0.1...</td>\n",
       "    </tr>\n",
       "    <tr>\n",
       "      <th>22</th>\n",
       "      <td>22</td>\n",
       "      <td>True</td>\n",
       "      <td>True</td>\n",
       "      <td>True</td>\n",
       "      <td>True</td>\n",
       "      <td>(0, 53)\\t1.0\\n  (0, 57)\\t1.0\\n  (0, 101)\\t1....</td>\n",
       "      <td>(0, 53)\\t1.0\\n  (0, 57)\\t1.0\\n  (0, 101)\\t1....</td>\n",
       "      <td>(0, 0)\\t1.0301616845610022\\n  (1, 0)\\t0.6103...</td>\n",
       "      <td>(0, 0)\\t1.0301616845610013\\n  (0, 1)\\t0.1561...</td>\n",
       "    </tr>\n",
       "    <tr>\n",
       "      <th>23</th>\n",
       "      <td>23</td>\n",
       "      <td>True</td>\n",
       "      <td>True</td>\n",
       "      <td>True</td>\n",
       "      <td>True</td>\n",
       "      <td>(0, 27)\\t1.0\\n  (0, 39)\\t1.0\\n  (0, 88)\\t1.0...</td>\n",
       "      <td>(0, 27)\\t1.0\\n  (0, 39)\\t1.0\\n  (0, 88)\\t1.0...</td>\n",
       "      <td>(0, 0)\\t0.37051598729060053\\n  (1, 0)\\t0.458...</td>\n",
       "      <td>(0, 0)\\t0.37051598729059965\\n  (0, 1)\\t0.143...</td>\n",
       "    </tr>\n",
       "    <tr>\n",
       "      <th>24</th>\n",
       "      <td>24</td>\n",
       "      <td>True</td>\n",
       "      <td>True</td>\n",
       "      <td>True</td>\n",
       "      <td>True</td>\n",
       "      <td>(0, 0)\\t1.0\\n  (0, 18)\\t1.0\\n  (0, 25)\\t1.0\\...</td>\n",
       "      <td>(0, 0)\\t1.0\\n  (0, 18)\\t1.0\\n  (0, 25)\\t1.0\\...</td>\n",
       "      <td>(0, 0)\\t-0.20997222630735468\\n  (1, 0)\\t0.32...</td>\n",
       "      <td>(0, 0)\\t-0.20997222630735557\\n  (0, 1)\\t0.36...</td>\n",
       "    </tr>\n",
       "    <tr>\n",
       "      <th>25</th>\n",
       "      <td>25</td>\n",
       "      <td>True</td>\n",
       "      <td>True</td>\n",
       "      <td>True</td>\n",
       "      <td>True</td>\n",
       "      <td>(0, 28)\\t1.0\\n  (0, 39)\\t1.0\\n  (0, 56)\\t1.0...</td>\n",
       "      <td>(0, 28)\\t1.0\\n  (0, 39)\\t1.0\\n  (0, 56)\\t1.0...</td>\n",
       "      <td>(0, 0)\\t0.7289492493583909\\n  (1, 0)\\t0.4287...</td>\n",
       "      <td>(0, 0)\\t0.72894924935839\\n  (0, 1)\\t0.334338...</td>\n",
       "    </tr>\n",
       "    <tr>\n",
       "      <th>26</th>\n",
       "      <td>26</td>\n",
       "      <td>True</td>\n",
       "      <td>True</td>\n",
       "      <td>True</td>\n",
       "      <td>True</td>\n",
       "      <td>(0, 0)\\t1.0\\n  (0, 18)\\t1.0\\n  (0, 27)\\t1.0\\...</td>\n",
       "      <td>(0, 0)\\t1.0\\n  (0, 18)\\t1.0\\n  (0, 27)\\t1.0\\...</td>\n",
       "      <td>(0, 0)\\t0.1649095506885967\\n  (1, 0)\\t0.3073...</td>\n",
       "      <td>(0, 0)\\t0.1649095506885958\\n  (0, 1)\\t0.4403...</td>\n",
       "    </tr>\n",
       "    <tr>\n",
       "      <th>27</th>\n",
       "      <td>27</td>\n",
       "      <td>True</td>\n",
       "      <td>True</td>\n",
       "      <td>True</td>\n",
       "      <td>True</td>\n",
       "      <td>(0, 79)\\t1.0\\n  (0, 117)\\t1.0\\n  (0, 121)\\t1...</td>\n",
       "      <td>(0, 79)\\t1.0\\n  (0, 117)\\t1.0\\n  (0, 121)\\t1...</td>\n",
       "      <td>(0, 0)\\t1.0099879368785052\\n  (1, 0)\\t0.4047...</td>\n",
       "      <td>(0, 0)\\t1.0099879368785043\\n  (0, 1)\\t0.4089...</td>\n",
       "    </tr>\n",
       "    <tr>\n",
       "      <th>28</th>\n",
       "      <td>28</td>\n",
       "      <td>True</td>\n",
       "      <td>True</td>\n",
       "      <td>True</td>\n",
       "      <td>True</td>\n",
       "      <td>(0, 39)\\t1.0\\n  (0, 121)\\t1.0\\n  (0, 163)\\t1...</td>\n",
       "      <td>(0, 39)\\t1.0\\n  (0, 121)\\t1.0\\n  (0, 163)\\t1...</td>\n",
       "      <td>(0, 0)\\t0.46546554932248174\\n  (1, 0)\\t0.293...</td>\n",
       "      <td>(0, 0)\\t0.46546554932248174\\n  (0, 1)\\t0.380...</td>\n",
       "    </tr>\n",
       "    <tr>\n",
       "      <th>29</th>\n",
       "      <td>29</td>\n",
       "      <td>True</td>\n",
       "      <td>True</td>\n",
       "      <td>True</td>\n",
       "      <td>True</td>\n",
       "      <td>(0, 0)\\t1.0\\n  (0, 12)\\t1.0\\n  (0, 14)\\t1.0\\...</td>\n",
       "      <td>(0, 0)\\t1.0\\n  (0, 12)\\t1.0\\n  (0, 14)\\t1.0\\...</td>\n",
       "      <td>(0, 0)\\t0.1674560029632488\\n  (1, 0)\\t0.6205...</td>\n",
       "      <td>(0, 0)\\t0.16745600296324792\\n  (0, 1)\\t0.355...</td>\n",
       "    </tr>\n",
       "    <tr>\n",
       "      <th>30</th>\n",
       "      <td>30</td>\n",
       "      <td>True</td>\n",
       "      <td>True</td>\n",
       "      <td>True</td>\n",
       "      <td>True</td>\n",
       "      <td>(0, 5)\\t1.0\\n  (0, 10)\\t1.0\\n  (0, 16)\\t1.0\\...</td>\n",
       "      <td>(0, 5)\\t1.0\\n  (0, 10)\\t1.0\\n  (0, 16)\\t1.0\\...</td>\n",
       "      <td>(0, 0)\\t0.930588322600931\\n  (1, 0)\\t0.68829...</td>\n",
       "      <td>(0, 0)\\t0.9305883226009302\\n  (0, 1)\\t0.3324...</td>\n",
       "    </tr>\n",
       "    <tr>\n",
       "      <th>31</th>\n",
       "      <td>31</td>\n",
       "      <td>True</td>\n",
       "      <td>True</td>\n",
       "      <td>True</td>\n",
       "      <td>True</td>\n",
       "      <td>(0, 8)\\t1.0\\n  (0, 9)\\t1.0\\n  (0, 11)\\t1.0\\n...</td>\n",
       "      <td>(0, 8)\\t1.0\\n  (0, 9)\\t1.0\\n  (0, 11)\\t1.0\\n...</td>\n",
       "      <td>(0, 0)\\t0.4420773847706334\\n  (1, 0)\\t0.5696...</td>\n",
       "      <td>(0, 0)\\t0.4420773847706325\\n  (0, 1)\\t0.3116...</td>\n",
       "    </tr>\n",
       "    <tr>\n",
       "      <th>32</th>\n",
       "      <td>32</td>\n",
       "      <td>True</td>\n",
       "      <td>True</td>\n",
       "      <td>True</td>\n",
       "      <td>True</td>\n",
       "      <td>(0, 0)\\t1.0\\n  (0, 18)\\t1.0\\n  (0, 20)\\t1.0\\...</td>\n",
       "      <td>(0, 0)\\t1.0\\n  (0, 18)\\t1.0\\n  (0, 20)\\t1.0\\...</td>\n",
       "      <td>(0, 0)\\t-0.002023467802363399\\n  (1, 0)\\t0.4...</td>\n",
       "      <td>(0, 0)\\t-0.002023467802364287\\n  (0, 1)\\t0.2...</td>\n",
       "    </tr>\n",
       "    <tr>\n",
       "      <th>33</th>\n",
       "      <td>33</td>\n",
       "      <td>True</td>\n",
       "      <td>True</td>\n",
       "      <td>True</td>\n",
       "      <td>True</td>\n",
       "      <td>(0, 93)\\t1.0\\n  (0, 95)\\t1.0\\n  (0, 107)\\t1....</td>\n",
       "      <td>(0, 93)\\t1.0\\n  (0, 95)\\t1.0\\n  (0, 107)\\t1....</td>\n",
       "      <td>(0, 0)\\t0.703743027794677\\n  (1, 0)\\t0.53294...</td>\n",
       "      <td>(0, 0)\\t0.703743027794677\\n  (0, 1)\\t0.27552...</td>\n",
       "    </tr>\n",
       "    <tr>\n",
       "      <th>34</th>\n",
       "      <td>34</td>\n",
       "      <td>True</td>\n",
       "      <td>True</td>\n",
       "      <td>True</td>\n",
       "      <td>True</td>\n",
       "      <td>(0, 6)\\t1.0\\n  (0, 15)\\t1.0\\n  (0, 27)\\t1.0\\...</td>\n",
       "      <td>(0, 6)\\t1.0\\n  (0, 15)\\t1.0\\n  (0, 27)\\t1.0\\...</td>\n",
       "      <td>(0, 0)\\t0.27006704433876205\\n  (1, 0)\\t0.433...</td>\n",
       "      <td>(0, 0)\\t0.27006704433876116\\n  (0, 1)\\t0.259...</td>\n",
       "    </tr>\n",
       "    <tr>\n",
       "      <th>35</th>\n",
       "      <td>35</td>\n",
       "      <td>True</td>\n",
       "      <td>True</td>\n",
       "      <td>True</td>\n",
       "      <td>True</td>\n",
       "      <td>(0, 0)\\t1.0\\n  (0, 18)\\t1.0\\n  (0, 46)\\t1.0\\...</td>\n",
       "      <td>(0, 0)\\t1.0\\n  (0, 18)\\t1.0\\n  (0, 46)\\t1.0\\...</td>\n",
       "      <td>(0, 0)\\t-0.12173424087328932\\n  (1, 0)\\t0.34...</td>\n",
       "      <td>(0, 0)\\t-0.12173424087329021\\n  (0, 1)\\t0.24...</td>\n",
       "    </tr>\n",
       "    <tr>\n",
       "      <th>36</th>\n",
       "      <td>36</td>\n",
       "      <td>True</td>\n",
       "      <td>True</td>\n",
       "      <td>True</td>\n",
       "      <td>True</td>\n",
       "      <td>(0, 27)\\t1.0\\n  (0, 40)\\t1.0\\n  (0, 53)\\t1.0...</td>\n",
       "      <td>(0, 27)\\t1.0\\n  (0, 40)\\t1.0\\n  (0, 53)\\t1.0...</td>\n",
       "      <td>(0, 0)\\t0.5332787968683652\\n  (1, 0)\\t0.4139...</td>\n",
       "      <td>(0, 0)\\t0.5332787968683643\\n  (0, 1)\\t0.2320...</td>\n",
       "    </tr>\n",
       "    <tr>\n",
       "      <th>37</th>\n",
       "      <td>37</td>\n",
       "      <td>True</td>\n",
       "      <td>True</td>\n",
       "      <td>True</td>\n",
       "      <td>True</td>\n",
       "      <td>(0, 0)\\t1.0\\n  (0, 39)\\t1.0\\n  (0, 52)\\t1.0\\...</td>\n",
       "      <td>(0, 0)\\t1.0\\n  (0, 39)\\t1.0\\n  (0, 52)\\t1.0\\...</td>\n",
       "      <td>(0, 0)\\t0.142812192681407\\n  (1, 0)\\t0.32844...</td>\n",
       "      <td>(0, 0)\\t0.1428121926814061\\n  (0, 1)\\t0.2198...</td>\n",
       "    </tr>\n",
       "    <tr>\n",
       "      <th>38</th>\n",
       "      <td>38</td>\n",
       "      <td>True</td>\n",
       "      <td>True</td>\n",
       "      <td>True</td>\n",
       "      <td>True</td>\n",
       "      <td>(0, 18)\\t1.0\\n  (0, 24)\\t1.0\\n  (0, 44)\\t1.0...</td>\n",
       "      <td>(0, 18)\\t1.0\\n  (0, 24)\\t1.0\\n  (0, 44)\\t1.0...</td>\n",
       "      <td>(0, 0)\\t0.7506683344591467\\n  (1, 0)\\t0.3972...</td>\n",
       "      <td>(0, 0)\\t0.7506683344591458\\n  (0, 1)\\t0.2138...</td>\n",
       "    </tr>\n",
       "    <tr>\n",
       "      <th>39</th>\n",
       "      <td>39</td>\n",
       "      <td>True</td>\n",
       "      <td>True</td>\n",
       "      <td>True</td>\n",
       "      <td>True</td>\n",
       "      <td>(0, 27)\\t1.0\\n  (0, 36)\\t1.0\\n  (0, 39)\\t1.0...</td>\n",
       "      <td>(0, 27)\\t1.0\\n  (0, 36)\\t1.0\\n  (0, 39)\\t1.0...</td>\n",
       "      <td>(0, 0)\\t0.36885558360199777\\n  (1, 0)\\t0.316...</td>\n",
       "      <td>(0, 0)\\t0.3688555836019969\\n  (0, 1)\\t0.2031...</td>\n",
       "    </tr>\n",
       "    <tr>\n",
       "      <th>40</th>\n",
       "      <td>40</td>\n",
       "      <td>True</td>\n",
       "      <td>True</td>\n",
       "      <td>True</td>\n",
       "      <td>True</td>\n",
       "      <td>(0, 0)\\t1.0\\n  (0, 22)\\t1.0\\n  (0, 56)\\t1.0\\...</td>\n",
       "      <td>(0, 0)\\t1.0\\n  (0, 22)\\t1.0\\n  (0, 56)\\t1.0\\...</td>\n",
       "      <td>(0, 0)\\t0.014980351100249756\\n  (1, 0)\\t0.24...</td>\n",
       "      <td>(0, 0)\\t0.014980351100248868\\n  (0, 1)\\t0.19...</td>\n",
       "    </tr>\n",
       "    <tr>\n",
       "      <th>41</th>\n",
       "      <td>41</td>\n",
       "      <td>True</td>\n",
       "      <td>True</td>\n",
       "      <td>True</td>\n",
       "      <td>True</td>\n",
       "      <td>(0, 18)\\t1.0\\n  (0, 27)\\t1.0\\n  (0, 39)\\t1.0...</td>\n",
       "      <td>(0, 18)\\t1.0\\n  (0, 27)\\t1.0\\n  (0, 39)\\t1.0...</td>\n",
       "      <td>(0, 0)\\t0.585505427588207\\n  (1, 0)\\t0.31049...</td>\n",
       "      <td>(0, 0)\\t0.5855054275882061\\n  (0, 1)\\t0.1840...</td>\n",
       "    </tr>\n",
       "    <tr>\n",
       "      <th>42</th>\n",
       "      <td>42</td>\n",
       "      <td>True</td>\n",
       "      <td>True</td>\n",
       "      <td>True</td>\n",
       "      <td>True</td>\n",
       "      <td>(0, 0)\\t1.0\\n  (0, 28)\\t1.0\\n  (0, 53)\\t1.0\\...</td>\n",
       "      <td>(0, 0)\\t1.0\\n  (0, 28)\\t1.0\\n  (0, 53)\\t1.0\\...</td>\n",
       "      <td>(0, 0)\\t0.2380127712964839\\n  (1, 0)\\t0.2397...</td>\n",
       "      <td>(0, 0)\\t0.23801277129648302\\n  (0, 1)\\t0.175...</td>\n",
       "    </tr>\n",
       "    <tr>\n",
       "      <th>43</th>\n",
       "      <td>43</td>\n",
       "      <td>True</td>\n",
       "      <td>True</td>\n",
       "      <td>True</td>\n",
       "      <td>True</td>\n",
       "      <td>(0, 13)\\t1.0\\n  (0, 34)\\t1.0\\n  (0, 79)\\t1.0...</td>\n",
       "      <td>(0, 13)\\t1.0\\n  (0, 34)\\t1.0\\n  (0, 79)\\t1.0...</td>\n",
       "      <td>(0, 0)\\t0.7724670524806134\\n  (1, 0)\\t0.3048...</td>\n",
       "      <td>(0, 0)\\t0.7724670524806125\\n  (0, 1)\\t0.1675...</td>\n",
       "    </tr>\n",
       "    <tr>\n",
       "      <th>44</th>\n",
       "      <td>44</td>\n",
       "      <td>True</td>\n",
       "      <td>True</td>\n",
       "      <td>True</td>\n",
       "      <td>True</td>\n",
       "      <td>(0, 1)\\t1.0\\n  (0, 18)\\t1.0\\n  (0, 27)\\t1.0\\...</td>\n",
       "      <td>(0, 1)\\t1.0\\n  (0, 18)\\t1.0\\n  (0, 27)\\t1.0\\...</td>\n",
       "      <td>(0, 0)\\t0.432109108695526\\n  (1, 0)\\t0.23751...</td>\n",
       "      <td>(0, 0)\\t0.4321091086955251\\n  (0, 1)\\t0.1600...</td>\n",
       "    </tr>\n",
       "    <tr>\n",
       "      <th>45</th>\n",
       "      <td>45</td>\n",
       "      <td>True</td>\n",
       "      <td>True</td>\n",
       "      <td>True</td>\n",
       "      <td>True</td>\n",
       "      <td>(0, 0)\\t1.0\\n  (0, 3)\\t1.0\\n  (0, 56)\\t1.0\\n...</td>\n",
       "      <td>(0, 0)\\t1.0\\n  (0, 3)\\t1.0\\n  (0, 56)\\t1.0\\n...</td>\n",
       "      <td>(0, 0)\\t0.2392053367493725\\n  (1, 0)\\t0.4532...</td>\n",
       "      <td>(0, 0)\\t0.2392053367493716\\n  (0, 1)\\t0.9740...</td>\n",
       "    </tr>\n",
       "    <tr>\n",
       "      <th>46</th>\n",
       "      <td>46</td>\n",
       "      <td>True</td>\n",
       "      <td>True</td>\n",
       "      <td>True</td>\n",
       "      <td>True</td>\n",
       "      <td>(0, 27)\\t1.0\\n  (0, 39)\\t1.0\\n  (0, 53)\\t1.0...</td>\n",
       "      <td>(0, 27)\\t1.0\\n  (0, 39)\\t1.0\\n  (0, 53)\\t1.0...</td>\n",
       "      <td>(0, 0)\\t0.7394947674131149\\n  (1, 0)\\t0.5051...</td>\n",
       "      <td>(0, 0)\\t0.739494767413114\\n  (0, 1)\\t0.93262...</td>\n",
       "    </tr>\n",
       "    <tr>\n",
       "      <th>47</th>\n",
       "      <td>47</td>\n",
       "      <td>True</td>\n",
       "      <td>True</td>\n",
       "      <td>True</td>\n",
       "      <td>True</td>\n",
       "      <td>(0, 18)\\t1.0\\n  (0, 88)\\t1.0\\n  (0, 104)\\t1....</td>\n",
       "      <td>(0, 18)\\t1.0\\n  (0, 88)\\t1.0\\n  (0, 104)\\t1....</td>\n",
       "      <td>(0, 0)\\t0.4217830403257423\\n  (1, 0)\\t0.4336...</td>\n",
       "      <td>(0, 0)\\t0.42178304032574143\\n  (0, 1)\\t0.893...</td>\n",
       "    </tr>\n",
       "    <tr>\n",
       "      <th>48</th>\n",
       "      <td>48</td>\n",
       "      <td>True</td>\n",
       "      <td>True</td>\n",
       "      <td>True</td>\n",
       "      <td>True</td>\n",
       "      <td>(0, 0)\\t1.0\\n  (0, 39)\\t1.0\\n  (0, 90)\\t1.0\\...</td>\n",
       "      <td>(0, 0)\\t1.0\\n  (0, 39)\\t1.0\\n  (0, 90)\\t1.0\\...</td>\n",
       "      <td>(0, 0)\\t0.12773654523170475\\n  (1, 0)\\t0.366...</td>\n",
       "      <td>(0, 0)\\t0.12773654523170386\\n  (0, 1)\\t0.857...</td>\n",
       "    </tr>\n",
       "    <tr>\n",
       "      <th>49</th>\n",
       "      <td>49</td>\n",
       "      <td>True</td>\n",
       "      <td>True</td>\n",
       "      <td>True</td>\n",
       "      <td>True</td>\n",
       "      <td>(0, 27)\\t1.0\\n  (0, 53)\\t1.0\\n  (0, 92)\\t1.0...</td>\n",
       "      <td>(0, 27)\\t1.0\\n  (0, 53)\\t1.0\\n  (0, 92)\\t1.0...</td>\n",
       "      <td>(0, 0)\\t0.6024673617163296\\n  (1, 0)\\t0.4187...</td>\n",
       "      <td>(0, 0)\\t0.6024673617163288\\n  (0, 1)\\t0.8229...</td>\n",
       "    </tr>\n",
       "  </tbody>\n",
       "</table>\n",
       "</div>"
      ],
      "text/plain": [
       "     t is_close_Gg is_close_amins is_close_eg is_close_Ag  \\\n",
       "0    0        True           True        True        True   \n",
       "1    1        True           True        True        True   \n",
       "2    2        True           True        True        True   \n",
       "3    3        True           True        True        True   \n",
       "4    4        True           True        True        True   \n",
       "5    5        True           True        True        True   \n",
       "6    6        True           True        True        True   \n",
       "7    7        True           True        True        True   \n",
       "8    8        True           True        True        True   \n",
       "9    9        True           True        True        True   \n",
       "10  10        True           True        True        True   \n",
       "11  11        True           True        True        True   \n",
       "12  12        True           True        True        True   \n",
       "13  13        True           True        True        True   \n",
       "14  14        True           True        True        True   \n",
       "15  15        True           True        True        True   \n",
       "16  16        True           True        True        True   \n",
       "17  17        True           True        True        True   \n",
       "18  18        True           True        True        True   \n",
       "19  19        True           True        True        True   \n",
       "20  20        True           True        True        True   \n",
       "21  21        True           True        True        True   \n",
       "22  22        True           True        True        True   \n",
       "23  23        True           True        True        True   \n",
       "24  24        True           True        True        True   \n",
       "25  25        True           True        True        True   \n",
       "26  26        True           True        True        True   \n",
       "27  27        True           True        True        True   \n",
       "28  28        True           True        True        True   \n",
       "29  29        True           True        True        True   \n",
       "30  30        True           True        True        True   \n",
       "31  31        True           True        True        True   \n",
       "32  32        True           True        True        True   \n",
       "33  33        True           True        True        True   \n",
       "34  34        True           True        True        True   \n",
       "35  35        True           True        True        True   \n",
       "36  36        True           True        True        True   \n",
       "37  37        True           True        True        True   \n",
       "38  38        True           True        True        True   \n",
       "39  39        True           True        True        True   \n",
       "40  40        True           True        True        True   \n",
       "41  41        True           True        True        True   \n",
       "42  42        True           True        True        True   \n",
       "43  43        True           True        True        True   \n",
       "44  44        True           True        True        True   \n",
       "45  45        True           True        True        True   \n",
       "46  46        True           True        True        True   \n",
       "47  47        True           True        True        True   \n",
       "48  48        True           True        True        True   \n",
       "49  49        True           True        True        True   \n",
       "\n",
       "                                                    e  \\\n",
       "0     (0, 0)\\t1.0\\n  (0, 2)\\t1.0\\n  (0, 18)\\t1.0\\n...   \n",
       "1     (0, 1)\\t1.0\\n  (0, 3)\\t1.0\\n  (0, 5)\\t1.0\\n ...   \n",
       "2     (0, 0)\\t1.0\\n  (0, 39)\\t1.0\\n  (0, 50)\\t1.0\\...   \n",
       "3     (0, 18)\\t1.0\\n  (0, 27)\\t1.0\\n  (0, 29)\\t1.0...   \n",
       "4     (0, 39)\\t1.0\\n  (0, 92)\\t1.0\\n  (0, 106)\\t1....   \n",
       "5     (0, 0)\\t1.0\\n  (0, 56)\\t1.0\\n  (0, 63)\\t1.0\\...   \n",
       "6     (0, 18)\\t1.0\\n  (0, 27)\\t1.0\\n  (0, 53)\\t1.0...   \n",
       "7     (0, 39)\\t1.0\\n  (0, 105)\\t1.0\\n  (0, 121)\\t1...   \n",
       "8     (0, 0)\\t1.0\\n  (0, 27)\\t1.0\\n  (0, 92)\\t1.0\\...   \n",
       "9     (0, 18)\\t1.0\\n  (0, 28)\\t1.0\\n  (0, 39)\\t1.0...   \n",
       "10    (0, 0)\\t1.0\\n  (0, 56)\\t1.0\\n  (0, 105)\\t1.0...   \n",
       "11    (0, 27)\\t1.0\\n  (0, 39)\\t1.0\\n  (0, 102)\\t1....   \n",
       "12    (0, 18)\\t1.0\\n  (0, 47)\\t1.0\\n  (0, 79)\\t1.0...   \n",
       "13    (0, 0)\\t1.0\\n  (0, 27)\\t1.0\\n  (0, 53)\\t1.0\\...   \n",
       "14    (0, 39)\\t1.0\\n  (0, 83)\\t1.0\\n  (0, 105)\\t1....   \n",
       "15    (0, 18)\\t1.0\\n  (0, 56)\\t1.0\\n  (0, 88)\\t1.0...   \n",
       "16    (0, 0)\\t1.0\\n  (0, 27)\\t1.0\\n  (0, 39)\\t1.0\\...   \n",
       "17    (0, 86)\\t1.0\\n  (0, 92)\\t1.0\\n  (0, 121)\\t1....   \n",
       "18    (0, 0)\\t1.0\\n  (0, 7)\\t1.0\\n  (0, 18)\\t1.0\\n...   \n",
       "19    (0, 53)\\t1.0\\n  (0, 79)\\t1.0\\n  (0, 121)\\t1....   \n",
       "20    (0, 4)\\t1.0\\n  (0, 30)\\t1.0\\n  (0, 56)\\t1.0\\...   \n",
       "21    (0, 0)\\t1.0\\n  (0, 2)\\t1.0\\n  (0, 18)\\t1.0\\n...   \n",
       "22    (0, 53)\\t1.0\\n  (0, 57)\\t1.0\\n  (0, 101)\\t1....   \n",
       "23    (0, 27)\\t1.0\\n  (0, 39)\\t1.0\\n  (0, 88)\\t1.0...   \n",
       "24    (0, 0)\\t1.0\\n  (0, 18)\\t1.0\\n  (0, 25)\\t1.0\\...   \n",
       "25    (0, 28)\\t1.0\\n  (0, 39)\\t1.0\\n  (0, 56)\\t1.0...   \n",
       "26    (0, 0)\\t1.0\\n  (0, 18)\\t1.0\\n  (0, 27)\\t1.0\\...   \n",
       "27    (0, 79)\\t1.0\\n  (0, 117)\\t1.0\\n  (0, 121)\\t1...   \n",
       "28    (0, 39)\\t1.0\\n  (0, 121)\\t1.0\\n  (0, 163)\\t1...   \n",
       "29    (0, 0)\\t1.0\\n  (0, 12)\\t1.0\\n  (0, 14)\\t1.0\\...   \n",
       "30    (0, 5)\\t1.0\\n  (0, 10)\\t1.0\\n  (0, 16)\\t1.0\\...   \n",
       "31    (0, 8)\\t1.0\\n  (0, 9)\\t1.0\\n  (0, 11)\\t1.0\\n...   \n",
       "32    (0, 0)\\t1.0\\n  (0, 18)\\t1.0\\n  (0, 20)\\t1.0\\...   \n",
       "33    (0, 93)\\t1.0\\n  (0, 95)\\t1.0\\n  (0, 107)\\t1....   \n",
       "34    (0, 6)\\t1.0\\n  (0, 15)\\t1.0\\n  (0, 27)\\t1.0\\...   \n",
       "35    (0, 0)\\t1.0\\n  (0, 18)\\t1.0\\n  (0, 46)\\t1.0\\...   \n",
       "36    (0, 27)\\t1.0\\n  (0, 40)\\t1.0\\n  (0, 53)\\t1.0...   \n",
       "37    (0, 0)\\t1.0\\n  (0, 39)\\t1.0\\n  (0, 52)\\t1.0\\...   \n",
       "38    (0, 18)\\t1.0\\n  (0, 24)\\t1.0\\n  (0, 44)\\t1.0...   \n",
       "39    (0, 27)\\t1.0\\n  (0, 36)\\t1.0\\n  (0, 39)\\t1.0...   \n",
       "40    (0, 0)\\t1.0\\n  (0, 22)\\t1.0\\n  (0, 56)\\t1.0\\...   \n",
       "41    (0, 18)\\t1.0\\n  (0, 27)\\t1.0\\n  (0, 39)\\t1.0...   \n",
       "42    (0, 0)\\t1.0\\n  (0, 28)\\t1.0\\n  (0, 53)\\t1.0\\...   \n",
       "43    (0, 13)\\t1.0\\n  (0, 34)\\t1.0\\n  (0, 79)\\t1.0...   \n",
       "44    (0, 1)\\t1.0\\n  (0, 18)\\t1.0\\n  (0, 27)\\t1.0\\...   \n",
       "45    (0, 0)\\t1.0\\n  (0, 3)\\t1.0\\n  (0, 56)\\t1.0\\n...   \n",
       "46    (0, 27)\\t1.0\\n  (0, 39)\\t1.0\\n  (0, 53)\\t1.0...   \n",
       "47    (0, 18)\\t1.0\\n  (0, 88)\\t1.0\\n  (0, 104)\\t1....   \n",
       "48    (0, 0)\\t1.0\\n  (0, 39)\\t1.0\\n  (0, 90)\\t1.0\\...   \n",
       "49    (0, 27)\\t1.0\\n  (0, 53)\\t1.0\\n  (0, 92)\\t1.0...   \n",
       "\n",
       "                                                   eg  \\\n",
       "0     (0, 0)\\t1.0\\n  (0, 2)\\t1.0\\n  (0, 18)\\t1.0\\n...   \n",
       "1     (0, 1)\\t1.0\\n  (0, 3)\\t1.0\\n  (0, 5)\\t1.0\\n ...   \n",
       "2     (0, 0)\\t1.0\\n  (0, 39)\\t1.0\\n  (0, 50)\\t1.0\\...   \n",
       "3     (0, 18)\\t1.0\\n  (0, 27)\\t1.0\\n  (0, 29)\\t1.0...   \n",
       "4     (0, 39)\\t1.0\\n  (0, 92)\\t1.0\\n  (0, 106)\\t1....   \n",
       "5     (0, 0)\\t1.0\\n  (0, 56)\\t1.0\\n  (0, 63)\\t1.0\\...   \n",
       "6     (0, 18)\\t1.0\\n  (0, 27)\\t1.0\\n  (0, 53)\\t1.0...   \n",
       "7     (0, 39)\\t1.0\\n  (0, 105)\\t1.0\\n  (0, 121)\\t1...   \n",
       "8     (0, 0)\\t1.0\\n  (0, 27)\\t1.0\\n  (0, 92)\\t1.0\\...   \n",
       "9     (0, 18)\\t1.0\\n  (0, 28)\\t1.0\\n  (0, 39)\\t1.0...   \n",
       "10    (0, 0)\\t1.0\\n  (0, 56)\\t1.0\\n  (0, 105)\\t1.0...   \n",
       "11    (0, 27)\\t1.0\\n  (0, 39)\\t1.0\\n  (0, 102)\\t1....   \n",
       "12    (0, 18)\\t1.0\\n  (0, 47)\\t1.0\\n  (0, 79)\\t1.0...   \n",
       "13    (0, 0)\\t1.0\\n  (0, 27)\\t1.0\\n  (0, 53)\\t1.0\\...   \n",
       "14    (0, 39)\\t1.0\\n  (0, 83)\\t1.0\\n  (0, 105)\\t1....   \n",
       "15    (0, 18)\\t1.0\\n  (0, 56)\\t1.0\\n  (0, 88)\\t1.0...   \n",
       "16    (0, 0)\\t1.0\\n  (0, 27)\\t1.0\\n  (0, 39)\\t1.0\\...   \n",
       "17    (0, 86)\\t1.0\\n  (0, 92)\\t1.0\\n  (0, 121)\\t1....   \n",
       "18    (0, 0)\\t1.0\\n  (0, 7)\\t1.0\\n  (0, 18)\\t1.0\\n...   \n",
       "19    (0, 53)\\t1.0\\n  (0, 79)\\t1.0\\n  (0, 121)\\t1....   \n",
       "20    (0, 4)\\t1.0\\n  (0, 30)\\t1.0\\n  (0, 56)\\t1.0\\...   \n",
       "21    (0, 0)\\t1.0\\n  (0, 2)\\t1.0\\n  (0, 18)\\t1.0\\n...   \n",
       "22    (0, 53)\\t1.0\\n  (0, 57)\\t1.0\\n  (0, 101)\\t1....   \n",
       "23    (0, 27)\\t1.0\\n  (0, 39)\\t1.0\\n  (0, 88)\\t1.0...   \n",
       "24    (0, 0)\\t1.0\\n  (0, 18)\\t1.0\\n  (0, 25)\\t1.0\\...   \n",
       "25    (0, 28)\\t1.0\\n  (0, 39)\\t1.0\\n  (0, 56)\\t1.0...   \n",
       "26    (0, 0)\\t1.0\\n  (0, 18)\\t1.0\\n  (0, 27)\\t1.0\\...   \n",
       "27    (0, 79)\\t1.0\\n  (0, 117)\\t1.0\\n  (0, 121)\\t1...   \n",
       "28    (0, 39)\\t1.0\\n  (0, 121)\\t1.0\\n  (0, 163)\\t1...   \n",
       "29    (0, 0)\\t1.0\\n  (0, 12)\\t1.0\\n  (0, 14)\\t1.0\\...   \n",
       "30    (0, 5)\\t1.0\\n  (0, 10)\\t1.0\\n  (0, 16)\\t1.0\\...   \n",
       "31    (0, 8)\\t1.0\\n  (0, 9)\\t1.0\\n  (0, 11)\\t1.0\\n...   \n",
       "32    (0, 0)\\t1.0\\n  (0, 18)\\t1.0\\n  (0, 20)\\t1.0\\...   \n",
       "33    (0, 93)\\t1.0\\n  (0, 95)\\t1.0\\n  (0, 107)\\t1....   \n",
       "34    (0, 6)\\t1.0\\n  (0, 15)\\t1.0\\n  (0, 27)\\t1.0\\...   \n",
       "35    (0, 0)\\t1.0\\n  (0, 18)\\t1.0\\n  (0, 46)\\t1.0\\...   \n",
       "36    (0, 27)\\t1.0\\n  (0, 40)\\t1.0\\n  (0, 53)\\t1.0...   \n",
       "37    (0, 0)\\t1.0\\n  (0, 39)\\t1.0\\n  (0, 52)\\t1.0\\...   \n",
       "38    (0, 18)\\t1.0\\n  (0, 24)\\t1.0\\n  (0, 44)\\t1.0...   \n",
       "39    (0, 27)\\t1.0\\n  (0, 36)\\t1.0\\n  (0, 39)\\t1.0...   \n",
       "40    (0, 0)\\t1.0\\n  (0, 22)\\t1.0\\n  (0, 56)\\t1.0\\...   \n",
       "41    (0, 18)\\t1.0\\n  (0, 27)\\t1.0\\n  (0, 39)\\t1.0...   \n",
       "42    (0, 0)\\t1.0\\n  (0, 28)\\t1.0\\n  (0, 53)\\t1.0\\...   \n",
       "43    (0, 13)\\t1.0\\n  (0, 34)\\t1.0\\n  (0, 79)\\t1.0...   \n",
       "44    (0, 1)\\t1.0\\n  (0, 18)\\t1.0\\n  (0, 27)\\t1.0\\...   \n",
       "45    (0, 0)\\t1.0\\n  (0, 3)\\t1.0\\n  (0, 56)\\t1.0\\n...   \n",
       "46    (0, 27)\\t1.0\\n  (0, 39)\\t1.0\\n  (0, 53)\\t1.0...   \n",
       "47    (0, 18)\\t1.0\\n  (0, 88)\\t1.0\\n  (0, 104)\\t1....   \n",
       "48    (0, 0)\\t1.0\\n  (0, 39)\\t1.0\\n  (0, 90)\\t1.0\\...   \n",
       "49    (0, 27)\\t1.0\\n  (0, 53)\\t1.0\\n  (0, 92)\\t1.0...   \n",
       "\n",
       "                                                    G  \\\n",
       "0     (0, 0)\\t-5.664302954085622\\n  (1, 0)\\t1.5075...   \n",
       "1     (0, 0)\\t11.996006957347323\\n  (1, 0)\\t1.6710...   \n",
       "2     (0, 0)\\t-0.5917221360067799\\n  (1, 0)\\t-0.24...   \n",
       "3     (0, 0)\\t5.702142410670272\\n  (1, 0)\\t0.71075...   \n",
       "4     (0, 0)\\t0.6670507733286302\\n  (1, 0)\\t-0.057...   \n",
       "5     (0, 0)\\t-0.8901920331362501\\n  (1, 0)\\t1.695...   \n",
       "6     (0, 0)\\t2.7915791070019127\\n  (1, 0)\\t1.6882...   \n",
       "7     (0, 0)\\t0.3722876595804774\\n  (1, 0)\\t0.9636...   \n",
       "8     (0, 0)\\t-1.240573305367147\\n  (1, 0)\\t0.4806...   \n",
       "9     (0, 0)\\t1.4067427471757474\\n  (1, 0)\\t0.7187...   \n",
       "10    (0, 0)\\t-0.10095351279872133\\n  (1, 0)\\t0.36...   \n",
       "11    (0, 0)\\t1.915206565558953\\n  (1, 0)\\t0.58526...   \n",
       "12    (0, 0)\\t0.5612383735216016\\n  (1, 0)\\t0.3090...   \n",
       "13    (0, 0)\\t-0.502593777364889\\n  (1, 0)\\t0.0920...   \n",
       "14    (0, 0)\\t1.163886320596741\\n  (1, 0)\\t0.30262...   \n",
       "15    (0, 0)\\t0.15770219518666817\\n  (1, 0)\\t0.113...   \n",
       "16    (0, 0)\\t-0.6709200257392736\\n  (1, 0)\\t-0.04...   \n",
       "17    (0, 0)\\t0.736516305714793\\n  (1, 0)\\t0.14822...   \n",
       "18    (0, 0)\\t-0.05494394641078326\\n  (1, 0)\\t0.00...   \n",
       "19    (0, 0)\\t1.1501511439650267\\n  (1, 0)\\t0.1718...   \n",
       "20    (0, 0)\\t0.38484277952227863\\n  (1, 0)\\t0.040...   \n",
       "21    (0, 0)\\t-0.014204531894838723\\n  (1, 0)\\t0.5...   \n",
       "22    (0, 0)\\t1.0301616845610022\\n  (1, 0)\\t0.6103...   \n",
       "23    (0, 0)\\t0.37051598729060053\\n  (1, 0)\\t0.458...   \n",
       "24    (0, 0)\\t-0.20997222630735468\\n  (1, 0)\\t0.32...   \n",
       "25    (0, 0)\\t0.7289492493583909\\n  (1, 0)\\t0.4287...   \n",
       "26    (0, 0)\\t0.1649095506885967\\n  (1, 0)\\t0.3073...   \n",
       "27    (0, 0)\\t1.0099879368785052\\n  (1, 0)\\t0.4047...   \n",
       "28    (0, 0)\\t0.46546554932248174\\n  (1, 0)\\t0.293...   \n",
       "29    (0, 0)\\t0.1674560029632488\\n  (1, 0)\\t0.6205...   \n",
       "30    (0, 0)\\t0.930588322600931\\n  (1, 0)\\t0.68829...   \n",
       "31    (0, 0)\\t0.4420773847706334\\n  (1, 0)\\t0.5696...   \n",
       "32    (0, 0)\\t-0.002023467802363399\\n  (1, 0)\\t0.4...   \n",
       "33    (0, 0)\\t0.703743027794677\\n  (1, 0)\\t0.53294...   \n",
       "34    (0, 0)\\t0.27006704433876205\\n  (1, 0)\\t0.433...   \n",
       "35    (0, 0)\\t-0.12173424087328932\\n  (1, 0)\\t0.34...   \n",
       "36    (0, 0)\\t0.5332787968683652\\n  (1, 0)\\t0.4139...   \n",
       "37    (0, 0)\\t0.142812192681407\\n  (1, 0)\\t0.32844...   \n",
       "38    (0, 0)\\t0.7506683344591467\\n  (1, 0)\\t0.3972...   \n",
       "39    (0, 0)\\t0.36885558360199777\\n  (1, 0)\\t0.316...   \n",
       "40    (0, 0)\\t0.014980351100249756\\n  (1, 0)\\t0.24...   \n",
       "41    (0, 0)\\t0.585505427588207\\n  (1, 0)\\t0.31049...   \n",
       "42    (0, 0)\\t0.2380127712964839\\n  (1, 0)\\t0.2397...   \n",
       "43    (0, 0)\\t0.7724670524806134\\n  (1, 0)\\t0.3048...   \n",
       "44    (0, 0)\\t0.432109108695526\\n  (1, 0)\\t0.23751...   \n",
       "45    (0, 0)\\t0.2392053367493725\\n  (1, 0)\\t0.4532...   \n",
       "46    (0, 0)\\t0.7394947674131149\\n  (1, 0)\\t0.5051...   \n",
       "47    (0, 0)\\t0.4217830403257423\\n  (1, 0)\\t0.4336...   \n",
       "48    (0, 0)\\t0.12773654523170475\\n  (1, 0)\\t0.366...   \n",
       "49    (0, 0)\\t0.6024673617163296\\n  (1, 0)\\t0.4187...   \n",
       "\n",
       "                                                   Gg  \n",
       "0     (0, 0)\\t-5.664302954085623\\n  (0, 3)\\t7.0230...  \n",
       "1     (0, 0)\\t11.996006957347323\\n  (0, 2)\\t18.881...  \n",
       "2     (0, 0)\\t-0.5917221360067808\\n  (0, 1)\\t12.58...  \n",
       "3     (0, 0)\\t5.702142410670271\\n  (0, 1)\\t6.29386...  \n",
       "4     (0, 0)\\t0.6670507733286293\\n  (0, 1)\\t3.7763...  \n",
       "5     (0, 0)\\t-0.890192033136251\\n  (0, 1)\\t2.5175...  \n",
       "6     (0, 0)\\t2.791579107001912\\n  (0, 1)\\t1.79824...  \n",
       "7     (0, 0)\\t0.3722876595804765\\n  (0, 1)\\t1.3486...  \n",
       "8     (0, 0)\\t-1.240573305367148\\n  (0, 1)\\t1.0489...  \n",
       "9     (0, 0)\\t1.4067427471757465\\n  (0, 1)\\t0.8391...  \n",
       "10    (0, 0)\\t-0.10095351279872222\\n  (0, 1)\\t0.68...  \n",
       "11    (0, 0)\\t1.915206565558952\\n  (0, 1)\\t0.57216...  \n",
       "12    (0, 0)\\t0.5612383735216007\\n  (0, 1)\\t0.4841...  \n",
       "13    (0, 0)\\t-0.5025937773648899\\n  (0, 1)\\t0.414...  \n",
       "14    (0, 0)\\t1.16388632059674\\n  (0, 1)\\t0.359649...  \n",
       "15    (0, 0)\\t0.15770219518666728\\n  (0, 1)\\t0.314...  \n",
       "16    (0, 0)\\t-0.6709200257392745\\n  (0, 1)\\t0.277...  \n",
       "17    (0, 0)\\t0.7365163057147921\\n  (0, 1)\\t0.2582...  \n",
       "18    (0, 0)\\t-0.05494394641078415\\n  (0, 1)\\t0.23...  \n",
       "19    (0, 0)\\t1.1501511439650258\\n  (0, 1)\\t0.2079...  \n",
       "20    (0, 0)\\t0.38484277952227774\\n  (0, 1)\\t0.188...  \n",
       "21    (0, 0)\\t-0.014204531894839612\\n  (0, 1)\\t0.1...  \n",
       "22    (0, 0)\\t1.0301616845610013\\n  (0, 1)\\t0.1561...  \n",
       "23    (0, 0)\\t0.37051598729059965\\n  (0, 1)\\t0.143...  \n",
       "24    (0, 0)\\t-0.20997222630735557\\n  (0, 1)\\t0.36...  \n",
       "25    (0, 0)\\t0.72894924935839\\n  (0, 1)\\t0.334338...  \n",
       "26    (0, 0)\\t0.1649095506885958\\n  (0, 1)\\t0.4403...  \n",
       "27    (0, 0)\\t1.0099879368785043\\n  (0, 1)\\t0.4089...  \n",
       "28    (0, 0)\\t0.46546554932248174\\n  (0, 1)\\t0.380...  \n",
       "29    (0, 0)\\t0.16745600296324792\\n  (0, 1)\\t0.355...  \n",
       "30    (0, 0)\\t0.9305883226009302\\n  (0, 1)\\t0.3324...  \n",
       "31    (0, 0)\\t0.4420773847706325\\n  (0, 1)\\t0.3116...  \n",
       "32    (0, 0)\\t-0.002023467802364287\\n  (0, 1)\\t0.2...  \n",
       "33    (0, 0)\\t0.703743027794677\\n  (0, 1)\\t0.27552...  \n",
       "34    (0, 0)\\t0.27006704433876116\\n  (0, 1)\\t0.259...  \n",
       "35    (0, 0)\\t-0.12173424087329021\\n  (0, 1)\\t0.24...  \n",
       "36    (0, 0)\\t0.5332787968683643\\n  (0, 1)\\t0.2320...  \n",
       "37    (0, 0)\\t0.1428121926814061\\n  (0, 1)\\t0.2198...  \n",
       "38    (0, 0)\\t0.7506683344591458\\n  (0, 1)\\t0.2138...  \n",
       "39    (0, 0)\\t0.3688555836019969\\n  (0, 1)\\t0.2031...  \n",
       "40    (0, 0)\\t0.014980351100248868\\n  (0, 1)\\t0.19...  \n",
       "41    (0, 0)\\t0.5855054275882061\\n  (0, 1)\\t0.1840...  \n",
       "42    (0, 0)\\t0.23801277129648302\\n  (0, 1)\\t0.175...  \n",
       "43    (0, 0)\\t0.7724670524806125\\n  (0, 1)\\t0.1675...  \n",
       "44    (0, 0)\\t0.4321091086955251\\n  (0, 1)\\t0.1600...  \n",
       "45    (0, 0)\\t0.2392053367493716\\n  (0, 1)\\t0.9740...  \n",
       "46    (0, 0)\\t0.739494767413114\\n  (0, 1)\\t0.93262...  \n",
       "47    (0, 0)\\t0.42178304032574143\\n  (0, 1)\\t0.893...  \n",
       "48    (0, 0)\\t0.12773654523170386\\n  (0, 1)\\t0.857...  \n",
       "49    (0, 0)\\t0.6024673617163288\\n  (0, 1)\\t0.8229...  "
      ]
     },
     "execution_count": 36,
     "metadata": {},
     "output_type": "execute_result"
    }
   ],
   "source": [
    "df"
   ]
  },
  {
   "cell_type": "code",
   "execution_count": 37,
   "metadata": {},
   "outputs": [
    {
     "name": "stdout",
     "output_type": "stream",
     "text": [
      "True\n"
     ]
    }
   ],
   "source": [
    "# Get e and eg from row 1 of df \n",
    "e = df.iloc[1][\"e\"] \n",
    "eg = df.iloc[1][\"eg\"] \n",
    "\n",
    "# Compare e and eg \n",
    "print(np.allclose(e.todense(), eg.get().todense()))\n"
   ]
  },
  {
   "cell_type": "code",
   "execution_count": 38,
   "metadata": {},
   "outputs": [
    {
     "name": "stdout",
     "output_type": "stream",
     "text": [
      "Sparsity of e:  0.9230769230769231\n",
      "Sparsity of eg:  0.9230769230769231\n"
     ]
    }
   ],
   "source": [
    "# Compute the sparsity of e and eg \n",
    "\n",
    "print(\"Sparsity of e: \", 1 - (np.count_nonzero(e.todense()) / (e.shape[0] * e.shape[1]))) \n",
    "print(\"Sparsity of eg: \", 1 - (np.count_nonzero(eg.get().todense()) / (eg.shape[0] * eg.shape[1]))) \n",
    "\n"
   ]
  },
  {
   "cell_type": "code",
   "execution_count": 39,
   "metadata": {},
   "outputs": [
    {
     "name": "stdout",
     "output_type": "stream",
     "text": [
      "{0.0: 13000}\n"
     ]
    }
   ],
   "source": [
    "diff = (e.todense() - eg.get().todense()).flatten().tolist()[0]\n",
    "\n",
    "# Get the frequency of the elements in diff \n",
    "freq = {} \n",
    "for item in diff:\n",
    "    if (item in freq):\n",
    "        freq[item] += 1 \n",
    "    else:\n",
    "        freq[item] = 1\n",
    "\n",
    "print(freq)\n"
   ]
  },
  {
   "cell_type": "code",
   "execution_count": 40,
   "metadata": {},
   "outputs": [
    {
     "name": "stdout",
     "output_type": "stream",
     "text": [
      "True\n"
     ]
    }
   ],
   "source": [
    "# Get G and Gg from row 1 of df \n",
    "G = df.iloc[1][\"G\"]\n",
    "Gg = df.iloc[1][\"Gg\"]\n",
    "\n",
    "# Compare G and Gg\n",
    "print(np.allclose(G.todense(), Gg.get().todense()))"
   ]
  },
  {
   "cell_type": "code",
   "execution_count": 41,
   "metadata": {},
   "outputs": [
    {
     "name": "stdout",
     "output_type": "stream",
     "text": [
      "Sparsity of G:  0.8004615384615384\n",
      "Sparsity of Gg:  0.8004615384615384\n"
     ]
    }
   ],
   "source": [
    "# compute the sparsity of G and Gg \n",
    "print(\"Sparsity of G: \", 1 - (np.count_nonzero(G.todense()) / (G.shape[0] * G.shape[1])))\n",
    "print(\"Sparsity of Gg: \", 1 - (np.count_nonzero(Gg.get().todense()) / (Gg.shape[0] * Gg.shape[1])))"
   ]
  },
  {
   "cell_type": "code",
   "execution_count": 42,
   "metadata": {},
   "outputs": [
    {
     "name": "stdout",
     "output_type": "stream",
     "text": [
      "{0.0: 11888, -4.440892098500626e-16: 70, -1.7763568394002505e-15: 273, 1.7763568394002505e-15: 54, 3.552713678800501e-15: 11, 2.220446049250313e-16: 186, 4.440892098500626e-16: 17, -5.551115123125783e-17: 3, -8.881784197001252e-16: 55, -6.661338147750939e-16: 1, -2.220446049250313e-16: 209, -3.552713678800501e-15: 45, 8.881784197001252e-16: 80, -1.3322676295501878e-15: 6, -1.1102230246251565e-16: 11, 1.1102230246251565e-16: 49, 5.551115123125783e-17: 1, 3.3306690738754696e-16: 2, -2.6645352591003757e-15: 19, -3.3306690738754696e-16: 2, 6.661338147750939e-16: 1, -2.220446049250313e-15: 2, 2.6645352591003757e-15: 3, -4.440892098500626e-15: 7, -5.329070518200751e-15: 4, 1.3322676295501878e-15: 1}\n"
     ]
    }
   ],
   "source": [
    "diff = (G.todense() - Gg.get().todense()).flatten().tolist()[0]\n",
    "\n",
    "# Get the frequency of the elements in diff\n",
    "freq = {}\n",
    "for item in diff:\n",
    "    if (item in freq):\n",
    "        freq[item] += 1\n",
    "    else:\n",
    "        freq[item] = 1\n",
    "\n",
    "print(freq)"
   ]
  },
  {
   "cell_type": "code",
   "execution_count": 43,
   "metadata": {},
   "outputs": [
    {
     "name": "stdout",
     "output_type": "stream",
     "text": [
      "(1000,)\n"
     ]
    }
   ],
   "source": [
    "# aminsG = Gg.argmin(axis=0).ravel() \n",
    "\n",
    "# # Calculate aminsG so that we get the lowest possible index for the lowest value in each column of Gg \n",
    "# # aminsG = np.argmin(Gg.get().todense(), axis=0).ravel()\n",
    "\n",
    "\n",
    "# # Compute all the indices of the lowest value in each column of Gg\n",
    "# minsG = Gg.min(axis=0)\n",
    "# print(minsG)\n",
    "\n",
    "\n",
    "aminsG = cp.argmin(Gg.todense(), axis=0)\n",
    "print(aminsG.shape)"
   ]
  },
  {
   "cell_type": "code",
   "execution_count": 44,
   "metadata": {},
   "outputs": [
    {
     "name": "stdout",
     "output_type": "stream",
     "text": [
      "[ 2  0  2  0  4  0  0  2 11  0  0  0  5  0  1  0  0  0  3  0  0  2  0  1\n",
      "  0 12  0  0  2  5 12  2  0  0  0  2  0  0  0  1  0  0  0  0  0  0  0  0\n",
      "  6  0  6  0  0  2  7  2  0  7  0  8  0  7  2  1  5  0  0  8  0  0  1  0\n",
      "  0  1  2  2  2  0  0  2  0 12  5  5  0  0  0  8  2  0  2  0  2  0  7  2\n",
      "  2  0  0  5  0  2  2  0  0  2  2  0  0  2  9  0  0  0  0  0  0  2  0  0\n",
      "  2  0  5  0  2  1  0  2  0  0  8  0  0  2  3  3  0  0  2  1  0  0  0  0\n",
      "  0  0  0  0  0  0  2 11  2  0  1  0  2  0  5  0  9  3  2  1  0  6  0  0\n",
      "  0  0  2  0  3  2  0  0  0  0  5  9  0  0  0  5  2  2  8  0  0  0  0 10\n",
      "  2  8  8  2  0  0  0  0  0  0  0  0  3  6  0  9  0  0  0  2  0 11  0  0\n",
      "  0  0  0  2 10  0  0  0  2  6  0  0  8  4  4  0  0  0  0  0  0  2  2  0\n",
      "  2  0  0  2  0  0  0  0  0  0  0  2  0  2  0  0  5  0  0  0  7  2  2  0\n",
      "  0  2  0  0  0  0  4  8  0  8  0  2  0  0  0  0  1  8  0  9  0  0  2  2\n",
      "  2  0  0  5 10  0  7  8  0  0  0  0  0  0  8  0  0  2  2 12  0  2  0  5\n",
      "  0  5  0  0  0  2  1  2  0  0  2  0  2  9 11  0  0  0 12  0  2  8  2  5\n",
      "  9  0  2  0  2 11  8  0  2  2  0  0  0  3  0  0  0  0  0  2  0  0  0  1\n",
      "  5  0  2  0  8  1  0  2  0  5  0  0  0  0  0  0  5  0  2  1  0  0  2  1\n",
      " 10  0  0  8  0  2  2  2  0  2  0  0  4  5  0  0  7  8  0  0  6  4  5  0\n",
      "  0  0  2  2  0  0  2  0  2  0  0  0  0  0  0 11  0  5  0  0  0  0  0  2\n",
      "  0  0  2  5  0  5  0  0  2  0  2  0  2  0  0  0  2  2  2  0  0  2  0  3\n",
      "  8  0  5  2  0 12  8  2  0  0  0  3  2  0  5  0  0  2  0  0  0  0  0  0\n",
      "  2  0  2  0  0  0  0  2  0  2  0  0  0  5  7  0  0  2  2  0 10  0  3  0\n",
      "  0  0  0  0  4  0  2  0  5  0  2  8  0  2  0  0  3  2  1  2  0  0  8  0\n",
      "  2  0  0  0  5  0  0  2  4  6  0  0  3  0  0  0  2  0  9  0  0  0  2  0\n",
      "  0  5  0  0  0  3  0  0  0  0  6  0  0  0  4  2  0  0  1 12  0  2  0  0\n",
      "  0  2  1  2  0  0  2  0  0  0 12 11  7  7  0  0  0  7  2  0  0  2  0  5\n",
      "  8  0  0  0  0  0  2  0  0  7  0  0  0  5  5  0  2  0  6  0  2  3  9 11\n",
      "  0  5  5  1  0  5  5  0  2  6  0  0  0  0  0  2  0  2  0  0  0  6 10  0\n",
      "  0  0  0  8  1  0  0  8  2  0  0  0  4  2  0  0  0  2  0  0  3  2  2  0\n",
      "  8  0  8  0  0  0  0 11  6  0 12  0  5  2  5  6  0  0  2  1  0  6  5  0\n",
      "  2 12  6  0  0  0  5  0  0  0  0  0  0  3  5  2  0  0  5  2  0  0  0  0\n",
      "  0  5  0  2  2  0  0 10  0  2  0 11  0  0  0  2  2  2  2  3  0  0  2 12\n",
      "  0  0  0 10  0 11  0  5  0  2  1  0  0  0  2  0  0  3  8  5  0  0  0  2\n",
      "  6 12  5  0  0  2  2  2  0  0  4  5 12  0  0  0  0  0  2  0  0  1  0  0\n",
      "  5  2  0  0  2  0  4  4  2  0  2  5  2  2  1  0  0  1  2  2  0  8  0  0\n",
      "  2  2  0  0  5  2  0  0  0  9  0  0  0  0  0  0  0  0  0  2  4  0  0  0\n",
      "  0  0  2  0  0  0  3  0  0  2  0  0  0  0  2  0  3  0  2  2  2  7  8  0\n",
      "  0  0  2  0  0  0  0  0  0  0  5  0  8  2  0  0  0 11  0  0  0  2  0  3\n",
      "  0  1 10  2  1  4  7  0  0  0  2  0  0  0  5  0  0  0  0  0  0  0  0  0\n",
      "  0  0 12  0  2  0  8  0  0  2  8  2  2  0  2  2 12  2  2  0  2  0  0  2\n",
      "  5  0  0  2  2  0  0  2  2  5  8  2  0  0  1  0  2  0  0  2  2  0  0  4\n",
      "  1  2  0  0  2  3  0  2  0  1  6  1  3  0  0  2  0  0  5  1  0  0  5  0\n",
      "  7  3  2  2  0  8  0  0  2  0  0  4  2  0  9  0]\n"
     ]
    }
   ],
   "source": [
    "amins = np.argmin(Gg.get(), axis=0)\n",
    "amins = np.array(amins).reshape(-1)\n",
    "\n",
    "print(amins)"
   ]
  },
  {
   "cell_type": "code",
   "execution_count": 45,
   "metadata": {},
   "outputs": [
    {
     "name": "stdout",
     "output_type": "stream",
     "text": [
      "True\n"
     ]
    }
   ],
   "source": [
    "# Compare amins and aminsG \n",
    "print(np.allclose(amins, aminsG))"
   ]
  },
  {
   "cell_type": "code",
   "execution_count": 46,
   "metadata": {},
   "outputs": [
    {
     "data": {
      "text/plain": [
       "matrix([[11.99600696],\n",
       "        [ 1.67105834],\n",
       "        [ 0.        ],\n",
       "        [ 1.76573645],\n",
       "        [ 0.10323059],\n",
       "        [ 0.        ],\n",
       "        [ 0.        ],\n",
       "        [ 0.        ],\n",
       "        [ 0.        ],\n",
       "        [ 0.        ],\n",
       "        [ 0.        ],\n",
       "        [ 0.        ],\n",
       "        [ 0.        ]])"
      ]
     },
     "execution_count": 46,
     "metadata": {},
     "output_type": "execute_result"
    }
   ],
   "source": [
    "Gg.get().todense()[:, 0]"
   ]
  },
  {
   "cell_type": "code",
   "execution_count": 47,
   "metadata": {},
   "outputs": [],
   "source": [
    "# Find the row numbers of every row in aminsG that is not equal to the corresponding row in amins\n",
    "row_nums = np.where(amins != aminsG.get())[0]\n",
    "# print(row_nums)\n",
    "\n",
    "# # Let's make a dataframe that will store the row numbers and the corresponding columns in Gg and G that are not equal. In addition, let's store the amins and aminsG for each row number. \n",
    "# df = pd.DataFrame(columns=[\"row_num\", \"aminsG\", \"amins\", \"Gg\"]) \n",
    "\n",
    "# for row_num in row_nums:\n",
    "#     df = pd.concat([df, pd.DataFrame([[row_num,\n",
    "#                                         aminsG.get()[row_num], \n",
    "#                                         amins[row_num], \n",
    "#                                         Gg.get().todense()[:, row_num]]], columns=df.columns)], ignore_index=True)\n",
    "\n",
    "# display(df)"
   ]
  },
  {
   "cell_type": "code",
   "execution_count": 48,
   "metadata": {},
   "outputs": [],
   "source": [
    "# # Print out the values in the second row of df \n",
    "# index = 5\n",
    "# print(\"aminsG: \", df.iloc[index][\"aminsG\"])\n",
    "# print(\"amins: \", df.iloc[index][\"amins\"])\n",
    "# print(\"Gg: \", df.iloc[index][\"Gg\"])"
   ]
  },
  {
   "cell_type": "code",
   "execution_count": 49,
   "metadata": {},
   "outputs": [],
   "source": [
    "# Where is the behavior of amins and aminsG the same?\n",
    "# row_nums_same = np.where(amins == aminsG.get())[0] \n",
    "\n",
    "# # Make a dataframe that will store the row numbers and the corresponding columns in Gg and G that are equal. In addition, let's store the amins and aminsG for each row number. \n",
    "# df_same = pd.DataFrame(columns=[\"row_num\", \"aminsG\", \"amins\", \"Gg\"])\n",
    "\n",
    "# for row_num in row_nums_same:\n",
    "#     df_same = pd.concat([df_same, pd.DataFrame([[row_num,\n",
    "#                                         aminsG.get()[row_num],\n",
    "#                                         amins[row_num],\n",
    "#                                         Gg.get().todense()[:, row_num]]], columns=df_same.columns)], ignore_index=True)\n",
    "    \n",
    "# display(df_same)"
   ]
  },
  {
   "cell_type": "code",
   "execution_count": null,
   "metadata": {},
   "outputs": [],
   "source": []
  },
  {
   "cell_type": "markdown",
   "metadata": {},
   "source": [
    "### Fit"
   ]
  },
  {
   "cell_type": "code",
   "execution_count": 50,
   "metadata": {},
   "outputs": [],
   "source": [
    "# Set model 4 A_ to model 2 A_ \n",
    "\n",
    "model4.A_ = cupyx.scipy.sparse.csr_matrix(model2.A_) \n",
    "\n",
    "# Set model 4 B_ to model 2 B_ \n",
    "model4.B_ = cupyx.scipy.sparse.csr_matrix(model2.B_)"
   ]
  },
  {
   "cell_type": "code",
   "execution_count": 51,
   "metadata": {},
   "outputs": [],
   "source": [
    "def fit_compare(\n",
    "        model2, \n",
    "        model4, \n",
    "        max_iter: int = 50,\n",
    "        min_iter: int = 10,\n",
    "        initial_archetypes=None,\n",
    "        initial_assignments=None,\n",
    "    ):\n",
    "        model2.initialize(\n",
    "            initial_archetypes=initial_archetypes,\n",
    "            initial_assignments=initial_assignments,\n",
    "        )\n",
    "\n",
    "        model4.initialize(\n",
    "            initial_archetypes=initial_archetypes,\n",
    "            initial_assignments=initial_assignments,\n",
    "        ) \n",
    "\n",
    "        # Set the model4.A_ to model2.A_ \n",
    "        model4.A_ = cupyx.scipy.sparse.csc_matrix(model2.A_) \n",
    "\n",
    "        # Set the model4.B_ to model2.B_ \n",
    "        model4.B_ = cupyx.scipy.sparse.csr_matrix(model2.B_)\n",
    "\n",
    "        # Check if model2.A_ and model4.A_ are equal\n",
    "        print(np.allclose(model2.A_.todense(), model4.A_.get().todense()))\n",
    "\n",
    "        # Check if model2.B_ and model4.B_ are equal\n",
    "        print(np.allclose(model2.B_.todense(), model4.B_.get().todense()))\n",
    "\n",
    "        # Check if model2.K and model4.K are equal \n",
    "        print(np.allclose(model2.K.todense(), model4.K.get().todense()))\n",
    "\n",
    "        # Create a dataframe that will store the iteration n_iter, is_close_A, is_close_B, is_close_K, is_close_RSS\n",
    "        df = pd.DataFrame(columns=[\"n_iter\", \"is_close_A\", \"is_close_B\", \"is_close_K\", \"is_close_RSS\", \"sparsity_2\", \"sparsity_4\"])\n",
    "\n",
    "        converged = False\n",
    "        n_iter = 0\n",
    "\n",
    "        converged1 = False \n",
    "        converged2 = False \n",
    "\n",
    "        \n",
    "        while (not converged and n_iter < max_iter) or n_iter < min_iter:\n",
    "            n_iter += 1\n",
    "            if n_iter == 1 or (n_iter) % 10 == 0:\n",
    "                print(f\"Starting iteration {n_iter}.\")\n",
    "            model2.step()\n",
    "            model4.step() \n",
    "\n",
    "            is_close_A = np.allclose(model2.A_.todense(), model4.A_.get().todense()) \n",
    "            is_close_B = np.allclose(model2.B_.todense(), model4.B_.get().todense()) \n",
    "            is_close_K = np.allclose(model2.K.todense(), model4.K.get().todense()) \n",
    "            is_close_RSS = np.allclose(model2.RSS_iters[-1], model4.RSS_iters[-1]) \n",
    "\n",
    "            # Compute the sparsity of model2.A_ and model4.A_\n",
    "            sparsity_2 = model2.A_.count_nonzero()\n",
    "            sparsity_4 = model4.A_.count_nonzero()\n",
    "\n",
    "            diff = (model2.A_.todense() - model4.A_.get().todense()).flatten().tolist()[0] \n",
    "\n",
    "            # Get the frequency of the elements in diff \n",
    "            freq = {}\n",
    "            for item in diff:\n",
    "                if (item in freq):\n",
    "                    freq[item] += 1 \n",
    "                else:\n",
    "                    freq[item] = 1\n",
    "\n",
    "            print(freq)\n",
    "\n",
    "            # Add the iteration n_iter and the is_close_A, is_close_B, is_close_K, is_close_RSS to the dataframe using df.concat\n",
    "            df = pd.concat([df, pd.DataFrame([[n_iter, is_close_A, is_close_B, is_close_K, is_close_RSS, sparsity_2, sparsity_4]], columns=df.columns)], ignore_index=True)\n",
    "\n",
    "            if n_iter == 1 or (n_iter) % 10 == 0:\n",
    "                print(f\"Completed iteration {n_iter}.\")\n",
    "\n",
    "            # Check for convergence\n",
    "            if (\n",
    "                cp.abs(model2.RSS_iters[-2] - model2.RSS_iters[-1])\n",
    "                < model2.convergence_threshold\n",
    "            ):\n",
    "                print(f\"Converged after {n_iter} iterations.\")\n",
    "                converged1 = True\n",
    "\n",
    "            if (cp.abs(model4.RSS_iters[-2] - model4.RSS_iters[-1]) < model4.convergence_threshold):\n",
    "                print(f\"Converged after {n_iter} iterations.\")\n",
    "                converged2 = True\n",
    "\n",
    "            if converged1 and converged2: \n",
    "                converged = True\n",
    "\n",
    "        # Print out the types of model2.A_ and model4.A_ \n",
    "        print(type(model2.A_))\n",
    "        print(type(model4.A_)) \n",
    "\n",
    "        # Print out the shapes of model2.A_ and model4.A_ \n",
    "        print(model2.A_.shape) \n",
    "        print(model4.A_.shape)\n",
    "\n",
    "        model2.Z_ = model2.B_.T @ model2.K\n",
    "\n",
    "        # Label cells by SEACells assignment\n",
    "        labels = model2.get_hard_assignments()\n",
    "        model2.ad.obs[\"SEACell\"] = labels[\"SEACell\"]\n",
    "\n",
    "        model4.Z_ = model4.B_.T @ model4.K\n",
    "\n",
    "        # Label cells by SEACells assignment\n",
    "        labels = model4.get_hard_assignments()\n",
    "        model4.ad.obs[\"SEACell\"] = labels[\"SEACell\"]\n",
    "\n",
    "        if not converged:\n",
    "            raise RuntimeWarning(\n",
    "                \"Warning: Algorithm has not converged - you may need to increase the maximum number of iterations\"\n",
    "            )\n",
    "        return df"
   ]
  },
  {
   "cell_type": "code",
   "execution_count": 52,
   "metadata": {},
   "outputs": [
    {
     "name": "stdout",
     "output_type": "stream",
     "text": [
      "Randomly initialized A matrix.\n",
      "Randomly initialized A matrix.\n",
      "True\n",
      "True\n",
      "True\n",
      "Starting iteration 1.\n",
      "{0.0: 13000}\n",
      "Completed iteration 1.\n",
      "{0.0: 13000}\n"
     ]
    },
    {
     "name": "stderr",
     "output_type": "stream",
     "text": [
      "/tmp/ipykernel_1153298/2186850751.py:73: FutureWarning: In a future version, object-dtype columns with all-bool values will not be included in reductions with bool_only=True. Explicitly cast to bool dtype instead.\n",
      "  df = pd.concat([df, pd.DataFrame([[n_iter, is_close_A, is_close_B, is_close_K, is_close_RSS, sparsity_2, sparsity_4]], columns=df.columns)], ignore_index=True)\n"
     ]
    },
    {
     "name": "stdout",
     "output_type": "stream",
     "text": [
      "{0.0: 13000}\n"
     ]
    },
    {
     "name": "stderr",
     "output_type": "stream",
     "text": [
      "/tmp/ipykernel_1153298/2186850751.py:73: FutureWarning: In a future version, object-dtype columns with all-bool values will not be included in reductions with bool_only=True. Explicitly cast to bool dtype instead.\n",
      "  df = pd.concat([df, pd.DataFrame([[n_iter, is_close_A, is_close_B, is_close_K, is_close_RSS, sparsity_2, sparsity_4]], columns=df.columns)], ignore_index=True)\n"
     ]
    },
    {
     "name": "stdout",
     "output_type": "stream",
     "text": [
      "{0.0: 13000}\n"
     ]
    },
    {
     "name": "stderr",
     "output_type": "stream",
     "text": [
      "/tmp/ipykernel_1153298/2186850751.py:73: FutureWarning: In a future version, object-dtype columns with all-bool values will not be included in reductions with bool_only=True. Explicitly cast to bool dtype instead.\n",
      "  df = pd.concat([df, pd.DataFrame([[n_iter, is_close_A, is_close_B, is_close_K, is_close_RSS, sparsity_2, sparsity_4]], columns=df.columns)], ignore_index=True)\n"
     ]
    },
    {
     "name": "stdout",
     "output_type": "stream",
     "text": [
      "{0.0: 13000}\n"
     ]
    },
    {
     "name": "stderr",
     "output_type": "stream",
     "text": [
      "/tmp/ipykernel_1153298/2186850751.py:73: FutureWarning: In a future version, object-dtype columns with all-bool values will not be included in reductions with bool_only=True. Explicitly cast to bool dtype instead.\n",
      "  df = pd.concat([df, pd.DataFrame([[n_iter, is_close_A, is_close_B, is_close_K, is_close_RSS, sparsity_2, sparsity_4]], columns=df.columns)], ignore_index=True)\n"
     ]
    },
    {
     "name": "stdout",
     "output_type": "stream",
     "text": [
      "{0.0: 13000}\n"
     ]
    },
    {
     "name": "stderr",
     "output_type": "stream",
     "text": [
      "/tmp/ipykernel_1153298/2186850751.py:73: FutureWarning: In a future version, object-dtype columns with all-bool values will not be included in reductions with bool_only=True. Explicitly cast to bool dtype instead.\n",
      "  df = pd.concat([df, pd.DataFrame([[n_iter, is_close_A, is_close_B, is_close_K, is_close_RSS, sparsity_2, sparsity_4]], columns=df.columns)], ignore_index=True)\n"
     ]
    },
    {
     "name": "stdout",
     "output_type": "stream",
     "text": [
      "{0.0: 13000}\n"
     ]
    },
    {
     "name": "stderr",
     "output_type": "stream",
     "text": [
      "/tmp/ipykernel_1153298/2186850751.py:73: FutureWarning: In a future version, object-dtype columns with all-bool values will not be included in reductions with bool_only=True. Explicitly cast to bool dtype instead.\n",
      "  df = pd.concat([df, pd.DataFrame([[n_iter, is_close_A, is_close_B, is_close_K, is_close_RSS, sparsity_2, sparsity_4]], columns=df.columns)], ignore_index=True)\n"
     ]
    },
    {
     "name": "stdout",
     "output_type": "stream",
     "text": [
      "{0.0: 13000}\n"
     ]
    },
    {
     "name": "stderr",
     "output_type": "stream",
     "text": [
      "/tmp/ipykernel_1153298/2186850751.py:73: FutureWarning: In a future version, object-dtype columns with all-bool values will not be included in reductions with bool_only=True. Explicitly cast to bool dtype instead.\n",
      "  df = pd.concat([df, pd.DataFrame([[n_iter, is_close_A, is_close_B, is_close_K, is_close_RSS, sparsity_2, sparsity_4]], columns=df.columns)], ignore_index=True)\n"
     ]
    },
    {
     "name": "stdout",
     "output_type": "stream",
     "text": [
      "{0.0: 13000}\n",
      "Starting iteration 10.\n"
     ]
    },
    {
     "name": "stderr",
     "output_type": "stream",
     "text": [
      "/tmp/ipykernel_1153298/2186850751.py:73: FutureWarning: In a future version, object-dtype columns with all-bool values will not be included in reductions with bool_only=True. Explicitly cast to bool dtype instead.\n",
      "  df = pd.concat([df, pd.DataFrame([[n_iter, is_close_A, is_close_B, is_close_K, is_close_RSS, sparsity_2, sparsity_4]], columns=df.columns)], ignore_index=True)\n"
     ]
    },
    {
     "name": "stdout",
     "output_type": "stream",
     "text": [
      "{0.0: 13000}\n",
      "Completed iteration 10.\n"
     ]
    },
    {
     "name": "stderr",
     "output_type": "stream",
     "text": [
      "/tmp/ipykernel_1153298/2186850751.py:73: FutureWarning: In a future version, object-dtype columns with all-bool values will not be included in reductions with bool_only=True. Explicitly cast to bool dtype instead.\n",
      "  df = pd.concat([df, pd.DataFrame([[n_iter, is_close_A, is_close_B, is_close_K, is_close_RSS, sparsity_2, sparsity_4]], columns=df.columns)], ignore_index=True)\n"
     ]
    },
    {
     "name": "stdout",
     "output_type": "stream",
     "text": [
      "{0.0: 13000}\n"
     ]
    },
    {
     "name": "stderr",
     "output_type": "stream",
     "text": [
      "/tmp/ipykernel_1153298/2186850751.py:73: FutureWarning: In a future version, object-dtype columns with all-bool values will not be included in reductions with bool_only=True. Explicitly cast to bool dtype instead.\n",
      "  df = pd.concat([df, pd.DataFrame([[n_iter, is_close_A, is_close_B, is_close_K, is_close_RSS, sparsity_2, sparsity_4]], columns=df.columns)], ignore_index=True)\n"
     ]
    },
    {
     "name": "stdout",
     "output_type": "stream",
     "text": [
      "{0.0: 13000}\n"
     ]
    },
    {
     "name": "stderr",
     "output_type": "stream",
     "text": [
      "/tmp/ipykernel_1153298/2186850751.py:73: FutureWarning: In a future version, object-dtype columns with all-bool values will not be included in reductions with bool_only=True. Explicitly cast to bool dtype instead.\n",
      "  df = pd.concat([df, pd.DataFrame([[n_iter, is_close_A, is_close_B, is_close_K, is_close_RSS, sparsity_2, sparsity_4]], columns=df.columns)], ignore_index=True)\n"
     ]
    },
    {
     "name": "stdout",
     "output_type": "stream",
     "text": [
      "{0.0: 13000}\n"
     ]
    },
    {
     "name": "stderr",
     "output_type": "stream",
     "text": [
      "/tmp/ipykernel_1153298/2186850751.py:73: FutureWarning: In a future version, object-dtype columns with all-bool values will not be included in reductions with bool_only=True. Explicitly cast to bool dtype instead.\n",
      "  df = pd.concat([df, pd.DataFrame([[n_iter, is_close_A, is_close_B, is_close_K, is_close_RSS, sparsity_2, sparsity_4]], columns=df.columns)], ignore_index=True)\n"
     ]
    },
    {
     "name": "stdout",
     "output_type": "stream",
     "text": [
      "{0.0: 13000}\n"
     ]
    },
    {
     "name": "stderr",
     "output_type": "stream",
     "text": [
      "/tmp/ipykernel_1153298/2186850751.py:73: FutureWarning: In a future version, object-dtype columns with all-bool values will not be included in reductions with bool_only=True. Explicitly cast to bool dtype instead.\n",
      "  df = pd.concat([df, pd.DataFrame([[n_iter, is_close_A, is_close_B, is_close_K, is_close_RSS, sparsity_2, sparsity_4]], columns=df.columns)], ignore_index=True)\n"
     ]
    },
    {
     "name": "stdout",
     "output_type": "stream",
     "text": [
      "{0.0: 13000}\n"
     ]
    },
    {
     "name": "stderr",
     "output_type": "stream",
     "text": [
      "/tmp/ipykernel_1153298/2186850751.py:73: FutureWarning: In a future version, object-dtype columns with all-bool values will not be included in reductions with bool_only=True. Explicitly cast to bool dtype instead.\n",
      "  df = pd.concat([df, pd.DataFrame([[n_iter, is_close_A, is_close_B, is_close_K, is_close_RSS, sparsity_2, sparsity_4]], columns=df.columns)], ignore_index=True)\n"
     ]
    },
    {
     "name": "stdout",
     "output_type": "stream",
     "text": [
      "{0.0: 13000}\n"
     ]
    },
    {
     "name": "stderr",
     "output_type": "stream",
     "text": [
      "/tmp/ipykernel_1153298/2186850751.py:73: FutureWarning: In a future version, object-dtype columns with all-bool values will not be included in reductions with bool_only=True. Explicitly cast to bool dtype instead.\n",
      "  df = pd.concat([df, pd.DataFrame([[n_iter, is_close_A, is_close_B, is_close_K, is_close_RSS, sparsity_2, sparsity_4]], columns=df.columns)], ignore_index=True)\n"
     ]
    },
    {
     "name": "stdout",
     "output_type": "stream",
     "text": [
      "{0.0: 13000}\n"
     ]
    },
    {
     "name": "stderr",
     "output_type": "stream",
     "text": [
      "/tmp/ipykernel_1153298/2186850751.py:73: FutureWarning: In a future version, object-dtype columns with all-bool values will not be included in reductions with bool_only=True. Explicitly cast to bool dtype instead.\n",
      "  df = pd.concat([df, pd.DataFrame([[n_iter, is_close_A, is_close_B, is_close_K, is_close_RSS, sparsity_2, sparsity_4]], columns=df.columns)], ignore_index=True)\n"
     ]
    },
    {
     "name": "stdout",
     "output_type": "stream",
     "text": [
      "{0.0: 13000}\n"
     ]
    },
    {
     "name": "stderr",
     "output_type": "stream",
     "text": [
      "/tmp/ipykernel_1153298/2186850751.py:73: FutureWarning: In a future version, object-dtype columns with all-bool values will not be included in reductions with bool_only=True. Explicitly cast to bool dtype instead.\n",
      "  df = pd.concat([df, pd.DataFrame([[n_iter, is_close_A, is_close_B, is_close_K, is_close_RSS, sparsity_2, sparsity_4]], columns=df.columns)], ignore_index=True)\n"
     ]
    },
    {
     "name": "stdout",
     "output_type": "stream",
     "text": [
      "{0.0: 13000}\n",
      "Starting iteration 20.\n"
     ]
    },
    {
     "name": "stderr",
     "output_type": "stream",
     "text": [
      "/tmp/ipykernel_1153298/2186850751.py:73: FutureWarning: In a future version, object-dtype columns with all-bool values will not be included in reductions with bool_only=True. Explicitly cast to bool dtype instead.\n",
      "  df = pd.concat([df, pd.DataFrame([[n_iter, is_close_A, is_close_B, is_close_K, is_close_RSS, sparsity_2, sparsity_4]], columns=df.columns)], ignore_index=True)\n"
     ]
    },
    {
     "name": "stdout",
     "output_type": "stream",
     "text": [
      "{0.0: 13000}\n",
      "Completed iteration 20.\n"
     ]
    },
    {
     "name": "stderr",
     "output_type": "stream",
     "text": [
      "/tmp/ipykernel_1153298/2186850751.py:73: FutureWarning: In a future version, object-dtype columns with all-bool values will not be included in reductions with bool_only=True. Explicitly cast to bool dtype instead.\n",
      "  df = pd.concat([df, pd.DataFrame([[n_iter, is_close_A, is_close_B, is_close_K, is_close_RSS, sparsity_2, sparsity_4]], columns=df.columns)], ignore_index=True)\n"
     ]
    },
    {
     "name": "stdout",
     "output_type": "stream",
     "text": [
      "{0.0: 13000}\n"
     ]
    },
    {
     "name": "stderr",
     "output_type": "stream",
     "text": [
      "/tmp/ipykernel_1153298/2186850751.py:73: FutureWarning: In a future version, object-dtype columns with all-bool values will not be included in reductions with bool_only=True. Explicitly cast to bool dtype instead.\n",
      "  df = pd.concat([df, pd.DataFrame([[n_iter, is_close_A, is_close_B, is_close_K, is_close_RSS, sparsity_2, sparsity_4]], columns=df.columns)], ignore_index=True)\n"
     ]
    },
    {
     "name": "stdout",
     "output_type": "stream",
     "text": [
      "{0.0: 13000}\n"
     ]
    },
    {
     "name": "stderr",
     "output_type": "stream",
     "text": [
      "/tmp/ipykernel_1153298/2186850751.py:73: FutureWarning: In a future version, object-dtype columns with all-bool values will not be included in reductions with bool_only=True. Explicitly cast to bool dtype instead.\n",
      "  df = pd.concat([df, pd.DataFrame([[n_iter, is_close_A, is_close_B, is_close_K, is_close_RSS, sparsity_2, sparsity_4]], columns=df.columns)], ignore_index=True)\n"
     ]
    },
    {
     "name": "stdout",
     "output_type": "stream",
     "text": [
      "{0.0: 13000}\n"
     ]
    },
    {
     "name": "stderr",
     "output_type": "stream",
     "text": [
      "/tmp/ipykernel_1153298/2186850751.py:73: FutureWarning: In a future version, object-dtype columns with all-bool values will not be included in reductions with bool_only=True. Explicitly cast to bool dtype instead.\n",
      "  df = pd.concat([df, pd.DataFrame([[n_iter, is_close_A, is_close_B, is_close_K, is_close_RSS, sparsity_2, sparsity_4]], columns=df.columns)], ignore_index=True)\n"
     ]
    },
    {
     "name": "stdout",
     "output_type": "stream",
     "text": [
      "{0.0: 13000}\n"
     ]
    },
    {
     "name": "stderr",
     "output_type": "stream",
     "text": [
      "/tmp/ipykernel_1153298/2186850751.py:73: FutureWarning: In a future version, object-dtype columns with all-bool values will not be included in reductions with bool_only=True. Explicitly cast to bool dtype instead.\n",
      "  df = pd.concat([df, pd.DataFrame([[n_iter, is_close_A, is_close_B, is_close_K, is_close_RSS, sparsity_2, sparsity_4]], columns=df.columns)], ignore_index=True)\n"
     ]
    },
    {
     "name": "stdout",
     "output_type": "stream",
     "text": [
      "{0.0: 13000}\n"
     ]
    },
    {
     "name": "stderr",
     "output_type": "stream",
     "text": [
      "/tmp/ipykernel_1153298/2186850751.py:73: FutureWarning: In a future version, object-dtype columns with all-bool values will not be included in reductions with bool_only=True. Explicitly cast to bool dtype instead.\n",
      "  df = pd.concat([df, pd.DataFrame([[n_iter, is_close_A, is_close_B, is_close_K, is_close_RSS, sparsity_2, sparsity_4]], columns=df.columns)], ignore_index=True)\n"
     ]
    },
    {
     "name": "stdout",
     "output_type": "stream",
     "text": [
      "{0.0: 13000}\n"
     ]
    },
    {
     "name": "stderr",
     "output_type": "stream",
     "text": [
      "/tmp/ipykernel_1153298/2186850751.py:73: FutureWarning: In a future version, object-dtype columns with all-bool values will not be included in reductions with bool_only=True. Explicitly cast to bool dtype instead.\n",
      "  df = pd.concat([df, pd.DataFrame([[n_iter, is_close_A, is_close_B, is_close_K, is_close_RSS, sparsity_2, sparsity_4]], columns=df.columns)], ignore_index=True)\n"
     ]
    },
    {
     "name": "stdout",
     "output_type": "stream",
     "text": [
      "{0.0: 13000}\n"
     ]
    },
    {
     "name": "stderr",
     "output_type": "stream",
     "text": [
      "/tmp/ipykernel_1153298/2186850751.py:73: FutureWarning: In a future version, object-dtype columns with all-bool values will not be included in reductions with bool_only=True. Explicitly cast to bool dtype instead.\n",
      "  df = pd.concat([df, pd.DataFrame([[n_iter, is_close_A, is_close_B, is_close_K, is_close_RSS, sparsity_2, sparsity_4]], columns=df.columns)], ignore_index=True)\n"
     ]
    },
    {
     "name": "stdout",
     "output_type": "stream",
     "text": [
      "{0.0: 13000}\n"
     ]
    },
    {
     "name": "stderr",
     "output_type": "stream",
     "text": [
      "/tmp/ipykernel_1153298/2186850751.py:73: FutureWarning: In a future version, object-dtype columns with all-bool values will not be included in reductions with bool_only=True. Explicitly cast to bool dtype instead.\n",
      "  df = pd.concat([df, pd.DataFrame([[n_iter, is_close_A, is_close_B, is_close_K, is_close_RSS, sparsity_2, sparsity_4]], columns=df.columns)], ignore_index=True)\n"
     ]
    },
    {
     "name": "stdout",
     "output_type": "stream",
     "text": [
      "{0.0: 13000}\n",
      "Starting iteration 30.\n"
     ]
    },
    {
     "name": "stderr",
     "output_type": "stream",
     "text": [
      "/tmp/ipykernel_1153298/2186850751.py:73: FutureWarning: In a future version, object-dtype columns with all-bool values will not be included in reductions with bool_only=True. Explicitly cast to bool dtype instead.\n",
      "  df = pd.concat([df, pd.DataFrame([[n_iter, is_close_A, is_close_B, is_close_K, is_close_RSS, sparsity_2, sparsity_4]], columns=df.columns)], ignore_index=True)\n"
     ]
    },
    {
     "name": "stdout",
     "output_type": "stream",
     "text": [
      "{0.0: 13000}\n",
      "Completed iteration 30.\n"
     ]
    },
    {
     "name": "stderr",
     "output_type": "stream",
     "text": [
      "/tmp/ipykernel_1153298/2186850751.py:73: FutureWarning: In a future version, object-dtype columns with all-bool values will not be included in reductions with bool_only=True. Explicitly cast to bool dtype instead.\n",
      "  df = pd.concat([df, pd.DataFrame([[n_iter, is_close_A, is_close_B, is_close_K, is_close_RSS, sparsity_2, sparsity_4]], columns=df.columns)], ignore_index=True)\n"
     ]
    },
    {
     "name": "stdout",
     "output_type": "stream",
     "text": [
      "{0.0: 13000}\n"
     ]
    },
    {
     "name": "stderr",
     "output_type": "stream",
     "text": [
      "/tmp/ipykernel_1153298/2186850751.py:73: FutureWarning: In a future version, object-dtype columns with all-bool values will not be included in reductions with bool_only=True. Explicitly cast to bool dtype instead.\n",
      "  df = pd.concat([df, pd.DataFrame([[n_iter, is_close_A, is_close_B, is_close_K, is_close_RSS, sparsity_2, sparsity_4]], columns=df.columns)], ignore_index=True)\n"
     ]
    },
    {
     "name": "stdout",
     "output_type": "stream",
     "text": [
      "{0.0: 13000}\n",
      "Converged after 32 iterations.\n",
      "Converged after 32 iterations.\n",
      "<class 'scipy.sparse.csc.csc_matrix'>\n",
      "<class 'cupyx.scipy.sparse._csc.csc_matrix'>\n",
      "(13, 1000)\n",
      "(13, 1000)\n"
     ]
    },
    {
     "name": "stderr",
     "output_type": "stream",
     "text": [
      "/tmp/ipykernel_1153298/2186850751.py:73: FutureWarning: In a future version, object-dtype columns with all-bool values will not be included in reductions with bool_only=True. Explicitly cast to bool dtype instead.\n",
      "  df = pd.concat([df, pd.DataFrame([[n_iter, is_close_A, is_close_B, is_close_K, is_close_RSS, sparsity_2, sparsity_4]], columns=df.columns)], ignore_index=True)\n"
     ]
    },
    {
     "data": {
      "text/html": [
       "<div>\n",
       "<style scoped>\n",
       "    .dataframe tbody tr th:only-of-type {\n",
       "        vertical-align: middle;\n",
       "    }\n",
       "\n",
       "    .dataframe tbody tr th {\n",
       "        vertical-align: top;\n",
       "    }\n",
       "\n",
       "    .dataframe thead th {\n",
       "        text-align: right;\n",
       "    }\n",
       "</style>\n",
       "<table border=\"1\" class=\"dataframe\">\n",
       "  <thead>\n",
       "    <tr style=\"text-align: right;\">\n",
       "      <th></th>\n",
       "      <th>n_iter</th>\n",
       "      <th>is_close_A</th>\n",
       "      <th>is_close_B</th>\n",
       "      <th>is_close_K</th>\n",
       "      <th>is_close_RSS</th>\n",
       "      <th>sparsity_2</th>\n",
       "      <th>sparsity_4</th>\n",
       "    </tr>\n",
       "  </thead>\n",
       "  <tbody>\n",
       "    <tr>\n",
       "      <th>0</th>\n",
       "      <td>1</td>\n",
       "      <td>True</td>\n",
       "      <td>True</td>\n",
       "      <td>True</td>\n",
       "      <td>True</td>\n",
       "      <td>12655</td>\n",
       "      <td>12655</td>\n",
       "    </tr>\n",
       "    <tr>\n",
       "      <th>1</th>\n",
       "      <td>2</td>\n",
       "      <td>True</td>\n",
       "      <td>True</td>\n",
       "      <td>True</td>\n",
       "      <td>True</td>\n",
       "      <td>10104</td>\n",
       "      <td>10104</td>\n",
       "    </tr>\n",
       "    <tr>\n",
       "      <th>2</th>\n",
       "      <td>3</td>\n",
       "      <td>True</td>\n",
       "      <td>True</td>\n",
       "      <td>True</td>\n",
       "      <td>True</td>\n",
       "      <td>9461</td>\n",
       "      <td>9461</td>\n",
       "    </tr>\n",
       "    <tr>\n",
       "      <th>3</th>\n",
       "      <td>4</td>\n",
       "      <td>True</td>\n",
       "      <td>True</td>\n",
       "      <td>True</td>\n",
       "      <td>True</td>\n",
       "      <td>8972</td>\n",
       "      <td>8972</td>\n",
       "    </tr>\n",
       "    <tr>\n",
       "      <th>4</th>\n",
       "      <td>5</td>\n",
       "      <td>True</td>\n",
       "      <td>True</td>\n",
       "      <td>True</td>\n",
       "      <td>True</td>\n",
       "      <td>8789</td>\n",
       "      <td>8789</td>\n",
       "    </tr>\n",
       "    <tr>\n",
       "      <th>5</th>\n",
       "      <td>6</td>\n",
       "      <td>True</td>\n",
       "      <td>True</td>\n",
       "      <td>True</td>\n",
       "      <td>True</td>\n",
       "      <td>8585</td>\n",
       "      <td>8585</td>\n",
       "    </tr>\n",
       "    <tr>\n",
       "      <th>6</th>\n",
       "      <td>7</td>\n",
       "      <td>True</td>\n",
       "      <td>True</td>\n",
       "      <td>True</td>\n",
       "      <td>True</td>\n",
       "      <td>8587</td>\n",
       "      <td>8587</td>\n",
       "    </tr>\n",
       "    <tr>\n",
       "      <th>7</th>\n",
       "      <td>8</td>\n",
       "      <td>True</td>\n",
       "      <td>True</td>\n",
       "      <td>True</td>\n",
       "      <td>True</td>\n",
       "      <td>8581</td>\n",
       "      <td>8581</td>\n",
       "    </tr>\n",
       "    <tr>\n",
       "      <th>8</th>\n",
       "      <td>9</td>\n",
       "      <td>True</td>\n",
       "      <td>True</td>\n",
       "      <td>True</td>\n",
       "      <td>True</td>\n",
       "      <td>8723</td>\n",
       "      <td>8723</td>\n",
       "    </tr>\n",
       "    <tr>\n",
       "      <th>9</th>\n",
       "      <td>10</td>\n",
       "      <td>True</td>\n",
       "      <td>True</td>\n",
       "      <td>True</td>\n",
       "      <td>True</td>\n",
       "      <td>8744</td>\n",
       "      <td>8744</td>\n",
       "    </tr>\n",
       "    <tr>\n",
       "      <th>10</th>\n",
       "      <td>11</td>\n",
       "      <td>True</td>\n",
       "      <td>True</td>\n",
       "      <td>True</td>\n",
       "      <td>True</td>\n",
       "      <td>8848</td>\n",
       "      <td>8848</td>\n",
       "    </tr>\n",
       "    <tr>\n",
       "      <th>11</th>\n",
       "      <td>12</td>\n",
       "      <td>True</td>\n",
       "      <td>True</td>\n",
       "      <td>True</td>\n",
       "      <td>True</td>\n",
       "      <td>8816</td>\n",
       "      <td>8816</td>\n",
       "    </tr>\n",
       "    <tr>\n",
       "      <th>12</th>\n",
       "      <td>13</td>\n",
       "      <td>True</td>\n",
       "      <td>True</td>\n",
       "      <td>True</td>\n",
       "      <td>True</td>\n",
       "      <td>8907</td>\n",
       "      <td>8907</td>\n",
       "    </tr>\n",
       "    <tr>\n",
       "      <th>13</th>\n",
       "      <td>14</td>\n",
       "      <td>True</td>\n",
       "      <td>True</td>\n",
       "      <td>True</td>\n",
       "      <td>True</td>\n",
       "      <td>8924</td>\n",
       "      <td>8924</td>\n",
       "    </tr>\n",
       "    <tr>\n",
       "      <th>14</th>\n",
       "      <td>15</td>\n",
       "      <td>True</td>\n",
       "      <td>True</td>\n",
       "      <td>True</td>\n",
       "      <td>True</td>\n",
       "      <td>8861</td>\n",
       "      <td>8861</td>\n",
       "    </tr>\n",
       "    <tr>\n",
       "      <th>15</th>\n",
       "      <td>16</td>\n",
       "      <td>True</td>\n",
       "      <td>True</td>\n",
       "      <td>True</td>\n",
       "      <td>True</td>\n",
       "      <td>8875</td>\n",
       "      <td>8875</td>\n",
       "    </tr>\n",
       "    <tr>\n",
       "      <th>16</th>\n",
       "      <td>17</td>\n",
       "      <td>True</td>\n",
       "      <td>True</td>\n",
       "      <td>True</td>\n",
       "      <td>True</td>\n",
       "      <td>8907</td>\n",
       "      <td>8907</td>\n",
       "    </tr>\n",
       "    <tr>\n",
       "      <th>17</th>\n",
       "      <td>18</td>\n",
       "      <td>True</td>\n",
       "      <td>True</td>\n",
       "      <td>True</td>\n",
       "      <td>True</td>\n",
       "      <td>8845</td>\n",
       "      <td>8845</td>\n",
       "    </tr>\n",
       "    <tr>\n",
       "      <th>18</th>\n",
       "      <td>19</td>\n",
       "      <td>True</td>\n",
       "      <td>True</td>\n",
       "      <td>True</td>\n",
       "      <td>True</td>\n",
       "      <td>8785</td>\n",
       "      <td>8785</td>\n",
       "    </tr>\n",
       "    <tr>\n",
       "      <th>19</th>\n",
       "      <td>20</td>\n",
       "      <td>True</td>\n",
       "      <td>True</td>\n",
       "      <td>True</td>\n",
       "      <td>True</td>\n",
       "      <td>8745</td>\n",
       "      <td>8745</td>\n",
       "    </tr>\n",
       "    <tr>\n",
       "      <th>20</th>\n",
       "      <td>21</td>\n",
       "      <td>True</td>\n",
       "      <td>True</td>\n",
       "      <td>True</td>\n",
       "      <td>True</td>\n",
       "      <td>8863</td>\n",
       "      <td>8863</td>\n",
       "    </tr>\n",
       "    <tr>\n",
       "      <th>21</th>\n",
       "      <td>22</td>\n",
       "      <td>True</td>\n",
       "      <td>True</td>\n",
       "      <td>True</td>\n",
       "      <td>True</td>\n",
       "      <td>8751</td>\n",
       "      <td>8751</td>\n",
       "    </tr>\n",
       "    <tr>\n",
       "      <th>22</th>\n",
       "      <td>23</td>\n",
       "      <td>True</td>\n",
       "      <td>True</td>\n",
       "      <td>True</td>\n",
       "      <td>True</td>\n",
       "      <td>8693</td>\n",
       "      <td>8693</td>\n",
       "    </tr>\n",
       "    <tr>\n",
       "      <th>23</th>\n",
       "      <td>24</td>\n",
       "      <td>True</td>\n",
       "      <td>True</td>\n",
       "      <td>True</td>\n",
       "      <td>True</td>\n",
       "      <td>8709</td>\n",
       "      <td>8709</td>\n",
       "    </tr>\n",
       "    <tr>\n",
       "      <th>24</th>\n",
       "      <td>25</td>\n",
       "      <td>True</td>\n",
       "      <td>True</td>\n",
       "      <td>True</td>\n",
       "      <td>True</td>\n",
       "      <td>8735</td>\n",
       "      <td>8735</td>\n",
       "    </tr>\n",
       "    <tr>\n",
       "      <th>25</th>\n",
       "      <td>26</td>\n",
       "      <td>True</td>\n",
       "      <td>True</td>\n",
       "      <td>True</td>\n",
       "      <td>True</td>\n",
       "      <td>8741</td>\n",
       "      <td>8741</td>\n",
       "    </tr>\n",
       "    <tr>\n",
       "      <th>26</th>\n",
       "      <td>27</td>\n",
       "      <td>True</td>\n",
       "      <td>True</td>\n",
       "      <td>True</td>\n",
       "      <td>True</td>\n",
       "      <td>8655</td>\n",
       "      <td>8655</td>\n",
       "    </tr>\n",
       "    <tr>\n",
       "      <th>27</th>\n",
       "      <td>28</td>\n",
       "      <td>True</td>\n",
       "      <td>True</td>\n",
       "      <td>True</td>\n",
       "      <td>True</td>\n",
       "      <td>8684</td>\n",
       "      <td>8684</td>\n",
       "    </tr>\n",
       "    <tr>\n",
       "      <th>28</th>\n",
       "      <td>29</td>\n",
       "      <td>True</td>\n",
       "      <td>True</td>\n",
       "      <td>True</td>\n",
       "      <td>True</td>\n",
       "      <td>8706</td>\n",
       "      <td>8706</td>\n",
       "    </tr>\n",
       "    <tr>\n",
       "      <th>29</th>\n",
       "      <td>30</td>\n",
       "      <td>True</td>\n",
       "      <td>True</td>\n",
       "      <td>True</td>\n",
       "      <td>True</td>\n",
       "      <td>8716</td>\n",
       "      <td>8716</td>\n",
       "    </tr>\n",
       "    <tr>\n",
       "      <th>30</th>\n",
       "      <td>31</td>\n",
       "      <td>True</td>\n",
       "      <td>True</td>\n",
       "      <td>True</td>\n",
       "      <td>True</td>\n",
       "      <td>8696</td>\n",
       "      <td>8696</td>\n",
       "    </tr>\n",
       "    <tr>\n",
       "      <th>31</th>\n",
       "      <td>32</td>\n",
       "      <td>True</td>\n",
       "      <td>True</td>\n",
       "      <td>True</td>\n",
       "      <td>True</td>\n",
       "      <td>8675</td>\n",
       "      <td>8675</td>\n",
       "    </tr>\n",
       "  </tbody>\n",
       "</table>\n",
       "</div>"
      ],
      "text/plain": [
       "   n_iter is_close_A is_close_B is_close_K is_close_RSS sparsity_2 sparsity_4\n",
       "0       1       True       True       True         True      12655      12655\n",
       "1       2       True       True       True         True      10104      10104\n",
       "2       3       True       True       True         True       9461       9461\n",
       "3       4       True       True       True         True       8972       8972\n",
       "4       5       True       True       True         True       8789       8789\n",
       "5       6       True       True       True         True       8585       8585\n",
       "6       7       True       True       True         True       8587       8587\n",
       "7       8       True       True       True         True       8581       8581\n",
       "8       9       True       True       True         True       8723       8723\n",
       "9      10       True       True       True         True       8744       8744\n",
       "10     11       True       True       True         True       8848       8848\n",
       "11     12       True       True       True         True       8816       8816\n",
       "12     13       True       True       True         True       8907       8907\n",
       "13     14       True       True       True         True       8924       8924\n",
       "14     15       True       True       True         True       8861       8861\n",
       "15     16       True       True       True         True       8875       8875\n",
       "16     17       True       True       True         True       8907       8907\n",
       "17     18       True       True       True         True       8845       8845\n",
       "18     19       True       True       True         True       8785       8785\n",
       "19     20       True       True       True         True       8745       8745\n",
       "20     21       True       True       True         True       8863       8863\n",
       "21     22       True       True       True         True       8751       8751\n",
       "22     23       True       True       True         True       8693       8693\n",
       "23     24       True       True       True         True       8709       8709\n",
       "24     25       True       True       True         True       8735       8735\n",
       "25     26       True       True       True         True       8741       8741\n",
       "26     27       True       True       True         True       8655       8655\n",
       "27     28       True       True       True         True       8684       8684\n",
       "28     29       True       True       True         True       8706       8706\n",
       "29     30       True       True       True         True       8716       8716\n",
       "30     31       True       True       True         True       8696       8696\n",
       "31     32       True       True       True         True       8675       8675"
      ]
     },
     "execution_count": 52,
     "metadata": {},
     "output_type": "execute_result"
    }
   ],
   "source": [
    "fit_compare(model2, model4)"
   ]
  },
  {
   "cell_type": "code",
   "execution_count": 53,
   "metadata": {},
   "outputs": [],
   "source": [
    "A = model4.A_ "
   ]
  },
  {
   "cell_type": "code",
   "execution_count": 54,
   "metadata": {},
   "outputs": [
    {
     "name": "stdout",
     "output_type": "stream",
     "text": [
      "Sparsity of A:  0.6673076923076923\n",
      "Sparsity of A:  0.6673076923076923\n"
     ]
    }
   ],
   "source": [
    "# Compute the sparsity of A \n",
    "print(\"Sparsity of A: \", A.getnnz() / (A.shape[0] * A.shape[1])) \n",
    "\n",
    "# Compute the sparsity of A using count_nonzero \n",
    "print(\"Sparsity of A: \", A.count_nonzero() / (A.shape[0] * A.shape[1]))"
   ]
  },
  {
   "cell_type": "code",
   "execution_count": 55,
   "metadata": {},
   "outputs": [
    {
     "name": "stdout",
     "output_type": "stream",
     "text": [
      "  (0, 0)\t0.9050980392156863\n",
      "  (6, 0)\t0.004705882352941178\n",
      "  (8, 0)\t0.01098039215686275\n",
      "  (9, 0)\t0.018039215686274503\n",
      "  (10, 0)\t0.0007843137254901963\n",
      "  (11, 0)\t0.025882352941176467\n",
      "  (12, 0)\t0.03450980392156863\n",
      "  (0, 1)\t0.0015686274509803925\n",
      "  (2, 1)\t0.00627450980392157\n",
      "  (8, 1)\t0.01254901960784314\n",
      "  (9, 1)\t0.8972549019607843\n",
      "  (10, 1)\t0.027450980392156862\n",
      "  (11, 1)\t0.019607843137254905\n",
      "  (12, 1)\t0.03529411764705883\n",
      "  (0, 2)\t0.027450980392156862\n",
      "  (1, 2)\t0.04941176470588236\n",
      "  (2, 2)\t0.05333333333333333\n",
      "  (3, 2)\t0.05333333333333333\n",
      "  (4, 2)\t0.10352941176470587\n",
      "  (5, 2)\t0.02509803921568628\n",
      "  (6, 2)\t0.010196078431372548\n",
      "  (7, 2)\t0.29647058823529415\n",
      "  (8, 2)\t0.25960784313725493\n",
      "  (9, 2)\t0.03215686274509804\n",
      "  (10, 2)\t0.03529411764705882\n",
      "  :\t:\n",
      "  (12, 996)\t0.017254901960784316\n",
      "  (0, 997)\t0.05803921568627451\n",
      "  (1, 997)\t0.04862745098039216\n",
      "  (2, 997)\t0.0776470588235294\n",
      "  (3, 997)\t0.039215686274509796\n",
      "  (4, 997)\t0.0611764705882353\n",
      "  (5, 997)\t0.04784313725490197\n",
      "  (6, 997)\t0.02588235294117646\n",
      "  (7, 997)\t0.09254901960784316\n",
      "  (8, 997)\t0.08\n",
      "  (9, 997)\t0.04313725490196079\n",
      "  (10, 997)\t0.03137254901960784\n",
      "  (11, 997)\t0.3654901960784315\n",
      "  (12, 997)\t0.029019607843137257\n",
      "  (0, 998)\t0.003137254901960785\n",
      "  (1, 998)\t0.07686274509803923\n",
      "  (4, 998)\t0.009411764705882356\n",
      "  (6, 998)\t0.02823529411764706\n",
      "  (7, 998)\t0.0392156862745098\n",
      "  (8, 998)\t0.0203921568627451\n",
      "  (9, 998)\t0.7709803921568628\n",
      "  (11, 998)\t0.03529411764705883\n",
      "  (12, 998)\t0.01647058823529412\n",
      "  (2, 999)\t0.04156862745098039\n",
      "  (7, 999)\t0.9584313725490198\n"
     ]
    }
   ],
   "source": [
    "A_new = A.eliminate_zeros()\n",
    "\n",
    "print(A)"
   ]
  },
  {
   "cell_type": "code",
   "execution_count": 56,
   "metadata": {},
   "outputs": [
    {
     "name": "stdout",
     "output_type": "stream",
     "text": [
      "Sparsity of A: 0.6673076923076923\n",
      "Sparsity of A: 0.6673076923076923\n"
     ]
    }
   ],
   "source": [
    "# Calculate the sparsity again \n",
    "\n",
    "print(\"Sparsity of A:\", A.getnnz() / (A.shape[0] * A.shape[1]))\n",
    "print(\"Sparsity of A:\", A.count_nonzero() / (A.shape[0] * A.shape[1]))"
   ]
  },
  {
   "cell_type": "code",
   "execution_count": null,
   "metadata": {},
   "outputs": [],
   "source": []
  }
 ],
 "metadata": {
  "kernelspec": {
   "display_name": "Python 3",
   "language": "python",
   "name": "python3"
  },
  "language_info": {
   "codemirror_mode": {
    "name": "ipython",
    "version": 3
   },
   "file_extension": ".py",
   "mimetype": "text/x-python",
   "name": "python",
   "nbconvert_exporter": "python",
   "pygments_lexer": "ipython3",
   "version": "3.8.13"
  }
 },
 "nbformat": 4,
 "nbformat_minor": 2
}
