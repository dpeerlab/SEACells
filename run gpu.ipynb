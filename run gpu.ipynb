{
 "cells": [
  {
   "cell_type": "code",
   "execution_count": 1,
   "metadata": {},
   "outputs": [
    {
     "name": "stderr",
     "output_type": "stream",
     "text": [
      "findfont: Font family ['Raleway'] not found. Falling back to DejaVu Sans.\n",
      "findfont: Font family ['Lato'] not found. Falling back to DejaVu Sans.\n"
     ]
    }
   ],
   "source": [
    "import tracemalloc\n",
    "import time\n",
    "import scanpy as sc\n",
    "import pandas as pd\n",
    "import scipy\n",
    "\n",
    "import cupy as cp\n",
    "import cupyx\n",
    "import numpy as np\n",
    "from tqdm import tqdm\n",
    "\n",
    "import sys\n",
    "\n",
    "from icecream import ic\n",
    "\n",
    "from SEACells.core_copy import SEACells"
   ]
  },
  {
   "cell_type": "code",
   "execution_count": 2,
   "metadata": {},
   "outputs": [],
   "source": [
    "def get_data(ad, num_cells, use_gpu, use_sparse, A_init=None, B_init=None, K_init=None, l1_penalty = 0):\n",
    "    ## User defined parameters\n",
    "\n",
    "    ## Core parameters\n",
    "    # number of SEACells\n",
    "    n_SEACells = num_cells // 75\n",
    "    build_kernel_on = \"X_pca\"  # key in ad.obsm to use for computing metacells\n",
    "    # This would be replaced by 'X_svd' for ATAC data\n",
    "\n",
    "    ## Additional parameters\n",
    "    n_waypoint_eigs = (\n",
    "        10  # Number of eigenvalues to consider when initializing metacells\n",
    "    )\n",
    "\n",
    "    model = SEACells(\n",
    "        ad,\n",
    "        use_gpu=use_gpu,\n",
    "        use_sparse=use_sparse,\n",
    "        build_kernel_on=build_kernel_on,\n",
    "        n_SEACells=n_SEACells,\n",
    "        n_waypoint_eigs=n_waypoint_eigs,\n",
    "        convergence_epsilon=1e-5,\n",
    "    )\n",
    "    model.l1_penalty = l1_penalty\n",
    "    if K_init is None:\n",
    "        model.construct_kernel_matrix()\n",
    "    else:\n",
    "        model.add_precomputed_kernel_matrix(K_init)\n",
    "    # model.initialize_archetypes()\n",
    "    # model.initialize()\n",
    "\n",
    "    if A_init is not None:\n",
    "        model.A_ = A_init\n",
    "    if B_init is not None:\n",
    "        model.B_ = B_init\n",
    "\n",
    "    start = time.time()\n",
    "    tracemalloc.start()\n",
    "\n",
    "    model.fit(min_iter=10, max_iter=150)\n",
    "\n",
    "    end = time.time()\n",
    "    tot_time = end - start\n",
    "\n",
    "    mem = tracemalloc.get_traced_memory()\n",
    "    tracemalloc.stop()\n",
    "\n",
    "    assignments = model.get_hard_assignments()\n",
    "\n",
    "    # Get the final A and B matrices\n",
    "    A = model.A_\n",
    "    B = model.B_\n",
    "    K = model.kernel_matrix\n",
    "\n",
    "    #   Get the sparsity dataframe\n",
    "    sparsity = model.sparsity_ratios\n",
    "\n",
    "    return assignments, tot_time, mem, A, B, K, sparsity"
   ]
  },
  {
   "cell_type": "code",
   "execution_count": 3,
   "metadata": {},
   "outputs": [],
   "source": [
    "def gpu_versions(ad, num_cells):\n",
    "    # assignments2, time2, mem2, A_init, B_init, K_init, sparsity = get_data(\n",
    "    #     ad, num_cells=num_cells, use_gpu=False, use_sparse=True\n",
    "    # )\n",
    "    # Clear the GPU memory\n",
    "    cp.get_default_memory_pool().free_all_blocks() \n",
    "    cp.get_default_pinned_memory_pool().free_all_blocks()\n",
    "    \n",
    "    assignments4, time4, mem4, A, B, K, sparsity = get_data(\n",
    "        ad,\n",
    "        num_cells=num_cells,\n",
    "        use_gpu=True,\n",
    "        use_sparse=True\n",
    "    )\n",
    "    # If successful, write the time and memory a file \"{num_cells}_cells/v4_{timestamp}.txt\"\n",
    "    # Get the timestamp as a number\n",
    "    timestamp = time.time()\n",
    "\n",
    "    # Write the time and memory data\n",
    "    with open(f\"results14-files_in_copy/{num_cells}_cells/v4_{timestamp}.txt\", \"w\") as f:\n",
    "        f.write(f\"Time: {time4}\\n\")\n",
    "        f.write(f\"Memory: {mem4}\\n\")\n",
    "\n",
    "    # If assignments is not None, write it to a file\n",
    "    if assignments4 is not None:\n",
    "        assignments4.to_csv(\n",
    "            f\"results14-files_in_copy/{num_cells}_cells/assignments_v4_{timestamp}.csv\"\n",
    "        )\n",
    "\n",
    "    # Write the A and B matrices\n",
    "    np.save(f\"results14-files_in_copy/{num_cells}_cells/A_v4_{timestamp}.npy\", A)\n",
    "    np.save(f\"results14-files_in_copy/{num_cells}_cells/B_v4_{timestamp}.npy\", B)\n",
    "\n",
    "    # Write the sparsity dataframe\n",
    "    sparsity.to_csv(f\"results14-files_in_copy/{num_cells}_cells/sparsity_v4_{timestamp}.csv\")\n",
    "\n",
    "    # Clear the GPU memory\n",
    "    cp.get_default_memory_pool().free_all_blocks()\n",
    "    cp.get_default_pinned_memory_pool().free_all_blocks()"
   ]
  },
  {
   "cell_type": "code",
   "execution_count": 4,
   "metadata": {},
   "outputs": [],
   "source": [
    "def get_results(num_cell):\n",
    "    ad = sc.read(\"/home/aparna/DATA/aparnakumar/150000_cells/mouse_marioni_150k.h5ad\")\n",
    "    ad = ad[:num_cell]\n",
    "    for trial in range(3):\n",
    "        gpu_versions(ad, num_cell)\n",
    "\n",
    "        print(f\"Done with {num_cell} cells, trial {trial + 1}\")"
   ]
  },
  {
   "cell_type": "code",
   "execution_count": 5,
   "metadata": {},
   "outputs": [],
   "source": [
    "num_cells = 50000"
   ]
  },
  {
   "cell_type": "code",
   "execution_count": 6,
   "metadata": {},
   "outputs": [
    {
     "name": "stdout",
     "output_type": "stream",
     "text": [
      "SPARSE AND GPU\n",
      "TRYING SEACellsGPU\n",
      "Welcome to SEACells GPU!\n",
      "build_graph.SEACellGraph completed\n",
      "Computing kNN graph using scanpy NN ...\n",
      "Computing radius for adaptive bandwidth kernel...\n"
     ]
    },
    {
     "data": {
      "application/vnd.jupyter.widget-view+json": {
       "model_id": "96e16fa410aa4777b028936de86173b2",
       "version_major": 2,
       "version_minor": 0
      },
      "text/plain": [
       "HBox(children=(FloatProgress(value=0.0, max=50000.0), HTML(value='')))"
      ]
     },
     "metadata": {},
     "output_type": "display_data"
    }
   ],
   "source": [
    "get_results(num_cells)"
   ]
  },
  {
   "cell_type": "code",
   "execution_count": null,
   "metadata": {},
   "outputs": [
    {
     "name": "stdout",
     "output_type": "stream",
     "text": [
      "502522368\n",
      "11524222464\n",
      "0\n"
     ]
    }
   ],
   "source": [
    "# check memory usage with cupy \n",
    "\n",
    "\n",
    "print(cp.get_default_memory_pool().used_bytes())\n",
    "print(cp.get_default_memory_pool().total_bytes())\n",
    "print(cp.get_default_pinned_memory_pool().n_free_blocks())"
   ]
  },
  {
   "cell_type": "code",
   "execution_count": null,
   "metadata": {},
   "outputs": [],
   "source": [
    "# clear memory \n",
    "\n",
    "mempool = cp.get_default_memory_pool()\n",
    "pinned_mempool = cp.get_default_pinned_memory_pool()\n",
    "\n",
    "mempool.free_all_blocks() \n",
    "pinned_mempool.free_all_blocks()"
   ]
  },
  {
   "cell_type": "code",
   "execution_count": null,
   "metadata": {},
   "outputs": [
    {
     "name": "stdout",
     "output_type": "stream",
     "text": [
      "502522368\n",
      "11524222464\n",
      "0\n"
     ]
    }
   ],
   "source": [
    "# check memory usage with cupy \n",
    "print(mempool.used_bytes()) \n",
    "print(mempool.total_bytes()) \n",
    "print(pinned_mempool.n_free_blocks())"
   ]
  },
  {
   "cell_type": "code",
   "execution_count": null,
   "metadata": {},
   "outputs": [],
   "source": []
  }
 ],
 "metadata": {
  "kernelspec": {
   "display_name": "Python 3",
   "language": "python",
   "name": "python3"
  },
  "language_info": {
   "codemirror_mode": {
    "name": "ipython",
    "version": 3
   },
   "file_extension": ".py",
   "mimetype": "text/x-python",
   "name": "python",
   "nbconvert_exporter": "python",
   "pygments_lexer": "ipython3",
   "version": "3.8.13"
  }
 },
 "nbformat": 4,
 "nbformat_minor": 2
}
