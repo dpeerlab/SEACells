{
 "cells": [
  {
   "cell_type": "code",
   "execution_count": 38,
   "metadata": {},
   "outputs": [],
   "source": [
    "import tracemalloc\n",
    "import time\n",
    "import scanpy as sc\n",
    "import pandas as pd\n",
    "\n",
    "import cupy as cp\n",
    "import cupyx\n",
    "import numpy as np\n",
    "from tqdm import tqdm\n",
    "\n",
    "from icecream import ic\n",
    "\n",
    "from SEACells.core import SEACells\n"
   ]
  },
  {
   "cell_type": "code",
   "execution_count": 39,
   "metadata": {},
   "outputs": [],
   "source": [
    "from scipy.sparse import csr_matrix"
   ]
  },
  {
   "cell_type": "code",
   "execution_count": 40,
   "metadata": {},
   "outputs": [],
   "source": [
    "ad = sc.read(\"/home/aparna/DATA/aparnakumar/50000_cells/mouse_marioni_50k.h5ad\") \n",
    "num_cells = 1000\n",
    "ad = ad[:num_cells]  "
   ]
  },
  {
   "cell_type": "code",
   "execution_count": 41,
   "metadata": {},
   "outputs": [],
   "source": [
    "## Core parameters \n",
    "# number of SEACells\n",
    "n_SEACells = num_cells // 75\n",
    "build_kernel_on = 'X_pca' # key in ad.obsm to use for computing metacells\n",
    "                            # This would be replaced by 'X_svd' for ATAC data\n",
    "\n",
    "## Additional parameters\n",
    "n_waypoint_eigs = 10 # Number of eigenvalues to consider when initializing metacells"
   ]
  },
  {
   "cell_type": "code",
   "execution_count": 42,
   "metadata": {},
   "outputs": [
    {
     "name": "stdout",
     "output_type": "stream",
     "text": [
      "SPARSE AND NOT GPU\n",
      "TRYING SEACellsCPU\n",
      "Welcome to SEACells!\n",
      "Computing kNN graph using scanpy NN ...\n",
      "Computing radius for adaptive bandwidth kernel...\n"
     ]
    },
    {
     "data": {
      "application/vnd.jupyter.widget-view+json": {
       "model_id": "6ea31aa87ec14046b70c19c54bb7ac41",
       "version_major": 2,
       "version_minor": 0
      },
      "text/plain": [
       "HBox(children=(FloatProgress(value=0.0, max=1000.0), HTML(value='')))"
      ]
     },
     "metadata": {},
     "output_type": "display_data"
    },
    {
     "name": "stdout",
     "output_type": "stream",
     "text": [
      "\n",
      "Making graph symmetric...\n",
      "Parameter graph_construction = union being used to build KNN graph...\n",
      "Computing RBF kernel...\n"
     ]
    },
    {
     "data": {
      "application/vnd.jupyter.widget-view+json": {
       "model_id": "2c865d85ca77419a92eabd9dc417d03e",
       "version_major": 2,
       "version_minor": 0
      },
      "text/plain": [
       "HBox(children=(FloatProgress(value=0.0, max=1000.0), HTML(value='')))"
      ]
     },
     "metadata": {},
     "output_type": "display_data"
    },
    {
     "name": "stdout",
     "output_type": "stream",
     "text": [
      "\n",
      "Building similarity LIL matrix...\n"
     ]
    },
    {
     "data": {
      "application/vnd.jupyter.widget-view+json": {
       "model_id": "9b2657fcc90d4b06807bb027dae87500",
       "version_major": 2,
       "version_minor": 0
      },
      "text/plain": [
       "HBox(children=(FloatProgress(value=0.0, max=1000.0), HTML(value='')))"
      ]
     },
     "metadata": {},
     "output_type": "display_data"
    },
    {
     "name": "stdout",
     "output_type": "stream",
     "text": [
      "\n",
      "Constructing CSR matrix...\n",
      "Building kernel on X_pca\n",
      "Computing diffusion components from X_pca for waypoint initialization ... \n",
      "Determing nearest neighbor graph...\n",
      "Done.\n",
      "Sampling waypoints ...\n",
      "Done.\n",
      "Selecting 9 cells from waypoint initialization.\n",
      "Initializing residual matrix using greedy column selection\n",
      "Initializing f and g...\n"
     ]
    },
    {
     "name": "stderr",
     "output_type": "stream",
     "text": [
      "100%|██████████| 14/14 [00:00<00:00, 593.19it/s]\n"
     ]
    },
    {
     "name": "stdout",
     "output_type": "stream",
     "text": [
      "Selecting 4 cells from greedy initialization.\n",
      "Randomly initialized A matrix.\n",
      "Setting convergence threshold at 0.00056\n"
     ]
    }
   ],
   "source": [
    "model2 = SEACells(ad, \n",
    "                 use_gpu=False, \n",
    "                 use_sparse=True, \n",
    "                 build_kernel_on=build_kernel_on, \n",
    "                 n_SEACells=n_SEACells, \n",
    "                 n_waypoint_eigs=n_waypoint_eigs,\n",
    "                 convergence_epsilon = 1e-5)\n",
    "\n",
    "model2.construct_kernel_matrix()\n",
    "model2.initialize_archetypes()\n",
    "model2.initialize()"
   ]
  },
  {
   "cell_type": "code",
   "execution_count": 43,
   "metadata": {},
   "outputs": [
    {
     "name": "stdout",
     "output_type": "stream",
     "text": [
      "SPARSE AND GPU\n",
      "TRYING SEACellsGPU\n",
      "Welcome to SEACells GPU!\n",
      "build_graph.SEACellGraph completed\n",
      "Computing kNN graph using scanpy NN ...\n",
      "Computing radius for adaptive bandwidth kernel...\n"
     ]
    },
    {
     "data": {
      "application/vnd.jupyter.widget-view+json": {
       "model_id": "57bbc37e3ad743e692be719aa91b6af6",
       "version_major": 2,
       "version_minor": 0
      },
      "text/plain": [
       "HBox(children=(FloatProgress(value=0.0, max=1000.0), HTML(value='')))"
      ]
     },
     "metadata": {},
     "output_type": "display_data"
    },
    {
     "name": "stdout",
     "output_type": "stream",
     "text": [
      "\n",
      "Making graph symmetric...\n",
      "Parameter graph_construction = union being used to build KNN graph...\n",
      "Computing RBF kernel...\n"
     ]
    },
    {
     "data": {
      "application/vnd.jupyter.widget-view+json": {
       "model_id": "5498d60e3d524a05bf93b2f75e1cf7fd",
       "version_major": 2,
       "version_minor": 0
      },
      "text/plain": [
       "HBox(children=(FloatProgress(value=0.0, max=1000.0), HTML(value='')))"
      ]
     },
     "metadata": {},
     "output_type": "display_data"
    },
    {
     "name": "stdout",
     "output_type": "stream",
     "text": [
      "\n",
      "Building similarity LIL matrix...\n"
     ]
    },
    {
     "data": {
      "application/vnd.jupyter.widget-view+json": {
       "model_id": "6d14bfdebd9745c7a6e5824c511bed6d",
       "version_major": 2,
       "version_minor": 0
      },
      "text/plain": [
       "HBox(children=(FloatProgress(value=0.0, max=1000.0), HTML(value='')))"
      ]
     },
     "metadata": {},
     "output_type": "display_data"
    },
    {
     "name": "stdout",
     "output_type": "stream",
     "text": [
      "\n",
      "Constructing CSR matrix...\n",
      "Building kernel on X_pca\n",
      "Computing diffusion components from X_pca for waypoint initialization ... \n",
      "Determing nearest neighbor graph...\n",
      "Done.\n",
      "Sampling waypoints ...\n",
      "Done.\n",
      "Selecting 9 cells from waypoint initialization.\n",
      "Initializing residual matrix using greedy column selection\n",
      "Initializing f and g...\n"
     ]
    },
    {
     "name": "stderr",
     "output_type": "stream",
     "text": [
      "  0%|          | 0/14 [00:00<?, ?it/s]/home/aparna/miniconda/envs/env_SEACells/lib/python3.8/site-packages/cupyx/scipy/sparse/_compressed.py:545: SparseEfficiencyWarning: Changing the sparsity structure of a csr_matrix is expensive.\n",
      "  warnings.warn('Changing the sparsity structure of a '\n",
      "100%|██████████| 14/14 [00:00<00:00, 37.96it/s]\n"
     ]
    },
    {
     "name": "stdout",
     "output_type": "stream",
     "text": [
      "Selecting 4 cells from greedy initialization.\n",
      "Randomly initialized A matrix.\n",
      "Convergence threshold set to 0.0005541579613833124 based on epsilon = 1e-05\n"
     ]
    }
   ],
   "source": [
    "model4 = SEACells(ad, \n",
    "                 use_gpu=True, \n",
    "                 use_sparse=True, \n",
    "                 build_kernel_on=build_kernel_on, \n",
    "                 n_SEACells=n_SEACells, \n",
    "                 n_waypoint_eigs=n_waypoint_eigs,\n",
    "                 convergence_epsilon = 1e-5)\n",
    "\n",
    "model4.construct_kernel_matrix()\n",
    "model4.initialize_archetypes()\n",
    "model4.initialize()"
   ]
  },
  {
   "cell_type": "code",
   "execution_count": 14,
   "metadata": {},
   "outputs": [
    {
     "name": "stdout",
     "output_type": "stream",
     "text": [
      "NOT SPARSE AND GPU\n",
      "TRYING SEACellsGPUDense\n",
      "Welcome to SEACells GPU!\n",
      "Computing kNN graph using scanpy NN ...\n",
      "Computing radius for adaptive bandwidth kernel...\n"
     ]
    },
    {
     "data": {
      "application/vnd.jupyter.widget-view+json": {
       "model_id": "d446ee303bfe4d0d87b817309b6cd6a6",
       "version_major": 2,
       "version_minor": 0
      },
      "text/plain": [
       "HBox(children=(FloatProgress(value=0.0, max=1000.0), HTML(value='')))"
      ]
     },
     "metadata": {},
     "output_type": "display_data"
    },
    {
     "name": "stdout",
     "output_type": "stream",
     "text": [
      "\n",
      "Making graph symmetric...\n",
      "Parameter graph_construction = union being used to build KNN graph...\n",
      "Computing RBF kernel...\n"
     ]
    },
    {
     "data": {
      "application/vnd.jupyter.widget-view+json": {
       "model_id": "e70257ca5b2f4feea65ced8623a07b35",
       "version_major": 2,
       "version_minor": 0
      },
      "text/plain": [
       "HBox(children=(FloatProgress(value=0.0, max=1000.0), HTML(value='')))"
      ]
     },
     "metadata": {},
     "output_type": "display_data"
    },
    {
     "name": "stdout",
     "output_type": "stream",
     "text": [
      "\n",
      "Building similarity LIL matrix...\n"
     ]
    },
    {
     "data": {
      "application/vnd.jupyter.widget-view+json": {
       "model_id": "1f583e1c6fef46f3880dea5fedec7760",
       "version_major": 2,
       "version_minor": 0
      },
      "text/plain": [
       "HBox(children=(FloatProgress(value=0.0, max=1000.0), HTML(value='')))"
      ]
     },
     "metadata": {},
     "output_type": "display_data"
    },
    {
     "name": "stdout",
     "output_type": "stream",
     "text": [
      "\n",
      "Constructing CSR matrix...\n",
      "Building kernel on X_pca\n",
      "Computing diffusion components from X_pca for waypoint initialization ... \n",
      "Determing nearest neighbor graph...\n"
     ]
    },
    {
     "name": "stderr",
     "output_type": "stream",
     "text": [
      "100%|██████████| 14/14 [00:00<00:00, 519.61it/s]"
     ]
    },
    {
     "name": "stdout",
     "output_type": "stream",
     "text": [
      "Done.\n",
      "Sampling waypoints ...\n",
      "Done.\n",
      "Selecting 9 cells from waypoint initialization.\n",
      "Initializing residual matrix using greedy column selection\n",
      "Initializing f and g...\n",
      "Selecting 4 cells from greedy initialization.\n",
      "Randomly initialized A matrix.\n"
     ]
    },
    {
     "name": "stderr",
     "output_type": "stream",
     "text": [
      "\n"
     ]
    },
    {
     "name": "stdout",
     "output_type": "stream",
     "text": [
      "Setting convergence threshold at 0.00055\n"
     ]
    }
   ],
   "source": [
    "model3 = SEACells(ad, \n",
    "                 use_gpu=True, \n",
    "                 use_sparse=False, \n",
    "                 build_kernel_on=build_kernel_on, \n",
    "                 n_SEACells=n_SEACells, \n",
    "                 n_waypoint_eigs=n_waypoint_eigs,\n",
    "                 convergence_epsilon = 1e-5)\n",
    "\n",
    "model3.construct_kernel_matrix()\n",
    "model3.initialize_archetypes()\n",
    "model3.initialize()"
   ]
  },
  {
   "cell_type": "code",
   "execution_count": 44,
   "metadata": {},
   "outputs": [],
   "source": [
    "A0s = {'cpu': model2.A0, 'gpu_sparse': model4.A0, 'gpu_dense': model3.A0}\n",
    "B0s = {'cpu': model2.B0, 'gpu_sparse': model4.B0, 'gpu_dense': model3.B0}"
   ]
  },
  {
   "cell_type": "code",
   "execution_count": 45,
   "metadata": {},
   "outputs": [],
   "source": [
    "def compute_sparsity(M):\n",
    "    \"\"\"\n",
    "    Compute the proportion of non-zero elements in a matrix\n",
    "    @param M: a dense numpy array\n",
    "    \"\"\"\n",
    "    return (M != 0).sum() / M.size\n",
    "\n",
    "def check_results(d):\n",
    "    \"\"\"\n",
    "    Check that all results in a dictionary are the same\n",
    "    \"\"\"\n",
    "    \n",
    "    v2 = d['cpu']\n",
    "    # Turn v2 into a numpy array\n",
    "    v2 = v2.toarray()\n",
    "    elt2 = np.where(v2.flatten() != 0)[0]\n",
    "    print('Sparsity of {} is {}'.format('CPU', compute_sparsity(v2)))\n",
    "    for key in ['gpu_sparse', 'gpu_dense']:\n",
    "        v1 = d[key]\n",
    "        # Convert to dense for comparison\n",
    "        if key == 'gpu_sparse':\n",
    "            v1 = cp.array(v1.todense())\n",
    "        # Turn into a numpy array\n",
    "        v1 = cp.asnumpy(v1)\n",
    "        print('Sparsity of {} is {}'.format(key, compute_sparsity(v1)))\n",
    "        # Grab the nonzero elements of v1\n",
    "        elt1 = np.where(v1.flatten() != 0)[0]\n",
    "        # Check that the nonzero elements are the same\n",
    "        try:\n",
    "            assert set(list(elt1)) == set(list(elt2))\n",
    "        except AssertionError:\n",
    "            print('Nonzero elements of {} are different from nonzero elements of {}'.format('CPU', key))"
   ]
  },
  {
   "cell_type": "code",
   "execution_count": 47,
   "metadata": {},
   "outputs": [
    {
     "name": "stdout",
     "output_type": "stream",
     "text": [
      "Sparsity of CPU is 0.21384615384615385\n",
      "Sparsity of gpu_sparse is 0.21461538461538462\n",
      "Nonzero elements of CPU are different from nonzero elements of gpu_sparse\n",
      "Sparsity of gpu_dense is 1.0\n",
      "Nonzero elements of CPU are different from nonzero elements of gpu_dense\n"
     ]
    }
   ],
   "source": [
    "check_results(A0s)"
   ]
  },
  {
   "cell_type": "code",
   "execution_count": 48,
   "metadata": {},
   "outputs": [
    {
     "name": "stdout",
     "output_type": "stream",
     "text": [
      "Sparsity of CPU is 0.001\n",
      "Sparsity of gpu_sparse is 0.001\n",
      "Nonzero elements of CPU are different from nonzero elements of gpu_sparse\n",
      "Sparsity of gpu_dense is 0.001\n",
      "Nonzero elements of CPU are different from nonzero elements of gpu_dense\n"
     ]
    }
   ],
   "source": [
    "check_results(B0s)"
   ]
  },
  {
   "cell_type": "code",
   "execution_count": 15,
   "metadata": {},
   "outputs": [],
   "source": [
    "def _updateA_cpu(self, B, A_prev):\n",
    "    \"\"\"Update step for assigment matrix A.\n",
    "\n",
    "    Given archetype matrix B and using kernel matrix K, compute assignment matrix A using constrained gradient\n",
    "    descent via Frank-Wolfe algorithm.\n",
    "\n",
    "    :param B: (n x k csr_matrix) defining SEACells as weighted combinations of cells\n",
    "    :param A_prev: (n x k csr_matrix) defining previous weights used for assigning cells to SEACells\n",
    "    :return: (n x k csr_matrix) defining updated weights used for assigning cells to SEACells\n",
    "    \"\"\"\n",
    "    n, k = B.shape\n",
    "    A = A_prev\n",
    "\n",
    "    t = 0  # current iteration (determine multiplicative update)\n",
    "\n",
    "    # precompute some gradient terms\n",
    "    t2 = (self.K @ B).T\n",
    "    t1 = t2 @ B\n",
    "\n",
    "    # update rows of A for given number of iterations\n",
    "    while t < self.max_FW_iter:\n",
    "        # compute gradient (must convert matrix to ndarray)\n",
    "        G = 2.0 * np.array(t1 @ A - t2)\n",
    "\n",
    "        # # get argmins - shape 1 x n\n",
    "        amins = np.argmin(G, axis=0)\n",
    "        amins = np.array(amins).reshape(-1)\n",
    "\n",
    "        # # loop free implementation\n",
    "        e = csr_matrix((np.ones(len(amins)), (amins, np.arange(n))), shape=A.shape)\n",
    "\n",
    "        A += 2.0 / (t + 2.0) * (e - A)\n",
    "        t += 1\n",
    "\n",
    "    return A, t2, t1"
   ]
  },
  {
   "cell_type": "code",
   "execution_count": 16,
   "metadata": {},
   "outputs": [],
   "source": [
    "def _updateB_cpu(self, A, B_prev):\n",
    "    \"\"\"Update step for archetype matrix B.\n",
    "\n",
    "    Given assignment matrix A and using kernel matrix K, compute archetype matrix B using constrained gradient\n",
    "    descent via Frank-Wolfe algorithm.\n",
    "\n",
    "    :param A: (n x k csr_matrix) defining weights used for assigning cells to SEACells\n",
    "    :param B_prev: (n x k csr_matrix) defining previous SEACells as weighted combinations of cells\n",
    "    :return: (n x k csr_matrix) defining updated SEACells as weighted combinations of cells\n",
    "    \"\"\"\n",
    "    K = self.K\n",
    "    k, n = A.shape\n",
    "\n",
    "    B = B_prev\n",
    "\n",
    "    # keep track of error\n",
    "    t = 0\n",
    "\n",
    "    # precompute some terms\n",
    "    t1 = A @ A.T\n",
    "    t2 = K @ A.T\n",
    "\n",
    "    # update rows of B for a given number of iterations\n",
    "    while t < self.max_FW_iter:\n",
    "        # compute gradient (need to convert np.matrix to np.array)\n",
    "        G = 2.0 * np.array(K @ B @ t1 - t2)\n",
    "\n",
    "        # get all argmins\n",
    "        amins = np.argmin(G, axis=0)\n",
    "        amins = np.array(amins).reshape(-1)\n",
    "\n",
    "        e = csr_matrix((np.ones(len(amins)), (amins, np.arange(k))), shape=B.shape)\n",
    "\n",
    "        B += 2.0 / (t + 2.0) * (e - B)\n",
    "\n",
    "        t += 1\n",
    "\n",
    "    return B"
   ]
  },
  {
   "cell_type": "code",
   "execution_count": 17,
   "metadata": {},
   "outputs": [],
   "source": [
    "def _updateA_gpu(self, Bg, Ag):\n",
    "    \"\"\"Compute assignment matrix A using constrained gradient descent via Frank-Wolfe algorithm.\n",
    "\n",
    "    Given archetype matrix B and using kernel matrix K, compute assignment matrix A using constrained gradient\n",
    "    descent via Frank-Wolfe algorithm.\n",
    "\n",
    "    :param B: (n x k csr_matrix) defining SEACells as weighted combinations of cells\n",
    "    :param A_prev: (n x k csr_matrix) defining previous weights used for assigning cells to SEACells\n",
    "    :return: (n x k csr_matrix) defining updated weights used for assigning cells to SEACells\n",
    "    \"\"\"\n",
    "    n, k = Bg.shape\n",
    "    t = 0  # current iteration (determine multiplicative update)\n",
    "    Kg = self.K\n",
    "\n",
    "    # precompute some gradient terms\n",
    "    t2g = (Kg @ Bg).T\n",
    "    t1g = t2g @ Bg\n",
    "\n",
    "    # update rows of A for given number of iterations\n",
    "    while t < self.max_FW_iter:\n",
    "        Gg = 2.0*(t1g @ Ag - t2g)\n",
    "        amins = Gg.argmin(axis = 0)\n",
    "        \n",
    "        eg = cp.zeros((k, n))\n",
    "        eg[amins, cp.arange(n)] = 1.0\n",
    "        eg = cupyx.scipy.sparse.csr_matrix(eg) \n",
    "\n",
    "        Ag += 2.0 / (t + 2.0) * (eg - Ag)\n",
    "        t += 1\n",
    "    \n",
    "    return Ag, t2g, t1g"
   ]
  },
  {
   "cell_type": "code",
   "execution_count": 18,
   "metadata": {},
   "outputs": [],
   "source": [
    "def _updateB_gpu(self, Ag, Bg):\n",
    "    \"\"\"Compute archetype matrix B using constrained gradient descent via Frank-Wolfe algorithm.\n",
    "\n",
    "    Given assignment matrix A and using kernel matrix K, compute archetype matrix B using constrained gradient\n",
    "    descent via Frank-Wolfe algorithm.\n",
    "\n",
    "    :param A: (n x k csr_matrix) defining weights used for assigning cells to SEACells\n",
    "    :param B_prev: (n x k csr_matrix) defining previous SEACells as weighted combinations of cells\n",
    "    :return: (n x k csr_matrix) defining updated SEACells as weighted combinations of cells\n",
    "    \"\"\"\n",
    "    # ic(\"_updateB\")\n",
    "    k, n = Ag.shape\n",
    "\n",
    "    # keep track of error\n",
    "    t = 0\n",
    "\n",
    "    Kg = self.K\n",
    "    # precompute some terms\n",
    "    t1g = Ag.dot(Ag.T)\n",
    "    t2g = Kg.dot(Ag.T)\n",
    "\n",
    "    # update rows of B for a given number of iterations\n",
    "    while t < self.max_FW_iter:\n",
    "        # compute gradient\n",
    "        Gg = 2 * (Kg.dot(Bg).dot(t1g) -t2g)\n",
    "\n",
    "        # get all argmins\n",
    "        amins = Gg.argmin(axis=0)\n",
    "\n",
    "        eg = cp.zeros((n, k))\n",
    "        eg[amins, cp.arange(k)] = 1.0\n",
    "        eg = cupyx.scipy.sparse.csr_matrix(eg)\n",
    "\n",
    "        f = 2.0 / (t + 2.0)\n",
    "        Bg = Bg + (f * (eg - Bg))\n",
    "\n",
    "        t += 1\n",
    "\n",
    "\n",
    "    del (\n",
    "        t1g,\n",
    "        t2g,\n",
    "        Ag,\n",
    "        Kg,\n",
    "        Gg,\n",
    "        eg,\n",
    "        amins,\n",
    "    )\n",
    "    cp._default_memory_pool.free_all_blocks()\n",
    "\n",
    "    return Bg"
   ]
  },
  {
   "cell_type": "code",
   "execution_count": null,
   "metadata": {},
   "outputs": [],
   "source": []
  },
  {
   "cell_type": "code",
   "execution_count": 19,
   "metadata": {},
   "outputs": [],
   "source": [
    "A_cpu = model2.A_\n",
    "B_cpu = model2.B_"
   ]
  },
  {
   "cell_type": "code",
   "execution_count": 20,
   "metadata": {},
   "outputs": [],
   "source": [
    "A_gpu = model4.A_\n",
    "B_gpu = model4.B_"
   ]
  },
  {
   "cell_type": "code",
   "execution_count": 21,
   "metadata": {},
   "outputs": [],
   "source": [
    "K_gpu = model4.K \n",
    "K_cpu = model2.K"
   ]
  },
  {
   "cell_type": "code",
   "execution_count": 22,
   "metadata": {},
   "outputs": [
    {
     "name": "stderr",
     "output_type": "stream",
     "text": [
      "ic| A_cpu.shape: (13, 1000)\n",
      "    B_cpu.shape: (1000, 13)\n",
      "    A_gpu.shape: (13, 1000)\n",
      "    B_gpu.shape: (1000, 13)\n",
      "    K_gpu.shape: (1000, 1000)\n",
      "    K_cpu.shape: (1000, 1000)\n"
     ]
    },
    {
     "data": {
      "text/plain": [
       "((13, 1000), (1000, 13), (13, 1000), (1000, 13), (1000, 1000), (1000, 1000))"
      ]
     },
     "execution_count": 22,
     "metadata": {},
     "output_type": "execute_result"
    }
   ],
   "source": [
    "ic(A_cpu.shape, B_cpu.shape, A_gpu.shape, B_gpu.shape, K_gpu.shape, K_cpu.shape)"
   ]
  },
  {
   "cell_type": "code",
   "execution_count": 23,
   "metadata": {},
   "outputs": [
    {
     "name": "stderr",
     "output_type": "stream",
     "text": [
      "ic| A_cpu.nnz / (A_cpu.shape[0] * A_cpu.shape[1]): 0.9645384615384616\n",
      "    B_cpu.nnz / (B_cpu.shape[0] * B_cpu.shape[1]): 0.001\n",
      "    A_gpu.nnz / (A_gpu.shape[0] * A_gpu.shape[1]): 0.9764615384615385\n",
      "    B_gpu.nnz / (B_gpu.shape[0] * B_gpu.shape[1]): 0.001\n",
      "    K_cpu.nnz / (K_gpu.shape[0] * K_gpu.shape[1]): 0.095394\n",
      "    K_gpu.nnz / (K_cpu.shape[0] * K_cpu.shape[1]): 0.095394\n"
     ]
    },
    {
     "data": {
      "text/plain": [
       "(0.9645384615384616, 0.001, 0.9764615384615385, 0.001, 0.095394, 0.095394)"
      ]
     },
     "execution_count": 23,
     "metadata": {},
     "output_type": "execute_result"
    }
   ],
   "source": [
    "# Print out the sparsity measures of the matrices \n",
    "ic(A_cpu.nnz / (A_cpu.shape[0] * A_cpu.shape[1]), \n",
    "   B_cpu.nnz / (B_cpu.shape[0] * B_cpu.shape[1]),\n",
    "   A_gpu.nnz / (A_gpu.shape[0] * A_gpu.shape[1]), \n",
    "   B_gpu.nnz / (B_gpu.shape[0] * B_gpu.shape[1]), \n",
    "   K_cpu.nnz / (K_gpu.shape[0] * K_gpu.shape[1]),\n",
    "   K_gpu.nnz / (K_cpu.shape[0] * K_cpu.shape[1]))"
   ]
  },
  {
   "cell_type": "code",
   "execution_count": 24,
   "metadata": {},
   "outputs": [
    {
     "name": "stderr",
     "output_type": "stream",
     "text": [
      "ic"
     ]
    },
    {
     "name": "stderr",
     "output_type": "stream",
     "text": [
      "| type(A_cpu): <class 'scipy.sparse.csc.csc_matrix'>\n",
      "    type(B_cpu): <class 'scipy.sparse.csr.csr_matrix'>\n",
      "    type(A_gpu): <class 'cupyx.scipy.sparse._csr.csr_matrix'>\n",
      "    type(B_gpu): <class 'cupyx.scipy.sparse._csr.csr_matrix'>\n",
      "    type(K_cpu): <class 'scipy.sparse.csr.csr_matrix'>\n",
      "    type(K_gpu): <class 'cupyx.scipy.sparse._csr.csr_matrix'>\n"
     ]
    },
    {
     "data": {
      "text/plain": [
       "(scipy.sparse.csc.csc_matrix,\n",
       " scipy.sparse.csr.csr_matrix,\n",
       " cupyx.scipy.sparse._csr.csr_matrix,\n",
       " cupyx.scipy.sparse._csr.csr_matrix,\n",
       " scipy.sparse.csr.csr_matrix,\n",
       " cupyx.scipy.sparse._csr.csr_matrix)"
      ]
     },
     "execution_count": 24,
     "metadata": {},
     "output_type": "execute_result"
    }
   ],
   "source": [
    "# Check the types of the matrices \n",
    "ic(type(A_cpu), type(B_cpu), type(A_gpu), type(B_gpu), type(K_cpu), type(K_gpu))"
   ]
  },
  {
   "cell_type": "code",
   "execution_count": 25,
   "metadata": {},
   "outputs": [
    {
     "name": "stderr",
     "output_type": "stream",
     "text": [
      "ic| A_cpu.dtype: dtype('float64')\n",
      "    B_cpu.dtype: dtype('float64')\n",
      "    A_gpu.dtype: dtype('float64')\n",
      "    B_gpu.dtype: dtype('float64')\n",
      "    K_cpu.dtype: dtype('float64')\n",
      "    K_gpu.dtype: dtype('float64')\n"
     ]
    },
    {
     "data": {
      "text/plain": [
       "(dtype('float64'),\n",
       " dtype('float64'),\n",
       " dtype('float64'),\n",
       " dtype('float64'),\n",
       " dtype('float64'),\n",
       " dtype('float64'))"
      ]
     },
     "execution_count": 25,
     "metadata": {},
     "output_type": "execute_result"
    }
   ],
   "source": [
    "# Check the data types of the matrices \n",
    "ic(A_cpu.dtype, B_cpu.dtype, A_gpu.dtype, B_gpu.dtype, K_cpu.dtype, K_gpu.dtype)"
   ]
  },
  {
   "cell_type": "code",
   "execution_count": 26,
   "metadata": {},
   "outputs": [
    {
     "name": "stderr",
     "output_type": "stream",
     "text": [
      "ic| pd.value_counts(diff.toarray()."
     ]
    },
    {
     "name": "stderr",
     "output_type": "stream",
     "text": [
      "flatten()):  0.000000e+00    979630\n",
      "                                               -2.220446e-16      2993\n",
      "                                                2.220446e-16      2948\n",
      "                                               -1.110223e-16      2539\n",
      "                                                1.110223e-16      2538\n",
      "                                                5.551115e-17      2113\n",
      "                                               -5.551115e-17      1984\n",
      "                                               -4.440892e-16      1949\n",
      "                                                4.440892e-16      1927\n",
      "                                               -2.775558e-17       365\n",
      "                                                2.775558e-17       350\n",
      "                                                8.881784e-16       260\n",
      "                                               -8.881784e-16       247\n",
      "                                               -6.661338e-16        20\n",
      "                                                1.332268e-15        20\n",
      "                                               -6.938894e-18        17\n",
      "                                               -1.332268e-15        15\n",
      "                                               -1.387779e-17        15\n",
      "                                                1.776357e-15        13\n",
      "                                               -1.776357e-15        12\n",
      "                                                1.387779e-17        11\n",
      "                                                6.661338e-16        10\n",
      "                                                6.938894e-18         7\n",
      "                                                3.330669e-16         6\n",
      "                                                3.469447e-18         3\n",
      "                                               -3.469447e-18         3\n",
      "                                                3.552714e-15         2\n",
      "                                                2.664535e-15         2\n",
      "                                               -3.330669e-16         1\n",
      "                                               dtype: int64\n"
     ]
    },
    {
     "data": {
      "text/plain": [
       " 0.000000e+00    979630\n",
       "-2.220446e-16      2993\n",
       " 2.220446e-16      2948\n",
       "-1.110223e-16      2539\n",
       " 1.110223e-16      2538\n",
       " 5.551115e-17      2113\n",
       "-5.551115e-17      1984\n",
       "-4.440892e-16      1949\n",
       " 4.440892e-16      1927\n",
       "-2.775558e-17       365\n",
       " 2.775558e-17       350\n",
       " 8.881784e-16       260\n",
       "-8.881784e-16       247\n",
       "-6.661338e-16        20\n",
       " 1.332268e-15        20\n",
       "-6.938894e-18        17\n",
       "-1.332268e-15        15\n",
       "-1.387779e-17        15\n",
       " 1.776357e-15        13\n",
       "-1.776357e-15        12\n",
       " 1.387779e-17        11\n",
       " 6.661338e-16        10\n",
       " 6.938894e-18         7\n",
       " 3.330669e-16         6\n",
       " 3.469447e-18         3\n",
       "-3.469447e-18         3\n",
       " 3.552714e-15         2\n",
       " 2.664535e-15         2\n",
       "-3.330669e-16         1\n",
       "dtype: int64"
      ]
     },
     "execution_count": 26,
     "metadata": {},
     "output_type": "execute_result"
    }
   ],
   "source": [
    "# Compare K_cpu and K_gpu\n",
    "\n",
    "diff = K_cpu - K_gpu.get()\n",
    "\n",
    "# Create a frequency table of the differences \n",
    "ic(pd.value_counts(diff.toarray().flatten()))"
   ]
  },
  {
   "cell_type": "code",
   "execution_count": 27,
   "metadata": {},
   "outputs": [],
   "source": [
    "# Set A_gpu and B_gpu to be the same as A_cpu and B_cpu, but with the same type as A_gpu and B_gpu \n",
    "A_gpu = cupyx.scipy.sparse.csr_matrix(A_cpu)\n",
    "B_gpu = cupyx.scipy.sparse.csr_matrix(B_cpu)\n",
    "\n",
    "# Set model4.K to be the same as model2.K, but with the same type as model4.K\n",
    "model4.K = cupyx.scipy.sparse.csr_matrix(model2.K)"
   ]
  },
  {
   "cell_type": "code",
   "execution_count": 28,
   "metadata": {},
   "outputs": [
    {
     "name": "stderr",
     "output_type": "stream",
     "text": [
      "ic| pd.value_counts(diff.toarray().flatten()): 0.0    1000000\n",
      "                                               dtype: int64\n"
     ]
    },
    {
     "data": {
      "text/plain": [
       "0.0    1000000\n",
       "dtype: int64"
      ]
     },
     "execution_count": 28,
     "metadata": {},
     "output_type": "execute_result"
    }
   ],
   "source": [
    "# check if the K matrices are the same \n",
    "\n",
    "diff = model2.K - model4.K.get()\n",
    "\n",
    "# Create a frequency table of the differences\n",
    "ic(pd.value_counts(diff.toarray().flatten()))"
   ]
  },
  {
   "cell_type": "code",
   "execution_count": 29,
   "metadata": {},
   "outputs": [
    {
     "name": "stderr",
     "output_type": "stream",
     "text": [
      "ic| pd.value_counts(diff.toarray().flatten()): 0.0    13000\n",
      "                                               dtype: int64\n"
     ]
    },
    {
     "data": {
      "text/plain": [
       "0.0    13000\n",
       "dtype: int64"
      ]
     },
     "execution_count": 29,
     "metadata": {},
     "output_type": "execute_result"
    }
   ],
   "source": [
    "# Check if the A matrices are the same \n",
    "diff = A_cpu - A_gpu.get()\n",
    "\n",
    "# Create a frequency table of the differences\n",
    "ic(pd.value_counts(diff.toarray().flatten()))\n"
   ]
  },
  {
   "cell_type": "code",
   "execution_count": 30,
   "metadata": {},
   "outputs": [
    {
     "name": "stderr",
     "output_type": "stream",
     "text": [
      "ic| pd.value_counts(diff.toarray().flatten()): 0.0    13000\n",
      "                                               dtype: int64\n"
     ]
    },
    {
     "data": {
      "text/plain": [
       "0.0    13000\n",
       "dtype: int64"
      ]
     },
     "execution_count": 30,
     "metadata": {},
     "output_type": "execute_result"
    }
   ],
   "source": [
    "# Check if the B matrices are the same \n",
    "diff = B_cpu - B_gpu.get()\n",
    "\n",
    "# Create a frequency table of the differences\n",
    "ic(pd.value_counts(diff.toarray().flatten()))"
   ]
  },
  {
   "cell_type": "code",
   "execution_count": 31,
   "metadata": {},
   "outputs": [
    {
     "name": "stderr",
     "output_type": "stream",
     "text": [
      "ic| pd.value_counts(diff.toarray().flatten()): 0.0    13000\n",
      "                                               dtype: int64\n",
      "ic| pd.value_counts(diff.toarray().flatten()): 0.0    169\n",
      "                                               dtype: int64\n"
     ]
    },
    {
     "data": {
      "text/plain": [
       "0.0    169\n",
       "dtype: int64"
      ]
     },
     "execution_count": 31,
     "metadata": {},
     "output_type": "execute_result"
    }
   ],
   "source": [
    "t2 = (model2.K @ B_cpu).T\n",
    "t1 = t2 @ B_cpu \n",
    "\n",
    "t2g = (model4.K @ B_gpu).T \n",
    "t1g = t2g @ B_gpu\n",
    "\n",
    "# Check if the t2 matrices are the same\n",
    "diff = t2 - t2g.get()\n",
    "\n",
    "# Create a frequency table of the differences\n",
    "ic(pd.value_counts(diff.toarray().flatten()))\n",
    "\n",
    "# Check if the t1 matrices are the same\n",
    "diff = t1 - t1g.get()\n",
    "\n",
    "# Create a frequency table of the differences\n",
    "ic(pd.value_counts(diff.toarray().flatten()))\n"
   ]
  },
  {
   "cell_type": "code",
   "execution_count": 32,
   "metadata": {},
   "outputs": [
    {
     "name": "stderr",
     "output_type": "stream",
     "text": [
      "ic| t2.dtype: dtype('float64')\n",
      "    t2g.dtype: dtype('float64')\n",
      "    t1.dtype: dtype('float64')\n",
      "    t1g.dtype: dtype('float64')\n"
     ]
    },
    {
     "data": {
      "text/plain": [
       "(dtype('float64'), dtype('float64'), dtype('float64'), dtype('float64'))"
      ]
     },
     "execution_count": 32,
     "metadata": {},
     "output_type": "execute_result"
    }
   ],
   "source": [
    "# Check the data types of the t2, t2g, t1, t1g matrices\n",
    "\n",
    "ic(t2.dtype, t2g.dtype, t1.dtype, t1g.dtype)"
   ]
  },
  {
   "cell_type": "code",
   "execution_count": 33,
   "metadata": {},
   "outputs": [
    {
     "name": "stderr",
     "output_type": "stream",
     "text": [
      "ic| type(G): <class 'scipy.sparse.csc.csc_matrix'>\n",
      "    type(Gg): <class 'cupyx.scipy.sparse._csr.csr_matrix'>\n",
      "ic| G: <13x1000 sparse matrix of type '<class 'numpy.float64'>'\n",
      "       \twith 12729 stored elements in Compressed Sparse Column format>\n",
      "ic| Gg"
     ]
    },
    {
     "name": "stderr",
     "output_type": "stream",
     "text": [
      ": <cupyx.scipy.sparse._csr.csr_matrix object at 0x7f01b7448430>\n",
      "ic| type(diff): <class 'scipy.sparse.csc.csc_matrix'>\n",
      "ic| Gg.data.dtype: dtype('float64')\n",
      "ic| pd.value_counts(diff.toarray().flatten()):  0.000000e+00    12348\n",
      "                                                2.775558e-17      181\n",
      "                                               -2.775558e-17      143\n",
      "                                               -5.551115e-17      120\n",
      "                                                5.551115e-17      119\n",
      "                                                1.387779e-17       46\n",
      "                                               -1.387779e-17       21\n",
      "                                               -1.110223e-16        7\n",
      "                                                2.220446e-16        6\n",
      "                                                1.110223e-16        4\n",
      "                                               -2.220446e-16        2\n",
      "                                                6.938894e-18        2\n",
      "                                                4.440892e-16        1\n",
      "                                               dtype: int64\n"
     ]
    },
    {
     "data": {
      "text/plain": [
       " 0.000000e+00    12348\n",
       " 2.775558e-17      181\n",
       "-2.775558e-17      143\n",
       "-5.551115e-17      120\n",
       " 5.551115e-17      119\n",
       " 1.387779e-17       46\n",
       "-1.387779e-17       21\n",
       "-1.110223e-16        7\n",
       " 2.220446e-16        6\n",
       " 1.110223e-16        4\n",
       "-2.220446e-16        2\n",
       " 6.938894e-18        2\n",
       " 4.440892e-16        1\n",
       "dtype: int64"
      ]
     },
     "execution_count": 33,
     "metadata": {},
     "output_type": "execute_result"
    }
   ],
   "source": [
    "G = t1 @ A_cpu \n",
    "Gg = cupyx.scipy.sparse.csr_matrix(t1) @ cupyx.scipy.sparse.csr_matrix(A_cpu)\n",
    "\n",
    "ic(type(G), type(Gg))\n",
    "\n",
    "ic(G)\n",
    "ic(Gg)\n",
    "\n",
    "# Check if the G matrices are the same\n",
    "diff = G - Gg.get()\n",
    "\n",
    "ic(type(diff))\n",
    "ic(Gg.data.dtype)\n",
    "\n",
    "\n",
    "# Create a frequency table of the differences\n",
    "ic(pd.value_counts(diff.toarray().flatten()))"
   ]
  },
  {
   "cell_type": "code",
   "execution_count": 34,
   "metadata": {},
   "outputs": [],
   "source": [
    "# Run updateA on CPU and GPU and compare the results \n",
    "\n",
    "# CPU\n",
    "A_cpu_2, t2, t1 = _updateA_cpu(model2, B_cpu, A_cpu)\n",
    "\n",
    "# GPU\n",
    "A_gpu_2, t2g, t1g = _updateA_gpu(model4, B_gpu, A_gpu)"
   ]
  },
  {
   "cell_type": "code",
   "execution_count": 35,
   "metadata": {},
   "outputs": [
    {
     "name": "stderr",
     "output_type": "stream",
     "text": [
      "ic| A_cpu_2.nnz / (A_cpu_2.shape[0] * A_cpu_2.shape[1]): 0.9651538461538461\n",
      "    A_gpu_2.nnz / (A_gpu_2.shape[0] * A_gpu_2.shape[1]): 0.9683846153846154\n"
     ]
    },
    {
     "data": {
      "text/plain": [
       "(0.9651538461538461, 0.9683846153846154)"
      ]
     },
     "execution_count": 35,
     "metadata": {},
     "output_type": "execute_result"
    }
   ],
   "source": [
    "# Compare the sparsity of A_cpu_2 and A_gpu_2 \n",
    "ic(A_cpu_2.nnz / (A_cpu_2.shape[0] * A_cpu_2.shape[1]), \n",
    "   A_gpu_2.nnz / (A_gpu_2.shape[0] * A_gpu_2.shape[1]))"
   ]
  },
  {
   "cell_type": "code",
   "execution_count": 36,
   "metadata": {},
   "outputs": [
    {
     "name": "stderr",
     "output_type": "stream",
     "text": [
      "ic| type(diff): <class 'scipy.sparse.csc."
     ]
    },
    {
     "name": "stderr",
     "output_type": "stream",
     "text": [
      "csc_matrix'>\n",
      "ic| pd.value_counts(diff.toarray().flatten()):  0.000000    12903\n",
      "                                               -0.001569       14\n",
      "                                                0.001569       12\n",
      "                                               -0.007059        3\n",
      "                                                0.035294        3\n",
      "                                               -0.017255        3\n",
      "                                                0.030588        2\n",
      "                                                0.029804        2\n",
      "                                                0.028235        2\n",
      "                                                0.017255        2\n",
      "                                               -0.010980        2\n",
      "                                                0.037647        2\n",
      "                                                0.034510        2\n",
      "                                               -0.008627        2\n",
      "                                               -0.015686        2\n",
      "                                               -0.014118        2\n",
      "                                               -0.025882        1\n",
      "                                               -0.037647        1\n",
      "                                                0.024314        1\n",
      "                                               -0.018039        1\n",
      "                                               -0.028235        1\n",
      "                                               -0.009412        1\n",
      "                                               -0.003922        1\n",
      "                                               -0.011765        1\n",
      "                                               -0.004706        1\n",
      "                                                0.031373        1\n",
      "                                               -0.035294        1\n",
      "                                               -0.007843        1\n",
      "                                                0.033725        1\n",
      "                                               -0.004706        1\n",
      "                                               -0.030588        1\n",
      "                                               -0.029804        1\n",
      "                                               -0.010196        1\n",
      "                                               -0.014118        1\n",
      "                                               -0.006275        1\n",
      "                                                0.018039        1\n",
      "                                                0.019608        1\n",
      "                                               -0.007843        1\n",
      "                                               -0.014118        1\n",
      "                                               -0.029020        1\n",
      "                                                0.006275        1\n",
      "                                                0.011765        1\n",
      "                                                0.000784        1\n",
      "                                               -0.018039        1\n",
      "                                               -0.025098        1\n",
      "                                               -0.019608        1\n",
      "                                               -0.002353        1\n",
      "                                                0.004706        1\n",
      "                                               -0.014118        1\n",
      "                                                0.007843        1\n",
      "                                                0.010980        1\n",
      "                                                0.025882        1\n",
      "                                               -0.000784        1\n",
      "                                               -0.014902        1\n",
      "                                               -0.019608        1\n",
      "                                               -0.008627        1\n",
      "                                               -0.013333        1\n",
      "                                               -0.016471        1\n",
      "                                               dtype: int64\n"
     ]
    },
    {
     "data": {
      "text/plain": [
       " 0.000000    12903\n",
       "-0.001569       14\n",
       " 0.001569       12\n",
       "-0.007059        3\n",
       " 0.035294        3\n",
       "-0.017255        3\n",
       " 0.030588        2\n",
       " 0.029804        2\n",
       " 0.028235        2\n",
       " 0.017255        2\n",
       "-0.010980        2\n",
       " 0.037647        2\n",
       " 0.034510        2\n",
       "-0.008627        2\n",
       "-0.015686        2\n",
       "-0.014118        2\n",
       "-0.025882        1\n",
       "-0.037647        1\n",
       " 0.024314        1\n",
       "-0.018039        1\n",
       "-0.028235        1\n",
       "-0.009412        1\n",
       "-0.003922        1\n",
       "-0.011765        1\n",
       "-0.004706        1\n",
       " 0.031373        1\n",
       "-0.035294        1\n",
       "-0.007843        1\n",
       " 0.033725        1\n",
       "-0.004706        1\n",
       "-0.030588        1\n",
       "-0.029804        1\n",
       "-0.010196        1\n",
       "-0.014118        1\n",
       "-0.006275        1\n",
       " 0.018039        1\n",
       " 0.019608        1\n",
       "-0.007843        1\n",
       "-0.014118        1\n",
       "-0.029020        1\n",
       " 0.006275        1\n",
       " 0.011765        1\n",
       " 0.000784        1\n",
       "-0.018039        1\n",
       "-0.025098        1\n",
       "-0.019608        1\n",
       "-0.002353        1\n",
       " 0.004706        1\n",
       "-0.014118        1\n",
       " 0.007843        1\n",
       " 0.010980        1\n",
       " 0.025882        1\n",
       "-0.000784        1\n",
       "-0.014902        1\n",
       "-0.019608        1\n",
       "-0.008627        1\n",
       "-0.013333        1\n",
       "-0.016471        1\n",
       "dtype: int64"
      ]
     },
     "execution_count": 36,
     "metadata": {},
     "output_type": "execute_result"
    }
   ],
   "source": [
    "# Compare the values of A_cpu_2 and A_gpu_2 \n",
    "diff = A_cpu_2 - A_gpu_2.get() \n",
    "\n",
    "ic(type(diff))\n",
    "\n",
    "# Create a frequency table of the differences \n",
    "ic(pd.value_counts(diff.toarray().flatten()))"
   ]
  },
  {
   "cell_type": "code",
   "execution_count": 37,
   "metadata": {},
   "outputs": [
    {
     "name": "stderr",
     "output_type": "stream",
     "text": [
      "ic| pd.value_counts(diff.toarray().flatten()): 0.0    169\n",
      "                                               dtype: int64"
     ]
    },
    {
     "name": "stderr",
     "output_type": "stream",
     "text": [
      "\n"
     ]
    },
    {
     "ename": "KeyboardInterrupt",
     "evalue": "",
     "output_type": "error",
     "traceback": [
      "\u001b[0;31m---------------------------------------------------------------------------\u001b[0m",
      "\u001b[0;31mKeyboardInterrupt\u001b[0m                         Traceback (most recent call last)",
      "\u001b[1;32m/home/aparna/DATA/aparnakumar/github clone/SEACells/compare_A_and_B.ipynb Cell 32\u001b[0m line \u001b[0;36m5\n\u001b[1;32m      <a href='vscode-notebook-cell://ssh-remote%2Baeolus/home/aparna/DATA/aparnakumar/github%20clone/SEACells/compare_A_and_B.ipynb#X41sdnNjb2RlLXJlbW90ZQ%3D%3D?line=1'>2</a>\u001b[0m diff \u001b[39m=\u001b[39m t1 \u001b[39m-\u001b[39m t1g\u001b[39m.\u001b[39mget()\n\u001b[1;32m      <a href='vscode-notebook-cell://ssh-remote%2Baeolus/home/aparna/DATA/aparnakumar/github%20clone/SEACells/compare_A_and_B.ipynb#X41sdnNjb2RlLXJlbW90ZQ%3D%3D?line=3'>4</a>\u001b[0m \u001b[39m# Create a frequency table of the differences\u001b[39;00m\n\u001b[0;32m----> <a href='vscode-notebook-cell://ssh-remote%2Baeolus/home/aparna/DATA/aparnakumar/github%20clone/SEACells/compare_A_and_B.ipynb#X41sdnNjb2RlLXJlbW90ZQ%3D%3D?line=4'>5</a>\u001b[0m ic(pd\u001b[39m.\u001b[39;49mvalue_counts(diff\u001b[39m.\u001b[39;49mtoarray()\u001b[39m.\u001b[39;49mflatten()))\n",
      "File \u001b[0;32m~/miniconda/envs/env_SEACells/lib/python3.8/site-packages/icecream/icecream.py:212\u001b[0m, in \u001b[0;36mIceCreamDebugger.__call__\u001b[0;34m(self, *args)\u001b[0m\n\u001b[1;32m    210\u001b[0m         prefix \u001b[39m=\u001b[39m callOrValue(\u001b[39mself\u001b[39m\u001b[39m.\u001b[39mprefix)\n\u001b[1;32m    211\u001b[0m         out \u001b[39m=\u001b[39m prefix \u001b[39m+\u001b[39m \u001b[39m'\u001b[39m\u001b[39mError: \u001b[39m\u001b[39m'\u001b[39m \u001b[39m+\u001b[39m err\u001b[39m.\u001b[39minfoMessage\n\u001b[0;32m--> 212\u001b[0m     \u001b[39mself\u001b[39;49m\u001b[39m.\u001b[39;49moutputFunction(out)\n\u001b[1;32m    214\u001b[0m \u001b[39mif\u001b[39;00m \u001b[39mnot\u001b[39;00m args:  \u001b[39m# E.g. ic().\u001b[39;00m\n\u001b[1;32m    215\u001b[0m     passthrough \u001b[39m=\u001b[39m \u001b[39mNone\u001b[39;00m\n",
      "File \u001b[0;32m~/miniconda/envs/env_SEACells/lib/python3.8/site-packages/icecream/icecream.py:83\u001b[0m, in \u001b[0;36mcolorizedStderrPrint\u001b[0;34m(s)\u001b[0m\n\u001b[1;32m     81\u001b[0m colored \u001b[39m=\u001b[39m colorize(s)\n\u001b[1;32m     82\u001b[0m \u001b[39mwith\u001b[39;00m supportTerminalColorsInWindows():\n\u001b[0;32m---> 83\u001b[0m     stderrPrint(colored)\n",
      "File \u001b[0;32m~/miniconda/envs/env_SEACells/lib/python3.8/site-packages/icecream/icecream.py:69\u001b[0m, in \u001b[0;36mstderrPrint\u001b[0;34m(*args)\u001b[0m\n\u001b[1;32m     68\u001b[0m \u001b[39mdef\u001b[39;00m \u001b[39mstderrPrint\u001b[39m(\u001b[39m*\u001b[39margs):\n\u001b[0;32m---> 69\u001b[0m     \u001b[39mprint\u001b[39;49m(\u001b[39m*\u001b[39;49margs, file\u001b[39m=\u001b[39;49msys\u001b[39m.\u001b[39;49mstderr)\n",
      "File \u001b[0;32m~/miniconda/envs/env_SEACells/lib/python3.8/site-packages/colorama/ansitowin32.py:47\u001b[0m, in \u001b[0;36mStreamWrapper.write\u001b[0;34m(self, text)\u001b[0m\n\u001b[1;32m     46\u001b[0m \u001b[39mdef\u001b[39;00m \u001b[39mwrite\u001b[39m(\u001b[39mself\u001b[39m, text):\n\u001b[0;32m---> 47\u001b[0m     \u001b[39mself\u001b[39;49m\u001b[39m.\u001b[39;49m__convertor\u001b[39m.\u001b[39;49mwrite(text)\n",
      "File \u001b[0;32m~/miniconda/envs/env_SEACells/lib/python3.8/site-packages/colorama/ansitowin32.py:177\u001b[0m, in \u001b[0;36mAnsiToWin32.write\u001b[0;34m(self, text)\u001b[0m\n\u001b[1;32m    175\u001b[0m \u001b[39mdef\u001b[39;00m \u001b[39mwrite\u001b[39m(\u001b[39mself\u001b[39m, text):\n\u001b[1;32m    176\u001b[0m     \u001b[39mif\u001b[39;00m \u001b[39mself\u001b[39m\u001b[39m.\u001b[39mstrip \u001b[39mor\u001b[39;00m \u001b[39mself\u001b[39m\u001b[39m.\u001b[39mconvert:\n\u001b[0;32m--> 177\u001b[0m         \u001b[39mself\u001b[39;49m\u001b[39m.\u001b[39;49mwrite_and_convert(text)\n\u001b[1;32m    178\u001b[0m     \u001b[39melse\u001b[39;00m:\n\u001b[1;32m    179\u001b[0m         \u001b[39mself\u001b[39m\u001b[39m.\u001b[39mwrapped\u001b[39m.\u001b[39mwrite(text)\n",
      "File \u001b[0;32m~/miniconda/envs/env_SEACells/lib/python3.8/site-packages/colorama/ansitowin32.py:205\u001b[0m, in \u001b[0;36mAnsiToWin32.write_and_convert\u001b[0;34m(self, text)\u001b[0m\n\u001b[1;32m    203\u001b[0m     \u001b[39mself\u001b[39m\u001b[39m.\u001b[39mconvert_ansi(\u001b[39m*\u001b[39mmatch\u001b[39m.\u001b[39mgroups())\n\u001b[1;32m    204\u001b[0m     cursor \u001b[39m=\u001b[39m end\n\u001b[0;32m--> 205\u001b[0m \u001b[39mself\u001b[39;49m\u001b[39m.\u001b[39;49mwrite_plain_text(text, cursor, \u001b[39mlen\u001b[39;49m(text))\n",
      "File \u001b[0;32m~/miniconda/envs/env_SEACells/lib/python3.8/site-packages/colorama/ansitowin32.py:211\u001b[0m, in \u001b[0;36mAnsiToWin32.write_plain_text\u001b[0;34m(self, text, start, end)\u001b[0m\n\u001b[1;32m    209\u001b[0m \u001b[39mif\u001b[39;00m start \u001b[39m<\u001b[39m end:\n\u001b[1;32m    210\u001b[0m     \u001b[39mself\u001b[39m\u001b[39m.\u001b[39mwrapped\u001b[39m.\u001b[39mwrite(text[start:end])\n\u001b[0;32m--> 211\u001b[0m     \u001b[39mself\u001b[39;49m\u001b[39m.\u001b[39;49mwrapped\u001b[39m.\u001b[39;49mflush()\n",
      "File \u001b[0;32m~/.local/lib/python3.8/site-packages/ipykernel/iostream.py:488\u001b[0m, in \u001b[0;36mOutStream.flush\u001b[0;34m(self)\u001b[0m\n\u001b[1;32m    486\u001b[0m     \u001b[39mself\u001b[39m\u001b[39m.\u001b[39mpub_thread\u001b[39m.\u001b[39mschedule(evt\u001b[39m.\u001b[39mset)\n\u001b[1;32m    487\u001b[0m     \u001b[39m# and give a timeout to avoid\u001b[39;00m\n\u001b[0;32m--> 488\u001b[0m     \u001b[39mif\u001b[39;00m \u001b[39mnot\u001b[39;00m evt\u001b[39m.\u001b[39;49mwait(\u001b[39mself\u001b[39;49m\u001b[39m.\u001b[39;49mflush_timeout):\n\u001b[1;32m    489\u001b[0m         \u001b[39m# write directly to __stderr__ instead of warning because\u001b[39;00m\n\u001b[1;32m    490\u001b[0m         \u001b[39m# if this is happening sys.stderr may be the problem.\u001b[39;00m\n\u001b[1;32m    491\u001b[0m         \u001b[39mprint\u001b[39m(\u001b[39m\"\u001b[39m\u001b[39mIOStream.flush timed out\u001b[39m\u001b[39m\"\u001b[39m, file\u001b[39m=\u001b[39msys\u001b[39m.\u001b[39m__stderr__)\n\u001b[1;32m    492\u001b[0m \u001b[39melse\u001b[39;00m:\n",
      "File \u001b[0;32m~/miniconda/envs/env_SEACells/lib/python3.8/threading.py:558\u001b[0m, in \u001b[0;36mEvent.wait\u001b[0;34m(self, timeout)\u001b[0m\n\u001b[1;32m    556\u001b[0m signaled \u001b[39m=\u001b[39m \u001b[39mself\u001b[39m\u001b[39m.\u001b[39m_flag\n\u001b[1;32m    557\u001b[0m \u001b[39mif\u001b[39;00m \u001b[39mnot\u001b[39;00m signaled:\n\u001b[0;32m--> 558\u001b[0m     signaled \u001b[39m=\u001b[39m \u001b[39mself\u001b[39;49m\u001b[39m.\u001b[39;49m_cond\u001b[39m.\u001b[39;49mwait(timeout)\n\u001b[1;32m    559\u001b[0m \u001b[39mreturn\u001b[39;00m signaled\n",
      "File \u001b[0;32m~/miniconda/envs/env_SEACells/lib/python3.8/threading.py:306\u001b[0m, in \u001b[0;36mCondition.wait\u001b[0;34m(self, timeout)\u001b[0m\n\u001b[1;32m    304\u001b[0m \u001b[39melse\u001b[39;00m:\n\u001b[1;32m    305\u001b[0m     \u001b[39mif\u001b[39;00m timeout \u001b[39m>\u001b[39m \u001b[39m0\u001b[39m:\n\u001b[0;32m--> 306\u001b[0m         gotit \u001b[39m=\u001b[39m waiter\u001b[39m.\u001b[39;49macquire(\u001b[39mTrue\u001b[39;49;00m, timeout)\n\u001b[1;32m    307\u001b[0m     \u001b[39melse\u001b[39;00m:\n\u001b[1;32m    308\u001b[0m         gotit \u001b[39m=\u001b[39m waiter\u001b[39m.\u001b[39macquire(\u001b[39mFalse\u001b[39;00m)\n",
      "\u001b[0;31mKeyboardInterrupt\u001b[0m: "
     ]
    }
   ],
   "source": [
    "# Compare t1 and t1g \n",
    "diff = t1 - t1g.get()\n",
    "\n",
    "# Create a frequency table of the differences\n",
    "ic(pd.value_counts(diff.toarray().flatten()))"
   ]
  },
  {
   "cell_type": "code",
   "execution_count": null,
   "metadata": {},
   "outputs": [
    {
     "name": "stderr",
     "output_type": "stream",
     "text": [
      "ic| pd.value_counts(diff.toarray().flatten()): 0.0    13000\n",
      "                                               dtype: int64"
     ]
    },
    {
     "name": "stderr",
     "output_type": "stream",
     "text": [
      "\n"
     ]
    },
    {
     "data": {
      "text/plain": [
       "0.0    13000\n",
       "dtype: int64"
      ]
     },
     "execution_count": 127,
     "metadata": {},
     "output_type": "execute_result"
    }
   ],
   "source": [
    "# Compare t2 and t2g \n",
    "\n",
    "diff = t2 - t2g.get()\n",
    "\n",
    "# Create a frequency table of the differences\n",
    "ic(pd.value_counts(diff.toarray().flatten()))"
   ]
  },
  {
   "cell_type": "code",
   "execution_count": null,
   "metadata": {},
   "outputs": [
    {
     "ename": "OutOfMemoryError",
     "evalue": "Out of memory allocating 38,679,040 bytes (allocated so far: 21,953,024 bytes).",
     "output_type": "error",
     "traceback": [
      "\u001b[0;31m---------------------------------------------------------------------------\u001b[0m",
      "\u001b[0;31mOutOfMemoryError\u001b[0m                          Traceback (most recent call last)",
      "\u001b[1;32m/home/aparna/DATA/aparnakumar/github clone/SEACells/compare_A_and_B.ipynb Cell 30\u001b[0m line \u001b[0;36m7\n\u001b[1;32m      <a href='vscode-notebook-cell://ssh-remote%2Baeolus/home/aparna/DATA/aparnakumar/github%20clone/SEACells/compare_A_and_B.ipynb#X25sdnNjb2RlLXJlbW90ZQ%3D%3D?line=3'>4</a>\u001b[0m B_cpu_2 \u001b[39m=\u001b[39m _updateB_cpu(model2, A_cpu, B_cpu)\n\u001b[1;32m      <a href='vscode-notebook-cell://ssh-remote%2Baeolus/home/aparna/DATA/aparnakumar/github%20clone/SEACells/compare_A_and_B.ipynb#X25sdnNjb2RlLXJlbW90ZQ%3D%3D?line=5'>6</a>\u001b[0m \u001b[39m# GPU\u001b[39;00m\n\u001b[0;32m----> <a href='vscode-notebook-cell://ssh-remote%2Baeolus/home/aparna/DATA/aparnakumar/github%20clone/SEACells/compare_A_and_B.ipynb#X25sdnNjb2RlLXJlbW90ZQ%3D%3D?line=6'>7</a>\u001b[0m B_gpu_2 \u001b[39m=\u001b[39m _updateB_gpu(model4, A_gpu, B_gpu)\n\u001b[1;32m      <a href='vscode-notebook-cell://ssh-remote%2Baeolus/home/aparna/DATA/aparnakumar/github%20clone/SEACells/compare_A_and_B.ipynb#X25sdnNjb2RlLXJlbW90ZQ%3D%3D?line=8'>9</a>\u001b[0m \u001b[39m# Compare the sparsity of B_cpu_2 and B_gpu_2\u001b[39;00m\n\u001b[1;32m     <a href='vscode-notebook-cell://ssh-remote%2Baeolus/home/aparna/DATA/aparnakumar/github%20clone/SEACells/compare_A_and_B.ipynb#X25sdnNjb2RlLXJlbW90ZQ%3D%3D?line=9'>10</a>\u001b[0m ic(B_cpu_2\u001b[39m.\u001b[39mnnz \u001b[39m/\u001b[39m (B_cpu_2\u001b[39m.\u001b[39mshape[\u001b[39m0\u001b[39m] \u001b[39m*\u001b[39m B_cpu_2\u001b[39m.\u001b[39mshape[\u001b[39m1\u001b[39m]), \n\u001b[1;32m     <a href='vscode-notebook-cell://ssh-remote%2Baeolus/home/aparna/DATA/aparnakumar/github%20clone/SEACells/compare_A_and_B.ipynb#X25sdnNjb2RlLXJlbW90ZQ%3D%3D?line=10'>11</a>\u001b[0m    B_gpu_2\u001b[39m.\u001b[39mnnz \u001b[39m/\u001b[39m (B_gpu_2\u001b[39m.\u001b[39mshape[\u001b[39m0\u001b[39m] \u001b[39m*\u001b[39m B_gpu_2\u001b[39m.\u001b[39mshape[\u001b[39m1\u001b[39m]))\n",
      "\u001b[1;32m/home/aparna/DATA/aparnakumar/github clone/SEACells/compare_A_and_B.ipynb Cell 30\u001b[0m line \u001b[0;36m2\n\u001b[1;32m     <a href='vscode-notebook-cell://ssh-remote%2Baeolus/home/aparna/DATA/aparnakumar/github%20clone/SEACells/compare_A_and_B.ipynb#X25sdnNjb2RlLXJlbW90ZQ%3D%3D?line=17'>18</a>\u001b[0m \u001b[39m# precompute some terms\u001b[39;00m\n\u001b[1;32m     <a href='vscode-notebook-cell://ssh-remote%2Baeolus/home/aparna/DATA/aparnakumar/github%20clone/SEACells/compare_A_and_B.ipynb#X25sdnNjb2RlLXJlbW90ZQ%3D%3D?line=18'>19</a>\u001b[0m t1g \u001b[39m=\u001b[39m Ag\u001b[39m.\u001b[39mdot(Ag\u001b[39m.\u001b[39mT)\n\u001b[0;32m---> <a href='vscode-notebook-cell://ssh-remote%2Baeolus/home/aparna/DATA/aparnakumar/github%20clone/SEACells/compare_A_and_B.ipynb#X25sdnNjb2RlLXJlbW90ZQ%3D%3D?line=19'>20</a>\u001b[0m t2g \u001b[39m=\u001b[39m Kg\u001b[39m.\u001b[39;49mdot(Ag\u001b[39m.\u001b[39;49mT)\n\u001b[1;32m     <a href='vscode-notebook-cell://ssh-remote%2Baeolus/home/aparna/DATA/aparnakumar/github%20clone/SEACells/compare_A_and_B.ipynb#X25sdnNjb2RlLXJlbW90ZQ%3D%3D?line=21'>22</a>\u001b[0m \u001b[39m# update rows of B for a given number of iterations\u001b[39;00m\n\u001b[1;32m     <a href='vscode-notebook-cell://ssh-remote%2Baeolus/home/aparna/DATA/aparnakumar/github%20clone/SEACells/compare_A_and_B.ipynb#X25sdnNjb2RlLXJlbW90ZQ%3D%3D?line=22'>23</a>\u001b[0m \u001b[39mwhile\u001b[39;00m t \u001b[39m<\u001b[39m \u001b[39mself\u001b[39m\u001b[39m.\u001b[39mmax_FW_iter:\n\u001b[1;32m     <a href='vscode-notebook-cell://ssh-remote%2Baeolus/home/aparna/DATA/aparnakumar/github%20clone/SEACells/compare_A_and_B.ipynb#X25sdnNjb2RlLXJlbW90ZQ%3D%3D?line=23'>24</a>\u001b[0m     \u001b[39m# compute gradient\u001b[39;00m\n",
      "File \u001b[0;32m~/miniconda/envs/env_SEACells/lib/python3.8/site-packages/cupyx/scipy/sparse/_base.py:338\u001b[0m, in \u001b[0;36mspmatrix.dot\u001b[0;34m(self, other)\u001b[0m\n\u001b[1;32m    336\u001b[0m     \u001b[39mreturn\u001b[39;00m \u001b[39mself\u001b[39m \u001b[39m*\u001b[39m other\n\u001b[1;32m    337\u001b[0m \u001b[39melse\u001b[39;00m:\n\u001b[0;32m--> 338\u001b[0m     \u001b[39mreturn\u001b[39;00m \u001b[39mself\u001b[39;49m \u001b[39m@\u001b[39;49m other\n",
      "File \u001b[0;32m~/miniconda/envs/env_SEACells/lib/python3.8/site-packages/cupyx/scipy/sparse/_base.py:127\u001b[0m, in \u001b[0;36mspmatrix.__matmul__\u001b[0;34m(self, other)\u001b[0m\n\u001b[1;32m    124\u001b[0m \u001b[39mif\u001b[39;00m _util\u001b[39m.\u001b[39misscalarlike(other):\n\u001b[1;32m    125\u001b[0m     \u001b[39mraise\u001b[39;00m \u001b[39mValueError\u001b[39;00m(\u001b[39m'\u001b[39m\u001b[39mScalar operands are not allowed, \u001b[39m\u001b[39m'\u001b[39m\n\u001b[1;32m    126\u001b[0m                      \u001b[39m'\u001b[39m\u001b[39muse \u001b[39m\u001b[39m\\'\u001b[39;00m\u001b[39m*\u001b[39m\u001b[39m\\'\u001b[39;00m\u001b[39m instead\u001b[39m\u001b[39m'\u001b[39m)\n\u001b[0;32m--> 127\u001b[0m \u001b[39mreturn\u001b[39;00m \u001b[39mself\u001b[39;49m\u001b[39m.\u001b[39;49m\u001b[39m__mul__\u001b[39;49m(other)\n",
      "File \u001b[0;32m~/miniconda/envs/env_SEACells/lib/python3.8/site-packages/cupyx/scipy/sparse/_csr.py:172\u001b[0m, in \u001b[0;36mcsr_matrix.__mul__\u001b[0;34m(self, other)\u001b[0m\n\u001b[1;32m    170\u001b[0m     b \u001b[39m=\u001b[39m other\u001b[39m.\u001b[39mtocsr()\n\u001b[1;32m    171\u001b[0m     b\u001b[39m.\u001b[39msum_duplicates()\n\u001b[0;32m--> 172\u001b[0m     \u001b[39mreturn\u001b[39;00m cusparse\u001b[39m.\u001b[39;49mspgemm(\u001b[39mself\u001b[39;49m, b)\n\u001b[1;32m    173\u001b[0m \u001b[39melif\u001b[39;00m cusparse\u001b[39m.\u001b[39mcheck_availability(\u001b[39m'\u001b[39m\u001b[39mcsrgemm2\u001b[39m\u001b[39m'\u001b[39m):\n\u001b[1;32m    174\u001b[0m     b \u001b[39m=\u001b[39m other\u001b[39m.\u001b[39mtocsr()\n",
      "File \u001b[0;32m~/miniconda/envs/env_SEACells/lib/python3.8/site-packages/cupy/cusparse.py:2023\u001b[0m, in \u001b[0;36mspgemm\u001b[0;34m(a, b, alpha)\u001b[0m\n\u001b[1;32m   2019\u001b[0m \u001b[39m# Compute the intermediate product of A and B\u001b[39;00m\n\u001b[1;32m   2020\u001b[0m buff2_size \u001b[39m=\u001b[39m _cusparse\u001b[39m.\u001b[39mspGEMM_compute(\n\u001b[1;32m   2021\u001b[0m     handle, op_a, op_b, alpha\u001b[39m.\u001b[39mdata, mat_a\u001b[39m.\u001b[39mdesc, mat_b\u001b[39m.\u001b[39mdesc, beta\u001b[39m.\u001b[39mdata,\n\u001b[1;32m   2022\u001b[0m     mat_c\u001b[39m.\u001b[39mdesc, cuda_dtype, algo, spgemm_descr, \u001b[39m0\u001b[39m, null_ptr)\n\u001b[0;32m-> 2023\u001b[0m buff2 \u001b[39m=\u001b[39m _cupy\u001b[39m.\u001b[39;49mempty(buff2_size, _cupy\u001b[39m.\u001b[39;49mint8)\n\u001b[1;32m   2024\u001b[0m _cusparse\u001b[39m.\u001b[39mspGEMM_compute(\n\u001b[1;32m   2025\u001b[0m     handle, op_a, op_b, alpha\u001b[39m.\u001b[39mdata, mat_a\u001b[39m.\u001b[39mdesc, mat_b\u001b[39m.\u001b[39mdesc, beta\u001b[39m.\u001b[39mdata,\n\u001b[1;32m   2026\u001b[0m     mat_c\u001b[39m.\u001b[39mdesc, cuda_dtype, algo, spgemm_descr, buff2_size, buff2\u001b[39m.\u001b[39mdata\u001b[39m.\u001b[39mptr)\n\u001b[1;32m   2028\u001b[0m \u001b[39m# Prepare the arrays for matrix C\u001b[39;00m\n",
      "File \u001b[0;32m~/miniconda/envs/env_SEACells/lib/python3.8/site-packages/cupy/_creation/basic.py:22\u001b[0m, in \u001b[0;36mempty\u001b[0;34m(shape, dtype, order)\u001b[0m\n\u001b[1;32m      7\u001b[0m \u001b[39mdef\u001b[39;00m \u001b[39mempty\u001b[39m(shape, dtype\u001b[39m=\u001b[39m\u001b[39mfloat\u001b[39m, order\u001b[39m=\u001b[39m\u001b[39m'\u001b[39m\u001b[39mC\u001b[39m\u001b[39m'\u001b[39m):\n\u001b[1;32m      8\u001b[0m     \u001b[39m\"\"\"Returns an array without initializing the elements.\u001b[39;00m\n\u001b[1;32m      9\u001b[0m \n\u001b[1;32m     10\u001b[0m \u001b[39m    Args:\u001b[39;00m\n\u001b[0;32m   (...)\u001b[0m\n\u001b[1;32m     20\u001b[0m \n\u001b[1;32m     21\u001b[0m \u001b[39m    \"\"\"\u001b[39;00m\n\u001b[0;32m---> 22\u001b[0m     \u001b[39mreturn\u001b[39;00m cupy\u001b[39m.\u001b[39;49mndarray(shape, dtype, order\u001b[39m=\u001b[39;49morder)\n",
      "File \u001b[0;32mcupy/_core/core.pyx:136\u001b[0m, in \u001b[0;36mcupy._core.core.ndarray.__new__\u001b[0;34m()\u001b[0m\n",
      "File \u001b[0;32mcupy/_core/core.pyx:224\u001b[0m, in \u001b[0;36mcupy._core.core._ndarray_base._init\u001b[0;34m()\u001b[0m\n",
      "File \u001b[0;32mcupy/cuda/memory.pyx:742\u001b[0m, in \u001b[0;36mcupy.cuda.memory.alloc\u001b[0;34m()\u001b[0m\n",
      "File \u001b[0;32mcupy/cuda/memory.pyx:1419\u001b[0m, in \u001b[0;36mcupy.cuda.memory.MemoryPool.malloc\u001b[0;34m()\u001b[0m\n",
      "File \u001b[0;32mcupy/cuda/memory.pyx:1440\u001b[0m, in \u001b[0;36mcupy.cuda.memory.MemoryPool.malloc\u001b[0;34m()\u001b[0m\n",
      "File \u001b[0;32mcupy/cuda/memory.pyx:1120\u001b[0m, in \u001b[0;36mcupy.cuda.memory.SingleDeviceMemoryPool.malloc\u001b[0;34m()\u001b[0m\n",
      "File \u001b[0;32mcupy/cuda/memory.pyx:1141\u001b[0m, in \u001b[0;36mcupy.cuda.memory.SingleDeviceMemoryPool._malloc\u001b[0;34m()\u001b[0m\n",
      "File \u001b[0;32mcupy/cuda/memory.pyx:1379\u001b[0m, in \u001b[0;36mcupy.cuda.memory.SingleDeviceMemoryPool._try_malloc\u001b[0;34m()\u001b[0m\n",
      "\u001b[0;31mOutOfMemoryError\u001b[0m: Out of memory allocating 38,679,040 bytes (allocated so far: 21,953,024 bytes)."
     ]
    }
   ],
   "source": [
    "# Run updateB on CPU and GPU and compare the results\n",
    "\n",
    "# CPU\n",
    "B_cpu_2 = _updateB_cpu(model2, A_cpu, B_cpu)\n",
    "\n",
    "# GPU\n",
    "B_gpu_2 = _updateB_gpu(model4, A_gpu, B_gpu)\n",
    "\n",
    "# Compare the sparsity of B_cpu_2 and B_gpu_2\n",
    "ic(B_cpu_2.nnz / (B_cpu_2.shape[0] * B_cpu_2.shape[1]), \n",
    "   B_gpu_2.nnz / (B_gpu_2.shape[0] * B_gpu_2.shape[1]))"
   ]
  },
  {
   "cell_type": "code",
   "execution_count": null,
   "metadata": {},
   "outputs": [
    {
     "name": "stderr",
     "output_type": "stream",
     "text": [
      "ic| type(diff): <class 'scipy.sparse.csr.csr_matrix'>\n"
     ]
    },
    {
     "data": {
      "text/plain": [
       "scipy.sparse.csr.csr_matrix"
      ]
     },
     "execution_count": 25,
     "metadata": {},
     "output_type": "execute_result"
    }
   ],
   "source": [
    "# Compare the values of B_cpu_2 and B_gpu_2\n",
    "diff = B_cpu_2 - B_gpu_2.get()\n",
    "\n",
    "ic(type(diff))"
   ]
  },
  {
   "cell_type": "code",
   "execution_count": null,
   "metadata": {},
   "outputs": [
    {
     "name": "stderr",
     "output_type": "stream",
     "text": [
      "ic| pd.value_counts(diff.toarray().flatten()): 0.0    13000\n",
      "                                               dtype: int64\n"
     ]
    },
    {
     "data": {
      "text/plain": [
       "0.0    13000\n",
       "dtype: int64"
      ]
     },
     "execution_count": 26,
     "metadata": {},
     "output_type": "execute_result"
    }
   ],
   "source": [
    "# Create a frequency table of the differences \n",
    "ic(pd.value_counts(diff.toarray().flatten()))"
   ]
  },
  {
   "cell_type": "code",
   "execution_count": null,
   "metadata": {},
   "outputs": [],
   "source": []
  }
 ],
 "metadata": {
  "kernelspec": {
   "display_name": "Python 3",
   "language": "python",
   "name": "python3"
  },
  "language_info": {
   "codemirror_mode": {
    "name": "ipython",
    "version": 3
   },
   "file_extension": ".py",
   "mimetype": "text/x-python",
   "name": "python",
   "nbconvert_exporter": "python",
   "pygments_lexer": "ipython3",
   "version": "3.8.13"
  }
 },
 "nbformat": 4,
 "nbformat_minor": 2
}
