{
 "cells": [
  {
   "cell_type": "code",
   "execution_count": 44,
   "metadata": {},
   "outputs": [],
   "source": [
    "import tracemalloc\n",
    "import time\n",
    "import scanpy as sc\n",
    "import pandas as pd\n",
    "\n",
    "import cupy as cp\n",
    "import cupyx\n",
    "import numpy as np\n",
    "from tqdm import tqdm\n",
    "\n",
    "from icecream import ic\n",
    "\n",
    "from SEACells.core import SEACells\n"
   ]
  },
  {
   "cell_type": "code",
   "execution_count": 45,
   "metadata": {},
   "outputs": [],
   "source": [
    "from scipy.sparse import csr_matrix"
   ]
  },
  {
   "cell_type": "code",
   "execution_count": 46,
   "metadata": {},
   "outputs": [],
   "source": [
    "ad = sc.read(\"/home/aparna/DATA/aparnakumar/50000_cells/mouse_marioni_50k.h5ad\") \n",
    "num_cells = 10000\n",
    "ad = ad[:num_cells]  "
   ]
  },
  {
   "cell_type": "code",
   "execution_count": 47,
   "metadata": {},
   "outputs": [],
   "source": [
    "## Core parameters \n",
    "# number of SEACells\n",
    "n_SEACells = num_cells // 75\n",
    "build_kernel_on = 'X_pca' # key in ad.obsm to use for computing metacells\n",
    "                            # This would be replaced by 'X_svd' for ATAC data\n",
    "\n",
    "## Additional parameters\n",
    "n_waypoint_eigs = 10 # Number of eigenvalues to consider when initializing metacells"
   ]
  },
  {
   "cell_type": "code",
   "execution_count": 48,
   "metadata": {},
   "outputs": [
    {
     "name": "stdout",
     "output_type": "stream",
     "text": [
      "SPARSE AND NOT GPU\n",
      "TRYING SEACellsCPU\n",
      "Welcome to SEACells!\n",
      "Computing kNN graph using scanpy NN ...\n",
      "Computing radius for adaptive bandwidth kernel...\n"
     ]
    },
    {
     "data": {
      "application/vnd.jupyter.widget-view+json": {
       "model_id": "6f4852a76fed43cf8bb94566a269dd93",
       "version_major": 2,
       "version_minor": 0
      },
      "text/plain": [
       "HBox(children=(FloatProgress(value=0.0, max=10000.0), HTML(value='')))"
      ]
     },
     "metadata": {},
     "output_type": "display_data"
    },
    {
     "name": "stdout",
     "output_type": "stream",
     "text": [
      "\n",
      "Making graph symmetric...\n",
      "Parameter graph_construction = union being used to build KNN graph...\n",
      "Computing RBF kernel...\n"
     ]
    },
    {
     "data": {
      "application/vnd.jupyter.widget-view+json": {
       "model_id": "0297b7f0eccd4c819e9c075b74ee5327",
       "version_major": 2,
       "version_minor": 0
      },
      "text/plain": [
       "HBox(children=(FloatProgress(value=0.0, max=10000.0), HTML(value='')))"
      ]
     },
     "metadata": {},
     "output_type": "display_data"
    },
    {
     "name": "stdout",
     "output_type": "stream",
     "text": [
      "\n",
      "Building similarity LIL matrix...\n"
     ]
    },
    {
     "data": {
      "application/vnd.jupyter.widget-view+json": {
       "model_id": "bc11b567705e4944ac67f30e09b5d6fd",
       "version_major": 2,
       "version_minor": 0
      },
      "text/plain": [
       "HBox(children=(FloatProgress(value=0.0, max=10000.0), HTML(value='')))"
      ]
     },
     "metadata": {},
     "output_type": "display_data"
    },
    {
     "name": "stdout",
     "output_type": "stream",
     "text": [
      "\n",
      "Constructing CSR matrix...\n",
      "Building kernel on X_pca\n",
      "Computing diffusion components from X_pca for waypoint initialization ... \n",
      "Determing nearest neighbor graph...\n"
     ]
    },
    {
     "name": "stderr",
     "output_type": "stream",
     "text": [
      "  0%|          | 0/26 [00:00<?, ?it/s]"
     ]
    },
    {
     "name": "stdout",
     "output_type": "stream",
     "text": [
      "Done.\n",
      "Sampling waypoints ...\n",
      "Done.\n",
      "Selecting 117 cells from waypoint initialization.\n",
      "Initializing residual matrix using greedy column selection\n",
      "Initializing f and g...\n"
     ]
    },
    {
     "name": "stderr",
     "output_type": "stream",
     "text": [
      "100%|██████████| 26/26 [00:00<00:00, 57.68it/s]\n"
     ]
    },
    {
     "name": "stdout",
     "output_type": "stream",
     "text": [
      "Selecting 16 cells from greedy initialization.\n",
      "Randomly initialized A matrix.\n",
      "Setting convergence threshold at 0.00178\n"
     ]
    }
   ],
   "source": [
    "model2 = SEACells(ad, \n",
    "                 use_gpu=False, \n",
    "                 use_sparse=True, \n",
    "                 build_kernel_on=build_kernel_on, \n",
    "                 n_SEACells=n_SEACells, \n",
    "                 n_waypoint_eigs=n_waypoint_eigs,\n",
    "                 convergence_epsilon = 1e-5)\n",
    "\n",
    "model2.construct_kernel_matrix()\n",
    "model2.initialize_archetypes()\n",
    "model2.initialize()"
   ]
  },
  {
   "cell_type": "code",
   "execution_count": 49,
   "metadata": {},
   "outputs": [
    {
     "name": "stdout",
     "output_type": "stream",
     "text": [
      "SPARSE AND GPU\n",
      "TRYING SEACellsGPU\n",
      "Welcome to SEACells GPU!\n",
      "build_graph.SEACellGraph completed\n",
      "Computing kNN graph using scanpy NN ...\n",
      "Computing radius for adaptive bandwidth kernel...\n"
     ]
    },
    {
     "data": {
      "application/vnd.jupyter.widget-view+json": {
       "model_id": "6060b321c30545b3a59ca6ea43877eff",
       "version_major": 2,
       "version_minor": 0
      },
      "text/plain": [
       "HBox(children=(FloatProgress(value=0.0, max=10000.0), HTML(value='')))"
      ]
     },
     "metadata": {},
     "output_type": "display_data"
    },
    {
     "name": "stdout",
     "output_type": "stream",
     "text": [
      "\n",
      "Making graph symmetric...\n",
      "Parameter graph_construction = union being used to build KNN graph...\n",
      "Computing RBF kernel...\n"
     ]
    },
    {
     "data": {
      "application/vnd.jupyter.widget-view+json": {
       "model_id": "a98b5053bf0444f1a3c427527f8bb8d6",
       "version_major": 2,
       "version_minor": 0
      },
      "text/plain": [
       "HBox(children=(FloatProgress(value=0.0, max=10000.0), HTML(value='')))"
      ]
     },
     "metadata": {},
     "output_type": "display_data"
    },
    {
     "name": "stdout",
     "output_type": "stream",
     "text": [
      "\n",
      "Building similarity LIL matrix...\n"
     ]
    },
    {
     "data": {
      "application/vnd.jupyter.widget-view+json": {
       "model_id": "77fed6c7cf9d4004bda39ecee2993744",
       "version_major": 2,
       "version_minor": 0
      },
      "text/plain": [
       "HBox(children=(FloatProgress(value=0.0, max=10000.0), HTML(value='')))"
      ]
     },
     "metadata": {},
     "output_type": "display_data"
    },
    {
     "name": "stdout",
     "output_type": "stream",
     "text": [
      "\n",
      "Constructing CSR matrix...\n",
      "Building kernel on X_pca\n",
      "Computing diffusion components from X_pca for waypoint initialization ... \n",
      "Determing nearest neighbor graph...\n"
     ]
    },
    {
     "name": "stderr",
     "output_type": "stream",
     "text": [
      "  0%|          | 0/27 [00:00<?, ?it/s]"
     ]
    },
    {
     "name": "stdout",
     "output_type": "stream",
     "text": [
      "Done.\n",
      "Sampling waypoints ...\n",
      "Done.\n",
      "Selecting 116 cells from waypoint initialization.\n",
      "Initializing residual matrix using greedy column selection\n",
      "Initializing f and g...\n"
     ]
    },
    {
     "name": "stderr",
     "output_type": "stream",
     "text": [
      "/home/aparna/miniconda/envs/env_SEACells/lib/python3.8/site-packages/cupyx/scipy/sparse/_compressed.py:545: SparseEfficiencyWarning: Changing the sparsity structure of a csr_matrix is expensive.\n",
      "  warnings.warn('Changing the sparsity structure of a '\n",
      "100%|██████████| 27/27 [00:00<00:00, 29.96it/s]\n"
     ]
    },
    {
     "name": "stdout",
     "output_type": "stream",
     "text": [
      "Selecting 17 cells from greedy initialization.\n",
      "Randomly initialized A matrix.\n",
      "Convergence threshold set to 0.0017753933652955372 based on epsilon = 1e-05\n"
     ]
    }
   ],
   "source": [
    "model4 = SEACells(ad, \n",
    "                 use_gpu=True, \n",
    "                 use_sparse=True, \n",
    "                 build_kernel_on=build_kernel_on, \n",
    "                 n_SEACells=n_SEACells, \n",
    "                 n_waypoint_eigs=n_waypoint_eigs,\n",
    "                 convergence_epsilon = 1e-5)\n",
    "\n",
    "model4.construct_kernel_matrix()\n",
    "model4.initialize_archetypes()\n",
    "model4.initialize()"
   ]
  },
  {
   "cell_type": "code",
   "execution_count": 50,
   "metadata": {},
   "outputs": [
    {
     "name": "stdout",
     "output_type": "stream",
     "text": [
      "NOT SPARSE AND GPU\n",
      "TRYING SEACellsGPUDense\n",
      "Welcome to SEACells GPU!\n",
      "Computing kNN graph using scanpy NN ...\n",
      "Computing radius for adaptive bandwidth kernel...\n"
     ]
    },
    {
     "data": {
      "application/vnd.jupyter.widget-view+json": {
       "model_id": "e7e694e0a7df4c548fb7610387f671e1",
       "version_major": 2,
       "version_minor": 0
      },
      "text/plain": [
       "HBox(children=(FloatProgress(value=0.0, max=10000.0), HTML(value='')))"
      ]
     },
     "metadata": {},
     "output_type": "display_data"
    },
    {
     "name": "stdout",
     "output_type": "stream",
     "text": [
      "\n",
      "Making graph symmetric...\n",
      "Parameter graph_construction = union being used to build KNN graph...\n",
      "Computing RBF kernel...\n"
     ]
    },
    {
     "data": {
      "application/vnd.jupyter.widget-view+json": {
       "model_id": "e68093a97dc043ad92af852694657b22",
       "version_major": 2,
       "version_minor": 0
      },
      "text/plain": [
       "HBox(children=(FloatProgress(value=0.0, max=10000.0), HTML(value='')))"
      ]
     },
     "metadata": {},
     "output_type": "display_data"
    },
    {
     "name": "stdout",
     "output_type": "stream",
     "text": [
      "\n",
      "Building similarity LIL matrix...\n"
     ]
    },
    {
     "data": {
      "application/vnd.jupyter.widget-view+json": {
       "model_id": "ab38a0ba8d024f1587010edaa497dfb7",
       "version_major": 2,
       "version_minor": 0
      },
      "text/plain": [
       "HBox(children=(FloatProgress(value=0.0, max=10000.0), HTML(value='')))"
      ]
     },
     "metadata": {},
     "output_type": "display_data"
    },
    {
     "name": "stdout",
     "output_type": "stream",
     "text": [
      "\n",
      "Constructing CSR matrix...\n",
      "Building kernel on X_pca\n",
      "Computing diffusion components from X_pca for waypoint initialization ... \n",
      "Determing nearest neighbor graph...\n"
     ]
    },
    {
     "name": "stderr",
     "output_type": "stream",
     "text": [
      "  0%|          | 0/28 [00:00<?, ?it/s]"
     ]
    },
    {
     "name": "stdout",
     "output_type": "stream",
     "text": [
      "Done.\n",
      "Sampling waypoints ...\n",
      "Done.\n",
      "Selecting 115 cells from waypoint initialization.\n",
      "Initializing residual matrix using greedy column selection\n",
      "Initializing f and g...\n"
     ]
    },
    {
     "name": "stderr",
     "output_type": "stream",
     "text": [
      "100%|██████████| 28/28 [00:00<00:00, 55.78it/s]\n"
     ]
    },
    {
     "name": "stdout",
     "output_type": "stream",
     "text": [
      "Selecting 18 cells from greedy initialization.\n",
      "Randomly initialized A matrix.\n",
      "Setting convergence threshold at 0.00177\n"
     ]
    }
   ],
   "source": [
    "model3 = SEACells(ad, \n",
    "                 use_gpu=True, \n",
    "                 use_sparse=False, \n",
    "                 build_kernel_on=build_kernel_on, \n",
    "                 n_SEACells=n_SEACells, \n",
    "                 n_waypoint_eigs=n_waypoint_eigs,\n",
    "                 convergence_epsilon = 1e-5)\n",
    "\n",
    "model3.construct_kernel_matrix()\n",
    "model3.initialize_archetypes()\n",
    "model3.initialize()"
   ]
  },
  {
   "cell_type": "code",
   "execution_count": 51,
   "metadata": {},
   "outputs": [],
   "source": [
    "A0s = {'cpu': model2.A0, 'gpu_sparse': model4.A0, 'gpu_dense': model3.A0}\n",
    "B0s = {'cpu': model2.B0, 'gpu_sparse': model4.B0, 'gpu_dense': model3.B0}"
   ]
  },
  {
   "cell_type": "code",
   "execution_count": 52,
   "metadata": {},
   "outputs": [],
   "source": [
    "import matplotlib.pyplot as plt \n",
    "import seaborn as sns\n",
    "\n",
    "def compute_sparsity(M):\n",
    "    \"\"\"\n",
    "    Compute the proportion of non-zero elements in a matrix\n",
    "    @param M: a dense numpy array\n",
    "    \"\"\"\n",
    "    try: \n",
    "        sparsity = M.nnz / (M.shape[0] * M.shape[1])\n",
    "    except Exception: \n",
    "        sparsity = np.count_nonzero(M) / M.size\n",
    "\n",
    "    return sparsity\n",
    "\n",
    "def check_results(d):\n",
    "    \"\"\"\n",
    "    Check that all results in a dictionary are the same\n",
    "    \"\"\"\n",
    "    \n",
    "    v2 = d['cpu']\n",
    "    print('Sparsity of {} is {}'.format('CPU', compute_sparsity(v2)))\n",
    "    # Turn v2 into a numpy array\n",
    "    v2 = v2.toarray()\n",
    "    elt2 = np.where(v2.flatten() != 0)[0]\n",
    "\n",
    "    for key in ['gpu_sparse', 'gpu_dense']:\n",
    "        v1 = d[key]\n",
    "        print('Sparsity of {} is {}'.format(key, compute_sparsity(v1)))\n",
    "        # Convert to dense for comparison\n",
    "        if key == 'gpu_sparse':\n",
    "            v1 = cp.array(v1.todense())\n",
    "        # Turn into a numpy array\n",
    "        v1 = cp.asnumpy(v1)\n",
    "        # Grab the nonzero elements of v1\n",
    "        elt1 = np.where(v1.flatten() != 0)[0]\n",
    "        # Check that the nonzero elements are the same\n",
    "        try:\n",
    "            assert set(list(elt1)) == set(list(elt2))\n",
    "        except AssertionError:\n",
    "            print('Nonzero elements of {} are different from nonzero elements of {}'.format('CPU', key))"
   ]
  },
  {
   "cell_type": "code",
   "execution_count": 53,
   "metadata": {},
   "outputs": [
    {
     "name": "stdout",
     "output_type": "stream",
     "text": [
      "Sparsity of CPU is 0.22045263157894737\n",
      "Sparsity of gpu_sparse is 0.22031578947368421\n",
      "Nonzero elements of CPU are different from nonzero elements of gpu_sparse\n",
      "Sparsity of gpu_dense is 1.0\n",
      "Nonzero elements of CPU are different from nonzero elements of gpu_dense\n"
     ]
    }
   ],
   "source": [
    "check_results(A0s)"
   ]
  },
  {
   "cell_type": "code",
   "execution_count": 54,
   "metadata": {},
   "outputs": [
    {
     "name": "stdout",
     "output_type": "stream",
     "text": [
      "float64\n",
      "float64\n",
      "(133, 10000)\n",
      "(133, 10000)\n",
      "<class 'scipy.sparse.csc.csc_matrix'>\n",
      "<class 'cupyx.scipy.sparse._csr.csr_matrix'>\n"
     ]
    },
    {
     "data": {
      "text/plain": [
       " 0.000000e+00    1164258\n",
       "-6.938894e-18      34185\n",
       " 6.938894e-18      26447\n",
       "-1.387779e-17      21487\n",
       "-3.469447e-18      17271\n",
       "                  ...   \n",
       " 8.326673e-17          1\n",
       " 2.168404e-18          1\n",
       "-2.710505e-19          1\n",
       "-4.235165e-22          1\n",
       " 4.235165e-22          1\n",
       "Length: 82, dtype: int64"
      ]
     },
     "execution_count": 54,
     "metadata": {},
     "output_type": "execute_result"
    }
   ],
   "source": [
    "from sklearn.preprocessing import normalize\n",
    "from cupyx.scipy.sparse.linalg import norm\n",
    "\n",
    "A0_cpu = A0s['cpu'] \n",
    "normed_cpu = normalize(A0_cpu, axis=0, norm=\"l1\")\n",
    "\n",
    "A0_gpu_sparse = cupyx.scipy.sparse.csr_matrix(A0_cpu) \n",
    "# Check dtype of A0_gpu_sparse \n",
    "print(A0_gpu_sparse.dtype)\n",
    "\n",
    "l1_norms  = norm(A0_gpu_sparse, ord=1, axis=0)\n",
    "l1_norms[l1_norms == 0] = 1.0\n",
    "normed_gpu_sparse = A0_gpu_sparse.multiply(1.0 / l1_norms)\n",
    "\n",
    "# Check dtype of normed_gpu_sparse\n",
    "print(normed_gpu_sparse.dtype)\n",
    "\n",
    "# compare normed_cpu and normed_gpu_sparse\n",
    "print(normed_cpu.shape)\n",
    "print(normed_gpu_sparse.shape)\n",
    "\n",
    "# print type of normed_cpu and normed_gpu_sparse \n",
    "print(type(normed_cpu))\n",
    "print(type(normed_gpu_sparse))\n",
    "\n",
    "diff = normed_cpu - normed_gpu_sparse.get()\n",
    "# Make a frequency table of the differences \n",
    "pd.Series(diff.toarray().flatten()).value_counts()"
   ]
  },
  {
   "cell_type": "code",
   "execution_count": null,
   "metadata": {},
   "outputs": [],
   "source": []
  },
  {
   "cell_type": "code",
   "execution_count": 55,
   "metadata": {},
   "outputs": [
    {
     "data": {
      "image/png": "[encoded data removed]",
      "text/plain": [
       "<Figure size 400x400 with 2 Axes>"
      ]
     },
     "metadata": {},
     "output_type": "display_data"
    }
   ],
   "source": [
    "import matplotlib\n",
    "import matplotlib.pyplot as plt\n",
    "import seaborn as sns\n",
    "\n",
    "%matplotlib inline\n",
    "\n",
    "sns.set_style('ticks')\n",
    "matplotlib.rcParams['figure.figsize'] = [4, 4]\n",
    "matplotlib.rcParams['figure.dpi'] = 100\n",
    "\n",
    "def plot_matrix(matrix_np, title=None):\n",
    "    \"\"\"\n",
    "    Plot a matrix\n",
    "    @param M: a dense numpy array\n",
    "    \"\"\"\n",
    "    # Create a binary version of the matrix\n",
    "    binary_matrix = matrix_np.copy()\n",
    "    binary_matrix[binary_matrix != 0] = 1\n",
    "\n",
    "    # Plot the dataframe\n",
    "    sns.heatmap(binary_matrix)\n",
    "\n",
    "M = A0s['gpu_sparse']\n",
    "\n",
    "matrix_np = M.get().toarray()\n",
    "\n",
    "plot_matrix(matrix_np, title='A0')"
   ]
  },
  {
   "cell_type": "code",
   "execution_count": 56,
   "metadata": {},
   "outputs": [
    {
     "name": "stdout",
     "output_type": "stream",
     "text": [
      "Sparsity of CPU is 0.0001\n",
      "Sparsity of gpu_sparse is 0.0001\n",
      "Nonzero elements of CPU are different from nonzero elements of gpu_sparse\n",
      "Sparsity of gpu_dense is 0.0001\n",
      "Nonzero elements of CPU are different from nonzero elements of gpu_dense\n"
     ]
    }
   ],
   "source": [
    "check_results(B0s)"
   ]
  },
  {
   "cell_type": "code",
   "execution_count": 57,
   "metadata": {},
   "outputs": [],
   "source": [
    "initial_As = {'cpu': model2.A_, 'gpu_sparse': model4.A_, 'gpu_dense': model3.A_}"
   ]
  },
  {
   "cell_type": "code",
   "execution_count": 58,
   "metadata": {},
   "outputs": [
    {
     "name": "stdout",
     "output_type": "stream",
     "text": [
      "Sparsity of CPU is 0.29303233082706764\n",
      "Sparsity of gpu_sparse is 0.4494375939849624\n",
      "Nonzero elements of CPU are different from nonzero elements of gpu_sparse\n",
      "Sparsity of gpu_dense is 0.29012255639097745\n",
      "Nonzero elements of CPU are different from nonzero elements of gpu_dense\n"
     ]
    }
   ],
   "source": [
    "check_results(initial_As)"
   ]
  },
  {
   "cell_type": "code",
   "execution_count": 59,
   "metadata": {},
   "outputs": [
    {
     "data": {
      "image/png": "[encoded data removed]",
      "text/plain": [
       "<Figure size 400x400 with 2 Axes>"
      ]
     },
     "metadata": {},
     "output_type": "display_data"
    }
   ],
   "source": [
    "# Process initial_As gpu sparse version for plotting \n",
    "\n",
    "M = initial_As['gpu_sparse'] \n",
    "matrix_np = M.get().toarray() \n",
    "\n",
    "plot_matrix(matrix_np, title='A_')"
   ]
  },
  {
   "cell_type": "code",
   "execution_count": 60,
   "metadata": {},
   "outputs": [],
   "source": [
    "def _updateA_cpu(self, B, A_prev):\n",
    "    \"\"\"Update step for assigment matrix A.\n",
    "\n",
    "    Given archetype matrix B and using kernel matrix K, compute assignment matrix A using constrained gradient\n",
    "    descent via Frank-Wolfe algorithm.\n",
    "\n",
    "    :param B: (n x k csr_matrix) defining SEACells as weighted combinations of cells\n",
    "    :param A_prev: (n x k csr_matrix) defining previous weights used for assigning cells to SEACells\n",
    "    :return: (n x k csr_matrix) defining updated weights used for assigning cells to SEACells\n",
    "    \"\"\"\n",
    "    n, k = B.shape\n",
    "    A = A_prev\n",
    "\n",
    "    t = 0  # current iteration (determine multiplicative update)\n",
    "\n",
    "    # precompute some gradient terms\n",
    "    t2 = (self.K @ B).T\n",
    "    t1 = t2 @ B\n",
    "\n",
    "    # update rows of A for given number of iterations\n",
    "    while t < self.max_FW_iter:\n",
    "        # compute gradient (must convert matrix to ndarray)\n",
    "        G = 2.0 * np.array(t1 @ A - t2)\n",
    "\n",
    "        # # get argmins - shape 1 x n\n",
    "        amins = np.argmin(G, axis=0)\n",
    "        amins = np.array(amins).reshape(-1)\n",
    "\n",
    "        # # loop free implementation\n",
    "        e = csr_matrix((np.ones(len(amins)), (amins, np.arange(n))), shape=A.shape)\n",
    "\n",
    "        A += 2.0 / (t + 2.0) * (e - A)\n",
    "        t += 1\n",
    "\n",
    "    return A, t2, t1"
   ]
  },
  {
   "cell_type": "code",
   "execution_count": 61,
   "metadata": {},
   "outputs": [],
   "source": [
    "def _updateB_cpu(self, A, B_prev):\n",
    "    \"\"\"Update step for archetype matrix B.\n",
    "\n",
    "    Given assignment matrix A and using kernel matrix K, compute archetype matrix B using constrained gradient\n",
    "    descent via Frank-Wolfe algorithm.\n",
    "\n",
    "    :param A: (n x k csr_matrix) defining weights used for assigning cells to SEACells\n",
    "    :param B_prev: (n x k csr_matrix) defining previous SEACells as weighted combinations of cells\n",
    "    :return: (n x k csr_matrix) defining updated SEACells as weighted combinations of cells\n",
    "    \"\"\"\n",
    "    K = self.K\n",
    "    k, n = A.shape\n",
    "\n",
    "    B = B_prev\n",
    "\n",
    "    # keep track of error\n",
    "    t = 0\n",
    "\n",
    "    # precompute some terms\n",
    "    t1 = A @ A.T\n",
    "    t2 = K @ A.T\n",
    "\n",
    "    # update rows of B for a given number of iterations\n",
    "    while t < self.max_FW_iter:\n",
    "        # compute gradient (need to convert np.matrix to np.array)\n",
    "        G = 2.0 * np.array(K @ B @ t1 - t2)\n",
    "\n",
    "        # get all argmins\n",
    "        amins = np.argmin(G, axis=0)\n",
    "        amins = np.array(amins).reshape(-1)\n",
    "\n",
    "        e = csr_matrix((np.ones(len(amins)), (amins, np.arange(k))), shape=B.shape)\n",
    "\n",
    "        B += 2.0 / (t + 2.0) * (e - B)\n",
    "\n",
    "        t += 1\n",
    "\n",
    "    return B"
   ]
  },
  {
   "cell_type": "code",
   "execution_count": 62,
   "metadata": {},
   "outputs": [],
   "source": [
    "from cupyx.scipy.sparse.linalg import norm\n",
    "\n",
    "def _updateA_gpu(self, Bg, Ag):\n",
    "    \"\"\"Compute assignment matrix A using constrained gradient descent via Frank-Wolfe algorithm.\n",
    "\n",
    "    Given archetype matrix B and using kernel matrix K, compute assignment matrix A using constrained gradient\n",
    "    descent via Frank-Wolfe algorithm.\n",
    "\n",
    "    :param B: (n x k csr_matrix) defining SEACells as weighted combinations of cells\n",
    "    :param A_prev: (n x k csr_matrix) defining previous weights used for assigning cells to SEACells\n",
    "    :return: (n x k csr_matrix) defining updated weights used for assigning cells to SEACells\n",
    "    \"\"\"\n",
    "    n, k = Bg.shape\n",
    "    t = 0  # current iteration (determine multiplicative update)\n",
    "    Kg = self.K\n",
    "\n",
    "    # precompute some gradient terms\n",
    "    t2g = (Kg @ Bg).T\n",
    "    t1g = t2g @ Bg\n",
    "\n",
    "    lambda_l1 = 0.05  \n",
    "    lambda_l2 = 0.05\n",
    "\n",
    "    # update rows of A for given number of iterations\n",
    "    while t < self.max_FW_iter: \n",
    "        # L1 regularization term: the weight times the L1 norm of the matrix\n",
    "        l1_term = lambda_l1 * norm(Ag, ord=1)\n",
    "        # L2 regularization term: 0.5 times the weight times the L2 norm of the matrix squared\n",
    "        l2_term = 0.5 * lambda_l2 * norm(Ag, ord = 'fro')**2\n",
    "\n",
    "        # Add l1 and l2 regularization to the following line\n",
    "        Gg = 2.0*(t1g @ Ag - t2g)  + l1_term + l2_term\n",
    "        amins = Gg.argmin(axis = 0)\n",
    "        \n",
    "        eg = cp.zeros((k, n))\n",
    "        eg[amins, cp.arange(n)] = 1.0\n",
    "        eg = cupyx.scipy.sparse.csr_matrix(eg) \n",
    "\n",
    "        Ag += 2.0 / (t + 2.0) * (eg - Ag)\n",
    "        t += 1\n",
    "    \n",
    "    return Ag, t2g, t1g"
   ]
  },
  {
   "cell_type": "markdown",
   "metadata": {},
   "source": [
    "### Stuff to Hide"
   ]
  },
  {
   "cell_type": "code",
   "execution_count": 63,
   "metadata": {},
   "outputs": [],
   "source": [
    "def _updateB_gpu(self, Ag, Bg):\n",
    "    \"\"\"Compute archetype matrix B using constrained gradient descent via Frank-Wolfe algorithm.\n",
    "\n",
    "    Given assignment matrix A and using kernel matrix K, compute archetype matrix B using constrained gradient\n",
    "    descent via Frank-Wolfe algorithm.\n",
    "\n",
    "    :param A: (n x k csr_matrix) defining weights used for assigning cells to SEACells\n",
    "    :param B_prev: (n x k csr_matrix) defining previous SEACells as weighted combinations of cells\n",
    "    :return: (n x k csr_matrix) defining updated SEACells as weighted combinations of cells\n",
    "    \"\"\"\n",
    "    # ic(\"_updateB\")\n",
    "    k, n = Ag.shape\n",
    "\n",
    "    # keep track of error\n",
    "    t = 0\n",
    "\n",
    "    Kg = self.K\n",
    "    # precompute some terms\n",
    "    t1g = Ag.dot(Ag.T)\n",
    "    t2g = Kg.dot(Ag.T)\n",
    "\n",
    "    # update rows of B for a given number of iterations\n",
    "    while t < self.max_FW_iter:\n",
    "        # compute gradient\n",
    "        Gg = 2 * (Kg.dot(Bg).dot(t1g) -t2g)\n",
    "\n",
    "        # get all argmins\n",
    "        amins = Gg.argmin(axis=0)\n",
    "\n",
    "        eg = cp.zeros((n, k))\n",
    "        eg[amins, cp.arange(k)] = 1.0\n",
    "        eg = cupyx.scipy.sparse.csr_matrix(eg)\n",
    "\n",
    "        f = 2.0 / (t + 2.0)\n",
    "        Bg = Bg + (f * (eg - Bg))\n",
    "\n",
    "        t += 1\n",
    "\n",
    "\n",
    "    del (\n",
    "        t1g,\n",
    "        t2g,\n",
    "        Ag,\n",
    "        Kg,\n",
    "        Gg,\n",
    "        eg,\n",
    "        amins,\n",
    "    )\n",
    "    cp._default_memory_pool.free_all_blocks()\n",
    "\n",
    "    return Bg"
   ]
  },
  {
   "cell_type": "code",
   "execution_count": null,
   "metadata": {},
   "outputs": [],
   "source": []
  },
  {
   "cell_type": "code",
   "execution_count": 64,
   "metadata": {},
   "outputs": [],
   "source": [
    "A_cpu = model2.A_\n",
    "B_cpu = model2.B_"
   ]
  },
  {
   "cell_type": "code",
   "execution_count": 65,
   "metadata": {},
   "outputs": [],
   "source": [
    "A_gpu = model4.A_\n",
    "B_gpu = model4.B_"
   ]
  },
  {
   "cell_type": "code",
   "execution_count": 66,
   "metadata": {},
   "outputs": [],
   "source": [
    "K_gpu = model4.K \n",
    "K_cpu = model2.K"
   ]
  },
  {
   "cell_type": "code",
   "execution_count": 67,
   "metadata": {},
   "outputs": [
    {
     "name": "stderr",
     "output_type": "stream",
     "text": [
      "ic| A_cpu.shape: (133, 10000)\n",
      "    B_cpu.shape: (10000, 133)\n",
      "    A_gpu.shape: (133, 10000)\n",
      "    B_gpu.shape: (10000, 133)\n",
      "    K_gpu.shape: (10000, 10000)\n",
      "    K_cpu.shape: (10000, 10000)\n"
     ]
    },
    {
     "data": {
      "text/plain": [
       "((133, 10000),\n",
       " (10000, 133),\n",
       " (133, 10000),\n",
       " (10000, 133),\n",
       " (10000, 10000),\n",
       " (10000, 10000))"
      ]
     },
     "execution_count": 67,
     "metadata": {},
     "output_type": "execute_result"
    }
   ],
   "source": [
    "ic(A_cpu.shape, B_cpu.shape, A_gpu.shape, B_gpu.shape, K_gpu.shape, K_cpu.shape)"
   ]
  },
  {
   "cell_type": "code",
   "execution_count": 68,
   "metadata": {},
   "outputs": [
    {
     "name": "stderr",
     "output_type": "stream",
     "text": [
      "ic| A_cpu.nnz / (A_cpu.shape[0] * A_cpu.shape[1]): 0.29303233082706764\n",
      "    B_cpu.nnz / (B_cpu.shape[0] * B_cpu.shape[1]): 0.0001\n",
      "    A_gpu.nnz / (A_gpu.shape[0] * A_gpu.shape[1]): 0.4494375939849624\n",
      "    B_gpu.nnz /"
     ]
    },
    {
     "name": "stderr",
     "output_type": "stream",
     "text": [
      " (B_gpu.shape[0] * B_gpu.shape[1]): 0.0001\n",
      "    K_cpu.nnz / (K_gpu.shape[0] * K_gpu.shape[1]): 0.01970384\n",
      "    K_gpu.nnz / (K_cpu.shape[0] * K_cpu.shape[1]): 0.01970384\n"
     ]
    },
    {
     "data": {
      "text/plain": [
       "(0.29303233082706764,\n",
       " 0.0001,\n",
       " 0.4494375939849624,\n",
       " 0.0001,\n",
       " 0.01970384,\n",
       " 0.01970384)"
      ]
     },
     "execution_count": 68,
     "metadata": {},
     "output_type": "execute_result"
    }
   ],
   "source": [
    "# Print out the sparsity measures of the matrices \n",
    "ic(A_cpu.nnz / (A_cpu.shape[0] * A_cpu.shape[1]), \n",
    "   B_cpu.nnz / (B_cpu.shape[0] * B_cpu.shape[1]),\n",
    "   A_gpu.nnz / (A_gpu.shape[0] * A_gpu.shape[1]), \n",
    "   B_gpu.nnz / (B_gpu.shape[0] * B_gpu.shape[1]), \n",
    "   K_cpu.nnz / (K_gpu.shape[0] * K_gpu.shape[1]),\n",
    "   K_gpu.nnz / (K_cpu.shape[0] * K_cpu.shape[1]))"
   ]
  },
  {
   "cell_type": "code",
   "execution_count": 69,
   "metadata": {},
   "outputs": [
    {
     "name": "stderr",
     "output_type": "stream",
     "text": [
      "ic| type(A_cpu): <class 'scipy.sparse.csc.csc_matrix'>\n",
      "    type(B_cpu): <class 'scipy.sparse.csr.csr_matrix'>\n",
      "    type(A_gpu): <class 'cupyx.scipy.sparse._csr.csr_matrix'>\n",
      "    type(B_gpu): <class 'cupyx.scipy.sparse._csr.csr_matrix'>\n",
      "    type(K_cpu): <class 'scipy.sparse.csr.csr_matrix'>\n",
      "    type(K_gpu): <class 'cupyx.scipy.sparse._csr.csr_matrix'>\n"
     ]
    },
    {
     "data": {
      "text/plain": [
       "(scipy.sparse.csc.csc_matrix,\n",
       " scipy.sparse.csr.csr_matrix,\n",
       " cupyx.scipy.sparse._csr.csr_matrix,\n",
       " cupyx.scipy.sparse._csr.csr_matrix,\n",
       " scipy.sparse.csr.csr_matrix,\n",
       " cupyx.scipy.sparse._csr.csr_matrix)"
      ]
     },
     "execution_count": 69,
     "metadata": {},
     "output_type": "execute_result"
    }
   ],
   "source": [
    "# Check the types of the matrices \n",
    "ic(type(A_cpu), type(B_cpu), type(A_gpu), type(B_gpu), type(K_cpu), type(K_gpu))"
   ]
  },
  {
   "cell_type": "code",
   "execution_count": 70,
   "metadata": {},
   "outputs": [
    {
     "name": "stderr",
     "output_type": "stream",
     "text": [
      "ic| A_cpu.dtype: dtype('float64')\n",
      "    B_cpu.dtype: dtype('float64')"
     ]
    },
    {
     "name": "stderr",
     "output_type": "stream",
     "text": [
      "\n",
      "    A_gpu.dtype: dtype('float64')\n",
      "    B_gpu.dtype: dtype('float64')\n",
      "    K_cpu.dtype: dtype('float64')\n",
      "    K_gpu.dtype: dtype('float64')\n"
     ]
    },
    {
     "data": {
      "text/plain": [
       "(dtype('float64'),\n",
       " dtype('float64'),\n",
       " dtype('float64'),\n",
       " dtype('float64'),\n",
       " dtype('float64'),\n",
       " dtype('float64'))"
      ]
     },
     "execution_count": 70,
     "metadata": {},
     "output_type": "execute_result"
    }
   ],
   "source": [
    "# Check the data types of the matrices \n",
    "ic(A_cpu.dtype, B_cpu.dtype, A_gpu.dtype, B_gpu.dtype, K_cpu.dtype, K_gpu.dtype)"
   ]
  },
  {
   "cell_type": "code",
   "execution_count": 71,
   "metadata": {},
   "outputs": [
    {
     "name": "stderr",
     "output_type": "stream",
     "text": [
      "ic| pd.value_counts(diff.toarray().flatten()):  0.000000e+00    99771847\n",
      "                                               -5.551115e-17       34444\n",
      "                                                5.551115e-17       33850\n",
      "                                                2.220446e-16       32110\n",
      "                                               -2.220446e-16       31949\n",
      "                                                1.110223e-16       31642\n",
      "                                               -1.110223e-16       31314\n",
      "                                               -4.440892e-16       11506\n",
      "                                                4.440892e-16       11393\n",
      "                                               -2.775558e-17        2929\n",
      "                                                2.775558e-17        2888\n",
      "                                               -8.881784e-16        1694\n",
      "                                                8.881784e-16        1632\n",
      "                                                1.776357e-15         164\n",
      "                                               -6.661338e-16         124\n",
      "                                               -1.776357e-15         119\n",
      "                                                6.661338e-16         101\n",
      "                                               -1.332268e-15          93\n",
      "                                                1.332268e-15          88\n",
      "                                                2.664535e-15          25\n",
      "                                               -3.330669e-16          20\n",
      "                                               -2.664535e-15          16\n",
      "                                                3.330669e-16          13\n",
      "                                               -3.552714e-15          11\n",
      "                                                1.387779e-17           9\n",
      "                                               -1.387779e-17           7\n",
      "                                                3.552714e-15           6\n",
      "                                                1.665335e-16           3\n",
      "                                               -4.440892e-15           1\n",
      "                                                2.220446e-15           1\n",
      "                                               -1.665335e-16           1\n",
      "                                               dtype: int64\n"
     ]
    },
    {
     "data": {
      "text/plain": [
       " 0.000000e+00    99771847\n",
       "-5.551115e-17       34444\n",
       " 5.551115e-17       33850\n",
       " 2.220446e-16       32110\n",
       "-2.220446e-16       31949\n",
       " 1.110223e-16       31642\n",
       "-1.110223e-16       31314\n",
       "-4.440892e-16       11506\n",
       " 4.440892e-16       11393\n",
       "-2.775558e-17        2929\n",
       " 2.775558e-17        2888\n",
       "-8.881784e-16        1694\n",
       " 8.881784e-16        1632\n",
       " 1.776357e-15         164\n",
       "-6.661338e-16         124\n",
       "-1.776357e-15         119\n",
       " 6.661338e-16         101\n",
       "-1.332268e-15          93\n",
       " 1.332268e-15          88\n",
       " 2.664535e-15          25\n",
       "-3.330669e-16          20\n",
       "-2.664535e-15          16\n",
       " 3.330669e-16          13\n",
       "-3.552714e-15          11\n",
       " 1.387779e-17           9\n",
       "-1.387779e-17           7\n",
       " 3.552714e-15           6\n",
       " 1.665335e-16           3\n",
       "-4.440892e-15           1\n",
       " 2.220446e-15           1\n",
       "-1.665335e-16           1\n",
       "dtype: int64"
      ]
     },
     "execution_count": 71,
     "metadata": {},
     "output_type": "execute_result"
    }
   ],
   "source": [
    "# Compare K_cpu and K_gpu\n",
    "\n",
    "diff = K_cpu - K_gpu.get()\n",
    "\n",
    "# Create a frequency table of the differences \n",
    "ic(pd.value_counts(diff.toarray().flatten()))"
   ]
  },
  {
   "cell_type": "code",
   "execution_count": 72,
   "metadata": {},
   "outputs": [],
   "source": [
    "# Set A_gpu and B_gpu to be the same as A_cpu and B_cpu, but with the same type as A_gpu and B_gpu \n",
    "A_gpu = cupyx.scipy.sparse.csr_matrix(A_cpu)\n",
    "B_gpu = cupyx.scipy.sparse.csr_matrix(B_cpu)\n",
    "\n",
    "# Set model4.K to be the same as model2.K, but with the same type as model4.K\n",
    "model4.K = cupyx.scipy.sparse.csr_matrix(model2.K)"
   ]
  },
  {
   "cell_type": "code",
   "execution_count": 73,
   "metadata": {},
   "outputs": [
    {
     "name": "stderr",
     "output_type": "stream",
     "text": [
      "ic| pd.value_counts(diff.toarray().flatten()): 0.0    100000000\n",
      "                                               dtype: int64\n"
     ]
    },
    {
     "data": {
      "text/plain": [
       "0.0    100000000\n",
       "dtype: int64"
      ]
     },
     "execution_count": 73,
     "metadata": {},
     "output_type": "execute_result"
    }
   ],
   "source": [
    "# check if the K matrices are the same \n",
    "\n",
    "diff = model2.K - model4.K.get()\n",
    "\n",
    "# Create a frequency table of the differences\n",
    "ic(pd.value_counts(diff.toarray().flatten()))"
   ]
  },
  {
   "cell_type": "code",
   "execution_count": 74,
   "metadata": {},
   "outputs": [
    {
     "name": "stderr",
     "output_type": "stream",
     "text": [
      "ic| pd.value_counts(diff.toarray().flatten()): 0.0    1330000\n",
      "                                               dtype: int64\n"
     ]
    },
    {
     "data": {
      "text/plain": [
       "0.0    1330000\n",
       "dtype: int64"
      ]
     },
     "execution_count": 74,
     "metadata": {},
     "output_type": "execute_result"
    }
   ],
   "source": [
    "# Check if the A matrices are the same \n",
    "diff = A_cpu - A_gpu.get()\n",
    "\n",
    "# Create a frequency table of the differences\n",
    "ic(pd.value_counts(diff.toarray().flatten()))\n"
   ]
  },
  {
   "cell_type": "code",
   "execution_count": 75,
   "metadata": {},
   "outputs": [
    {
     "name": "stderr",
     "output_type": "stream",
     "text": [
      "ic| pd.value_counts(diff.toarray().flatten()): 0.0    1330000\n",
      "                                               dtype: int64\n"
     ]
    },
    {
     "data": {
      "text/plain": [
       "0.0    1330000\n",
       "dtype: int64"
      ]
     },
     "execution_count": 75,
     "metadata": {},
     "output_type": "execute_result"
    }
   ],
   "source": [
    "# Check if the B matrices are the same \n",
    "diff = B_cpu - B_gpu.get()\n",
    "\n",
    "# Create a frequency table of the differences\n",
    "ic(pd.value_counts(diff.toarray().flatten()))"
   ]
  },
  {
   "cell_type": "code",
   "execution_count": 76,
   "metadata": {},
   "outputs": [
    {
     "name": "stderr",
     "output_type": "stream",
     "text": [
      "ic| pd.value_counts(diff.toarray().flatten()): 0.0    1330000\n",
      "                                               dtype: int64\n",
      "ic| pd.value_counts(diff.toarray().flatten()): 0.0    17689\n",
      "                                               dtype: int64\n"
     ]
    },
    {
     "data": {
      "text/plain": [
       "0.0    17689\n",
       "dtype: int64"
      ]
     },
     "execution_count": 76,
     "metadata": {},
     "output_type": "execute_result"
    }
   ],
   "source": [
    "t2 = (model2.K @ B_cpu).T\n",
    "t1 = t2 @ B_cpu \n",
    "\n",
    "t2g = (model4.K @ B_gpu).T \n",
    "t1g = t2g @ B_gpu\n",
    "\n",
    "# Check if the t2 matrices are the same\n",
    "diff = t2 - t2g.get()\n",
    "\n",
    "# Create a frequency table of the differences\n",
    "ic(pd.value_counts(diff.toarray().flatten()))\n",
    "\n",
    "# Check if the t1 matrices are the same\n",
    "diff = t1 - t1g.get()\n",
    "\n",
    "# Create a frequency table of the differences\n",
    "ic(pd.value_counts(diff.toarray().flatten()))\n"
   ]
  },
  {
   "cell_type": "code",
   "execution_count": 77,
   "metadata": {},
   "outputs": [
    {
     "name": "stderr",
     "output_type": "stream",
     "text": [
      "ic| t2.dtype: dtype('float64')\n",
      "    t2g.dtype: dtype('float64')\n",
      "    t1.dtype: dtype('float64')\n",
      "    t1g"
     ]
    },
    {
     "name": "stderr",
     "output_type": "stream",
     "text": [
      ".dtype: dtype('float64')\n"
     ]
    },
    {
     "data": {
      "text/plain": [
       "(dtype('float64'), dtype('float64'), dtype('float64'), dtype('float64'))"
      ]
     },
     "execution_count": 77,
     "metadata": {},
     "output_type": "execute_result"
    }
   ],
   "source": [
    "# Check the data types of the t2, t2g, t1, t1g matrices\n",
    "\n",
    "ic(t2.dtype, t2g.dtype, t1.dtype, t1g.dtype)"
   ]
  },
  {
   "cell_type": "code",
   "execution_count": 78,
   "metadata": {},
   "outputs": [
    {
     "name": "stderr",
     "output_type": "stream",
     "text": [
      "ic| type(G): <class 'scipy.sparse.csc.csc_matrix'>\n",
      "    type(Gg): <class 'cupyx.scipy.sparse._csr.csr_matrix'>\n",
      "ic| G: <133x10000 sparse matrix of type '<class 'numpy.float64'>'\n",
      "       \twith 1073498 stored elements in Compressed Sparse Column format>\n",
      "ic| Gg: <cupyx.scipy.sparse._csr.csr_matrix object at 0x7f04f4c801f0>\n",
      "ic| type(diff): <class 'scipy.sparse.csc.csc_matrix'>\n",
      "ic| Gg.data.dtype: dtype('float64')\n",
      "ic| pd.value_counts(diff.toarray().flatten()):  0.000000e+00    1323867\n",
      "                                               -1.734723e-18       1493\n",
      "                                                1.734723e-18       1468\n",
      "                                                8.673617e-19        569\n",
      "                                               -8.673617e-19        475\n",
      "                                                5.551115e-17        215\n",
      "                                               -5.551115e-17        203\n",
      "                                               -2.775558e-17        195\n",
      "                                                2.775558e-17        192\n",
      "                                                1.110223e-16        176\n",
      "                                               -1.110223e-16        159\n",
      "                                                2.220446e-16        159\n",
      "                                                3.469447e-18        138\n",
      "                                               -2.220446e-16        131\n",
      "                                               -3.469447e-18        121\n",
      "                                                1.387779e-17        100\n",
      "                                               -1.387779e-17         96\n",
      "                                               -6.938894e-18         80\n",
      "                                                6.938894e-18         70\n",
      "                                               -4.440892e-16         45\n",
      "                                                4.440892e-16         40\n",
      "                                               -8.881784e-16          5\n",
      "                                               -4.336809e-19          2\n",
      "                                                8.881784e-16          1\n",
      "                                               dtype: int64\n"
     ]
    },
    {
     "data": {
      "text/plain": [
       " 0.000000e+00    1323867\n",
       "-1.734723e-18       1493\n",
       " 1.734723e-18       1468\n",
       " 8.673617e-19        569\n",
       "-8.673617e-19        475\n",
       " 5.551115e-17        215\n",
       "-5.551115e-17        203\n",
       "-2.775558e-17        195\n",
       " 2.775558e-17        192\n",
       " 1.110223e-16        176\n",
       "-1.110223e-16        159\n",
       " 2.220446e-16        159\n",
       " 3.469447e-18        138\n",
       "-2.220446e-16        131\n",
       "-3.469447e-18        121\n",
       " 1.387779e-17        100\n",
       "-1.387779e-17         96\n",
       "-6.938894e-18         80\n",
       " 6.938894e-18         70\n",
       "-4.440892e-16         45\n",
       " 4.440892e-16         40\n",
       "-8.881784e-16          5\n",
       "-4.336809e-19          2\n",
       " 8.881784e-16          1\n",
       "dtype: int64"
      ]
     },
     "execution_count": 78,
     "metadata": {},
     "output_type": "execute_result"
    }
   ],
   "source": [
    "G = t1 @ A_cpu \n",
    "Gg = cupyx.scipy.sparse.csr_matrix(t1) @ cupyx.scipy.sparse.csr_matrix(A_cpu)\n",
    "\n",
    "ic(type(G), type(Gg))\n",
    "\n",
    "ic(G)\n",
    "ic(Gg)\n",
    "\n",
    "# Check if the G matrices are the same\n",
    "diff = G - Gg.get()\n",
    "\n",
    "ic(type(diff))\n",
    "ic(Gg.data.dtype)\n",
    "\n",
    "\n",
    "# Create a frequency table of the differences\n",
    "ic(pd.value_counts(diff.toarray().flatten()))"
   ]
  },
  {
   "cell_type": "markdown",
   "metadata": {},
   "source": [
    "### Next Section"
   ]
  },
  {
   "cell_type": "code",
   "execution_count": 79,
   "metadata": {},
   "outputs": [],
   "source": [
    "# Run updateA on CPU and GPU and compare the results \n",
    "\n",
    "# CPU\n",
    "A_cpu_2, t2, t1 = _updateA_cpu(model2, B_cpu, A_cpu)\n",
    "\n",
    "# GPU\n",
    "A_gpu_2, t2g, t1g = _updateA_gpu(model4, B_gpu, A_gpu)"
   ]
  },
  {
   "cell_type": "code",
   "execution_count": 80,
   "metadata": {},
   "outputs": [
    {
     "name": "stderr",
     "output_type": "stream",
     "text": [
      "ic| A_cpu_2.nnz / (A_cpu_2.shape[0] * A_cpu_2.shape[1]): 0.29479097744360905\n",
      "    A_gpu_2.nnz / (A_gpu_2.shape[0] * A_gpu_2.shape[1]): 0.298984962406015\n"
     ]
    },
    {
     "data": {
      "text/plain": [
       "(0.29479097744360905, 0.298984962406015)"
      ]
     },
     "execution_count": 80,
     "metadata": {},
     "output_type": "execute_result"
    }
   ],
   "source": [
    "# Compare the sparsity of A_cpu_2 and A_gpu_2 \n",
    "ic(A_cpu_2.nnz / (A_cpu_2.shape[0] * A_cpu_2.shape[1]), \n",
    "   A_gpu_2.nnz / (A_gpu_2.shape[0] * A_gpu_2.shape[1]))"
   ]
  },
  {
   "cell_type": "code",
   "execution_count": 81,
   "metadata": {},
   "outputs": [
    {
     "name": "stderr",
     "output_type": "stream",
     "text": [
      "ic| type(diff): <class 'scipy.sparse.csc.csc_matrix'>\n"
     ]
    },
    {
     "name": "stderr",
     "output_type": "stream",
     "text": [
      "ic| pd.value_counts(diff.toarray().flatten()): 0.0    1330000\n",
      "                                               dtype: int64\n"
     ]
    },
    {
     "data": {
      "text/plain": [
       "0.0    1330000\n",
       "dtype: int64"
      ]
     },
     "execution_count": 81,
     "metadata": {},
     "output_type": "execute_result"
    }
   ],
   "source": [
    "# Compare the values of A_cpu_2 and A_gpu_2 \n",
    "diff = A_cpu_2 - A_gpu_2.get() \n",
    "\n",
    "ic(type(diff))\n",
    "\n",
    "# Create a frequency table of the differences \n",
    "ic(pd.value_counts(diff.toarray().flatten()))"
   ]
  },
  {
   "cell_type": "code",
   "execution_count": 82,
   "metadata": {},
   "outputs": [
    {
     "name": "stderr",
     "output_type": "stream",
     "text": [
      "ic| pd.value_counts(diff.toarray().flatten()): 0.0    17689\n",
      "                                               dtype: int64\n"
     ]
    },
    {
     "data": {
      "text/plain": [
       "0.0    17689\n",
       "dtype: int64"
      ]
     },
     "execution_count": 82,
     "metadata": {},
     "output_type": "execute_result"
    }
   ],
   "source": [
    "# Compare t1 and t1g \n",
    "diff = t1 - t1g.get()\n",
    "\n",
    "# Create a frequency table of the differences\n",
    "ic(pd.value_counts(diff.toarray().flatten()))"
   ]
  },
  {
   "cell_type": "code",
   "execution_count": 83,
   "metadata": {},
   "outputs": [
    {
     "name": "stderr",
     "output_type": "stream",
     "text": [
      "ic| pd.value_counts(diff.toarray().flatten()): 0.0    1330000\n",
      "                                               dtype: int64\n"
     ]
    },
    {
     "data": {
      "text/plain": [
       "0.0    1330000\n",
       "dtype: int64"
      ]
     },
     "execution_count": 83,
     "metadata": {},
     "output_type": "execute_result"
    }
   ],
   "source": [
    "# Compare t2 and t2g \n",
    "\n",
    "diff = t2 - t2g.get()\n",
    "\n",
    "# Create a frequency table of the differences\n",
    "ic(pd.value_counts(diff.toarray().flatten()))"
   ]
  },
  {
   "cell_type": "code",
   "execution_count": 84,
   "metadata": {},
   "outputs": [
    {
     "name": "stderr",
     "output_type": "stream",
     "text": [
      "ic| B_cpu_2.nnz / (B_cpu_2.shape[0] * B_cpu_2.shape[1]): 0.0013285714285714285\n",
      "    B_gpu_2.nnz / (B_gpu_2.shape[0] * B_gpu_2.shape[1]): 0.0013353383458646617\n"
     ]
    },
    {
     "data": {
      "text/plain": [
       "(0.0013285714285714285, 0.0013353383458646617)"
      ]
     },
     "execution_count": 84,
     "metadata": {},
     "output_type": "execute_result"
    }
   ],
   "source": [
    "# Run updateB on CPU and GPU and compare the results\n",
    "\n",
    "# CPU\n",
    "B_cpu_2 = _updateB_cpu(model2, A_cpu, B_cpu)\n",
    "\n",
    "# GPU\n",
    "B_gpu_2 = _updateB_gpu(model4, A_gpu, B_gpu)\n",
    "\n",
    "# Compare the sparsity of B_cpu_2 and B_gpu_2\n",
    "ic(B_cpu_2.nnz / (B_cpu_2.shape[0] * B_cpu_2.shape[1]), \n",
    "   B_gpu_2.nnz / (B_gpu_2.shape[0] * B_gpu_2.shape[1]))"
   ]
  },
  {
   "cell_type": "code",
   "execution_count": 85,
   "metadata": {},
   "outputs": [
    {
     "name": "stderr",
     "output_type": "stream",
     "text": [
      "ic| type(diff): <class 'scipy.sparse.csr.csr_matrix'>\n"
     ]
    },
    {
     "data": {
      "text/plain": [
       "scipy.sparse.csr.csr_matrix"
      ]
     },
     "execution_count": 85,
     "metadata": {},
     "output_type": "execute_result"
    }
   ],
   "source": [
    "# Compare the values of B_cpu_2 and B_gpu_2\n",
    "diff = B_cpu_2 - B_gpu_2.get()\n",
    "\n",
    "ic(type(diff))"
   ]
  },
  {
   "cell_type": "code",
   "execution_count": 86,
   "metadata": {},
   "outputs": [
    {
     "name": "stderr",
     "output_type": "stream",
     "text": [
      "ic| pd.value_counts(diff.toarray().flatten()): 0.0    1330000\n",
      "                                               dtype: int64\n"
     ]
    },
    {
     "data": {
      "text/plain": [
       "0.0    1330000\n",
       "dtype: int64"
      ]
     },
     "execution_count": 86,
     "metadata": {},
     "output_type": "execute_result"
    }
   ],
   "source": [
    "# Create a frequency table of the differences \n",
    "ic(pd.value_counts(diff.toarray().flatten()))"
   ]
  },
  {
   "cell_type": "code",
   "execution_count": null,
   "metadata": {},
   "outputs": [],
   "source": []
  }
 ],
 "metadata": {
  "kernelspec": {
   "display_name": "Python 3",
   "language": "python",
   "name": "python3"
  },
  "language_info": {
   "codemirror_mode": {
    "name": "ipython",
    "version": 3
   },
   "file_extension": ".py",
   "mimetype": "text/x-python",
   "name": "python",
   "nbconvert_exporter": "python",
   "pygments_lexer": "ipython3",
   "version": "3.8.13"
  }
 },
 "nbformat": 4,
 "nbformat_minor": 2
}
